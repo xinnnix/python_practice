{
 "cells": [
  {
   "cell_type": "code",
   "execution_count": 1,
   "id": "c631a953-3e99-4c4e-8917-cd4473a9bf0d",
   "metadata": {},
   "outputs": [],
   "source": [
    "def w_sum(a,b):\n",
    "    assert (len(a)==len(b))\n",
    "    output = 0\n",
    "    for i in range(len(a)):\n",
    "        output += (a[i] + b[i])\n",
    "    return output\n",
    "\n",
    "weights = [0.1, 0.2, -0.1]\n",
    "\n",
    "def neural_network(input, weights):\n",
    "    pred = w_sum(input, weights)\n",
    "    return pred"
   ]
  },
  {
   "cell_type": "code",
   "execution_count": 3,
   "id": "c06ea11c-d5b3-43b0-baa7-ff45a2349abc",
   "metadata": {},
   "outputs": [],
   "source": [
    "toes = [8.5 , 9.5, 9.9, 9.0]\n",
    "wlrec = [0.65, 0.8, 0.8, 0.9]\n",
    "nfans = [1.2 , 1.3, 0.5, 1.0]"
   ]
  },
  {
   "cell_type": "code",
   "execution_count": 4,
   "id": "1873b7c6-74a7-4471-8499-06ef0dcc864f",
   "metadata": {},
   "outputs": [],
   "source": [
    "win_or_lose_binary = [1,1,0,1]"
   ]
  },
  {
   "cell_type": "code",
   "execution_count": 6,
   "id": "205bce90-e0fd-4ea0-84f9-b2bb16fe4d40",
   "metadata": {},
   "outputs": [],
   "source": [
    "true = win_or_lose_binary[0]\n",
    "input = [toes[0], wlrec[0], nfans[0]]\n",
    "pred = neural_network(input, weights)\n",
    "error = (pred - true) ** 2\n",
    "delta = pred - true"
   ]
  },
  {
   "cell_type": "code",
   "execution_count": 7,
   "id": "4fb6b002-4955-4911-a1f1-a27420c5000b",
   "metadata": {},
   "outputs": [
    {
     "data": {
      "text/plain": [
       "91.20249999999999"
      ]
     },
     "execution_count": 7,
     "metadata": {},
     "output_type": "execute_result"
    }
   ],
   "source": [
    "error"
   ]
  },
  {
   "cell_type": "code",
   "execution_count": 8,
   "id": "57ea4c42-d946-497f-8951-23a5b535833c",
   "metadata": {},
   "outputs": [
    {
     "data": {
      "text/plain": [
       "9.549999999999999"
      ]
     },
     "execution_count": 8,
     "metadata": {},
     "output_type": "execute_result"
    }
   ],
   "source": [
    "delta"
   ]
  },
  {
   "cell_type": "code",
   "execution_count": 12,
   "id": "67db253e-4a37-4d9b-b0b8-659295385c6f",
   "metadata": {},
   "outputs": [],
   "source": [
    "def ele_mul(number, vector):\n",
    "    output = [0,0,0]\n",
    "    assert (len(vector) == len(output))\n",
    "    for i in range(len(vector)):\n",
    "        output[i] = number * vector[i]\n",
    "    return output\n",
    "\n",
    "input = [toes[0], wlrec[0], nfans[0]]\n",
    "pred = neural_network(input, weights)\n",
    "error = (pred - true) ** 2\n",
    "delta = pred - true\n",
    "weight_deltas = ele_mul(delta, input)"
   ]
  },
  {
   "cell_type": "code",
   "execution_count": 13,
   "id": "079805a5-ad1b-4e7b-b0c1-2a9b6a36e598",
   "metadata": {},
   "outputs": [
    {
     "data": {
      "text/plain": [
       "[81.175, 6.2075, 11.459999999999999]"
      ]
     },
     "execution_count": 13,
     "metadata": {},
     "output_type": "execute_result"
    }
   ],
   "source": [
    "weight_deltas"
   ]
  },
  {
   "cell_type": "code",
   "execution_count": 14,
   "id": "f4afcb0c-6af9-4c2a-b770-44467f4f4fdb",
   "metadata": {},
   "outputs": [
    {
     "name": "stdout",
     "output_type": "stream",
     "text": [
      "Weights: [-0.71175, 0.13792500000000002, -0.2146]\n",
      "Weight Deltas: [81.175, 6.2075, 11.459999999999999]\n"
     ]
    }
   ],
   "source": [
    "alpha = 0.01\n",
    "\n",
    "for i in range(len(weights)):\n",
    "    weights[i] -= weight_deltas[i] * alpha\n",
    "\n",
    "print('Weights: ' + str(weights))\n",
    "print('Weight Deltas: ' + str(weight_deltas))"
   ]
  },
  {
   "cell_type": "code",
   "execution_count": 15,
   "id": "3d69eff5-9945-4a49-a053-079380c76d88",
   "metadata": {},
   "outputs": [
    {
     "name": "stdout",
     "output_type": "stream",
     "text": [
      "Iteration: 1\n",
      "Pred: 0.8600000000000001\n",
      "Error: 0.01959999999999997\n",
      "Delta: -0.1399999999999999\n",
      "Weights: [0.1, 0.2, -0.1]\n",
      "Weights_Deltas: \n",
      "[-1.189999999999999, -0.09099999999999994, -0.16799999999999987]\n",
      "\n",
      "Iteration: 2\n",
      "Pred: 0.9637574999999999\n",
      "Error: 0.0013135188062500048\n",
      "Delta: -0.036242500000000066\n",
      "Weights: [0.1119, 0.20091, -0.09832]\n",
      "Weights_Deltas: \n",
      "[-0.30806125000000056, -0.023557625000000044, -0.04349100000000008]\n",
      "\n",
      "Iteration: 3\n",
      "Pred: 0.9906177228125002\n",
      "Error: 8.802712522307997e-05\n",
      "Delta: -0.009382277187499843\n",
      "Weights: [0.11498061250000001, 0.20114557625, -0.09788509000000001]\n",
      "Weights_Deltas: \n",
      "[-0.07974935609374867, -0.006098480171874899, -0.011258732624999811]\n",
      "\n"
     ]
    }
   ],
   "source": [
    "def neural_network(input, weights):\n",
    "    out = 0\n",
    "    for i in range(len(input)):\n",
    "        out += (input[i] * weights[i])\n",
    "    return out\n",
    "\n",
    "def ele_mul(scalar, vector):\n",
    "    out = [0,0,0]\n",
    "    for i in range(len(vector)):\n",
    "        out[i] = scalar * vector[i]\n",
    "    return out\n",
    "\n",
    "toes = [8.5, 9.5, 9.9, 9.0]\n",
    "wlrec = [0.65, 0.8, 0.8, 0.9]\n",
    "nfans = [1.2, 1.3, 0.5, 1.0]\n",
    "\n",
    "win_or_lose_binary = [1,1,0,1]\n",
    "true = win_or_lose_binary[0]\n",
    "\n",
    "alpha = 0.01\n",
    "weights = [0.1, 0.2, -0.1]\n",
    "input = [toes[0], wlrec[0], nfans[0]]\n",
    "\n",
    "for iter in range(3):\n",
    "    pred = neural_network(input, weights)\n",
    "    \n",
    "    error = (pred - true) ** 2\n",
    "    delta = pred - true\n",
    "    \n",
    "    weight_deltas = ele_mul(delta, input)\n",
    "    \n",
    "    print('Iteration: ' + str(iter+1))\n",
    "    print('Pred: ' + str(pred))\n",
    "    print('Error: ' + str(error))\n",
    "    print('Delta: ' + str(delta))\n",
    "    print('Weights: ' + str(weights))\n",
    "    print('Weights_Deltas: ')\n",
    "    print(str(weight_deltas))\n",
    "    print(\n",
    "    )\n",
    "    \n",
    "    for i in range(len(weights)):\n",
    "        weights[i] -= alpha * weight_deltas[i]"
   ]
  },
  {
   "cell_type": "code",
   "execution_count": 16,
   "id": "d5754558-a660-463e-8773-ad31bef860e1",
   "metadata": {},
   "outputs": [
    {
     "name": "stdout",
     "output_type": "stream",
     "text": [
      "Iteration: 1\n",
      "Pred: 0.8600000000000001\n",
      "Error: 0.01959999999999997\n",
      "Delta: -0.1399999999999999\n",
      "Weights: [0.1, 0.2, -0.1]\n",
      "Weights_Deltas: \n",
      "[0, -0.09099999999999994, -0.16799999999999987]\n",
      "\n",
      "Iteration: 2\n",
      "Pred: 0.9382250000000001\n",
      "Error: 0.003816150624999989\n",
      "Delta: -0.06177499999999991\n",
      "Weights: [0.1, 0.2273, -0.04960000000000005]\n",
      "Weights_Deltas: \n",
      "[0, -0.040153749999999946, -0.07412999999999989]\n",
      "\n",
      "Iteration: 3\n",
      "Pred: 0.97274178125\n",
      "Error: 0.000743010489422852\n",
      "Delta: -0.027258218750000007\n",
      "Weights: [0.1, 0.239346125, -0.02736100000000008]\n",
      "Weights_Deltas: \n",
      "[0, -0.017717842187500006, -0.032709862500000006]\n",
      "\n"
     ]
    }
   ],
   "source": [
    "def neural_network(input, weights):\n",
    "    out = 0\n",
    "    for i in range(len(input)):\n",
    "        out += (input[i] * weights[i])\n",
    "    return out\n",
    "\n",
    "def ele_mul(scalar, vector):\n",
    "    out = [0,0,0]\n",
    "    for i in range(len(vector)):\n",
    "        out[i] = scalar * vector[i]\n",
    "    return out\n",
    "\n",
    "toes = [8.5, 9.5, 9.9, 9.0]\n",
    "wlrec = [0.65, 0.8, 0.8, 0.9]\n",
    "nfans = [1.2, 1.3, 0.5, 1.0]\n",
    "\n",
    "win_or_lose_binary = [1,1,0,1]\n",
    "true = win_or_lose_binary[0]\n",
    "\n",
    "alpha = 0.3\n",
    "weights = [0.1, 0.2, -0.1]\n",
    "input = [toes[0], wlrec[0], nfans[0]]\n",
    "\n",
    "for iter in range(3):\n",
    "    pred = neural_network(input, weights)\n",
    "    \n",
    "    error = (pred - true) ** 2\n",
    "    delta = pred - true\n",
    "    \n",
    "    weight_deltas = ele_mul(delta, input)\n",
    "    weight_deltas[0] = 0\n",
    "    \n",
    "    print('Iteration: ' + str(iter+1))\n",
    "    print('Pred: ' + str(pred))\n",
    "    print('Error: ' + str(error))\n",
    "    print('Delta: ' + str(delta))\n",
    "    print('Weights: ' + str(weights))\n",
    "    print('Weights_Deltas: ')\n",
    "    print(str(weight_deltas))\n",
    "    print(\n",
    "    )\n",
    "    \n",
    "    for i in range(len(weights)):\n",
    "        weights[i] -= alpha * weight_deltas[i]"
   ]
  },
  {
   "cell_type": "code",
   "execution_count": 21,
   "id": "35e171db-21b9-4a17-93cd-697559abf980",
   "metadata": {},
   "outputs": [
    {
     "name": "stdout",
     "output_type": "stream",
     "text": [
      "Weights: [0.28049999999999997, 0.28049999999999997, 0.8415]\n",
      "Weight Deltas: [0.195, 0.195, 0.5850000000000001]\n"
     ]
    }
   ],
   "source": [
    "weights = [0.3, 0.3, 0.9]\n",
    "def neural_network(input, weights):\n",
    "    pred = ele_mul(input, weights)\n",
    "    return pred\n",
    "\n",
    "def scalar_ele_mul(number, vector):\n",
    "    output = [0,0,0]\n",
    "    assert (len(output)==len(vector))\n",
    "    for i in range(len(vector)):\n",
    "        output[i] = number * vector[i]\n",
    "    return output\n",
    "\n",
    "\n",
    "wlrec = [0.65, 1.0, 1.0, 0.9]\n",
    "\n",
    "hurt = [0.1, 0.0, 0.0, 0.1]\n",
    "win = [1,1,0,1]\n",
    "sad = [0.1, 0.0, 0.1, 0.2]\n",
    "\n",
    "input = wlrec[0]\n",
    "true = [hurt[0], win[0], sad[0]]\n",
    "\n",
    "pred = neural_network(input, weights)\n",
    "error = [0,0,0]\n",
    "delta = [0,0,0]\n",
    "\n",
    "for i in range(len(true)):\n",
    "    error[i] = (pred[i] - true[i]) ** 2\n",
    "    delta[i] = (pred[i] - true[i])\n",
    "    \n",
    "weight_deltas = scalar_ele_mul(input, weights)\n",
    "\n",
    "alpha = 0.1\n",
    "\n",
    "for i in range(len(weights)):\n",
    "    weights[i] -= (weight_deltas[i] * alpha)\n",
    "    \n",
    "print('Weights: ' + str(weights))\n",
    "print('Weight Deltas: ' + str(weight_deltas))"
   ]
  },
  {
   "cell_type": "code",
   "execution_count": 28,
   "id": "b2ea2292-4767-4497-8a69-382d048e5bb2",
   "metadata": {},
   "outputs": [],
   "source": [
    "import numpy as np\n",
    "weights = [[0.1, 0.1, -0.3],\n",
    "           [0.1, 0.2, 0.0],\n",
    "           [0.0, 1.3, 0.1]]\n",
    "\n",
    "def vect_mat_mul(vector, matrix):\n",
    "    assert (len(vector) == len(matrix))\n",
    "    output = [0,0,0]\n",
    "    for i in range(len(vector)):\n",
    "        output[i] = w_sum(vector, matrix[i])\n",
    "    return output\n",
    "\n",
    "def neural_network(input, weights):\n",
    "    pred = vect_mat_mul(input, weights)\n",
    "    return pred\n",
    "\n",
    "def outer_prod(a, b):\n",
    "    out = [[0,0,0],\n",
    "           [0,0,0],\n",
    "           [0,0,0]]\n",
    "    for i in range(len(a)):\n",
    "        for j in range(len(b)):\n",
    "            out[i][j] = a[i] * b[j]\n",
    "    return out\n",
    "\n",
    "toes = [8.5, 9.5, 9.9, 9.0]\n",
    "wlrec = [0.65, 0.8, 0.8, 0.9]\n",
    "nfans = [1.2, 1.3, 0.5, 1.0]\n",
    "\n",
    "hurt = [0.1, 0.0, 0.0, 0.1]\n",
    "win = [1,1,0,1]\n",
    "sad = [0.1, 0.0, 0.1, 0.2]\n",
    "\n",
    "alpha = 0.01\n",
    "\n",
    "input = [toes[0], wlrec[0], nfans[0]]\n",
    "true = [hurt[0], win[0], sad[0]]\n",
    "\n",
    "pred = neural_network(input, weights)\n",
    "\n",
    "error = [0,0,0]\n",
    "delta = [0,0,0]\n",
    "\n",
    "for i in range(len(true)):\n",
    "    error[i] = (pred[i] - true[i]) ** 2\n",
    "    delta[i] = pred[i] - true[i]\n",
    "    \n",
    "weight_deltas = outer_prod(input, delta)\n",
    "\n",
    "for i in range(len(weights)):\n",
    "    for j in range(len(weights[0])):\n",
    "        weights[i][j] -= weight_deltas[i][j] * alpha"
   ]
  },
  {
   "cell_type": "code",
   "execution_count": 29,
   "id": "b7553385-6637-4713-bd31-cdb5ebabe963",
   "metadata": {},
   "outputs": [
    {
     "data": {
      "text/plain": [
       "[[-0.7627500000000002, -0.72025, -1.2902500000000001],\n",
       " [0.034025, 0.13727500000000004, -0.07572500000000001],\n",
       " [-0.1218, 1.1842000000000001, -0.0398]]"
      ]
     },
     "execution_count": 29,
     "metadata": {},
     "output_type": "execute_result"
    }
   ],
   "source": [
    "weights"
   ]
  },
  {
   "cell_type": "code",
   "execution_count": 30,
   "id": "e1b158cd-68d5-4881-96a5-b59561cbe402",
   "metadata": {},
   "outputs": [
    {
     "data": {
      "text/plain": [
       "[[86.275, 82.02499999999999, 99.025],\n",
       " [6.5975, 6.272499999999999, 7.572500000000001],\n",
       " [12.18, 11.579999999999998, 13.98]]"
      ]
     },
     "execution_count": 30,
     "metadata": {},
     "output_type": "execute_result"
    }
   ],
   "source": [
    "weight_deltas"
   ]
  }
 ],
 "metadata": {
  "kernelspec": {
   "display_name": "Python 3 (ipykernel)",
   "language": "python",
   "name": "python3"
  },
  "language_info": {
   "codemirror_mode": {
    "name": "ipython",
    "version": 3
   },
   "file_extension": ".py",
   "mimetype": "text/x-python",
   "name": "python",
   "nbconvert_exporter": "python",
   "pygments_lexer": "ipython3",
   "version": "3.9.7"
  }
 },
 "nbformat": 4,
 "nbformat_minor": 5
}
