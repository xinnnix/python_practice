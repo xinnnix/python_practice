{
 "cells": [
  {
   "cell_type": "code",
   "execution_count": 1,
   "id": "0a64f6b3-2cd3-432a-95fa-f66d19a437f0",
   "metadata": {},
   "outputs": [],
   "source": [
    "import numpy as np, sys\n",
    "np.random.seed(1)"
   ]
  },
  {
   "cell_type": "code",
   "execution_count": 2,
   "id": "2e7fdfb4-d692-4882-81e6-ed4b9553fdf1",
   "metadata": {},
   "outputs": [
    {
     "name": "stderr",
     "output_type": "stream",
     "text": [
      "Using TensorFlow backend.\n"
     ]
    }
   ],
   "source": [
    "from keras.datasets import mnist\n",
    "\n",
    "(x_train, y_train), (x_test, y_test) = mnist.load_data()\n",
    "images, labels = (x_train[0:1000].reshape(1000,28*28)/255, y_train[0:1000])\n",
    "\n",
    "one_hot_labels = np.zeros((len(labels),10))\n",
    "for i,l in enumerate(labels):\n",
    "    one_hot_labels[i][l] = 1\n",
    "labels = one_hot_labels\n",
    "\n",
    "test_images = x_test.reshape(len(x_test),28*28)/255\n",
    "test_labels = np.zeros((len(y_test),10))\n",
    "for i,l in enumerate(y_test):\n",
    "    test_labels[i][l] = 1"
   ]
  },
  {
   "cell_type": "code",
   "execution_count": 3,
   "id": "0d5dbfa6-5808-4c6f-bd48-8f2419bac758",
   "metadata": {},
   "outputs": [],
   "source": [
    "def tanh(x):\n",
    "    return np.tanh(x)\n",
    "\n",
    "def tanh2deriv(output):\n",
    "    return 1 - output**2\n",
    "\n",
    "def softmax(x):\n",
    "    temp = np.exp(x)\n",
    "    return temp/np.sum(temp, axis=1, keepdims=True)"
   ]
  },
  {
   "cell_type": "code",
   "execution_count": 4,
   "id": "25d26910-ae21-4dbb-ba72-8afa70db8f89",
   "metadata": {},
   "outputs": [],
   "source": [
    "alpha, iterations = 2, 300\n",
    "pixels_per_image = 28*28\n",
    "num_labels = 10\n",
    "batch_size = 100"
   ]
  },
  {
   "cell_type": "code",
   "execution_count": 5,
   "id": "7cf0d23e-30e5-4e0e-a6c7-aa6750c40b9e",
   "metadata": {},
   "outputs": [],
   "source": [
    "input_rows = 28\n",
    "input_cols = 28"
   ]
  },
  {
   "cell_type": "code",
   "execution_count": 6,
   "id": "e61ab69b-50d7-4418-b36c-27ccfcb7db99",
   "metadata": {},
   "outputs": [],
   "source": [
    "kernel_rows = 3\n",
    "kernel_cols = 3\n",
    "num_kernels = 16"
   ]
  },
  {
   "cell_type": "code",
   "execution_count": 7,
   "id": "5b96208f-f766-425b-8288-bbd3399b08b2",
   "metadata": {},
   "outputs": [],
   "source": [
    "hidden_size = ((input_rows - kernel_rows) * (input_cols - kernel_cols)) * num_kernels\n",
    "\n",
    "kernels = 0.02 * np.random.random((kernel_rows*kernel_cols, num_kernels)) - 0.01\n",
    "\n",
    "weights_1_2 = 0.2 * np.random.random((hidden_size, num_labels)) - 0.1"
   ]
  },
  {
   "cell_type": "code",
   "execution_count": 8,
   "id": "6e81df3f-b9b7-4de1-959e-e5d49b9157d1",
   "metadata": {},
   "outputs": [],
   "source": [
    "def get_image_section(layer, row_from, row_to, col_from, col_to):\n",
    "    section = layer[:, row_from:row_to, col_from:col_to]\n",
    "    return section.reshape(-1,1,row_to-row_from, col_to-col_from)"
   ]
  },
  {
   "cell_type": "code",
   "execution_count": null,
   "id": "9a1caddd-426a-4c43-b0dd-5c5140014ffc",
   "metadata": {},
   "outputs": [],
   "source": [
    "for j in range(iterations):\n",
    "    correct_cnt = 0\n",
    "    for i in range(int(len(images) / batch_size)):\n",
    "        batch_start, batch_end = i*batch_size, (i+1)*batch_size\n",
    "        layer_0 = images[batch_start:batch_end]\n",
    "        layer_0 = layer_0.reshape(layer_0.shape[0],28,28)\n",
    "        layer_0.shape\n",
    "        \n",
    "        sects = list()\n",
    "        for row_start in range(layer_0.shape[1] - kernel_rows):\n",
    "            for col_start in range(layer_0.shape[2] - kernel_cols):\n",
    "                sect = get_image_section(layer_0, row_start, row_start+kernel_rows,\n",
    "                                         col_start, col_start+kernel_cols)\n",
    "                sects.append(sect)\n",
    "                \n",
    "        expanded_input = np.concatenate(sects, axis=1)\n",
    "        es = expanded_input.shape\n",
    "        flattened_input = expanded_input.reshape(es[0]*es[1], -1)\n",
    "        \n",
    "        kernel_output = flattened_input.dot(kernels)\n",
    "        \n",
    "        layer_1 = tanh(kernel_output.reshape(es[0],-1))\n",
    "        dropout_mask = np.random.randint(2,size=layer_1.shape)\n",
    "        layer_1 *= dropout_mask * 2\n",
    "        \n",
    "        layer_2 = softmax(np.dot(layer_1, weights_1_2))\n",
    "        \n",
    "        for k in range(batch_size):\n",
    "            labelset = labels[batch_start+k:batch_start+k+1]\n",
    "            _inc = int(np.argmax(layer_2[k:k+1]) == np.argmax(labelset))\n",
    "            correct_cnt += _inc\n",
    "            \n",
    "        layer_2_delta = (labels[batch_start:batch_end] - layer_2)/(batch_size * layer_2.shape[0])\n",
    "        layer_1_delta = layer_2_delta.dot(weights_1_2.T) * tanh2deriv(layer_1)\n",
    "        layer_1_delta *= dropout_mask\n",
    "        weights_1_2 += alpha * layer_1.T.dot(layer_2_delta)\n",
    "        l1d_reshape = layer_1_delta.reshape(kernel_output.shape)\n",
    "        k_update = flattened_input.T.dot(l1d_reshape)\n",
    "        kernels -= alpha * k_update\n",
    "        \n",
    "    test_correct_cnt =0\n",
    "    \n",
    "    for i in range(len(test_images)):\n",
    "        layer_0 = test_images[i:i+1]\n",
    "        layer_0 = layer_0.reshape(layer_0.shape[0],28,28)\n",
    "        layer_0.shape\n",
    "        \n",
    "        sects = list()\n",
    "        for row_start in range(layer_0.shape[1] - kernel_rows):\n",
    "            for col_start in range(layer_0.shape[2] - kernel_cols):\n",
    "                sect = get_image_section(layer_0, row_start, row_start+kernel_rows,\n",
    "                                         col_start, col_start+kernel_cols)\n",
    "                sects.append(sect)\n",
    "        expanded_input = np.concatenate(sects,axis=1)\n",
    "        es = expanded_input.shape\n",
    "        flattened_input = expanded_input.reshape(es[0]*es[1],-1)\n",
    "        \n",
    "        kernel_output = flattened_input.dot(kernels)\n",
    "        layer_1 = tanh(kernel_output.reshape(es[0],-1))\n",
    "        layer_2 = np.dot(layer_1, weights_1_2)\n",
    "        \n",
    "        test_correct_cnt += int(np.argmax(layer_2) == np.argmax(test_labels[i:i+1]))\n",
    "    \n",
    "    if(j%10==0):\n",
    "        sys.stdout.write('\\n'+\n",
    "                         'I: ' + str(j)+\n",
    "                         ' Test-Acc: ' + str(test_correct_cnt/float(len(test_images)))+\n",
    "                         ' Train-Acc: ' + str(correct_cnt/float(len(images))))"
   ]
  },
  {
   "cell_type": "code",
   "execution_count": null,
   "id": "dc0e66f1-3e7d-4592-b059-7443f5d9609b",
   "metadata": {},
   "outputs": [],
   "source": [
    "(Output from previous cell ran on google colab)\n",
    "\n",
    "I: 0 Test-Acc: 0.025 Train-Acc: 0.052\n",
    "I: 10 Test-Acc: 0.0249 Train-Acc: 0.047\n",
    "I: 20 Test-Acc: 0.7485 Train-Acc: 0.596\n",
    "I: 30 Test-Acc: 0.7341 Train-Acc: 0.512\n",
    "I: 40 Test-Acc: 0.8131 Train-Acc: 0.716\n",
    "I: 50 Test-Acc: 0.8395 Train-Acc: 0.786\n",
    "I: 60 Test-Acc: 0.8535 Train-Acc: 0.826\n",
    "I: 70 Test-Acc: 0.858 Train-Acc: 0.842\n",
    "I: 80 Test-Acc: 0.8671 Train-Acc: 0.854\n",
    "I: 90 Test-Acc: 0.8714 Train-Acc: 0.882\n",
    "I: 100 Test-Acc: 0.8747 Train-Acc: 0.877\n",
    "I: 110 Test-Acc: 0.878 Train-Acc: 0.874\n",
    "I: 120 Test-Acc: 0.8746 Train-Acc: 0.895\n",
    "I: 130 Test-Acc: 0.8777 Train-Acc: 0.886\n",
    "I: 140 Test-Acc: 0.8783 Train-Acc: 0.907\n",
    "I: 150 Test-Acc: 0.8805 Train-Acc: 0.914\n",
    "I: 160 Test-Acc: 0.8822 Train-Acc: 0.898\n",
    "I: 170 Test-Acc: 0.8797 Train-Acc: 0.93\n",
    "I: 180 Test-Acc: 0.8799 Train-Acc: 0.906\n",
    "I: 190 Test-Acc: 0.8781 Train-Acc: 0.919\n",
    "I: 200 Test-Acc: 0.8768 Train-Acc: 0.924\n",
    "I: 210 Test-Acc: 0.8793 Train-Acc: 0.916\n",
    "I: 220 Test-Acc: 0.8747 Train-Acc: 0.933\n",
    "I: 230 Test-Acc: 0.872 Train-Acc: 0.928\n",
    "I: 240 Test-Acc: 0.8743 Train-Acc: 0.922\n",
    "I: 250 Test-Acc: 0.8753 Train-Acc: 0.932\n",
    "I: 260 Test-Acc: 0.8743 Train-Acc: 0.929\n",
    "I: 270 Test-Acc: 0.8765 Train-Acc: 0.924\n",
    "I: 280 Test-Acc: 0.8739 Train-Acc: 0.946\n",
    "I: 290 Test-Acc: 0.8724 Train-Acc: 0.932"
   ]
  },
  {
   "cell_type": "code",
   "execution_count": null,
   "id": "1d9ad39e-724d-4821-8cc1-bbdf9a496ba9",
   "metadata": {},
   "outputs": [],
   "source": []
  }
 ],
 "metadata": {
  "kernelspec": {
   "display_name": "Python 3 (ipykernel)",
   "language": "python",
   "name": "python3"
  },
  "language_info": {
   "codemirror_mode": {
    "name": "ipython",
    "version": 3
   },
   "file_extension": ".py",
   "mimetype": "text/x-python",
   "name": "python",
   "nbconvert_exporter": "python",
   "pygments_lexer": "ipython3",
   "version": "3.7.11"
  }
 },
 "nbformat": 4,
 "nbformat_minor": 5
}
