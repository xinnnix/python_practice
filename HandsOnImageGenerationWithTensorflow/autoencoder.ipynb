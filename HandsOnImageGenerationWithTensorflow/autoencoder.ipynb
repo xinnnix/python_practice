{
  "cells": [
    {
      "cell_type": "code",
      "source": [
        "!nvidia-smi "
      ],
      "metadata": {
        "colab": {
          "base_uri": "https://localhost:8080/"
        },
        "id": "wJS3MvBvaioU",
        "outputId": "4de297ce-a760-4799-90ee-5a840268873f"
      },
      "id": "wJS3MvBvaioU",
      "execution_count": 1,
      "outputs": [
        {
          "output_type": "stream",
          "name": "stdout",
          "text": [
            "Mon Feb 21 08:33:57 2022       \n",
            "+-----------------------------------------------------------------------------+\n",
            "| NVIDIA-SMI 460.32.03    Driver Version: 460.32.03    CUDA Version: 11.2     |\n",
            "|-------------------------------+----------------------+----------------------+\n",
            "| GPU  Name        Persistence-M| Bus-Id        Disp.A | Volatile Uncorr. ECC |\n",
            "| Fan  Temp  Perf  Pwr:Usage/Cap|         Memory-Usage | GPU-Util  Compute M. |\n",
            "|                               |                      |               MIG M. |\n",
            "|===============================+======================+======================|\n",
            "|   0  Tesla K80           Off  | 00000000:00:04.0 Off |                    0 |\n",
            "| N/A   53C    P8    30W / 149W |      0MiB / 11441MiB |      0%      Default |\n",
            "|                               |                      |                  N/A |\n",
            "+-------------------------------+----------------------+----------------------+\n",
            "                                                                               \n",
            "+-----------------------------------------------------------------------------+\n",
            "| Processes:                                                                  |\n",
            "|  GPU   GI   CI        PID   Type   Process name                  GPU Memory |\n",
            "|        ID   ID                                                   Usage      |\n",
            "|=============================================================================|\n",
            "|  No running processes found                                                 |\n",
            "+-----------------------------------------------------------------------------+\n"
          ]
        }
      ]
    },
    {
      "cell_type": "code",
      "execution_count": 2,
      "id": "6bd8e1fc-ebd9-4fea-bf99-547abcc07ae0",
      "metadata": {
        "id": "6bd8e1fc-ebd9-4fea-bf99-547abcc07ae0"
      },
      "outputs": [],
      "source": [
        "import tensorflow as tf\n",
        "from tensorflow import keras\n",
        "from tensorflow.keras import layers"
      ]
    },
    {
      "cell_type": "code",
      "execution_count": 3,
      "id": "e6596674-4259-4ae1-b686-4fbc09df0ef0",
      "metadata": {
        "id": "e6596674-4259-4ae1-b686-4fbc09df0ef0"
      },
      "outputs": [],
      "source": [
        "import numpy as np\n",
        "import matplotlib.pyplot as plt"
      ]
    },
    {
      "cell_type": "code",
      "execution_count": 4,
      "id": "aaa8f646-5885-4667-a8f2-e3fb133a6bb4",
      "metadata": {
        "id": "aaa8f646-5885-4667-a8f2-e3fb133a6bb4"
      },
      "outputs": [],
      "source": [
        "import tensorflow_datasets as tfds"
      ]
    },
    {
      "cell_type": "code",
      "execution_count": 5,
      "id": "cbff2b79-7b94-4acd-9b03-4ab8e42c9a44",
      "metadata": {
        "colab": {
          "base_uri": "https://localhost:8080/",
          "height": 208,
          "referenced_widgets": [
            "dfb9596f844b424682ada6ab19c29d5d",
            "fc8ae89865de452c8064fdfbfbca0a51",
            "9e5275d6c2134f4db301bc0be0276bc3",
            "779a716da49d48828defb1f516c62de0",
            "cfcb57b7ef9f4a96bd06e2e59a12c908",
            "c063e839e6eb4fbfa43cf068c9eb66cd",
            "937bf23e9a3d461e856076f55d02657b",
            "c3a34308ccc946729b6d7663d7d0e058",
            "44bdc1b8001a4ac683a7f6957451f7cd",
            "01beb688467a4ae585c1c18f0eaf1c50",
            "2b40fcca63a845c9b416eabcc433b18e"
          ]
        },
        "id": "cbff2b79-7b94-4acd-9b03-4ab8e42c9a44",
        "outputId": "5fec0b58-55ec-47a7-9475-319825c3dfa5"
      },
      "outputs": [
        {
          "output_type": "stream",
          "name": "stdout",
          "text": [
            "\u001b[1mDownloading and preparing dataset mnist/3.0.1 (download: 11.06 MiB, generated: 21.00 MiB, total: 32.06 MiB) to /root/tensorflow_datasets/mnist/3.0.1...\u001b[0m\n"
          ]
        },
        {
          "output_type": "stream",
          "name": "stderr",
          "text": [
            "WARNING:absl:Dataset mnist is hosted on GCS. It will automatically be downloaded to your\n",
            "local data directory. If you'd instead prefer to read directly from our public\n",
            "GCS bucket (recommended if you're running on GCP), you can instead pass\n",
            "`try_gcs=True` to `tfds.load` or set `data_dir=gs://tfds-data/datasets`.\n",
            "\n"
          ]
        },
        {
          "output_type": "display_data",
          "data": {
            "application/vnd.jupyter.widget-view+json": {
              "model_id": "dfb9596f844b424682ada6ab19c29d5d",
              "version_minor": 0,
              "version_major": 2
            },
            "text/plain": [
              "Dl Completed...:   0%|          | 0/4 [00:00<?, ? file/s]"
            ]
          },
          "metadata": {}
        },
        {
          "output_type": "stream",
          "name": "stdout",
          "text": [
            "\n",
            "\u001b[1mDataset mnist downloaded and prepared to /root/tensorflow_datasets/mnist/3.0.1. Subsequent calls will reuse this data.\u001b[0m\n"
          ]
        }
      ],
      "source": [
        "(ds_train, ds_test_), ds_info = tfds.load('mnist', split=['train', 'test'], \n",
        "                                         shuffle_files=True, with_info=True, as_supervised=True)"
      ]
    },
    {
      "cell_type": "code",
      "execution_count": 6,
      "id": "aa4eaf9d-949d-4529-b567-a90e66a14b0a",
      "metadata": {
        "id": "aa4eaf9d-949d-4529-b567-a90e66a14b0a"
      },
      "outputs": [],
      "source": [
        "batch_size = 64\n",
        "\n",
        "def preprocess(image, label):\n",
        "    image = tf.cast(image, tf.float32)\n",
        "    image = image/255.\n",
        "    return image, image"
      ]
    },
    {
      "cell_type": "code",
      "execution_count": 7,
      "id": "8b64a4e7-0665-471f-b5c0-60c7b8bdeefa",
      "metadata": {
        "id": "8b64a4e7-0665-471f-b5c0-60c7b8bdeefa"
      },
      "outputs": [],
      "source": [
        "ds_train = ds_train.map(preprocess)\n",
        "ds_train = ds_train.cache()\n",
        "ds_train = ds_train.shuffle(ds_info.splits['train'].num_examples)\n",
        "ds_train = ds_train.batch(batch_size)\n",
        "\n",
        "ds_test = ds_test_.map(preprocess).batch(batch_size).cache().prefetch(batch_size)"
      ]
    },
    {
      "cell_type": "code",
      "execution_count": 8,
      "id": "b480a5f7-8dc8-4738-bc2c-07f51c3b6894",
      "metadata": {
        "id": "b480a5f7-8dc8-4738-bc2c-07f51c3b6894"
      },
      "outputs": [],
      "source": [
        "def preprocess_with_label(image, label):\n",
        "    image = tf.cast(image, tf.float32)\n",
        "    image = tf.math.round(image/255.)\n",
        "    return image, label\n",
        "\n",
        "ds_test_label = ds_test_.map(preprocess_with_label).batch(1000)"
      ]
    },
    {
      "cell_type": "code",
      "execution_count": 9,
      "id": "e0de114e-7d33-413f-b24e-4eb511e480ef",
      "metadata": {
        "id": "e0de114e-7d33-413f-b24e-4eb511e480ef"
      },
      "outputs": [],
      "source": [
        "def Encoder(z_dim):\n",
        "    inputs = layers.Input(shape=[28,28,1])\n",
        "    x = inputs\n",
        "    x = layers.Flatten()(x)\n",
        "    x = layers.Dense(128, activation='relu')(x)\n",
        "    x = layers.Dense(64, activation='relu')(x)\n",
        "    x = layers.Dense(32, activation='relu')(x)\n",
        "    z = layers.Dense(z_dim, activation='relu')(x)\n",
        "    return keras.Model(inputs=inputs, outputs=z, name='encoder')"
      ]
    },
    {
      "cell_type": "code",
      "execution_count": 10,
      "id": "6ffe2720-b194-41bc-b16c-b9902a3518e1",
      "metadata": {
        "colab": {
          "base_uri": "https://localhost:8080/"
        },
        "id": "6ffe2720-b194-41bc-b16c-b9902a3518e1",
        "outputId": "dcbb1ff0-1ef5-47ea-b07f-4ac20e16265f"
      },
      "outputs": [
        {
          "output_type": "stream",
          "name": "stdout",
          "text": [
            "Model: \"encoder\"\n",
            "_________________________________________________________________\n",
            " Layer (type)                Output Shape              Param #   \n",
            "=================================================================\n",
            " input_1 (InputLayer)        [(None, 28, 28, 1)]       0         \n",
            "                                                                 \n",
            " flatten (Flatten)           (None, 784)               0         \n",
            "                                                                 \n",
            " dense (Dense)               (None, 128)               100480    \n",
            "                                                                 \n",
            " dense_1 (Dense)             (None, 64)                8256      \n",
            "                                                                 \n",
            " dense_2 (Dense)             (None, 32)                2080      \n",
            "                                                                 \n",
            " dense_3 (Dense)             (None, 10)                330       \n",
            "                                                                 \n",
            "=================================================================\n",
            "Total params: 111,146\n",
            "Trainable params: 111,146\n",
            "Non-trainable params: 0\n",
            "_________________________________________________________________\n"
          ]
        }
      ],
      "source": [
        "encoder = Encoder(10)\n",
        "encoder.summary()"
      ]
    },
    {
      "cell_type": "code",
      "execution_count": 11,
      "id": "82d60c90-bed1-47ed-bb5c-b1693f5bfafc",
      "metadata": {
        "id": "82d60c90-bed1-47ed-bb5c-b1693f5bfafc"
      },
      "outputs": [],
      "source": [
        "def Encoder(z_dim):\n",
        "    inputs = layers.Input(shape=[28,28,1])\n",
        "    x = inputs\n",
        "    x = layers.Conv2D(filters=8, kernel_size=(3,3), strides=2, padding='same', activation='relu')(x)\n",
        "    x = layers.Conv2D(filters=8, kernel_size=(3,3), strides=1, padding='same', activation='relu')(x)\n",
        "    x = layers.Conv2D(filters=8, kernel_size=(3,3), strides=2, padding='same', activation='relu')(x)\n",
        "    x = layers.Conv2D(filters=8, kernel_size=(3,3), strides=1, padding='same', activation='relu')(x)\n",
        "    x = layers.Flatten()(x)\n",
        "    out = layers.Dense(z_dim, activation='relu')(x)\n",
        "    return keras.Model(inputs=inputs, outputs=out, name='encoder')"
      ]
    },
    {
      "cell_type": "code",
      "execution_count": 12,
      "id": "9b3b2edb-71c4-4ba0-8360-7a230666a9ec",
      "metadata": {
        "colab": {
          "base_uri": "https://localhost:8080/"
        },
        "id": "9b3b2edb-71c4-4ba0-8360-7a230666a9ec",
        "outputId": "367fd7e7-1b1a-4fd4-a44c-68dd6f7eed93"
      },
      "outputs": [
        {
          "output_type": "stream",
          "name": "stdout",
          "text": [
            "Model: \"encoder\"\n",
            "_________________________________________________________________\n",
            " Layer (type)                Output Shape              Param #   \n",
            "=================================================================\n",
            " input_2 (InputLayer)        [(None, 28, 28, 1)]       0         \n",
            "                                                                 \n",
            " conv2d (Conv2D)             (None, 14, 14, 8)         80        \n",
            "                                                                 \n",
            " conv2d_1 (Conv2D)           (None, 14, 14, 8)         584       \n",
            "                                                                 \n",
            " conv2d_2 (Conv2D)           (None, 7, 7, 8)           584       \n",
            "                                                                 \n",
            " conv2d_3 (Conv2D)           (None, 7, 7, 8)           584       \n",
            "                                                                 \n",
            " flatten_1 (Flatten)         (None, 392)               0         \n",
            "                                                                 \n",
            " dense_4 (Dense)             (None, 10)                3930      \n",
            "                                                                 \n",
            "=================================================================\n",
            "Total params: 5,762\n",
            "Trainable params: 5,762\n",
            "Non-trainable params: 0\n",
            "_________________________________________________________________\n"
          ]
        }
      ],
      "source": [
        "encoder = Encoder(10)\n",
        "encoder.summary()"
      ]
    },
    {
      "cell_type": "code",
      "execution_count": 13,
      "id": "cfe878c2-ab94-40fd-9bbc-b7269249fe12",
      "metadata": {
        "id": "cfe878c2-ab94-40fd-9bbc-b7269249fe12"
      },
      "outputs": [],
      "source": [
        "def Decoder(z_dim):\n",
        "    inputs = layers.Input(shape=[z_dim])\n",
        "    x = inputs\n",
        "    x = layers.Dense(7*7*64, activation='relu')(x)\n",
        "    x = layers.Reshape((7,7,64))(x)\n",
        "    x = layers.Conv2D(filters=64, kernel_size=(3,3), strides=1, padding='same', activation='relu')(x)\n",
        "    x = layers.UpSampling2D((2,2))(x)\n",
        "    x = layers.Conv2D(filters=32, kernel_size=(3,3), strides=1, padding='same', activation='relu')(x)\n",
        "    x = layers.UpSampling2D((2,2))(x)\n",
        "    out = layers.Conv2D(filters=1, kernel_size=(3,3), strides=1, padding='same', activation='sigmoid')(x)\n",
        "    return keras.Model(inputs=inputs, outputs=out, name='decoder')"
      ]
    },
    {
      "cell_type": "code",
      "execution_count": 14,
      "id": "9e95ad0e-4bb0-45c2-9ce9-7c7bd788229a",
      "metadata": {
        "colab": {
          "base_uri": "https://localhost:8080/"
        },
        "id": "9e95ad0e-4bb0-45c2-9ce9-7c7bd788229a",
        "outputId": "c0f15812-6bdb-4a22-99ce-c9b9ec144a54"
      },
      "outputs": [
        {
          "output_type": "stream",
          "name": "stdout",
          "text": [
            "Model: \"decoder\"\n",
            "_________________________________________________________________\n",
            " Layer (type)                Output Shape              Param #   \n",
            "=================================================================\n",
            " input_3 (InputLayer)        [(None, 10)]              0         \n",
            "                                                                 \n",
            " dense_5 (Dense)             (None, 3136)              34496     \n",
            "                                                                 \n",
            " reshape (Reshape)           (None, 7, 7, 64)          0         \n",
            "                                                                 \n",
            " conv2d_4 (Conv2D)           (None, 7, 7, 64)          36928     \n",
            "                                                                 \n",
            " up_sampling2d (UpSampling2D  (None, 14, 14, 64)       0         \n",
            " )                                                               \n",
            "                                                                 \n",
            " conv2d_5 (Conv2D)           (None, 14, 14, 32)        18464     \n",
            "                                                                 \n",
            " up_sampling2d_1 (UpSampling  (None, 28, 28, 32)       0         \n",
            " 2D)                                                             \n",
            "                                                                 \n",
            " conv2d_6 (Conv2D)           (None, 28, 28, 1)         289       \n",
            "                                                                 \n",
            "=================================================================\n",
            "Total params: 90,177\n",
            "Trainable params: 90,177\n",
            "Non-trainable params: 0\n",
            "_________________________________________________________________\n"
          ]
        }
      ],
      "source": [
        "decoder = Decoder(10)\n",
        "decoder.summary()"
      ]
    },
    {
      "cell_type": "code",
      "execution_count": 15,
      "id": "af808f54-6640-4e82-95af-f18b2031a443",
      "metadata": {
        "id": "af808f54-6640-4e82-95af-f18b2031a443"
      },
      "outputs": [],
      "source": [
        "class Autoencoder:\n",
        "    def __init__(self, z_dim):\n",
        "        self.encoder = Encoder(z_dim)\n",
        "        self.decoder = Decoder(z_dim)\n",
        "        \n",
        "        model_input = self.encoder.input\n",
        "        model_output = self.decoder(self.encoder.output)\n",
        "        self.model = keras.Model(model_input, model_output)"
      ]
    },
    {
      "cell_type": "code",
      "execution_count": 16,
      "id": "415e2818-31a6-4c33-bbae-85e19cc699ba",
      "metadata": {
        "id": "415e2818-31a6-4c33-bbae-85e19cc699ba"
      },
      "outputs": [],
      "source": [
        "autoencoder = Autoencoder(z_dim=10)"
      ]
    },
    {
      "cell_type": "code",
      "execution_count": 17,
      "id": "adcd695f-ac94-4293-9955-698f4baa38f9",
      "metadata": {
        "colab": {
          "base_uri": "https://localhost:8080/"
        },
        "id": "adcd695f-ac94-4293-9955-698f4baa38f9",
        "outputId": "870070ce-c191-4585-9723-53be65c0cf25"
      },
      "outputs": [
        {
          "output_type": "stream",
          "name": "stdout",
          "text": [
            "Model: \"model\"\n",
            "_________________________________________________________________\n",
            " Layer (type)                Output Shape              Param #   \n",
            "=================================================================\n",
            " input_4 (InputLayer)        [(None, 28, 28, 1)]       0         \n",
            "                                                                 \n",
            " conv2d_7 (Conv2D)           (None, 14, 14, 8)         80        \n",
            "                                                                 \n",
            " conv2d_8 (Conv2D)           (None, 14, 14, 8)         584       \n",
            "                                                                 \n",
            " conv2d_9 (Conv2D)           (None, 7, 7, 8)           584       \n",
            "                                                                 \n",
            " conv2d_10 (Conv2D)          (None, 7, 7, 8)           584       \n",
            "                                                                 \n",
            " flatten_2 (Flatten)         (None, 392)               0         \n",
            "                                                                 \n",
            " dense_6 (Dense)             (None, 10)                3930      \n",
            "                                                                 \n",
            " decoder (Functional)        (None, 28, 28, 1)         90177     \n",
            "                                                                 \n",
            "=================================================================\n",
            "Total params: 95,939\n",
            "Trainable params: 95,939\n",
            "Non-trainable params: 0\n",
            "_________________________________________________________________\n"
          ]
        }
      ],
      "source": [
        "autoencoder.model.summary()"
      ]
    },
    {
      "cell_type": "code",
      "execution_count": 18,
      "id": "24770aef-4402-49bf-ae3d-c7b3a4a1e35f",
      "metadata": {
        "id": "24770aef-4402-49bf-ae3d-c7b3a4a1e35f"
      },
      "outputs": [],
      "source": [
        "checkpoint = keras.callbacks.ModelCheckpoint('autoencoder.h5', monitor='val_loss', verbose=1,\n",
        "                                             save_best_only=True, mode='auto', save_weights_only=False)\n",
        "\n",
        "early = keras.callbacks.EarlyStopping(monitor='val_loss', mode='auto', patience=5)\n",
        "\n",
        "callbacks_list = [checkpoint, early]\n",
        "\n",
        "autoencoder.model.compile(loss='mse', optimizer=keras.optimizers.RMSprop(learning_rate=3e-4))"
      ]
    },
    {
      "cell_type": "code",
      "execution_count": 19,
      "id": "d96ba2cf-8076-428f-8bb7-6a54fca3b74e",
      "metadata": {
        "colab": {
          "base_uri": "https://localhost:8080/"
        },
        "id": "d96ba2cf-8076-428f-8bb7-6a54fca3b74e",
        "outputId": "af7e01a4-2720-47f3-f082-3413b0b92a5c"
      },
      "outputs": [
        {
          "output_type": "stream",
          "name": "stdout",
          "text": [
            "Epoch 1/100\n",
            "938/938 [==============================] - ETA: 0s - loss: 0.0436\n",
            "Epoch 1: val_loss improved from inf to 0.02876, saving model to autoencoder.h5\n",
            "938/938 [==============================] - 35s 16ms/step - loss: 0.0436 - val_loss: 0.0288\n",
            "Epoch 2/100\n",
            "937/938 [============================>.] - ETA: 0s - loss: 0.0257\n",
            "Epoch 2: val_loss improved from 0.02876 to 0.02288, saving model to autoencoder.h5\n",
            "938/938 [==============================] - 15s 16ms/step - loss: 0.0257 - val_loss: 0.0229\n",
            "Epoch 3/100\n",
            "937/938 [============================>.] - ETA: 0s - loss: 0.0221\n",
            "Epoch 3: val_loss improved from 0.02288 to 0.02203, saving model to autoencoder.h5\n",
            "938/938 [==============================] - 15s 16ms/step - loss: 0.0221 - val_loss: 0.0220\n",
            "Epoch 4/100\n",
            "938/938 [==============================] - ETA: 0s - loss: 0.0202\n",
            "Epoch 4: val_loss improved from 0.02203 to 0.01858, saving model to autoencoder.h5\n",
            "938/938 [==============================] - 15s 16ms/step - loss: 0.0202 - val_loss: 0.0186\n",
            "Epoch 5/100\n",
            "937/938 [============================>.] - ETA: 0s - loss: 0.0190\n",
            "Epoch 5: val_loss improved from 0.01858 to 0.01854, saving model to autoencoder.h5\n",
            "938/938 [==============================] - 19s 20ms/step - loss: 0.0190 - val_loss: 0.0185\n",
            "Epoch 6/100\n",
            "937/938 [============================>.] - ETA: 0s - loss: 0.0182\n",
            "Epoch 6: val_loss improved from 0.01854 to 0.01751, saving model to autoencoder.h5\n",
            "938/938 [==============================] - 15s 15ms/step - loss: 0.0182 - val_loss: 0.0175\n",
            "Epoch 7/100\n",
            "938/938 [==============================] - ETA: 0s - loss: 0.0175\n",
            "Epoch 7: val_loss improved from 0.01751 to 0.01744, saving model to autoencoder.h5\n",
            "938/938 [==============================] - 16s 17ms/step - loss: 0.0175 - val_loss: 0.0174\n",
            "Epoch 8/100\n",
            "938/938 [==============================] - ETA: 0s - loss: 0.0170\n",
            "Epoch 8: val_loss improved from 0.01744 to 0.01633, saving model to autoencoder.h5\n",
            "938/938 [==============================] - 16s 17ms/step - loss: 0.0170 - val_loss: 0.0163\n",
            "Epoch 9/100\n",
            "938/938 [==============================] - ETA: 0s - loss: 0.0165\n",
            "Epoch 9: val_loss did not improve from 0.01633\n",
            "938/938 [==============================] - 16s 17ms/step - loss: 0.0165 - val_loss: 0.0168\n",
            "Epoch 10/100\n",
            "937/938 [============================>.] - ETA: 0s - loss: 0.0162\n",
            "Epoch 10: val_loss improved from 0.01633 to 0.01629, saving model to autoencoder.h5\n",
            "938/938 [==============================] - 16s 17ms/step - loss: 0.0162 - val_loss: 0.0163\n",
            "Epoch 11/100\n",
            "935/938 [============================>.] - ETA: 0s - loss: 0.0158\n",
            "Epoch 11: val_loss improved from 0.01629 to 0.01524, saving model to autoencoder.h5\n",
            "938/938 [==============================] - 16s 16ms/step - loss: 0.0158 - val_loss: 0.0152\n",
            "Epoch 12/100\n",
            "935/938 [============================>.] - ETA: 0s - loss: 0.0156\n",
            "Epoch 12: val_loss did not improve from 0.01524\n",
            "938/938 [==============================] - 16s 17ms/step - loss: 0.0156 - val_loss: 0.0161\n",
            "Epoch 13/100\n",
            "938/938 [==============================] - ETA: 0s - loss: 0.0153\n",
            "Epoch 13: val_loss improved from 0.01524 to 0.01516, saving model to autoencoder.h5\n",
            "938/938 [==============================] - 20s 21ms/step - loss: 0.0153 - val_loss: 0.0152\n",
            "Epoch 14/100\n",
            "937/938 [============================>.] - ETA: 0s - loss: 0.0151\n",
            "Epoch 14: val_loss did not improve from 0.01516\n",
            "938/938 [==============================] - 18s 19ms/step - loss: 0.0151 - val_loss: 0.0153\n",
            "Epoch 15/100\n",
            "938/938 [==============================] - ETA: 0s - loss: 0.0149\n",
            "Epoch 15: val_loss improved from 0.01516 to 0.01452, saving model to autoencoder.h5\n",
            "938/938 [==============================] - 17s 18ms/step - loss: 0.0149 - val_loss: 0.0145\n",
            "Epoch 16/100\n",
            "937/938 [============================>.] - ETA: 0s - loss: 0.0147\n",
            "Epoch 16: val_loss improved from 0.01452 to 0.01429, saving model to autoencoder.h5\n",
            "938/938 [==============================] - 17s 18ms/step - loss: 0.0147 - val_loss: 0.0143\n",
            "Epoch 17/100\n",
            "938/938 [==============================] - ETA: 0s - loss: 0.0145\n",
            "Epoch 17: val_loss did not improve from 0.01429\n",
            "938/938 [==============================] - 17s 18ms/step - loss: 0.0145 - val_loss: 0.0145\n",
            "Epoch 18/100\n",
            "937/938 [============================>.] - ETA: 0s - loss: 0.0144\n",
            "Epoch 18: val_loss did not improve from 0.01429\n",
            "938/938 [==============================] - 17s 18ms/step - loss: 0.0144 - val_loss: 0.0149\n",
            "Epoch 19/100\n",
            "938/938 [==============================] - ETA: 0s - loss: 0.0142\n",
            "Epoch 19: val_loss improved from 0.01429 to 0.01411, saving model to autoencoder.h5\n",
            "938/938 [==============================] - 18s 19ms/step - loss: 0.0142 - val_loss: 0.0141\n",
            "Epoch 20/100\n",
            "938/938 [==============================] - ETA: 0s - loss: 0.0141\n",
            "Epoch 20: val_loss did not improve from 0.01411\n",
            "938/938 [==============================] - 16s 17ms/step - loss: 0.0141 - val_loss: 0.0142\n",
            "Epoch 21/100\n",
            "938/938 [==============================] - ETA: 0s - loss: 0.0140\n",
            "Epoch 21: val_loss did not improve from 0.01411\n",
            "938/938 [==============================] - 18s 19ms/step - loss: 0.0140 - val_loss: 0.0143\n",
            "Epoch 22/100\n",
            "935/938 [============================>.] - ETA: 0s - loss: 0.0139\n",
            "Epoch 22: val_loss improved from 0.01411 to 0.01382, saving model to autoencoder.h5\n",
            "938/938 [==============================] - 15s 16ms/step - loss: 0.0139 - val_loss: 0.0138\n",
            "Epoch 23/100\n",
            "937/938 [============================>.] - ETA: 0s - loss: 0.0138\n",
            "Epoch 23: val_loss did not improve from 0.01382\n",
            "938/938 [==============================] - 15s 16ms/step - loss: 0.0138 - val_loss: 0.0145\n",
            "Epoch 24/100\n",
            "937/938 [============================>.] - ETA: 0s - loss: 0.0137\n",
            "Epoch 24: val_loss improved from 0.01382 to 0.01347, saving model to autoencoder.h5\n",
            "938/938 [==============================] - 14s 15ms/step - loss: 0.0137 - val_loss: 0.0135\n",
            "Epoch 25/100\n",
            "936/938 [============================>.] - ETA: 0s - loss: 0.0136\n",
            "Epoch 25: val_loss did not improve from 0.01347\n",
            "938/938 [==============================] - 14s 15ms/step - loss: 0.0136 - val_loss: 0.0140\n",
            "Epoch 26/100\n",
            "936/938 [============================>.] - ETA: 0s - loss: 0.0135\n",
            "Epoch 26: val_loss did not improve from 0.01347\n",
            "938/938 [==============================] - 14s 15ms/step - loss: 0.0135 - val_loss: 0.0135\n",
            "Epoch 27/100\n",
            "935/938 [============================>.] - ETA: 0s - loss: 0.0134\n",
            "Epoch 27: val_loss did not improve from 0.01347\n",
            "938/938 [==============================] - 14s 15ms/step - loss: 0.0134 - val_loss: 0.0141\n",
            "Epoch 28/100\n",
            "938/938 [==============================] - ETA: 0s - loss: 0.0133\n",
            "Epoch 28: val_loss did not improve from 0.01347\n",
            "938/938 [==============================] - 14s 15ms/step - loss: 0.0133 - val_loss: 0.0135\n",
            "Epoch 29/100\n",
            "936/938 [============================>.] - ETA: 0s - loss: 0.0132\n",
            "Epoch 29: val_loss did not improve from 0.01347\n",
            "938/938 [==============================] - 14s 15ms/step - loss: 0.0132 - val_loss: 0.0138\n"
          ]
        },
        {
          "output_type": "execute_result",
          "data": {
            "text/plain": [
              "<keras.callbacks.History at 0x7fd2c06d7890>"
            ]
          },
          "metadata": {},
          "execution_count": 19
        }
      ],
      "source": [
        "autoencoder.model.fit(ds_train, validation_data=ds_test, epochs=100, callbacks=callbacks_list)"
      ]
    },
    {
      "cell_type": "code",
      "source": [
        "images, labels = next(iter(ds_test))\n",
        "autoencoder.model = keras.models.load_model('autoencoder.h5')\n",
        "outputs = autoencoder.model.predict(images)\n",
        "\n",
        "grid_col = 10\n",
        "grid_row = 2\n",
        "\n",
        "f, axarr = plt.subplots(grid_row, grid_col, figsize=(grid_col*1.1, grid_row))\n",
        "\n",
        "i=0\n",
        "for row in range(0, grid_row, 2):\n",
        "  for col in range(grid_col):\n",
        "    axarr[row, col].imshow(images[i,:,:,0],cmap='gray')\n",
        "    axarr[row, col].axis('off')\n",
        "    axarr[row+1, col].imshow(outputs[i,:,:,0],cmap='gray')\n",
        "    axarr[row+1, col].axis('off')\n",
        "    i+=1\n",
        "f.tight_layout(0.1, h_pad=0.2, w_pad=0.1)\n",
        "plt.show()"
      ],
      "metadata": {
        "colab": {
          "base_uri": "https://localhost:8080/",
          "height": 190
        },
        "id": "nf4w7cxHa2Ga",
        "outputId": "26e72820-52b4-4270-93db-c46cd46ac203"
      },
      "id": "nf4w7cxHa2Ga",
      "execution_count": 20,
      "outputs": [
        {
          "output_type": "stream",
          "name": "stderr",
          "text": [
            "/usr/local/lib/python3.7/dist-packages/ipykernel_launcher.py:18: MatplotlibDeprecationWarning: The 'renderer' parameter of tight_layout() is deprecated since Matplotlib 3.2 and will be removed two minor releases later.  If any parameter follows 'renderer', they should be pass as keyword, not positionally.\n"
          ]
        },
        {
          "output_type": "display_data",
          "data": {
            "image/png": "[encoded data removed]",
            "text/plain": [
              "<Figure size 792x144 with 20 Axes>"
            ]
          },
          "metadata": {
            "needs_background": "light"
          }
        }
      ]
    }
  ],
  "metadata": {
    "kernelspec": {
      "display_name": "Python 3 (ipykernel)",
      "language": "python",
      "name": "python3"
    },
    "language_info": {
      "codemirror_mode": {
        "name": "ipython",
        "version": 3
      },
      "file_extension": ".py",
      "mimetype": "text/x-python",
      "name": "python",
      "nbconvert_exporter": "python",
      "pygments_lexer": "ipython3",
      "version": "3.7.7"
    },
    "colab": {
      "name": "autoencoder.ipynb",
      "provenance": []
    },
    "accelerator": "GPU",
    "widgets": {
      "application/vnd.jupyter.widget-state+json": {
        "dfb9596f844b424682ada6ab19c29d5d": {
          "model_module": "@jupyter-widgets/controls",
          "model_name": "HBoxModel",
          "model_module_version": "1.5.0",
          "state": {
            "_view_name": "HBoxView",
            "_dom_classes": [],
            "_model_name": "HBoxModel",
            "_view_module": "@jupyter-widgets/controls",
            "_model_module_version": "1.5.0",
            "_view_count": null,
            "_view_module_version": "1.5.0",
            "box_style": "",
            "layout": "IPY_MODEL_fc8ae89865de452c8064fdfbfbca0a51",
            "_model_module": "@jupyter-widgets/controls",
            "children": [
              "IPY_MODEL_9e5275d6c2134f4db301bc0be0276bc3",
              "IPY_MODEL_779a716da49d48828defb1f516c62de0",
              "IPY_MODEL_cfcb57b7ef9f4a96bd06e2e59a12c908"
            ]
          }
        },
        "fc8ae89865de452c8064fdfbfbca0a51": {
          "model_module": "@jupyter-widgets/base",
          "model_name": "LayoutModel",
          "model_module_version": "1.2.0",
          "state": {
            "_view_name": "LayoutView",
            "grid_template_rows": null,
            "right": null,
            "justify_content": null,
            "_view_module": "@jupyter-widgets/base",
            "overflow": null,
            "_model_module_version": "1.2.0",
            "_view_count": null,
            "flex_flow": null,
            "width": null,
            "min_width": null,
            "border": null,
            "align_items": null,
            "bottom": null,
            "_model_module": "@jupyter-widgets/base",
            "top": null,
            "grid_column": null,
            "overflow_y": null,
            "overflow_x": null,
            "grid_auto_flow": null,
            "grid_area": null,
            "grid_template_columns": null,
            "flex": null,
            "_model_name": "LayoutModel",
            "justify_items": null,
            "grid_row": null,
            "max_height": null,
            "align_content": null,
            "visibility": null,
            "align_self": null,
            "height": null,
            "min_height": null,
            "padding": null,
            "grid_auto_rows": null,
            "grid_gap": null,
            "max_width": null,
            "order": null,
            "_view_module_version": "1.2.0",
            "grid_template_areas": null,
            "object_position": null,
            "object_fit": null,
            "grid_auto_columns": null,
            "margin": null,
            "display": null,
            "left": null
          }
        },
        "9e5275d6c2134f4db301bc0be0276bc3": {
          "model_module": "@jupyter-widgets/controls",
          "model_name": "HTMLModel",
          "model_module_version": "1.5.0",
          "state": {
            "_view_name": "HTMLView",
            "style": "IPY_MODEL_c063e839e6eb4fbfa43cf068c9eb66cd",
            "_dom_classes": [],
            "description": "",
            "_model_name": "HTMLModel",
            "placeholder": "​",
            "_view_module": "@jupyter-widgets/controls",
            "_model_module_version": "1.5.0",
            "value": "Dl Completed...: 100%",
            "_view_count": null,
            "_view_module_version": "1.5.0",
            "description_tooltip": null,
            "_model_module": "@jupyter-widgets/controls",
            "layout": "IPY_MODEL_937bf23e9a3d461e856076f55d02657b"
          }
        },
        "779a716da49d48828defb1f516c62de0": {
          "model_module": "@jupyter-widgets/controls",
          "model_name": "FloatProgressModel",
          "model_module_version": "1.5.0",
          "state": {
            "_view_name": "ProgressView",
            "style": "IPY_MODEL_c3a34308ccc946729b6d7663d7d0e058",
            "_dom_classes": [],
            "description": "",
            "_model_name": "FloatProgressModel",
            "bar_style": "success",
            "max": 4,
            "_view_module": "@jupyter-widgets/controls",
            "_model_module_version": "1.5.0",
            "value": 4,
            "_view_count": null,
            "_view_module_version": "1.5.0",
            "orientation": "horizontal",
            "min": 0,
            "description_tooltip": null,
            "_model_module": "@jupyter-widgets/controls",
            "layout": "IPY_MODEL_44bdc1b8001a4ac683a7f6957451f7cd"
          }
        },
        "cfcb57b7ef9f4a96bd06e2e59a12c908": {
          "model_module": "@jupyter-widgets/controls",
          "model_name": "HTMLModel",
          "model_module_version": "1.5.0",
          "state": {
            "_view_name": "HTMLView",
            "style": "IPY_MODEL_01beb688467a4ae585c1c18f0eaf1c50",
            "_dom_classes": [],
            "description": "",
            "_model_name": "HTMLModel",
            "placeholder": "​",
            "_view_module": "@jupyter-widgets/controls",
            "_model_module_version": "1.5.0",
            "value": " 4/4 [00:00&lt;00:00,  9.56 file/s]",
            "_view_count": null,
            "_view_module_version": "1.5.0",
            "description_tooltip": null,
            "_model_module": "@jupyter-widgets/controls",
            "layout": "IPY_MODEL_2b40fcca63a845c9b416eabcc433b18e"
          }
        },
        "c063e839e6eb4fbfa43cf068c9eb66cd": {
          "model_module": "@jupyter-widgets/controls",
          "model_name": "DescriptionStyleModel",
          "model_module_version": "1.5.0",
          "state": {
            "_view_name": "StyleView",
            "_model_name": "DescriptionStyleModel",
            "description_width": "",
            "_view_module": "@jupyter-widgets/base",
            "_model_module_version": "1.5.0",
            "_view_count": null,
            "_view_module_version": "1.2.0",
            "_model_module": "@jupyter-widgets/controls"
          }
        },
        "937bf23e9a3d461e856076f55d02657b": {
          "model_module": "@jupyter-widgets/base",
          "model_name": "LayoutModel",
          "model_module_version": "1.2.0",
          "state": {
            "_view_name": "LayoutView",
            "grid_template_rows": null,
            "right": null,
            "justify_content": null,
            "_view_module": "@jupyter-widgets/base",
            "overflow": null,
            "_model_module_version": "1.2.0",
            "_view_count": null,
            "flex_flow": null,
            "width": null,
            "min_width": null,
            "border": null,
            "align_items": null,
            "bottom": null,
            "_model_module": "@jupyter-widgets/base",
            "top": null,
            "grid_column": null,
            "overflow_y": null,
            "overflow_x": null,
            "grid_auto_flow": null,
            "grid_area": null,
            "grid_template_columns": null,
            "flex": null,
            "_model_name": "LayoutModel",
            "justify_items": null,
            "grid_row": null,
            "max_height": null,
            "align_content": null,
            "visibility": null,
            "align_self": null,
            "height": null,
            "min_height": null,
            "padding": null,
            "grid_auto_rows": null,
            "grid_gap": null,
            "max_width": null,
            "order": null,
            "_view_module_version": "1.2.0",
            "grid_template_areas": null,
            "object_position": null,
            "object_fit": null,
            "grid_auto_columns": null,
            "margin": null,
            "display": null,
            "left": null
          }
        },
        "c3a34308ccc946729b6d7663d7d0e058": {
          "model_module": "@jupyter-widgets/controls",
          "model_name": "ProgressStyleModel",
          "model_module_version": "1.5.0",
          "state": {
            "_view_name": "StyleView",
            "_model_name": "ProgressStyleModel",
            "description_width": "",
            "_view_module": "@jupyter-widgets/base",
            "_model_module_version": "1.5.0",
            "_view_count": null,
            "_view_module_version": "1.2.0",
            "bar_color": null,
            "_model_module": "@jupyter-widgets/controls"
          }
        },
        "44bdc1b8001a4ac683a7f6957451f7cd": {
          "model_module": "@jupyter-widgets/base",
          "model_name": "LayoutModel",
          "model_module_version": "1.2.0",
          "state": {
            "_view_name": "LayoutView",
            "grid_template_rows": null,
            "right": null,
            "justify_content": null,
            "_view_module": "@jupyter-widgets/base",
            "overflow": null,
            "_model_module_version": "1.2.0",
            "_view_count": null,
            "flex_flow": null,
            "width": null,
            "min_width": null,
            "border": null,
            "align_items": null,
            "bottom": null,
            "_model_module": "@jupyter-widgets/base",
            "top": null,
            "grid_column": null,
            "overflow_y": null,
            "overflow_x": null,
            "grid_auto_flow": null,
            "grid_area": null,
            "grid_template_columns": null,
            "flex": null,
            "_model_name": "LayoutModel",
            "justify_items": null,
            "grid_row": null,
            "max_height": null,
            "align_content": null,
            "visibility": null,
            "align_self": null,
            "height": null,
            "min_height": null,
            "padding": null,
            "grid_auto_rows": null,
            "grid_gap": null,
            "max_width": null,
            "order": null,
            "_view_module_version": "1.2.0",
            "grid_template_areas": null,
            "object_position": null,
            "object_fit": null,
            "grid_auto_columns": null,
            "margin": null,
            "display": null,
            "left": null
          }
        },
        "01beb688467a4ae585c1c18f0eaf1c50": {
          "model_module": "@jupyter-widgets/controls",
          "model_name": "DescriptionStyleModel",
          "model_module_version": "1.5.0",
          "state": {
            "_view_name": "StyleView",
            "_model_name": "DescriptionStyleModel",
            "description_width": "",
            "_view_module": "@jupyter-widgets/base",
            "_model_module_version": "1.5.0",
            "_view_count": null,
            "_view_module_version": "1.2.0",
            "_model_module": "@jupyter-widgets/controls"
          }
        },
        "2b40fcca63a845c9b416eabcc433b18e": {
          "model_module": "@jupyter-widgets/base",
          "model_name": "LayoutModel",
          "model_module_version": "1.2.0",
          "state": {
            "_view_name": "LayoutView",
            "grid_template_rows": null,
            "right": null,
            "justify_content": null,
            "_view_module": "@jupyter-widgets/base",
            "overflow": null,
            "_model_module_version": "1.2.0",
            "_view_count": null,
            "flex_flow": null,
            "width": null,
            "min_width": null,
            "border": null,
            "align_items": null,
            "bottom": null,
            "_model_module": "@jupyter-widgets/base",
            "top": null,
            "grid_column": null,
            "overflow_y": null,
            "overflow_x": null,
            "grid_auto_flow": null,
            "grid_area": null,
            "grid_template_columns": null,
            "flex": null,
            "_model_name": "LayoutModel",
            "justify_items": null,
            "grid_row": null,
            "max_height": null,
            "align_content": null,
            "visibility": null,
            "align_self": null,
            "height": null,
            "min_height": null,
            "padding": null,
            "grid_auto_rows": null,
            "grid_gap": null,
            "max_width": null,
            "order": null,
            "_view_module_version": "1.2.0",
            "grid_template_areas": null,
            "object_position": null,
            "object_fit": null,
            "grid_auto_columns": null,
            "margin": null,
            "display": null,
            "left": null
          }
        }
      }
    }
  },
  "nbformat": 4,
  "nbformat_minor": 5
}