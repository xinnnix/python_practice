{
 "cells": [
  {
   "cell_type": "code",
   "execution_count": 1,
   "id": "6bd8e1fc-ebd9-4fea-bf99-547abcc07ae0",
   "metadata": {},
   "outputs": [],
   "source": [
    "import tensorflow as tf\n",
    "from tensorflow import keras\n",
    "from tensorflow.keras import layers"
   ]
  },
  {
   "cell_type": "code",
   "execution_count": 2,
   "id": "e6596674-4259-4ae1-b686-4fbc09df0ef0",
   "metadata": {},
   "outputs": [],
   "source": [
    "import numpy as np\n",
    "import matplotlib.pyplot as plt"
   ]
  },
  {
   "cell_type": "code",
   "execution_count": 3,
   "id": "aaa8f646-5885-4667-a8f2-e3fb133a6bb4",
   "metadata": {},
   "outputs": [],
   "source": [
    "import tensorflow_datasets as tfds"
   ]
  },
  {
   "cell_type": "code",
   "execution_count": 7,
   "id": "cbff2b79-7b94-4acd-9b03-4ab8e42c9a44",
   "metadata": {},
   "outputs": [],
   "source": [
    "(ds_train, ds_test_), ds_info = tfds.load('mnist', split=['train', 'test'], \n",
    "                                         shuffle_files=True, with_info=True, as_supervised=True)"
   ]
  },
  {
   "cell_type": "code",
   "execution_count": 5,
   "id": "aa4eaf9d-949d-4529-b567-a90e66a14b0a",
   "metadata": {},
   "outputs": [],
   "source": [
    "batch_size = 64\n",
    "\n",
    "def preprocess(image, label):\n",
    "    image = tf.cast(image, tf.float32)\n",
    "    image = image/255.\n",
    "    return image, image"
   ]
  },
  {
   "cell_type": "code",
   "execution_count": 8,
   "id": "8b64a4e7-0665-471f-b5c0-60c7b8bdeefa",
   "metadata": {},
   "outputs": [],
   "source": [
    "ds_train = ds_train.map(preprocess)\n",
    "ds_train = ds_train.cache()\n",
    "ds_train = ds_train.shuffle(ds_info.splits['train'].num_examples)\n",
    "ds_train = ds_train.batch(batch_size)\n",
    "\n",
    "ds_test = ds_test_.map(preprocess).batch(batch_size).cache().prefetch(batch_size)"
   ]
  },
  {
   "cell_type": "code",
   "execution_count": 9,
   "id": "b480a5f7-8dc8-4738-bc2c-07f51c3b6894",
   "metadata": {},
   "outputs": [],
   "source": [
    "def preprocess_with_label(image, label):\n",
    "    image = tf.cast(image, tf.float32)\n",
    "    image = tf.math.round(image/255.)\n",
    "    return image, label\n",
    "\n",
    "ds_test_label = ds_test_.map(preprocess_with_label).batch(1000)"
   ]
  },
  {
   "cell_type": "code",
   "execution_count": 10,
   "id": "e0de114e-7d33-413f-b24e-4eb511e480ef",
   "metadata": {},
   "outputs": [],
   "source": [
    "def Encoder(z_dim):\n",
    "    inputs = layers.Input(shape=[28,28,1])\n",
    "    x = inputs\n",
    "    x = layers.Flatten()(x)\n",
    "    x = layers.Dense(128, activation='relu')(x)\n",
    "    x = layers.Dense(64, activation='relu')(x)\n",
    "    x = layers.Dense(32, activation='relu')(x)\n",
    "    z = layers.Dense(z_dim, activation='relu')(x)\n",
    "    return keras.Model(inputs=inputs, outputs=z, name='encoder')"
   ]
  },
  {
   "cell_type": "code",
   "execution_count": 13,
   "id": "6ffe2720-b194-41bc-b16c-b9902a3518e1",
   "metadata": {},
   "outputs": [
    {
     "name": "stdout",
     "output_type": "stream",
     "text": [
      "Model: \"encoder\"\n",
      "_________________________________________________________________\n",
      "Layer (type)                 Output Shape              Param #   \n",
      "=================================================================\n",
      "input_2 (InputLayer)         [(None, 28, 28, 1)]       0         \n",
      "_________________________________________________________________\n",
      "flatten_1 (Flatten)          (None, 784)               0         \n",
      "_________________________________________________________________\n",
      "dense_4 (Dense)              (None, 128)               100480    \n",
      "_________________________________________________________________\n",
      "dense_5 (Dense)              (None, 64)                8256      \n",
      "_________________________________________________________________\n",
      "dense_6 (Dense)              (None, 32)                2080      \n",
      "_________________________________________________________________\n",
      "dense_7 (Dense)              (None, 10)                330       \n",
      "=================================================================\n",
      "Total params: 111,146\n",
      "Trainable params: 111,146\n",
      "Non-trainable params: 0\n",
      "_________________________________________________________________\n"
     ]
    }
   ],
   "source": [
    "encoder = Encoder(10)\n",
    "encoder.summary()"
   ]
  },
  {
   "cell_type": "code",
   "execution_count": 14,
   "id": "82d60c90-bed1-47ed-bb5c-b1693f5bfafc",
   "metadata": {},
   "outputs": [],
   "source": [
    "def Encoder(z_dim):\n",
    "    inputs = layers.Input(shape=[28,28,1])\n",
    "    x = inputs\n",
    "    x = layers.Conv2D(filters=8, kernel_size=(3,3), strides=2, padding='same', activation='relu')(x)\n",
    "    x = layers.Conv2D(filters=8, kernel_size=(3,3), strides=1, padding='same', activation='relu')(x)\n",
    "    x = layers.Conv2D(filters=8, kernel_size=(3,3), strides=2, padding='same', activation='relu')(x)\n",
    "    x = layers.Conv2D(filters=8, kernel_size=(3,3), strides=1, padding='same', activation='relu')(x)\n",
    "    x = layers.Flatten()(x)\n",
    "    out = layers.Dense(z_dim, activation='relu')(x)\n",
    "    return keras.Model(inputs=inputs, outputs=out, name='encoder')"
   ]
  },
  {
   "cell_type": "code",
   "execution_count": 15,
   "id": "9b3b2edb-71c4-4ba0-8360-7a230666a9ec",
   "metadata": {},
   "outputs": [
    {
     "name": "stdout",
     "output_type": "stream",
     "text": [
      "Model: \"encoder\"\n",
      "_________________________________________________________________\n",
      "Layer (type)                 Output Shape              Param #   \n",
      "=================================================================\n",
      "input_3 (InputLayer)         [(None, 28, 28, 1)]       0         \n",
      "_________________________________________________________________\n",
      "conv2d (Conv2D)              (None, 14, 14, 8)         80        \n",
      "_________________________________________________________________\n",
      "conv2d_1 (Conv2D)            (None, 14, 14, 8)         584       \n",
      "_________________________________________________________________\n",
      "conv2d_2 (Conv2D)            (None, 7, 7, 8)           584       \n",
      "_________________________________________________________________\n",
      "conv2d_3 (Conv2D)            (None, 7, 7, 8)           584       \n",
      "_________________________________________________________________\n",
      "flatten_2 (Flatten)          (None, 392)               0         \n",
      "_________________________________________________________________\n",
      "dense_8 (Dense)              (None, 10)                3930      \n",
      "=================================================================\n",
      "Total params: 5,762\n",
      "Trainable params: 5,762\n",
      "Non-trainable params: 0\n",
      "_________________________________________________________________\n"
     ]
    }
   ],
   "source": [
    "encoder = Encoder(10)\n",
    "encoder.summary()"
   ]
  },
  {
   "cell_type": "code",
   "execution_count": 19,
   "id": "cfe878c2-ab94-40fd-9bbc-b7269249fe12",
   "metadata": {},
   "outputs": [],
   "source": [
    "def Decoder(z_dim):\n",
    "    inputs = layers.Input(shape=[z_dim])\n",
    "    x = inputs\n",
    "    x = layers.Dense(7*7*64, activation='relu')(x)\n",
    "    x = layers.Reshape((7,7,64))(x)\n",
    "    x = layers.Conv2D(filters=64, kernel_size=(3,3), strides=1, padding='same', activation='relu')(x)\n",
    "    x = layers.UpSampling2D((2,2))(x)\n",
    "    x = layers.Conv2D(filters=32, kernel_size=(3,3), strides=1, padding='same', activation='relu')(x)\n",
    "    x = layers.UpSampling2D((2,2))(x)\n",
    "    out = layers.Conv2D(filters=1, kernel_size=(3,3), strides=1, padding='same', activation='sigmoid')(x)\n",
    "    return keras.Model(inputs=inputs, outputs=out, name='decoder')"
   ]
  },
  {
   "cell_type": "code",
   "execution_count": 20,
   "id": "9e95ad0e-4bb0-45c2-9ce9-7c7bd788229a",
   "metadata": {},
   "outputs": [
    {
     "name": "stdout",
     "output_type": "stream",
     "text": [
      "Model: \"decoder\"\n",
      "_________________________________________________________________\n",
      "Layer (type)                 Output Shape              Param #   \n",
      "=================================================================\n",
      "input_5 (InputLayer)         [(None, 10)]              0         \n",
      "_________________________________________________________________\n",
      "dense_10 (Dense)             (None, 3136)              34496     \n",
      "_________________________________________________________________\n",
      "reshape_1 (Reshape)          (None, 7, 7, 64)          0         \n",
      "_________________________________________________________________\n",
      "conv2d_8 (Conv2D)            (None, 7, 7, 64)          36928     \n",
      "_________________________________________________________________\n",
      "up_sampling2d_2 (UpSampling2 (None, 14, 14, 64)        0         \n",
      "_________________________________________________________________\n",
      "conv2d_9 (Conv2D)            (None, 14, 14, 32)        18464     \n",
      "_________________________________________________________________\n",
      "up_sampling2d_3 (UpSampling2 (None, 28, 28, 32)        0         \n",
      "_________________________________________________________________\n",
      "conv2d_10 (Conv2D)           (None, 28, 28, 1)         289       \n",
      "=================================================================\n",
      "Total params: 90,177\n",
      "Trainable params: 90,177\n",
      "Non-trainable params: 0\n",
      "_________________________________________________________________\n"
     ]
    }
   ],
   "source": [
    "decoder = Decoder(10)\n",
    "decoder.summary()"
   ]
  },
  {
   "cell_type": "code",
   "execution_count": 23,
   "id": "af808f54-6640-4e82-95af-f18b2031a443",
   "metadata": {},
   "outputs": [],
   "source": [
    "class Autoencoder:\n",
    "    def __init__(self, z_dim):\n",
    "        self.encoder = Encoder(z_dim)\n",
    "        self.decoder = Decoder(z_dim)\n",
    "        \n",
    "        model_input = self.encoder.input\n",
    "        model_output = self.decoder(self.encoder.output)\n",
    "        self.model = keras.Model(model_input, model_output)"
   ]
  },
  {
   "cell_type": "code",
   "execution_count": 24,
   "id": "415e2818-31a6-4c33-bbae-85e19cc699ba",
   "metadata": {},
   "outputs": [],
   "source": [
    "autoencoder = Autoencoder(z_dim=10)"
   ]
  },
  {
   "cell_type": "code",
   "execution_count": 26,
   "id": "adcd695f-ac94-4293-9955-698f4baa38f9",
   "metadata": {},
   "outputs": [
    {
     "name": "stdout",
     "output_type": "stream",
     "text": [
      "Model: \"model_1\"\n",
      "_________________________________________________________________\n",
      "Layer (type)                 Output Shape              Param #   \n",
      "=================================================================\n",
      "input_8 (InputLayer)         [(None, 28, 28, 1)]       0         \n",
      "_________________________________________________________________\n",
      "conv2d_18 (Conv2D)           (None, 14, 14, 8)         80        \n",
      "_________________________________________________________________\n",
      "conv2d_19 (Conv2D)           (None, 14, 14, 8)         584       \n",
      "_________________________________________________________________\n",
      "conv2d_20 (Conv2D)           (None, 7, 7, 8)           584       \n",
      "_________________________________________________________________\n",
      "conv2d_21 (Conv2D)           (None, 7, 7, 8)           584       \n",
      "_________________________________________________________________\n",
      "flatten_4 (Flatten)          (None, 392)               0         \n",
      "_________________________________________________________________\n",
      "dense_13 (Dense)             (None, 10)                3930      \n",
      "_________________________________________________________________\n",
      "decoder (Model)              (None, 28, 28, 1)         90177     \n",
      "=================================================================\n",
      "Total params: 95,939\n",
      "Trainable params: 95,939\n",
      "Non-trainable params: 0\n",
      "_________________________________________________________________\n"
     ]
    }
   ],
   "source": [
    "autoencoder.model.summary()"
   ]
  },
  {
   "cell_type": "code",
   "execution_count": 27,
   "id": "24770aef-4402-49bf-ae3d-c7b3a4a1e35f",
   "metadata": {},
   "outputs": [],
   "source": [
    "checkpoint = keras.callbacks.ModelCheckpoint('autoencoder.h5', monitor='val_loss', verbose=1,\n",
    "                                             save_best_only=True, mode='auto', save_weights_only=False)\n",
    "\n",
    "early = keras.callbacks.EarlyStopping(monitor='val_loss', mode='auto', patience=5)\n",
    "\n",
    "callbacks_list = [checkpoint, early]\n",
    "\n",
    "autoencoder.model.compile(loss='mse', optimizer=keras.optimizers.RMSprop(learning_rate=3e-4))"
   ]
  },
  {
   "cell_type": "code",
   "execution_count": null,
   "id": "d96ba2cf-8076-428f-8bb7-6a54fca3b74e",
   "metadata": {},
   "outputs": [],
   "source": [
    "autoencoder.model.fit(ds_train, validation_data=ds_test, epochs=100, callbacks=callbacks_list)"
   ]
  }
 ],
 "metadata": {
  "kernelspec": {
   "display_name": "Python 3 (ipykernel)",
   "language": "python",
   "name": "python3"
  },
  "language_info": {
   "codemirror_mode": {
    "name": "ipython",
    "version": 3
   },
   "file_extension": ".py",
   "mimetype": "text/x-python",
   "name": "python",
   "nbconvert_exporter": "python",
   "pygments_lexer": "ipython3",
   "version": "3.7.7"
  }
 },
 "nbformat": 4,
 "nbformat_minor": 5
}
