{
 "cells": [
  {
   "cell_type": "code",
   "execution_count": 1,
   "id": "b6469fc7-74b4-4b15-8410-f2558383d720",
   "metadata": {
    "id": "b6469fc7-74b4-4b15-8410-f2558383d720"
   },
   "outputs": [],
   "source": [
    "import tensorflow as tf\n",
    "import tensorflow_datasets as tfds\n",
    "import numpy as np\n",
    "import matplotlib.pyplot as plt\n",
    "from tensorflow import keras\n",
    "from tensorflow.keras import layers"
   ]
  },
  {
   "cell_type": "code",
   "execution_count": 2,
   "id": "1b772aa8-d20b-45bd-9acf-c93e7ead7cab",
   "metadata": {
    "colab": {
     "base_uri": "https://localhost:8080/",
     "height": 208,
     "referenced_widgets": [
      "9de137ee93df4d039d3f4837379fefb6",
      "ba7aeb5444244267ad952498adbc0641",
      "0ac7e7571ecc487985244cb12d271a5a",
      "508d49742c034c81adf3d0ecb3b5d478",
      "1cfb1bce79294e8eaea801213797013a",
      "13b68bfe238d4a4da9aceac4a83e7164",
      "38f1ef9c88104d91a48104a95263805c",
      "001a7984130c4de4a128f1651ec97724",
      "084d92848a6a48c4bed98d38418355dd",
      "5ecb7491e57b484eb9a73209ea1aa15d",
      "8bb0f41ce57246308d4db9341ed5cc4a"
     ]
    },
    "id": "1b772aa8-d20b-45bd-9acf-c93e7ead7cab",
    "outputId": "8d1bda95-19c1-428a-cad5-84df313c3a03",
    "scrolled": true,
    "tags": []
   },
   "outputs": [
    {
     "name": "stdout",
     "output_type": "stream",
     "text": [
      "\u001b[1mDownloading and preparing dataset mnist/3.0.1 (download: 11.06 MiB, generated: 21.00 MiB, total: 32.06 MiB) to /root/tensorflow_datasets/mnist/3.0.1...\u001b[0m\n"
     ]
    },
    {
     "name": "stderr",
     "output_type": "stream",
     "text": [
      "WARNING:absl:Dataset mnist is hosted on GCS. It will automatically be downloaded to your\n",
      "local data directory. If you'd instead prefer to read directly from our public\n",
      "GCS bucket (recommended if you're running on GCP), you can instead pass\n",
      "`try_gcs=True` to `tfds.load` or set `data_dir=gs://tfds-data/datasets`.\n",
      "\n"
     ]
    },
    {
     "data": {
      "application/vnd.jupyter.widget-view+json": {
       "model_id": "9de137ee93df4d039d3f4837379fefb6",
       "version_major": 2,
       "version_minor": 0
      },
      "text/plain": [
       "Dl Completed...:   0%|          | 0/4 [00:00<?, ? file/s]"
      ]
     },
     "metadata": {},
     "output_type": "display_data"
    },
    {
     "name": "stdout",
     "output_type": "stream",
     "text": [
      "\n",
      "\u001b[1mDataset mnist downloaded and prepared to /root/tensorflow_datasets/mnist/3.0.1. Subsequent calls will reuse this data.\u001b[0m\n"
     ]
    }
   ],
   "source": [
    "(ds_train, ds_test), ds_info = tfds.load('mnist', split=['test','test'], \n",
    "                                         shuffle_files=True, as_supervised=True, with_info=True)"
   ]
  },
  {
   "cell_type": "code",
   "execution_count": 3,
   "id": "979d13f3-5acd-46d5-8f98-b874727b3a27",
   "metadata": {
    "id": "979d13f3-5acd-46d5-8f98-b874727b3a27"
   },
   "outputs": [],
   "source": [
    "def binarize(image, label):\n",
    "    image = tf.cast(image, tf.float32)\n",
    "    image = tf.math.round(image/255.)\n",
    "    return image, tf.cast(image, tf.int32)"
   ]
  },
  {
   "cell_type": "code",
   "execution_count": 4,
   "id": "841b7489-c17f-4a09-9881-98f50c3ee126",
   "metadata": {
    "id": "841b7489-c17f-4a09-9881-98f50c3ee126"
   },
   "outputs": [],
   "source": [
    "ds_train = ds_train.map(binarize)\n",
    "ds_train = ds_train.cache()\n",
    "ds_train = ds_train.shuffle(ds_info.splits['train'].num_examples)\n",
    "ds_train = ds_train.batch(64)\n",
    "ds_test = ds_test.map(binarize).batch(64).cache().prefetch(64)"
   ]
  },
  {
   "cell_type": "code",
   "execution_count": 5,
   "id": "2ddb1e3d-08ed-495c-8557-ed794d5dd87a",
   "metadata": {
    "id": "2ddb1e3d-08ed-495c-8557-ed794d5dd87a"
   },
   "outputs": [],
   "source": [
    "class MaskedConv2D(tf.keras.layers.Layer):\n",
    "    def __init__(self, mask_type, kernel=5, filters=1):\n",
    "        super(MaskedConv2D, self).__init__()\n",
    "        self.kernel = kernel\n",
    "        self.mask_type = mask_type\n",
    "        self.filters = filters\n",
    "        \n",
    "        \n",
    "    def build(self, input_shape):\n",
    "        self.w = self.add_weight(shape=[self.kernel,\n",
    "                                        self.kernel,\n",
    "                                        input_shape[-1],\n",
    "                                        self.filters],\n",
    "                                 initializer='glorot_normal',\n",
    "                                 trainable=True)\n",
    "        \n",
    "        self.b = self.add_weight(shape=(self.filters,),\n",
    "                                 initializer='zeros',\n",
    "                                 trainable=True)\n",
    "        \n",
    "        mask = np.ones(self.kernel**2, dtype=np.float32)\n",
    "        center = len(mask)//2\n",
    "        mask[center+1:] = 0\n",
    "        if self.mask_type == 'A':\n",
    "            mask[center] = 0\n",
    "        mask = mask.reshape((self.kernel, self.kernel, 1, 1))\n",
    "        self.mask = tf.constant(mask, dtype='float32')\n",
    "        \n",
    "    def call(self, inputs):\n",
    "        masked_w = tf.math.multiply(self.w, self.mask)\n",
    "        output = tf.nn.conv2d(inputs, masked_w, 1, 'SAME') + self.b\n",
    "        return tf.nn.relu(output)"
   ]
  },
  {
   "cell_type": "code",
   "execution_count": 6,
   "id": "468cdb4d-ee94-44d1-9de3-264f7c963bf6",
   "metadata": {
    "id": "468cdb4d-ee94-44d1-9de3-264f7c963bf6"
   },
   "outputs": [],
   "source": [
    "class ResidualBlock(layers.Layer):\n",
    "    def __init__(self, h=32):\n",
    "        super(ResidualBlock, self).__init__()\n",
    "        self.forward = keras.Sequential([\n",
    "            MaskedConv2D('B', kernel=1, filters=h),\n",
    "            MaskedConv2D('B', kernel=3, filters=h),\n",
    "            MaskedConv2D('B', kernel=1, filters=2*h)])\n",
    "    def call(self, inputs):\n",
    "        x = self.forward(inputs)\n",
    "        return x + inputs"
   ]
  },
  {
   "cell_type": "code",
   "execution_count": 7,
   "id": "5766210d-229d-4c30-b226-3f22788ca6c1",
   "metadata": {
    "id": "5766210d-229d-4c30-b226-3f22788ca6c1"
   },
   "outputs": [],
   "source": [
    "def SimplePixelCNN(hidden_features=64,\n",
    "                   output_features=64,\n",
    "                   resblocks_num=7):\n",
    "    inputs = layers.Input(shape=[28,28,1])\n",
    "    x = inputs\n",
    "    x = MaskedConv2D('A', kernel=7, filters=2*hidden_features)(x)\n",
    "    for _ in range(resblocks_num):\n",
    "        x = ResidualBlock(hidden_features)(x)\n",
    "    x = layers.Conv2D(output_features, (1,1), padding='same', activation='relu')(x)\n",
    "    x = layers.Conv2D(1, (1,1), padding='same', activation='sigmoid')(x)\n",
    "    \n",
    "    return tf.keras.Model(inputs=inputs, outputs=x, name='PixelCNN')"
   ]
  },
  {
   "cell_type": "code",
   "execution_count": 8,
   "id": "defd53db-d572-46f3-8ea6-548115642a0f",
   "metadata": {
    "colab": {
     "base_uri": "https://localhost:8080/"
    },
    "id": "defd53db-d572-46f3-8ea6-548115642a0f",
    "outputId": "4b3b52a5-df77-45a5-9d98-5995053a4001"
   },
   "outputs": [
    {
     "name": "stdout",
     "output_type": "stream",
     "text": [
      "Model: \"PixelCNN\"\n",
      "_________________________________________________________________\n",
      " Layer (type)                Output Shape              Param #   \n",
      "=================================================================\n",
      " input_1 (InputLayer)        [(None, 28, 28, 1)]       0         \n",
      "                                                                 \n",
      " masked_conv2d (MaskedConv2D  (None, 28, 28, 128)      6400      \n",
      " )                                                               \n",
      "                                                                 \n",
      " residual_block (ResidualBlo  (None, 28, 28, 128)      53504     \n",
      " ck)                                                             \n",
      "                                                                 \n",
      " residual_block_1 (ResidualB  (None, 28, 28, 128)      53504     \n",
      " lock)                                                           \n",
      "                                                                 \n",
      " residual_block_2 (ResidualB  (None, 28, 28, 128)      53504     \n",
      " lock)                                                           \n",
      "                                                                 \n",
      " residual_block_3 (ResidualB  (None, 28, 28, 128)      53504     \n",
      " lock)                                                           \n",
      "                                                                 \n",
      " residual_block_4 (ResidualB  (None, 28, 28, 128)      53504     \n",
      " lock)                                                           \n",
      "                                                                 \n",
      " residual_block_5 (ResidualB  (None, 28, 28, 128)      53504     \n",
      " lock)                                                           \n",
      "                                                                 \n",
      " residual_block_6 (ResidualB  (None, 28, 28, 128)      53504     \n",
      " lock)                                                           \n",
      "                                                                 \n",
      " conv2d (Conv2D)             (None, 28, 28, 64)        8256      \n",
      "                                                                 \n",
      " conv2d_1 (Conv2D)           (None, 28, 28, 1)         65        \n",
      "                                                                 \n",
      "=================================================================\n",
      "Total params: 389,249\n",
      "Trainable params: 389,249\n",
      "Non-trainable params: 0\n",
      "_________________________________________________________________\n"
     ]
    }
   ],
   "source": [
    "pixel_cnn = SimplePixelCNN()\n",
    "pixel_cnn.summary()"
   ]
  },
  {
   "cell_type": "code",
   "execution_count": 9,
   "id": "9abb1e9e-0586-412e-a303-e4867a2f553c",
   "metadata": {
    "id": "9abb1e9e-0586-412e-a303-e4867a2f553c"
   },
   "outputs": [],
   "source": [
    "pixel_cnn.compile(loss=tf.keras.losses.BinaryCrossentropy(),\n",
    "                  optimizer=tf.keras.optimizers.RMSprop(learning_rate=0.001),\n",
    "                  metrics=[tf.keras.metrics.BinaryCrossentropy()])"
   ]
  },
  {
   "cell_type": "code",
   "execution_count": 11,
   "id": "32b621d2-ee29-4323-962e-1504ffa2accd",
   "metadata": {
    "colab": {
     "base_uri": "https://localhost:8080/"
    },
    "id": "32b621d2-ee29-4323-962e-1504ffa2accd",
    "outputId": "d71215d7-d2a3-4a94-f6d8-0399ff493165"
   },
   "outputs": [
    {
     "name": "stdout",
     "output_type": "stream",
     "text": [
      "Epoch 1/50\n",
      "157/157 [==============================] - 32s 203ms/step - loss: 0.1099 - binary_crossentropy: 0.1099 - val_loss: 0.1001 - val_binary_crossentropy: 0.1001\n",
      "Epoch 2/50\n",
      "157/157 [==============================] - 31s 196ms/step - loss: 0.1006 - binary_crossentropy: 0.1006 - val_loss: 0.1063 - val_binary_crossentropy: 0.1063\n",
      "Epoch 3/50\n",
      "157/157 [==============================] - 31s 196ms/step - loss: 0.0963 - binary_crossentropy: 0.0963 - val_loss: 0.0948 - val_binary_crossentropy: 0.0948\n",
      "Epoch 4/50\n",
      "157/157 [==============================] - 31s 196ms/step - loss: 0.0931 - binary_crossentropy: 0.0931 - val_loss: 0.0931 - val_binary_crossentropy: 0.0931\n",
      "Epoch 5/50\n",
      "157/157 [==============================] - 31s 196ms/step - loss: 0.0916 - binary_crossentropy: 0.0916 - val_loss: 0.0909 - val_binary_crossentropy: 0.0909\n",
      "Epoch 6/50\n",
      "157/157 [==============================] - 31s 196ms/step - loss: 0.0902 - binary_crossentropy: 0.0902 - val_loss: 0.0889 - val_binary_crossentropy: 0.0889\n",
      "Epoch 7/50\n",
      "157/157 [==============================] - 31s 195ms/step - loss: 0.0893 - binary_crossentropy: 0.0893 - val_loss: 0.0878 - val_binary_crossentropy: 0.0878\n",
      "Epoch 8/50\n",
      "157/157 [==============================] - 31s 196ms/step - loss: 0.0885 - binary_crossentropy: 0.0885 - val_loss: 0.0914 - val_binary_crossentropy: 0.0914\n",
      "Epoch 9/50\n",
      "157/157 [==============================] - 31s 196ms/step - loss: 0.0878 - binary_crossentropy: 0.0878 - val_loss: 0.0872 - val_binary_crossentropy: 0.0872\n",
      "Epoch 10/50\n",
      "157/157 [==============================] - 32s 202ms/step - loss: 0.0872 - binary_crossentropy: 0.0872 - val_loss: 0.0904 - val_binary_crossentropy: 0.0904\n",
      "Epoch 11/50\n",
      "157/157 [==============================] - 31s 196ms/step - loss: 0.0867 - binary_crossentropy: 0.0867 - val_loss: 0.0879 - val_binary_crossentropy: 0.0879\n",
      "Epoch 12/50\n",
      "157/157 [==============================] - 31s 196ms/step - loss: 0.0863 - binary_crossentropy: 0.0863 - val_loss: 0.0865 - val_binary_crossentropy: 0.0865\n",
      "Epoch 13/50\n",
      "157/157 [==============================] - 31s 198ms/step - loss: 0.0858 - binary_crossentropy: 0.0858 - val_loss: 0.0860 - val_binary_crossentropy: 0.0860\n",
      "Epoch 14/50\n",
      "157/157 [==============================] - 31s 199ms/step - loss: 0.0855 - binary_crossentropy: 0.0855 - val_loss: 0.0852 - val_binary_crossentropy: 0.0852\n",
      "Epoch 15/50\n",
      "157/157 [==============================] - 31s 197ms/step - loss: 0.0851 - binary_crossentropy: 0.0851 - val_loss: 0.0848 - val_binary_crossentropy: 0.0848\n",
      "Epoch 16/50\n",
      "157/157 [==============================] - 31s 198ms/step - loss: 0.0847 - binary_crossentropy: 0.0847 - val_loss: 0.0851 - val_binary_crossentropy: 0.0851\n",
      "Epoch 17/50\n",
      "157/157 [==============================] - 31s 196ms/step - loss: 0.0845 - binary_crossentropy: 0.0845 - val_loss: 0.0850 - val_binary_crossentropy: 0.0850\n",
      "Epoch 18/50\n",
      "157/157 [==============================] - 31s 197ms/step - loss: 0.0841 - binary_crossentropy: 0.0841 - val_loss: 0.0841 - val_binary_crossentropy: 0.0841\n",
      "Epoch 19/50\n",
      "157/157 [==============================] - 31s 197ms/step - loss: 0.0839 - binary_crossentropy: 0.0839 - val_loss: 0.0839 - val_binary_crossentropy: 0.0839\n",
      "Epoch 20/50\n",
      "157/157 [==============================] - 31s 199ms/step - loss: 0.0835 - binary_crossentropy: 0.0835 - val_loss: 0.0833 - val_binary_crossentropy: 0.0833\n",
      "Epoch 21/50\n",
      "157/157 [==============================] - 31s 196ms/step - loss: 0.0833 - binary_crossentropy: 0.0833 - val_loss: 0.0839 - val_binary_crossentropy: 0.0839\n",
      "Epoch 22/50\n",
      "157/157 [==============================] - 31s 195ms/step - loss: 0.0830 - binary_crossentropy: 0.0830 - val_loss: 0.0830 - val_binary_crossentropy: 0.0830\n",
      "Epoch 23/50\n",
      "157/157 [==============================] - 31s 196ms/step - loss: 0.0827 - binary_crossentropy: 0.0827 - val_loss: 0.0853 - val_binary_crossentropy: 0.0853\n",
      "Epoch 24/50\n",
      "157/157 [==============================] - 31s 195ms/step - loss: 0.0824 - binary_crossentropy: 0.0824 - val_loss: 0.0831 - val_binary_crossentropy: 0.0831\n",
      "Epoch 25/50\n",
      "157/157 [==============================] - 31s 197ms/step - loss: 0.0822 - binary_crossentropy: 0.0822 - val_loss: 0.0818 - val_binary_crossentropy: 0.0818\n",
      "Epoch 26/50\n",
      "157/157 [==============================] - 31s 197ms/step - loss: 0.0820 - binary_crossentropy: 0.0820 - val_loss: 0.0824 - val_binary_crossentropy: 0.0824\n",
      "Epoch 27/50\n",
      "157/157 [==============================] - 31s 195ms/step - loss: 0.0817 - binary_crossentropy: 0.0817 - val_loss: 0.0817 - val_binary_crossentropy: 0.0817\n",
      "Epoch 28/50\n",
      "157/157 [==============================] - 31s 196ms/step - loss: 0.0814 - binary_crossentropy: 0.0814 - val_loss: 0.0815 - val_binary_crossentropy: 0.0815\n",
      "Epoch 29/50\n",
      "157/157 [==============================] - 31s 198ms/step - loss: 0.0812 - binary_crossentropy: 0.0812 - val_loss: 0.0812 - val_binary_crossentropy: 0.0812\n",
      "Epoch 30/50\n",
      "157/157 [==============================] - 31s 195ms/step - loss: 0.0809 - binary_crossentropy: 0.0809 - val_loss: 0.0807 - val_binary_crossentropy: 0.0807\n",
      "Epoch 31/50\n",
      "157/157 [==============================] - 31s 197ms/step - loss: 0.0807 - binary_crossentropy: 0.0807 - val_loss: 0.0806 - val_binary_crossentropy: 0.0806\n",
      "Epoch 32/50\n",
      "157/157 [==============================] - 31s 197ms/step - loss: 0.0804 - binary_crossentropy: 0.0804 - val_loss: 0.0823 - val_binary_crossentropy: 0.0823\n",
      "Epoch 33/50\n",
      "157/157 [==============================] - 31s 196ms/step - loss: 0.0801 - binary_crossentropy: 0.0801 - val_loss: 0.0827 - val_binary_crossentropy: 0.0827\n",
      "Epoch 34/50\n",
      "157/157 [==============================] - 31s 198ms/step - loss: 0.0798 - binary_crossentropy: 0.0798 - val_loss: 0.0800 - val_binary_crossentropy: 0.0800\n",
      "Epoch 35/50\n",
      "157/157 [==============================] - 31s 195ms/step - loss: 0.0796 - binary_crossentropy: 0.0796 - val_loss: 0.0827 - val_binary_crossentropy: 0.0827\n",
      "Epoch 36/50\n",
      "157/157 [==============================] - 31s 197ms/step - loss: 0.0794 - binary_crossentropy: 0.0794 - val_loss: 0.0814 - val_binary_crossentropy: 0.0814\n",
      "Epoch 37/50\n",
      "157/157 [==============================] - 31s 196ms/step - loss: 0.0792 - binary_crossentropy: 0.0792 - val_loss: 0.0796 - val_binary_crossentropy: 0.0796\n",
      "Epoch 38/50\n",
      "157/157 [==============================] - 31s 196ms/step - loss: 0.0789 - binary_crossentropy: 0.0789 - val_loss: 0.0798 - val_binary_crossentropy: 0.0798\n",
      "Epoch 39/50\n",
      "157/157 [==============================] - 31s 197ms/step - loss: 0.0786 - binary_crossentropy: 0.0786 - val_loss: 0.0794 - val_binary_crossentropy: 0.0794\n",
      "Epoch 40/50\n",
      "157/157 [==============================] - 31s 196ms/step - loss: 0.0784 - binary_crossentropy: 0.0784 - val_loss: 0.0792 - val_binary_crossentropy: 0.0792\n",
      "Epoch 41/50\n",
      "157/157 [==============================] - 31s 197ms/step - loss: 0.0782 - binary_crossentropy: 0.0782 - val_loss: 0.0789 - val_binary_crossentropy: 0.0789\n",
      "Epoch 42/50\n",
      "157/157 [==============================] - 31s 195ms/step - loss: 0.0779 - binary_crossentropy: 0.0779 - val_loss: 0.0789 - val_binary_crossentropy: 0.0789\n",
      "Epoch 43/50\n",
      "157/157 [==============================] - 31s 196ms/step - loss: 0.0777 - binary_crossentropy: 0.0777 - val_loss: 0.0775 - val_binary_crossentropy: 0.0775\n",
      "Epoch 44/50\n",
      "157/157 [==============================] - 31s 197ms/step - loss: 0.0775 - binary_crossentropy: 0.0775 - val_loss: 0.0779 - val_binary_crossentropy: 0.0779\n",
      "Epoch 45/50\n",
      "157/157 [==============================] - 31s 195ms/step - loss: 0.0772 - binary_crossentropy: 0.0772 - val_loss: 0.0786 - val_binary_crossentropy: 0.0786\n",
      "Epoch 46/50\n",
      "157/157 [==============================] - 31s 196ms/step - loss: 0.0770 - binary_crossentropy: 0.0770 - val_loss: 0.0775 - val_binary_crossentropy: 0.0775\n",
      "Epoch 47/50\n",
      "157/157 [==============================] - 31s 196ms/step - loss: 0.0768 - binary_crossentropy: 0.0768 - val_loss: 0.0774 - val_binary_crossentropy: 0.0774\n",
      "Epoch 48/50\n",
      "157/157 [==============================] - 31s 195ms/step - loss: 0.0765 - binary_crossentropy: 0.0765 - val_loss: 0.0770 - val_binary_crossentropy: 0.0770\n",
      "Epoch 49/50\n",
      "157/157 [==============================] - 31s 198ms/step - loss: 0.0763 - binary_crossentropy: 0.0763 - val_loss: 0.0784 - val_binary_crossentropy: 0.0784\n",
      "Epoch 50/50\n",
      "157/157 [==============================] - 31s 195ms/step - loss: 0.0761 - binary_crossentropy: 0.0761 - val_loss: 0.0763 - val_binary_crossentropy: 0.0763\n"
     ]
    },
    {
     "data": {
      "text/plain": [
       "<keras.callbacks.History at 0x7f38a0d6c790>"
      ]
     },
     "execution_count": 11,
     "metadata": {},
     "output_type": "execute_result"
    }
   ],
   "source": [
    "pixel_cnn.fit(ds_train, epochs=50, validation_data=ds_test)"
   ]
  },
  {
   "cell_type": "code",
   "execution_count": 13,
   "id": "465246f0-a207-4d47-9efc-17e81997d1b8",
   "metadata": {
    "id": "465246f0-a207-4d47-9efc-17e81997d1b8"
   },
   "outputs": [],
   "source": [
    "grid_row = 5\n",
    "grid_col = 5\n",
    "batch = grid_row * grid_col\n",
    "h = w = 28\n",
    "images = np.ones((batch, h, w, 1), dtype=np.float32)\n",
    "\n",
    "for row in range(h):\n",
    "    for col in range(w):\n",
    "        prob = pixel_cnn.predict(images)[:, row, col, 0]\n",
    "        pixel_samples = tf.random.categorical(tf.math.log(np.stack([1-prob,prob],1)),1)\n",
    "        images[:, row, col, 0] = tf.reshape(pixel_samples, [batch])"
   ]
  },
  {
   "cell_type": "code",
   "execution_count": 14,
   "id": "b85edbb9-1776-4798-8142-ce3e5eb63170",
   "metadata": {
    "colab": {
     "base_uri": "https://localhost:8080/",
     "height": 424
    },
    "id": "b85edbb9-1776-4798-8142-ce3e5eb63170",
    "outputId": "23a2bc91-bf9f-4e59-8ea5-3c6ec877d5ea"
   },
   "outputs": [
    {
     "name": "stderr",
     "output_type": "stream",
     "text": [
      "/usr/local/lib/python3.7/dist-packages/ipykernel_launcher.py:9: MatplotlibDeprecationWarning: The 'renderer' parameter of tight_layout() is deprecated since Matplotlib 3.2 and will be removed two minor releases later.  If any parameter follows 'renderer', they should be pass as keyword, not positionally.\n",
      "  if __name__ == '__main__':\n"
     ]
    },
    {
     "data": {
      "image/png": "[encoded data removed]",
      "text/plain": [
       "<Figure size 396x360 with 25 Axes>"
      ]
     },
     "metadata": {
      "needs_background": "light"
     },
     "output_type": "display_data"
    }
   ],
   "source": [
    "f, axarr = plt.subplots(grid_row, grid_col, figsize=(grid_col*1.1, grid_row))\n",
    "\n",
    "i = 0\n",
    "for row in range(grid_row):\n",
    "    for col in range(grid_col):\n",
    "        axarr[row,col].imshow(images[i,:,:,0], cmap='gray')\n",
    "        axarr[row,col].axis('off')\n",
    "        i += 1\n",
    "f.tight_layout(0.1, h_pad=0.2, w_pad=0.1)\n",
    "plt.show()"
   ]
  }
 ],
 "metadata": {
  "accelerator": "GPU",
  "colab": {
   "collapsed_sections": [],
   "name": "PixelCNN.ipynb",
   "provenance": []
  },
  "kernelspec": {
   "display_name": "Python 3 (ipykernel)",
   "language": "python",
   "name": "python3"
  },
  "language_info": {
   "codemirror_mode": {
    "name": "ipython",
    "version": 3
   },
   "file_extension": ".py",
   "mimetype": "text/x-python",
   "name": "python",
   "nbconvert_exporter": "python",
   "pygments_lexer": "ipython3",
   "version": "3.7.7"
  },
  "widgets": {
   "application/vnd.jupyter.widget-state+json": {
    "001a7984130c4de4a128f1651ec97724": {
     "model_module": "@jupyter-widgets/controls",
     "model_module_version": "1.5.0",
     "model_name": "ProgressStyleModel",
     "state": {
      "_model_module": "@jupyter-widgets/controls",
      "_model_module_version": "1.5.0",
      "_model_name": "ProgressStyleModel",
      "_view_count": null,
      "_view_module": "@jupyter-widgets/base",
      "_view_module_version": "1.2.0",
      "_view_name": "StyleView",
      "bar_color": null,
      "description_width": ""
     }
    },
    "084d92848a6a48c4bed98d38418355dd": {
     "model_module": "@jupyter-widgets/base",
     "model_module_version": "1.2.0",
     "model_name": "LayoutModel",
     "state": {
      "_model_module": "@jupyter-widgets/base",
      "_model_module_version": "1.2.0",
      "_model_name": "LayoutModel",
      "_view_count": null,
      "_view_module": "@jupyter-widgets/base",
      "_view_module_version": "1.2.0",
      "_view_name": "LayoutView",
      "align_content": null,
      "align_items": null,
      "align_self": null,
      "border": null,
      "bottom": null,
      "display": null,
      "flex": null,
      "flex_flow": null,
      "grid_area": null,
      "grid_auto_columns": null,
      "grid_auto_flow": null,
      "grid_auto_rows": null,
      "grid_column": null,
      "grid_gap": null,
      "grid_row": null,
      "grid_template_areas": null,
      "grid_template_columns": null,
      "grid_template_rows": null,
      "height": null,
      "justify_content": null,
      "justify_items": null,
      "left": null,
      "margin": null,
      "max_height": null,
      "max_width": null,
      "min_height": null,
      "min_width": null,
      "object_fit": null,
      "object_position": null,
      "order": null,
      "overflow": null,
      "overflow_x": null,
      "overflow_y": null,
      "padding": null,
      "right": null,
      "top": null,
      "visibility": null,
      "width": null
     }
    },
    "0ac7e7571ecc487985244cb12d271a5a": {
     "model_module": "@jupyter-widgets/controls",
     "model_module_version": "1.5.0",
     "model_name": "HTMLModel",
     "state": {
      "_dom_classes": [],
      "_model_module": "@jupyter-widgets/controls",
      "_model_module_version": "1.5.0",
      "_model_name": "HTMLModel",
      "_view_count": null,
      "_view_module": "@jupyter-widgets/controls",
      "_view_module_version": "1.5.0",
      "_view_name": "HTMLView",
      "description": "",
      "description_tooltip": null,
      "layout": "IPY_MODEL_38f1ef9c88104d91a48104a95263805c",
      "placeholder": "​",
      "style": "IPY_MODEL_13b68bfe238d4a4da9aceac4a83e7164",
      "value": "Dl Completed...: 100%"
     }
    },
    "13b68bfe238d4a4da9aceac4a83e7164": {
     "model_module": "@jupyter-widgets/controls",
     "model_module_version": "1.5.0",
     "model_name": "DescriptionStyleModel",
     "state": {
      "_model_module": "@jupyter-widgets/controls",
      "_model_module_version": "1.5.0",
      "_model_name": "DescriptionStyleModel",
      "_view_count": null,
      "_view_module": "@jupyter-widgets/base",
      "_view_module_version": "1.2.0",
      "_view_name": "StyleView",
      "description_width": ""
     }
    },
    "1cfb1bce79294e8eaea801213797013a": {
     "model_module": "@jupyter-widgets/controls",
     "model_module_version": "1.5.0",
     "model_name": "HTMLModel",
     "state": {
      "_dom_classes": [],
      "_model_module": "@jupyter-widgets/controls",
      "_model_module_version": "1.5.0",
      "_model_name": "HTMLModel",
      "_view_count": null,
      "_view_module": "@jupyter-widgets/controls",
      "_view_module_version": "1.5.0",
      "_view_name": "HTMLView",
      "description": "",
      "description_tooltip": null,
      "layout": "IPY_MODEL_8bb0f41ce57246308d4db9341ed5cc4a",
      "placeholder": "​",
      "style": "IPY_MODEL_5ecb7491e57b484eb9a73209ea1aa15d",
      "value": " 4/4 [00:00&lt;00:00,  8.82 file/s]"
     }
    },
    "38f1ef9c88104d91a48104a95263805c": {
     "model_module": "@jupyter-widgets/base",
     "model_module_version": "1.2.0",
     "model_name": "LayoutModel",
     "state": {
      "_model_module": "@jupyter-widgets/base",
      "_model_module_version": "1.2.0",
      "_model_name": "LayoutModel",
      "_view_count": null,
      "_view_module": "@jupyter-widgets/base",
      "_view_module_version": "1.2.0",
      "_view_name": "LayoutView",
      "align_content": null,
      "align_items": null,
      "align_self": null,
      "border": null,
      "bottom": null,
      "display": null,
      "flex": null,
      "flex_flow": null,
      "grid_area": null,
      "grid_auto_columns": null,
      "grid_auto_flow": null,
      "grid_auto_rows": null,
      "grid_column": null,
      "grid_gap": null,
      "grid_row": null,
      "grid_template_areas": null,
      "grid_template_columns": null,
      "grid_template_rows": null,
      "height": null,
      "justify_content": null,
      "justify_items": null,
      "left": null,
      "margin": null,
      "max_height": null,
      "max_width": null,
      "min_height": null,
      "min_width": null,
      "object_fit": null,
      "object_position": null,
      "order": null,
      "overflow": null,
      "overflow_x": null,
      "overflow_y": null,
      "padding": null,
      "right": null,
      "top": null,
      "visibility": null,
      "width": null
     }
    },
    "508d49742c034c81adf3d0ecb3b5d478": {
     "model_module": "@jupyter-widgets/controls",
     "model_module_version": "1.5.0",
     "model_name": "FloatProgressModel",
     "state": {
      "_dom_classes": [],
      "_model_module": "@jupyter-widgets/controls",
      "_model_module_version": "1.5.0",
      "_model_name": "FloatProgressModel",
      "_view_count": null,
      "_view_module": "@jupyter-widgets/controls",
      "_view_module_version": "1.5.0",
      "_view_name": "ProgressView",
      "bar_style": "success",
      "description": "",
      "description_tooltip": null,
      "layout": "IPY_MODEL_084d92848a6a48c4bed98d38418355dd",
      "max": 4,
      "min": 0,
      "orientation": "horizontal",
      "style": "IPY_MODEL_001a7984130c4de4a128f1651ec97724",
      "value": 4
     }
    },
    "5ecb7491e57b484eb9a73209ea1aa15d": {
     "model_module": "@jupyter-widgets/controls",
     "model_module_version": "1.5.0",
     "model_name": "DescriptionStyleModel",
     "state": {
      "_model_module": "@jupyter-widgets/controls",
      "_model_module_version": "1.5.0",
      "_model_name": "DescriptionStyleModel",
      "_view_count": null,
      "_view_module": "@jupyter-widgets/base",
      "_view_module_version": "1.2.0",
      "_view_name": "StyleView",
      "description_width": ""
     }
    },
    "8bb0f41ce57246308d4db9341ed5cc4a": {
     "model_module": "@jupyter-widgets/base",
     "model_module_version": "1.2.0",
     "model_name": "LayoutModel",
     "state": {
      "_model_module": "@jupyter-widgets/base",
      "_model_module_version": "1.2.0",
      "_model_name": "LayoutModel",
      "_view_count": null,
      "_view_module": "@jupyter-widgets/base",
      "_view_module_version": "1.2.0",
      "_view_name": "LayoutView",
      "align_content": null,
      "align_items": null,
      "align_self": null,
      "border": null,
      "bottom": null,
      "display": null,
      "flex": null,
      "flex_flow": null,
      "grid_area": null,
      "grid_auto_columns": null,
      "grid_auto_flow": null,
      "grid_auto_rows": null,
      "grid_column": null,
      "grid_gap": null,
      "grid_row": null,
      "grid_template_areas": null,
      "grid_template_columns": null,
      "grid_template_rows": null,
      "height": null,
      "justify_content": null,
      "justify_items": null,
      "left": null,
      "margin": null,
      "max_height": null,
      "max_width": null,
      "min_height": null,
      "min_width": null,
      "object_fit": null,
      "object_position": null,
      "order": null,
      "overflow": null,
      "overflow_x": null,
      "overflow_y": null,
      "padding": null,
      "right": null,
      "top": null,
      "visibility": null,
      "width": null
     }
    },
    "9de137ee93df4d039d3f4837379fefb6": {
     "model_module": "@jupyter-widgets/controls",
     "model_module_version": "1.5.0",
     "model_name": "HBoxModel",
     "state": {
      "_dom_classes": [],
      "_model_module": "@jupyter-widgets/controls",
      "_model_module_version": "1.5.0",
      "_model_name": "HBoxModel",
      "_view_count": null,
      "_view_module": "@jupyter-widgets/controls",
      "_view_module_version": "1.5.0",
      "_view_name": "HBoxView",
      "box_style": "",
      "children": [
       "IPY_MODEL_0ac7e7571ecc487985244cb12d271a5a",
       "IPY_MODEL_508d49742c034c81adf3d0ecb3b5d478",
       "IPY_MODEL_1cfb1bce79294e8eaea801213797013a"
      ],
      "layout": "IPY_MODEL_ba7aeb5444244267ad952498adbc0641"
     }
    },
    "ba7aeb5444244267ad952498adbc0641": {
     "model_module": "@jupyter-widgets/base",
     "model_module_version": "1.2.0",
     "model_name": "LayoutModel",
     "state": {
      "_model_module": "@jupyter-widgets/base",
      "_model_module_version": "1.2.0",
      "_model_name": "LayoutModel",
      "_view_count": null,
      "_view_module": "@jupyter-widgets/base",
      "_view_module_version": "1.2.0",
      "_view_name": "LayoutView",
      "align_content": null,
      "align_items": null,
      "align_self": null,
      "border": null,
      "bottom": null,
      "display": null,
      "flex": null,
      "flex_flow": null,
      "grid_area": null,
      "grid_auto_columns": null,
      "grid_auto_flow": null,
      "grid_auto_rows": null,
      "grid_column": null,
      "grid_gap": null,
      "grid_row": null,
      "grid_template_areas": null,
      "grid_template_columns": null,
      "grid_template_rows": null,
      "height": null,
      "justify_content": null,
      "justify_items": null,
      "left": null,
      "margin": null,
      "max_height": null,
      "max_width": null,
      "min_height": null,
      "min_width": null,
      "object_fit": null,
      "object_position": null,
      "order": null,
      "overflow": null,
      "overflow_x": null,
      "overflow_y": null,
      "padding": null,
      "right": null,
      "top": null,
      "visibility": null,
      "width": null
     }
    }
   }
  }
 },
 "nbformat": 4,
 "nbformat_minor": 5
}
