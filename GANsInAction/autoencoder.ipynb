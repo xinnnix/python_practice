{
 "cells": [
  {
   "cell_type": "code",
   "execution_count": null,
   "id": "b6bd3545-221f-4033-aaa5-6864dc7bbc2e",
   "metadata": {},
   "outputs": [],
   "source": [
    "import tensorflow as tf\n",
    "from tensorflow import keras\n",
    "from keras.layers import Input, Dense, Lambda\n",
    "from keras.models import Model\n",
    "from keras import backend as K\n",
    "from keras import metrics\n",
    "from keras.datasets import mnist\n",
    "import numpy as np"
   ]
  },
  {
   "cell_type": "code",
   "execution_count": null,
   "id": "2a701add-79a9-437c-b522-41003542a624",
   "metadata": {},
   "outputs": [],
   "source": [
    "batch_size = 100\n",
    "original_dim = 28*28\n",
    "latent_dim = 2\n",
    "intermediate_dim = 256\n",
    "n_epoch = 5\n",
    "epsilon_std = 1.0"
   ]
  },
  {
   "cell_type": "code",
   "execution_count": null,
   "id": "e968ecf5-ba7c-4b7a-a73c-4398df9a323a",
   "metadata": {},
   "outputs": [],
   "source": [
    "def sampling(args: tuple):\n",
    "    z_mean, z__log_var = args\n",
    "    epsilon = K.random_normal(shape=(K.shape(z_mean)[0], latent_dim), mean=0., stddev=epsilon_std)\n",
    "    return z_mean + K.exp(z_log_var / 2) * epsilon"
   ]
  },
  {
   "cell_type": "code",
   "execution_count": null,
   "id": "7c3287cd-7722-4e67-8a68-59f589c86ac5",
   "metadata": {},
   "outputs": [],
   "source": [
    "x = Input(shape=(original_dim,), name='input')\n",
    "h = Dense(intermediate_dim, activation='relu', name='encoding')(x)\n",
    "z_mean = Dense(latent_dim, name='mean')(h)\n",
    "z_log_var = Dense(latent_dim, name='log-variance')(h)\n",
    "z = Lambda(sampling, output_shape=(latent_dim,))([z_mean, z_log_var])\n",
    "encoder = Model(x, [z_mean, z_log_var, z], name='encoder')\n",
    "encoder.summary()"
   ]
  },
  {
   "cell_type": "code",
   "execution_count": null,
   "id": "e9fa2ab0-3921-4f86-add5-ec97518d85fd",
   "metadata": {},
   "outputs": [],
   "source": [
    "input_decoder = Input(shape=(latent_dim,),name='input_decoder')\n",
    "decoder_h = Dense(intermediate_dim, activation='relu', name='decoder_h')(input_decoder)\n",
    "x_decoded = Dense(original_dim, activation='sigmoid', name='flat_decoded')(decoder_h)\n",
    "decoder = Model(input_decoder, x_decoded, name='decoder')"
   ]
  },
  {
   "cell_type": "code",
   "execution_count": null,
   "id": "81dbc8a2-2cb5-4fed-90a5-ea25818a7c03",
   "metadata": {},
   "outputs": [],
   "source": [
    "output_combined = decoder(encoder(x)[2])\n",
    "vae = Model(x, output_combined)\n",
    "vae.summary()"
   ]
  },
  {
   "cell_type": "code",
   "execution_count": null,
   "id": "3f2eb9c1-e0ab-47f9-bcc9-8c612c317fea",
   "metadata": {},
   "outputs": [],
   "source": [
    "def vae_loss(x, x_decoded_mean, z_log_var, z_mean, original_dim=original_dim):\n",
    "    xent_loss = original_dim * metrics.binary_crossentropy(x, x_decoded_mean)\n",
    "    kl_loss = -0.5 * K.sum(1+z_log_var - K.square(z_mean) - K.exp(z_log_var), axis=-1)\n",
    "    return xent_loss + kl_loss"
   ]
  },
  {
   "cell_type": "code",
   "execution_count": null,
   "id": "4a894d3c-78d9-40be-8832-1e3bd67a1478",
   "metadata": {},
   "outputs": [],
   "source": [
    "vae.compile(optimizer='rmsprop', loss=vae_loss)"
   ]
  },
  {
   "cell_type": "code",
   "execution_count": null,
   "id": "964b3177-6901-439f-8e10-8b838bc5651f",
   "metadata": {},
   "outputs": [],
   "source": []
  }
 ],
 "metadata": {
  "kernelspec": {
   "display_name": "Python 3 (ipykernel)",
   "language": "python",
   "name": "python3"
  },
  "language_info": {
   "codemirror_mode": {
    "name": "ipython",
    "version": 3
   },
   "file_extension": ".py",
   "mimetype": "text/x-python",
   "name": "python",
   "nbconvert_exporter": "python",
   "pygments_lexer": "ipython3",
   "version": "3.9.7"
  }
 },
 "nbformat": 4,
 "nbformat_minor": 5
}
