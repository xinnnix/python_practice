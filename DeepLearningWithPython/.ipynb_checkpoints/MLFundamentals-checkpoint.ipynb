{
 "cells": [
  {
   "cell_type": "code",
   "execution_count": 2,
   "id": "ecb79d72-6338-4462-80a0-9f1ccb7ac4fe",
   "metadata": {},
   "outputs": [],
   "source": [
    "from tensorflow.keras.datasets import mnist\n",
    "import numpy as np"
   ]
  },
  {
   "cell_type": "code",
   "execution_count": 3,
   "id": "ea9d3d70-e79d-4907-abc0-3ee1e8caf5ce",
   "metadata": {},
   "outputs": [],
   "source": [
    "(train_images, train_labels),_=mnist.load_data()"
   ]
  },
  {
   "cell_type": "code",
   "execution_count": 4,
   "id": "9d13e370-aa95-4223-ba35-bd19547da5a0",
   "metadata": {},
   "outputs": [],
   "source": [
    "train_images = train_images.reshape((60000,28*28))\n",
    "train_images = train_images.astype('float32')/255"
   ]
  },
  {
   "cell_type": "code",
   "execution_count": 7,
   "id": "dc7a1869-a0c8-49ae-b27c-5aa122860889",
   "metadata": {},
   "outputs": [],
   "source": [
    "train_images_with_noise_channels = np.concatenate(\n",
    "    [train_images, np.random.random((len(train_images),784))],axis=1)\n",
    "train_images_with_zeros = np.concatenate(\n",
    "    [train_images, np.zeros((len(train_images), 784))], axis=1)"
   ]
  },
  {
   "cell_type": "code",
   "execution_count": 8,
   "id": "6ec74ef5-49c4-45a0-8acf-59d23c232485",
   "metadata": {},
   "outputs": [],
   "source": [
    "from tensorflow import keras\n",
    "from tensorflow.keras import layers"
   ]
  },
  {
   "cell_type": "code",
   "execution_count": 9,
   "id": "97fa83a7-7162-4eec-8f8c-27397fbbc228",
   "metadata": {},
   "outputs": [],
   "source": [
    "def get_model():\n",
    "    model = keras.Sequential([\n",
    "        layers.Dense(512, activation='relu'),\n",
    "        layers.Dense(10, activation='softmax')\n",
    "    ])\n",
    "    \n",
    "    model.compile(optimizer='rmsprop',\n",
    "                  loss='sparse_categorical_crossentropy',\n",
    "                  metrics=['accuracy'])\n",
    "    return model"
   ]
  },
  {
   "cell_type": "code",
   "execution_count": 10,
   "id": "c7eef0f7-f9a3-412d-89ee-3ea573b3cad0",
   "metadata": {},
   "outputs": [
    {
     "name": "stderr",
     "output_type": "stream",
     "text": [
      "2022-02-08 12:41:33.872317: I tensorflow/core/platform/cpu_feature_guard.cc:145] This TensorFlow binary is optimized with Intel(R) MKL-DNN to use the following CPU instructions in performance critical operations:  SSE4.1 SSE4.2 AVX\n",
      "To enable them in non-MKL-DNN operations, rebuild TensorFlow with the appropriate compiler flags.\n",
      "2022-02-08 12:41:33.873341: I tensorflow/core/common_runtime/process_util.cc:115] Creating new thread pool with default inter op setting: 4. Tune using inter_op_parallelism_threads for best performance.\n"
     ]
    },
    {
     "name": "stdout",
     "output_type": "stream",
     "text": [
      "Train on 48000 samples, validate on 12000 samples\n",
      "Epoch 1/10\n",
      "48000/48000 [==============================] - 14s 282us/sample - loss: 0.6288 - accuracy: 0.8104 - val_loss: 0.3245 - val_accuracy: 0.8991\n",
      "Epoch 2/10\n",
      "48000/48000 [==============================] - 13s 263us/sample - loss: 0.2489 - accuracy: 0.9222 - val_loss: 0.1995 - val_accuracy: 0.9383\n",
      "Epoch 3/10\n",
      "48000/48000 [==============================] - 12s 257us/sample - loss: 0.1610 - accuracy: 0.9490 - val_loss: 0.1617 - val_accuracy: 0.9516\n",
      "Epoch 4/10\n",
      "48000/48000 [==============================] - 12s 258us/sample - loss: 0.1150 - accuracy: 0.9640 - val_loss: 0.1435 - val_accuracy: 0.9542\n",
      "Epoch 5/10\n",
      "48000/48000 [==============================] - 12s 253us/sample - loss: 0.0832 - accuracy: 0.9737 - val_loss: 0.1240 - val_accuracy: 0.9632\n",
      "Epoch 6/10\n",
      "48000/48000 [==============================] - 12s 257us/sample - loss: 0.0627 - accuracy: 0.9805 - val_loss: 0.1355 - val_accuracy: 0.9607\n",
      "Epoch 7/10\n",
      "48000/48000 [==============================] - 13s 264us/sample - loss: 0.0482 - accuracy: 0.9845 - val_loss: 0.1761 - val_accuracy: 0.9491\n",
      "Epoch 8/10\n",
      "48000/48000 [==============================] - 12s 259us/sample - loss: 0.0344 - accuracy: 0.9894 - val_loss: 0.1324 - val_accuracy: 0.9656\n",
      "Epoch 9/10\n",
      "48000/48000 [==============================] - 12s 257us/sample - loss: 0.0275 - accuracy: 0.9913 - val_loss: 0.1183 - val_accuracy: 0.9693\n",
      "Epoch 10/10\n",
      "48000/48000 [==============================] - 12s 257us/sample - loss: 0.0199 - accuracy: 0.9937 - val_loss: 0.1424 - val_accuracy: 0.9657\n",
      "Train on 48000 samples, validate on 12000 samples\n",
      "Epoch 1/10\n",
      "48000/48000 [==============================] - 14s 286us/sample - loss: 0.2902 - accuracy: 0.9154 - val_loss: 0.1630 - val_accuracy: 0.9528\n",
      "Epoch 2/10\n",
      "48000/48000 [==============================] - 13s 269us/sample - loss: 0.1191 - accuracy: 0.9649 - val_loss: 0.1156 - val_accuracy: 0.9656\n",
      "Epoch 3/10\n",
      "48000/48000 [==============================] - 13s 262us/sample - loss: 0.0767 - accuracy: 0.9771 - val_loss: 0.0970 - val_accuracy: 0.9707\n",
      "Epoch 4/10\n",
      "48000/48000 [==============================] - 12s 259us/sample - loss: 0.0555 - accuracy: 0.9838 - val_loss: 0.0879 - val_accuracy: 0.9747\n",
      "Epoch 5/10\n",
      "48000/48000 [==============================] - 12s 260us/sample - loss: 0.0420 - accuracy: 0.9875 - val_loss: 0.0778 - val_accuracy: 0.9787\n",
      "Epoch 6/10\n",
      "48000/48000 [==============================] - 13s 278us/sample - loss: 0.0313 - accuracy: 0.9909 - val_loss: 0.0779 - val_accuracy: 0.9786\n",
      "Epoch 7/10\n",
      "48000/48000 [==============================] - 13s 268us/sample - loss: 0.0238 - accuracy: 0.9935 - val_loss: 0.0794 - val_accuracy: 0.9780\n",
      "Epoch 8/10\n",
      "48000/48000 [==============================] - 13s 268us/sample - loss: 0.0183 - accuracy: 0.9947 - val_loss: 0.0868 - val_accuracy: 0.9778\n",
      "Epoch 9/10\n",
      "48000/48000 [==============================] - 12s 260us/sample - loss: 0.0139 - accuracy: 0.9961 - val_loss: 0.0842 - val_accuracy: 0.9796\n",
      "Epoch 10/10\n",
      "48000/48000 [==============================] - 13s 263us/sample - loss: 0.0106 - accuracy: 0.9970 - val_loss: 0.0854 - val_accuracy: 0.9795\n"
     ]
    }
   ],
   "source": [
    "model = get_model()\n",
    "history_noise = model.fit(train_images_with_noise_channels, train_labels, epochs=10,\n",
    "                    batch_size=128, validation_split=0.2)\n",
    "\n",
    "model = get_model()\n",
    "history_zeros = model.fit(train_images_with_zeros, train_labels, epochs = 10,\n",
    "                          batch_size=128, validation_split=0.2)"
   ]
  },
  {
   "cell_type": "code",
   "execution_count": 12,
   "id": "8e645851-fe68-4d59-a050-9925c9a96d97",
   "metadata": {},
   "outputs": [
    {
     "data": {
      "image/png": "[encoded data removed]",
      "text/plain": [
       "<Figure size 432x288 with 1 Axes>"
      ]
     },
     "metadata": {
      "needs_background": "light"
     },
     "output_type": "display_data"
    }
   ],
   "source": [
    "import matplotlib.pyplot as plt\n",
    "\n",
    "val_acc_noise = history_noise.history['val_accuracy']\n",
    "val_acc_zeros = history_zeros.history['val_accuracy']\n",
    "epochs = range(1,11)\n",
    "plt.plot(epochs, val_acc_noise, 'b-', label='Validation accuracy with noise channels')\n",
    "plt.plot(epochs, val_acc_zeros, 'b--', label='Validation accuracy with zeros channels')\n",
    "\n",
    "plt.title('Effect of noise channels on validation accuracy')\n",
    "plt.xlabel('Epochs')\n",
    "plt.ylabel('Accuracy')\n",
    "plt.legend()\n",
    "plt.show()"
   ]
  },
  {
   "cell_type": "code",
   "execution_count": 13,
   "id": "6eb0d85e-e41b-4911-971c-b023278ffd86",
   "metadata": {},
   "outputs": [],
   "source": [
    "(train_images, train_labels),_ = mnist.load_data()\n",
    "train_images = train_images.reshape((60000,28*28))\n",
    "train_images = train_images.astype('float32')/255"
   ]
  },
  {
   "cell_type": "code",
   "execution_count": 14,
   "id": "8762bcc0-2de7-4496-bc70-7b1762d7cbb2",
   "metadata": {
    "scrolled": true,
    "tags": []
   },
   "outputs": [
    {
     "name": "stdout",
     "output_type": "stream",
     "text": [
      "Train on 48000 samples, validate on 12000 samples\n",
      "Epoch 1/100\n",
      "48000/48000 [==============================] - 9s 179us/sample - loss: 2.3171 - accuracy: 0.1024 - val_loss: 2.3058 - val_accuracy: 0.1085\n",
      "Epoch 2/100\n",
      "48000/48000 [==============================] - 8s 159us/sample - loss: 2.3001 - accuracy: 0.1154 - val_loss: 2.3103 - val_accuracy: 0.1042\n",
      "Epoch 3/100\n",
      "48000/48000 [==============================] - 8s 157us/sample - loss: 2.2908 - accuracy: 0.1278 - val_loss: 2.3186 - val_accuracy: 0.1059\n",
      "Epoch 4/100\n",
      "48000/48000 [==============================] - 8s 158us/sample - loss: 2.2774 - accuracy: 0.1405 - val_loss: 2.3267 - val_accuracy: 0.1044\n",
      "Epoch 5/100\n",
      "48000/48000 [==============================] - 8s 176us/sample - loss: 2.2599 - accuracy: 0.1527 - val_loss: 2.3381 - val_accuracy: 0.1014\n",
      "Epoch 6/100\n",
      "48000/48000 [==============================] - 7s 156us/sample - loss: 2.2391 - accuracy: 0.1666 - val_loss: 2.3536 - val_accuracy: 0.1002\n",
      "Epoch 7/100\n",
      "48000/48000 [==============================] - 7s 156us/sample - loss: 2.2136 - accuracy: 0.1818 - val_loss: 2.3622 - val_accuracy: 0.1017\n",
      "Epoch 8/100\n",
      "48000/48000 [==============================] - 7s 155us/sample - loss: 2.1868 - accuracy: 0.1985 - val_loss: 2.3844 - val_accuracy: 0.0945\n",
      "Epoch 9/100\n",
      "48000/48000 [==============================] - 7s 154us/sample - loss: 2.1574 - accuracy: 0.2140 - val_loss: 2.3996 - val_accuracy: 0.1023\n",
      "Epoch 10/100\n",
      "48000/48000 [==============================] - 8s 157us/sample - loss: 2.1259 - accuracy: 0.2328 - val_loss: 2.4247 - val_accuracy: 0.0996\n",
      "Epoch 11/100\n",
      "48000/48000 [==============================] - 8s 157us/sample - loss: 2.0937 - accuracy: 0.2474 - val_loss: 2.4358 - val_accuracy: 0.0977\n",
      "Epoch 12/100\n",
      "48000/48000 [==============================] - 8s 157us/sample - loss: 2.0601 - accuracy: 0.2612 - val_loss: 2.4719 - val_accuracy: 0.1014\n",
      "Epoch 13/100\n",
      "48000/48000 [==============================] - 7s 155us/sample - loss: 2.0256 - accuracy: 0.2760 - val_loss: 2.4985 - val_accuracy: 0.1013\n",
      "Epoch 14/100\n",
      "48000/48000 [==============================] - 8s 158us/sample - loss: 1.9916 - accuracy: 0.2923 - val_loss: 2.5363 - val_accuracy: 0.1008\n",
      "Epoch 15/100\n",
      "48000/48000 [==============================] - 7s 154us/sample - loss: 1.9594 - accuracy: 0.3048 - val_loss: 2.5614 - val_accuracy: 0.0981\n",
      "Epoch 16/100\n",
      "48000/48000 [==============================] - 8s 165us/sample - loss: 1.9247 - accuracy: 0.3194 - val_loss: 2.5849 - val_accuracy: 0.1019\n",
      "Epoch 17/100\n",
      "48000/48000 [==============================] - 8s 164us/sample - loss: 1.8903 - accuracy: 0.3339 - val_loss: 2.6170 - val_accuracy: 0.1037\n",
      "Epoch 18/100\n",
      "48000/48000 [==============================] - 7s 156us/sample - loss: 1.8569 - accuracy: 0.3464 - val_loss: 2.6450 - val_accuracy: 0.1036\n",
      "Epoch 19/100\n",
      "48000/48000 [==============================] - 8s 157us/sample - loss: 1.8244 - accuracy: 0.3591 - val_loss: 2.6891 - val_accuracy: 0.0994\n",
      "Epoch 20/100\n",
      "48000/48000 [==============================] - 8s 157us/sample - loss: 1.7934 - accuracy: 0.3739 - val_loss: 2.7390 - val_accuracy: 0.0989\n",
      "Epoch 21/100\n",
      "48000/48000 [==============================] - 8s 156us/sample - loss: 1.7620 - accuracy: 0.3862 - val_loss: 2.7754 - val_accuracy: 0.1007\n",
      "Epoch 22/100\n",
      "48000/48000 [==============================] - 7s 154us/sample - loss: 1.7299 - accuracy: 0.3940 - val_loss: 2.7956 - val_accuracy: 0.0998\n",
      "Epoch 23/100\n",
      "48000/48000 [==============================] - 7s 155us/sample - loss: 1.6983 - accuracy: 0.4075 - val_loss: 2.8512 - val_accuracy: 0.0974\n",
      "Epoch 24/100\n",
      "48000/48000 [==============================] - 8s 162us/sample - loss: 1.6677 - accuracy: 0.4210 - val_loss: 2.8897 - val_accuracy: 0.0993\n",
      "Epoch 25/100\n",
      "48000/48000 [==============================] - 8s 162us/sample - loss: 1.6404 - accuracy: 0.4305 - val_loss: 2.9291 - val_accuracy: 0.1006\n",
      "Epoch 26/100\n",
      "48000/48000 [==============================] - 9s 181us/sample - loss: 1.6118 - accuracy: 0.4430 - val_loss: 2.9685 - val_accuracy: 0.0967\n",
      "Epoch 27/100\n",
      "48000/48000 [==============================] - 8s 164us/sample - loss: 1.5828 - accuracy: 0.4524 - val_loss: 3.0171 - val_accuracy: 0.1028\n",
      "Epoch 28/100\n",
      "48000/48000 [==============================] - 8s 159us/sample - loss: 1.5547 - accuracy: 0.4665 - val_loss: 3.0503 - val_accuracy: 0.0993\n",
      "Epoch 29/100\n",
      "48000/48000 [==============================] - 7s 155us/sample - loss: 1.5322 - accuracy: 0.4755 - val_loss: 3.0755 - val_accuracy: 0.0981\n",
      "Epoch 30/100\n",
      "48000/48000 [==============================] - 7s 155us/sample - loss: 1.5040 - accuracy: 0.4830 - val_loss: 3.1372 - val_accuracy: 0.0988\n",
      "Epoch 31/100\n",
      "48000/48000 [==============================] - 8s 158us/sample - loss: 1.4781 - accuracy: 0.4924 - val_loss: 3.1871 - val_accuracy: 0.1006\n",
      "Epoch 32/100\n",
      "48000/48000 [==============================] - 9s 194us/sample - loss: 1.4535 - accuracy: 0.5034 - val_loss: 3.2453 - val_accuracy: 0.0993\n",
      "Epoch 33/100\n",
      "48000/48000 [==============================] - 8s 160us/sample - loss: 1.4309 - accuracy: 0.5085 - val_loss: 3.2652 - val_accuracy: 0.0950\n",
      "Epoch 34/100\n",
      "48000/48000 [==============================] - 8s 162us/sample - loss: 1.4044 - accuracy: 0.5216 - val_loss: 3.3298 - val_accuracy: 0.1012\n",
      "Epoch 35/100\n",
      "48000/48000 [==============================] - 8s 162us/sample - loss: 1.3831 - accuracy: 0.5272 - val_loss: 3.3772 - val_accuracy: 0.1028\n",
      "Epoch 36/100\n",
      "48000/48000 [==============================] - 7s 154us/sample - loss: 1.3601 - accuracy: 0.5376 - val_loss: 3.4198 - val_accuracy: 0.1016\n",
      "Epoch 37/100\n",
      "48000/48000 [==============================] - 7s 154us/sample - loss: 1.3382 - accuracy: 0.5455 - val_loss: 3.4406 - val_accuracy: 0.0992\n",
      "Epoch 38/100\n",
      "48000/48000 [==============================] - 8s 162us/sample - loss: 1.3154 - accuracy: 0.5531 - val_loss: 3.4925 - val_accuracy: 0.0970\n",
      "Epoch 39/100\n",
      "48000/48000 [==============================] - 7s 154us/sample - loss: 1.2939 - accuracy: 0.5596 - val_loss: 3.5350 - val_accuracy: 0.0978\n",
      "Epoch 40/100\n",
      "48000/48000 [==============================] - 7s 153us/sample - loss: 1.2731 - accuracy: 0.5666 - val_loss: 3.5965 - val_accuracy: 0.0953\n",
      "Epoch 41/100\n",
      "48000/48000 [==============================] - 7s 155us/sample - loss: 1.2515 - accuracy: 0.5755 - val_loss: 3.6408 - val_accuracy: 0.0976\n",
      "Epoch 42/100\n",
      "48000/48000 [==============================] - 7s 154us/sample - loss: 1.2323 - accuracy: 0.5819 - val_loss: 3.6933 - val_accuracy: 0.1010\n",
      "Epoch 43/100\n",
      "48000/48000 [==============================] - 7s 153us/sample - loss: 1.2160 - accuracy: 0.5889 - val_loss: 3.7434 - val_accuracy: 0.0973\n",
      "Epoch 44/100\n",
      "48000/48000 [==============================] - 7s 155us/sample - loss: 1.1955 - accuracy: 0.5947 - val_loss: 3.7715 - val_accuracy: 0.1003\n",
      "Epoch 45/100\n",
      "48000/48000 [==============================] - 7s 154us/sample - loss: 1.1763 - accuracy: 0.6016 - val_loss: 3.8468 - val_accuracy: 0.1001\n",
      "Epoch 46/100\n",
      "48000/48000 [==============================] - 7s 153us/sample - loss: 1.1583 - accuracy: 0.6100 - val_loss: 3.9387 - val_accuracy: 0.1023\n",
      "Epoch 47/100\n",
      "48000/48000 [==============================] - 8s 160us/sample - loss: 1.1399 - accuracy: 0.6183 - val_loss: 3.9546 - val_accuracy: 0.1008\n",
      "Epoch 48/100\n",
      "48000/48000 [==============================] - 7s 154us/sample - loss: 1.1214 - accuracy: 0.6225 - val_loss: 4.0325 - val_accuracy: 0.0962\n",
      "Epoch 49/100\n",
      "48000/48000 [==============================] - 8s 171us/sample - loss: 1.1028 - accuracy: 0.6305 - val_loss: 4.0551 - val_accuracy: 0.0952\n",
      "Epoch 50/100\n",
      "48000/48000 [==============================] - 8s 165us/sample - loss: 1.0852 - accuracy: 0.6349 - val_loss: 4.1132 - val_accuracy: 0.0944\n",
      "Epoch 51/100\n",
      "48000/48000 [==============================] - 7s 156us/sample - loss: 1.0693 - accuracy: 0.6410 - val_loss: 4.2016 - val_accuracy: 0.0963\n",
      "Epoch 52/100\n",
      "48000/48000 [==============================] - 7s 154us/sample - loss: 1.0564 - accuracy: 0.6456 - val_loss: 4.2182 - val_accuracy: 0.0970\n",
      "Epoch 53/100\n",
      "48000/48000 [==============================] - 7s 156us/sample - loss: 1.0396 - accuracy: 0.6508 - val_loss: 4.3257 - val_accuracy: 0.0992\n",
      "Epoch 54/100\n",
      "48000/48000 [==============================] - 7s 154us/sample - loss: 1.0244 - accuracy: 0.6573 - val_loss: 4.3508 - val_accuracy: 0.0948\n",
      "Epoch 55/100\n",
      "48000/48000 [==============================] - 7s 155us/sample - loss: 1.0073 - accuracy: 0.6622 - val_loss: 4.4136 - val_accuracy: 0.0990\n",
      "Epoch 56/100\n",
      "48000/48000 [==============================] - 7s 155us/sample - loss: 0.9927 - accuracy: 0.6696 - val_loss: 4.4847 - val_accuracy: 0.0952\n",
      "Epoch 57/100\n",
      "48000/48000 [==============================] - 7s 156us/sample - loss: 0.9797 - accuracy: 0.6717 - val_loss: 4.5336 - val_accuracy: 0.0971\n",
      "Epoch 58/100\n",
      "48000/48000 [==============================] - 7s 154us/sample - loss: 0.9657 - accuracy: 0.6786 - val_loss: 4.5650 - val_accuracy: 0.0993\n",
      "Epoch 59/100\n",
      "48000/48000 [==============================] - 7s 156us/sample - loss: 0.9506 - accuracy: 0.6841 - val_loss: 4.6326 - val_accuracy: 0.0977\n",
      "Epoch 60/100\n",
      "48000/48000 [==============================] - 7s 154us/sample - loss: 0.9352 - accuracy: 0.6881 - val_loss: 4.7176 - val_accuracy: 0.0974\n",
      "Epoch 61/100\n",
      "48000/48000 [==============================] - 7s 156us/sample - loss: 0.9204 - accuracy: 0.6951 - val_loss: 4.7328 - val_accuracy: 0.0983\n",
      "Epoch 62/100\n",
      "48000/48000 [==============================] - 7s 154us/sample - loss: 0.9084 - accuracy: 0.6976 - val_loss: 4.8318 - val_accuracy: 0.0980\n",
      "Epoch 63/100\n",
      "48000/48000 [==============================] - 7s 156us/sample - loss: 0.8949 - accuracy: 0.7040 - val_loss: 4.8724 - val_accuracy: 0.0992\n",
      "Epoch 64/100\n",
      "48000/48000 [==============================] - 7s 154us/sample - loss: 0.8802 - accuracy: 0.7084 - val_loss: 4.9302 - val_accuracy: 0.0969\n",
      "Epoch 65/100\n",
      "48000/48000 [==============================] - 8s 157us/sample - loss: 0.8695 - accuracy: 0.7122 - val_loss: 4.9558 - val_accuracy: 0.0943\n",
      "Epoch 66/100\n",
      "48000/48000 [==============================] - 8s 156us/sample - loss: 0.8565 - accuracy: 0.7167 - val_loss: 5.0490 - val_accuracy: 0.0992\n",
      "Epoch 67/100\n",
      "48000/48000 [==============================] - 7s 155us/sample - loss: 0.8432 - accuracy: 0.7211 - val_loss: 5.1187 - val_accuracy: 0.0936\n",
      "Epoch 68/100\n",
      "48000/48000 [==============================] - 8s 158us/sample - loss: 0.8307 - accuracy: 0.7260 - val_loss: 5.1484 - val_accuracy: 0.0969\n",
      "Epoch 69/100\n",
      "48000/48000 [==============================] - 7s 156us/sample - loss: 0.8204 - accuracy: 0.7293 - val_loss: 5.2529 - val_accuracy: 0.0959\n",
      "Epoch 70/100\n",
      "48000/48000 [==============================] - 8s 156us/sample - loss: 0.8058 - accuracy: 0.7357 - val_loss: 5.2682 - val_accuracy: 0.0961\n",
      "Epoch 71/100\n",
      "48000/48000 [==============================] - 8s 161us/sample - loss: 0.7960 - accuracy: 0.7392 - val_loss: 5.3524 - val_accuracy: 0.0997\n",
      "Epoch 72/100\n",
      "48000/48000 [==============================] - 8s 160us/sample - loss: 0.7846 - accuracy: 0.7427 - val_loss: 5.4189 - val_accuracy: 0.0948\n",
      "Epoch 73/100\n",
      "48000/48000 [==============================] - 8s 165us/sample - loss: 0.7726 - accuracy: 0.7474 - val_loss: 5.4619 - val_accuracy: 0.0960\n",
      "Epoch 74/100\n",
      "48000/48000 [==============================] - 7s 156us/sample - loss: 0.7605 - accuracy: 0.7502 - val_loss: 5.5191 - val_accuracy: 0.0987\n",
      "Epoch 75/100\n",
      "48000/48000 [==============================] - 8s 160us/sample - loss: 0.7489 - accuracy: 0.7548 - val_loss: 5.5861 - val_accuracy: 0.0959\n",
      "Epoch 76/100\n",
      "48000/48000 [==============================] - 8s 156us/sample - loss: 0.7393 - accuracy: 0.7580 - val_loss: 5.6011 - val_accuracy: 0.0974\n",
      "Epoch 77/100\n",
      "48000/48000 [==============================] - 8s 158us/sample - loss: 0.7299 - accuracy: 0.7629 - val_loss: 5.7427 - val_accuracy: 0.0968\n",
      "Epoch 78/100\n",
      "48000/48000 [==============================] - 8s 157us/sample - loss: 0.7187 - accuracy: 0.7647 - val_loss: 5.7951 - val_accuracy: 0.0966\n",
      "Epoch 79/100\n",
      "48000/48000 [==============================] - 8s 157us/sample - loss: 0.7082 - accuracy: 0.7675 - val_loss: 5.8359 - val_accuracy: 0.0978\n",
      "Epoch 80/100\n",
      "48000/48000 [==============================] - 8s 158us/sample - loss: 0.6990 - accuracy: 0.7730 - val_loss: 5.9434 - val_accuracy: 0.0988\n",
      "Epoch 81/100\n",
      "48000/48000 [==============================] - 8s 159us/sample - loss: 0.6893 - accuracy: 0.7744 - val_loss: 5.9875 - val_accuracy: 0.0965\n",
      "Epoch 82/100\n",
      "48000/48000 [==============================] - 8s 157us/sample - loss: 0.6782 - accuracy: 0.7773 - val_loss: 6.0300 - val_accuracy: 0.1005\n",
      "Epoch 83/100\n",
      "48000/48000 [==============================] - 8s 159us/sample - loss: 0.6708 - accuracy: 0.7804 - val_loss: 6.1420 - val_accuracy: 0.0996\n",
      "Epoch 84/100\n",
      "48000/48000 [==============================] - 8s 159us/sample - loss: 0.6604 - accuracy: 0.7859 - val_loss: 6.1512 - val_accuracy: 0.0958\n",
      "Epoch 85/100\n",
      "48000/48000 [==============================] - 8s 158us/sample - loss: 0.6503 - accuracy: 0.7894 - val_loss: 6.2645 - val_accuracy: 0.0956\n",
      "Epoch 86/100\n",
      "48000/48000 [==============================] - 8s 158us/sample - loss: 0.6431 - accuracy: 0.7920 - val_loss: 6.3043 - val_accuracy: 0.0950\n",
      "Epoch 87/100\n",
      "48000/48000 [==============================] - 8s 159us/sample - loss: 0.6309 - accuracy: 0.7958 - val_loss: 6.3899 - val_accuracy: 0.0985\n",
      "Epoch 88/100\n",
      "48000/48000 [==============================] - 8s 160us/sample - loss: 0.6261 - accuracy: 0.7961 - val_loss: 6.4369 - val_accuracy: 0.0978\n",
      "Epoch 89/100\n",
      "48000/48000 [==============================] - 8s 170us/sample - loss: 0.6154 - accuracy: 0.7988 - val_loss: 6.5096 - val_accuracy: 0.1013\n",
      "Epoch 90/100\n",
      "48000/48000 [==============================] - 8s 174us/sample - loss: 0.6068 - accuracy: 0.8010 - val_loss: 6.5994 - val_accuracy: 0.0989\n",
      "Epoch 91/100\n",
      "48000/48000 [==============================] - 8s 159us/sample - loss: 0.6009 - accuracy: 0.8060 - val_loss: 6.6700 - val_accuracy: 0.0994\n",
      "Epoch 92/100\n",
      "48000/48000 [==============================] - 8s 162us/sample - loss: 0.5920 - accuracy: 0.8072 - val_loss: 6.6909 - val_accuracy: 0.0988\n",
      "Epoch 93/100\n",
      "48000/48000 [==============================] - 8s 163us/sample - loss: 0.5835 - accuracy: 0.8094 - val_loss: 6.7544 - val_accuracy: 0.1016\n",
      "Epoch 94/100\n",
      "48000/48000 [==============================] - 8s 164us/sample - loss: 0.5751 - accuracy: 0.8143 - val_loss: 6.8893 - val_accuracy: 0.0978\n",
      "Epoch 95/100\n",
      "48000/48000 [==============================] - 8s 171us/sample - loss: 0.5686 - accuracy: 0.8156 - val_loss: 6.8931 - val_accuracy: 0.0983\n",
      "Epoch 96/100\n",
      "48000/48000 [==============================] - 8s 177us/sample - loss: 0.5589 - accuracy: 0.8190 - val_loss: 6.9545 - val_accuracy: 0.0990\n",
      "Epoch 97/100\n",
      "48000/48000 [==============================] - 8s 163us/sample - loss: 0.5512 - accuracy: 0.8220 - val_loss: 7.0238 - val_accuracy: 0.0971\n",
      "Epoch 98/100\n",
      "48000/48000 [==============================] - 8s 161us/sample - loss: 0.5419 - accuracy: 0.8273 - val_loss: 7.0879 - val_accuracy: 0.0992\n",
      "Epoch 99/100\n",
      "48000/48000 [==============================] - 8s 161us/sample - loss: 0.5365 - accuracy: 0.8280 - val_loss: 7.1974 - val_accuracy: 0.0956\n",
      "Epoch 100/100\n",
      "48000/48000 [==============================] - 8s 163us/sample - loss: 0.5307 - accuracy: 0.8289 - val_loss: 7.2390 - val_accuracy: 0.0982\n"
     ]
    }
   ],
   "source": [
    "random_train_labels = train_labels[:]\n",
    "np.random.shuffle(random_train_labels)\n",
    "\n",
    "model = get_model()\n",
    "history_random_label = model.fit(train_images,random_train_labels,\n",
    "                                 epochs=100,batch_size=128, validation_split=0.2)"
   ]
  },
  {
   "cell_type": "code",
   "execution_count": 15,
   "id": "c60577d6-2ec2-4f82-a13b-f48dfe602bdc",
   "metadata": {},
   "outputs": [
    {
     "data": {
      "image/png": "[encoded data removed]",
      "text/plain": [
       "<Figure size 432x288 with 1 Axes>"
      ]
     },
     "metadata": {
      "needs_background": "light"
     },
     "output_type": "display_data"
    }
   ],
   "source": [
    "epochs = range(1,101)\n",
    "train_acc = history_random_label.history['accuracy']\n",
    "val_acc = history_random_label.history['val_accuracy']\n",
    "plt.plot(epochs, train_acc, 'b-', label='Training accuracy')\n",
    "plt.plot(epochs, val_acc, 'b--', label = 'Validation accuracy')\n",
    "plt.title('Training and validation accuracy on random labels')\n",
    "plt.xlabel('Epochs')\n",
    "plt.ylabel('Accuracy')\n",
    "plt.legend()\n",
    "plt.show()"
   ]
  },
  {
   "cell_type": "code",
   "execution_count": 16,
   "id": "c7c4195c-6928-489f-826b-335dd7d24bb6",
   "metadata": {},
   "outputs": [],
   "source": [
    "(train_images, train_labels), (test_images, test_labels) = mnist.load_data()"
   ]
  },
  {
   "cell_type": "code",
   "execution_count": 17,
   "id": "11375f7e-12f5-49f8-870c-1cafd21c002b",
   "metadata": {},
   "outputs": [],
   "source": [
    "train_images = train_images.reshape((60000,28*28))\n",
    "train_images = train_images.astype('float32')/255"
   ]
  },
  {
   "cell_type": "code",
   "execution_count": 18,
   "id": "88721448-bdfa-4d3a-872a-19ba89baf28a",
   "metadata": {},
   "outputs": [
    {
     "name": "stdout",
     "output_type": "stream",
     "text": [
      "Train on 48000 samples, validate on 12000 samples\n",
      "Epoch 1/10\n",
      "48000/48000 [==============================] - 9s 177us/sample - loss: 1067.4222 - accuracy: 0.3821 - val_loss: 2.1940 - val_accuracy: 0.3467\n",
      "Epoch 2/10\n",
      "48000/48000 [==============================] - 7s 153us/sample - loss: 6.3659 - accuracy: 0.2773 - val_loss: 2.3212 - val_accuracy: 0.2954\n",
      "Epoch 3/10\n",
      "48000/48000 [==============================] - 7s 150us/sample - loss: 3.0713 - accuracy: 0.2410 - val_loss: 2.1936 - val_accuracy: 0.2445\n",
      "Epoch 4/10\n",
      "48000/48000 [==============================] - 8s 157us/sample - loss: 2.7347 - accuracy: 0.2503 - val_loss: 2.5588 - val_accuracy: 0.2262\n",
      "Epoch 5/10\n",
      "48000/48000 [==============================] - 8s 159us/sample - loss: 2.5292 - accuracy: 0.2380 - val_loss: 2.2306 - val_accuracy: 0.2706\n",
      "Epoch 6/10\n",
      "48000/48000 [==============================] - 7s 153us/sample - loss: 2.5371 - accuracy: 0.2426 - val_loss: 3.6413 - val_accuracy: 0.2420\n",
      "Epoch 7/10\n",
      "48000/48000 [==============================] - 7s 153us/sample - loss: 2.5348 - accuracy: 0.2341 - val_loss: 2.2675 - val_accuracy: 0.2304\n",
      "Epoch 8/10\n",
      "48000/48000 [==============================] - 8s 170us/sample - loss: 2.3846 - accuracy: 0.2430 - val_loss: 2.4294 - val_accuracy: 0.2338\n",
      "Epoch 9/10\n",
      "48000/48000 [==============================] - 8s 162us/sample - loss: 2.1848 - accuracy: 0.2513 - val_loss: 2.7115 - val_accuracy: 0.2460\n",
      "Epoch 10/10\n",
      "48000/48000 [==============================] - 9s 194us/sample - loss: 2.4751 - accuracy: 0.2395 - val_loss: 2.1906 - val_accuracy: 0.2384\n"
     ]
    },
    {
     "data": {
      "text/plain": [
       "<tensorflow.python.keras.callbacks.History at 0x7fde8a2ebe50>"
      ]
     },
     "execution_count": 18,
     "metadata": {},
     "output_type": "execute_result"
    }
   ],
   "source": [
    "model = keras.Sequential([\n",
    "    layers.Dense(512, activation='relu'),\n",
    "    layers.Dense(10, activation='softmax')\n",
    "])\n",
    "model.compile(optimizer = keras.optimizers.RMSprop(1.),\n",
    "              loss = 'sparse_categorical_crossentropy',\n",
    "              metrics = ['accuracy'])\n",
    "model.fit(train_images, train_labels, epochs = 10, batch_size = 128, validation_split = 0.2)"
   ]
  },
  {
   "cell_type": "code",
   "execution_count": 20,
   "id": "ab276485-f1d2-4737-881c-f0f854f88dbb",
   "metadata": {},
   "outputs": [
    {
     "name": "stdout",
     "output_type": "stream",
     "text": [
      "Train on 48000 samples, validate on 12000 samples\n",
      "Epoch 1/10\n",
      "48000/48000 [==============================] - 8s 175us/sample - loss: 0.4106 - accuracy: 0.9069 - val_loss: 0.1643 - val_accuracy: 0.9563\n",
      "Epoch 2/10\n",
      "48000/48000 [==============================] - 8s 158us/sample - loss: 0.1420 - accuracy: 0.9638 - val_loss: 0.1412 - val_accuracy: 0.9670\n",
      "Epoch 3/10\n",
      "48000/48000 [==============================] - 8s 159us/sample - loss: 0.1142 - accuracy: 0.9732 - val_loss: 0.1669 - val_accuracy: 0.9707\n",
      "Epoch 4/10\n",
      "48000/48000 [==============================] - 7s 150us/sample - loss: 0.0983 - accuracy: 0.9783 - val_loss: 0.1780 - val_accuracy: 0.9690\n",
      "Epoch 5/10\n",
      "48000/48000 [==============================] - 7s 152us/sample - loss: 0.0843 - accuracy: 0.9822 - val_loss: 0.2170 - val_accuracy: 0.9687\n",
      "Epoch 6/10\n",
      "48000/48000 [==============================] - 7s 151us/sample - loss: 0.0816 - accuracy: 0.9838 - val_loss: 0.2488 - val_accuracy: 0.9702\n",
      "Epoch 7/10\n",
      "48000/48000 [==============================] - 7s 153us/sample - loss: 0.0750 - accuracy: 0.9858 - val_loss: 0.2578 - val_accuracy: 0.9718\n",
      "Epoch 8/10\n",
      "48000/48000 [==============================] - 8s 169us/sample - loss: 0.0640 - accuracy: 0.9876 - val_loss: 0.2710 - val_accuracy: 0.9745\n",
      "Epoch 9/10\n",
      "48000/48000 [==============================] - 8s 164us/sample - loss: 0.0674 - accuracy: 0.9882 - val_loss: 0.2910 - val_accuracy: 0.9747\n",
      "Epoch 10/10\n",
      "48000/48000 [==============================] - 8s 159us/sample - loss: 0.0609 - accuracy: 0.9903 - val_loss: 0.3082 - val_accuracy: 0.9719\n"
     ]
    },
    {
     "data": {
      "text/plain": [
       "<tensorflow.python.keras.callbacks.History at 0x7fde8c0be310>"
      ]
     },
     "execution_count": 20,
     "metadata": {},
     "output_type": "execute_result"
    }
   ],
   "source": [
    "model = keras.Sequential([\n",
    "    layers.Dense(512, activation='relu'),\n",
    "    layers.Dense(10, activation='softmax')\n",
    "])\n",
    "model.compile(optimizer = keras.optimizers.RMSprop(1e-2),\n",
    "              loss = 'sparse_categorical_crossentropy',\n",
    "              metrics = ['accuracy'])\n",
    "model.fit(train_images, train_labels, epochs = 10, batch_size = 128, validation_split = 0.2)"
   ]
  },
  {
   "cell_type": "code",
   "execution_count": 21,
   "id": "1d00dff4-4151-4cde-af25-1ac2f5e907f1",
   "metadata": {},
   "outputs": [
    {
     "name": "stdout",
     "output_type": "stream",
     "text": [
      "Train on 48000 samples, validate on 12000 samples\n",
      "Epoch 1/20\n",
      "48000/48000 [==============================] - 3s 64us/sample - loss: 0.6658 - accuracy: 0.8368 - val_loss: 0.3592 - val_accuracy: 0.9043\n",
      "Epoch 2/20\n",
      "48000/48000 [==============================] - 2s 39us/sample - loss: 0.3509 - accuracy: 0.9034 - val_loss: 0.3072 - val_accuracy: 0.9136\n",
      "Epoch 3/20\n",
      "48000/48000 [==============================] - 2s 40us/sample - loss: 0.3150 - accuracy: 0.9122 - val_loss: 0.2909 - val_accuracy: 0.9179\n",
      "Epoch 4/20\n",
      "48000/48000 [==============================] - 2s 42us/sample - loss: 0.2995 - accuracy: 0.9168 - val_loss: 0.2809 - val_accuracy: 0.9221\n",
      "Epoch 5/20\n",
      "48000/48000 [==============================] - 2s 45us/sample - loss: 0.2898 - accuracy: 0.9183 - val_loss: 0.2741 - val_accuracy: 0.9241\n",
      "Epoch 6/20\n",
      "48000/48000 [==============================] - 2s 42us/sample - loss: 0.2828 - accuracy: 0.9209 - val_loss: 0.2716 - val_accuracy: 0.9248\n",
      "Epoch 7/20\n",
      "48000/48000 [==============================] - 2s 40us/sample - loss: 0.2784 - accuracy: 0.9225 - val_loss: 0.2702 - val_accuracy: 0.9255\n",
      "Epoch 8/20\n",
      "48000/48000 [==============================] - 2s 42us/sample - loss: 0.2745 - accuracy: 0.9233 - val_loss: 0.2664 - val_accuracy: 0.9273\n",
      "Epoch 9/20\n",
      "48000/48000 [==============================] - 2s 42us/sample - loss: 0.2715 - accuracy: 0.9242 - val_loss: 0.2671 - val_accuracy: 0.9259\n",
      "Epoch 10/20\n",
      "48000/48000 [==============================] - 2s 41us/sample - loss: 0.2690 - accuracy: 0.9250 - val_loss: 0.2671 - val_accuracy: 0.9272\n",
      "Epoch 11/20\n",
      "48000/48000 [==============================] - 2s 42us/sample - loss: 0.2666 - accuracy: 0.9266 - val_loss: 0.2630 - val_accuracy: 0.9296\n",
      "Epoch 12/20\n",
      "48000/48000 [==============================] - 2s 40us/sample - loss: 0.2649 - accuracy: 0.9259 - val_loss: 0.2637 - val_accuracy: 0.9294\n",
      "Epoch 13/20\n",
      "48000/48000 [==============================] - 2s 41us/sample - loss: 0.2633 - accuracy: 0.9271 - val_loss: 0.2627 - val_accuracy: 0.9288\n",
      "Epoch 14/20\n",
      "48000/48000 [==============================] - 2s 41us/sample - loss: 0.2619 - accuracy: 0.9275 - val_loss: 0.2623 - val_accuracy: 0.9302\n",
      "Epoch 15/20\n",
      "48000/48000 [==============================] - 2s 46us/sample - loss: 0.2602 - accuracy: 0.9286 - val_loss: 0.2617 - val_accuracy: 0.9301\n",
      "Epoch 16/20\n",
      "48000/48000 [==============================] - 2s 44us/sample - loss: 0.2593 - accuracy: 0.9286 - val_loss: 0.2609 - val_accuracy: 0.9302\n",
      "Epoch 17/20\n",
      "48000/48000 [==============================] - 2s 39us/sample - loss: 0.2582 - accuracy: 0.9293 - val_loss: 0.2619 - val_accuracy: 0.9296\n",
      "Epoch 18/20\n",
      "48000/48000 [==============================] - 2s 41us/sample - loss: 0.2573 - accuracy: 0.9294 - val_loss: 0.2618 - val_accuracy: 0.9304\n",
      "Epoch 19/20\n",
      "48000/48000 [==============================] - 2s 42us/sample - loss: 0.2566 - accuracy: 0.9296 - val_loss: 0.2608 - val_accuracy: 0.9305\n",
      "Epoch 20/20\n",
      "48000/48000 [==============================] - 2s 42us/sample - loss: 0.2557 - accuracy: 0.9304 - val_loss: 0.2597 - val_accuracy: 0.9316\n"
     ]
    }
   ],
   "source": [
    "model = keras.Sequential([layers.Dense(10,activation='softmax')])\n",
    "model.compile(optimizer='rmsprop',\n",
    "              loss='sparse_categorical_crossentropy',\n",
    "              metrics=['accuracy'])\n",
    "history_small_model = model.fit(train_images,train_labels,epochs=20,batch_size=128,validation_split=0.2)"
   ]
  },
  {
   "cell_type": "code",
   "execution_count": 23,
   "id": "daa5bf22-7c81-4745-8e1a-57b3beb50597",
   "metadata": {},
   "outputs": [
    {
     "data": {
      "text/plain": [
       "[<matplotlib.lines.Line2D at 0x7fde8e990e50>]"
      ]
     },
     "execution_count": 23,
     "metadata": {},
     "output_type": "execute_result"
    },
    {
     "data": {
      "image/png": "[encoded data removed]",
      "text/plain": [
       "<Figure size 432x288 with 1 Axes>"
      ]
     },
     "metadata": {
      "needs_background": "light"
     },
     "output_type": "display_data"
    }
   ],
   "source": [
    "plt.plot(range(1,21),history_small_model.history['val_loss'],'b-')"
   ]
  },
  {
   "cell_type": "code",
   "execution_count": 24,
   "id": "e8fda117-8d73-4f93-a1a9-b95a6403f248",
   "metadata": {},
   "outputs": [
    {
     "name": "stdout",
     "output_type": "stream",
     "text": [
      "Train on 48000 samples, validate on 12000 samples\n",
      "Epoch 1/20\n",
      "48000/48000 [==============================] - 5s 107us/sample - loss: 0.3690 - accuracy: 0.8960 - val_loss: 0.1823 - val_accuracy: 0.9467\n",
      "Epoch 2/20\n",
      "48000/48000 [==============================] - 4s 84us/sample - loss: 0.1608 - accuracy: 0.9524 - val_loss: 0.1348 - val_accuracy: 0.9613\n",
      "Epoch 3/20\n",
      "48000/48000 [==============================] - 4s 86us/sample - loss: 0.1120 - accuracy: 0.9664 - val_loss: 0.1146 - val_accuracy: 0.9657\n",
      "Epoch 4/20\n",
      "48000/48000 [==============================] - 4s 88us/sample - loss: 0.0864 - accuracy: 0.9741 - val_loss: 0.1135 - val_accuracy: 0.9638\n",
      "Epoch 5/20\n",
      "48000/48000 [==============================] - 5s 107us/sample - loss: 0.0689 - accuracy: 0.9796 - val_loss: 0.1013 - val_accuracy: 0.9702\n",
      "Epoch 6/20\n",
      "48000/48000 [==============================] - 5s 102us/sample - loss: 0.0567 - accuracy: 0.9828 - val_loss: 0.1001 - val_accuracy: 0.9712\n",
      "Epoch 7/20\n",
      "48000/48000 [==============================] - 4s 80us/sample - loss: 0.0468 - accuracy: 0.9868 - val_loss: 0.0951 - val_accuracy: 0.9747\n",
      "Epoch 8/20\n",
      "48000/48000 [==============================] - 4s 79us/sample - loss: 0.0397 - accuracy: 0.9875 - val_loss: 0.0964 - val_accuracy: 0.9738\n",
      "Epoch 9/20\n",
      "48000/48000 [==============================] - 4s 89us/sample - loss: 0.0321 - accuracy: 0.9904 - val_loss: 0.1130 - val_accuracy: 0.9703\n",
      "Epoch 10/20\n",
      "48000/48000 [==============================] - 5s 95us/sample - loss: 0.0279 - accuracy: 0.9918 - val_loss: 0.1156 - val_accuracy: 0.9703\n",
      "Epoch 11/20\n",
      "48000/48000 [==============================] - 4s 83us/sample - loss: 0.0237 - accuracy: 0.9928 - val_loss: 0.1018 - val_accuracy: 0.9754\n",
      "Epoch 12/20\n",
      "48000/48000 [==============================] - 4s 82us/sample - loss: 0.0207 - accuracy: 0.9937 - val_loss: 0.1061 - val_accuracy: 0.9733\n",
      "Epoch 13/20\n",
      "48000/48000 [==============================] - 4s 81us/sample - loss: 0.0172 - accuracy: 0.9948 - val_loss: 0.1081 - val_accuracy: 0.9738\n",
      "Epoch 14/20\n",
      "48000/48000 [==============================] - 4s 82us/sample - loss: 0.0147 - accuracy: 0.9958 - val_loss: 0.1171 - val_accuracy: 0.9732\n",
      "Epoch 15/20\n",
      "48000/48000 [==============================] - 4s 83us/sample - loss: 0.0124 - accuracy: 0.9963 - val_loss: 0.1273 - val_accuracy: 0.9734\n",
      "Epoch 16/20\n",
      "48000/48000 [==============================] - 4s 83us/sample - loss: 0.0106 - accuracy: 0.9967 - val_loss: 0.1219 - val_accuracy: 0.9749\n",
      "Epoch 17/20\n",
      "48000/48000 [==============================] - 4s 87us/sample - loss: 0.0083 - accuracy: 0.9974 - val_loss: 0.1258 - val_accuracy: 0.9745\n",
      "Epoch 18/20\n",
      "48000/48000 [==============================] - 4s 87us/sample - loss: 0.0078 - accuracy: 0.9975 - val_loss: 0.1222 - val_accuracy: 0.9756\n",
      "Epoch 19/20\n",
      "48000/48000 [==============================] - 4s 82us/sample - loss: 0.0066 - accuracy: 0.9979 - val_loss: 0.1423 - val_accuracy: 0.9745\n",
      "Epoch 20/20\n",
      "48000/48000 [==============================] - 4s 80us/sample - loss: 0.0054 - accuracy: 0.9985 - val_loss: 0.1496 - val_accuracy: 0.9723\n"
     ]
    }
   ],
   "source": [
    "model = keras.Sequential([\n",
    "    layers.Dense(96, activation='relu'),\n",
    "    layers.Dense(96, activation='relu'),\n",
    "    layers.Dense(10,activation='softmax'),\n",
    "                         ])\n",
    "model.compile(optimizer='rmsprop',\n",
    "              loss='sparse_categorical_crossentropy',\n",
    "              metrics=['accuracy'])\n",
    "history_small_model = model.fit(train_images,train_labels,epochs=20,batch_size=128,validation_split=0.2)"
   ]
  },
  {
   "cell_type": "code",
   "execution_count": 25,
   "id": "291db2c7-b807-4bed-a362-e41bbd293940",
   "metadata": {},
   "outputs": [
    {
     "data": {
      "text/plain": [
       "[<matplotlib.lines.Line2D at 0x7fde8f1eef90>]"
      ]
     },
     "execution_count": 25,
     "metadata": {},
     "output_type": "execute_result"
    },
    {
     "data": {
      "image/png": "[encoded data removed]",
      "text/plain": [
       "<Figure size 432x288 with 1 Axes>"
      ]
     },
     "metadata": {
      "needs_background": "light"
     },
     "output_type": "display_data"
    }
   ],
   "source": [
    "plt.plot(range(1,21),history_small_model.history['val_loss'],'b-')"
   ]
  },
  {
   "cell_type": "code",
   "execution_count": 26,
   "id": "25ffbdc4-9973-4fdf-9da7-8cf4809bca22",
   "metadata": {},
   "outputs": [
    {
     "name": "stderr",
     "output_type": "stream",
     "text": [
      "/Users/xin/opt/anaconda3/envs/tf/lib/python3.7/site-packages/tensorflow_core/python/keras/datasets/imdb.py:129: VisibleDeprecationWarning: Creating an ndarray from ragged nested sequences (which is a list-or-tuple of lists-or-tuples-or ndarrays with different lengths or shapes) is deprecated. If you meant to do this, you must specify 'dtype=object' when creating the ndarray.\n",
      "  x_train, y_train = np.array(xs[:idx]), np.array(labels[:idx])\n",
      "/Users/xin/opt/anaconda3/envs/tf/lib/python3.7/site-packages/tensorflow_core/python/keras/datasets/imdb.py:130: VisibleDeprecationWarning: Creating an ndarray from ragged nested sequences (which is a list-or-tuple of lists-or-tuples-or ndarrays with different lengths or shapes) is deprecated. If you meant to do this, you must specify 'dtype=object' when creating the ndarray.\n",
      "  x_test, y_test = np.array(xs[idx:]), np.array(labels[idx:])\n"
     ]
    }
   ],
   "source": [
    "from tensorflow.keras.datasets import imdb\n",
    "(train_data, train_labels), _ = imdb.load_data(num_words=10000)"
   ]
  },
  {
   "cell_type": "code",
   "execution_count": 27,
   "id": "402b97fc-beab-41b8-a9e4-ca2e953e1106",
   "metadata": {},
   "outputs": [],
   "source": [
    "def vectorize_sequences(sequences, dimension=10000):\n",
    "    results = np.zeros((len(sequences),dimension))\n",
    "    for i, sequence in enumerate(sequences):\n",
    "        for j in sequence:\n",
    "            results[i,j] = 1.\n",
    "    return results"
   ]
  },
  {
   "cell_type": "code",
   "execution_count": 28,
   "id": "a7a9ecb3-1aec-489d-a682-6da1a9a7d644",
   "metadata": {},
   "outputs": [],
   "source": [
    "train_data = vectorize_sequences(train_data)"
   ]
  },
  {
   "cell_type": "code",
   "execution_count": 33,
   "id": "021df1ff-801c-4fec-828b-a2672c2152a7",
   "metadata": {},
   "outputs": [
    {
     "name": "stdout",
     "output_type": "stream",
     "text": [
      "Train on 15000 samples, validate on 10000 samples\n",
      "Epoch 1/20\n",
      "15000/15000 [==============================] - 4s 237us/sample - loss: 0.5072 - accuracy: 0.7793 - val_loss: 0.3715 - val_accuracy: 0.8753\n",
      "Epoch 2/20\n",
      "15000/15000 [==============================] - 2s 126us/sample - loss: 0.2929 - accuracy: 0.9067 - val_loss: 0.3789 - val_accuracy: 0.8393\n",
      "Epoch 3/20\n",
      "15000/15000 [==============================] - 2s 120us/sample - loss: 0.2135 - accuracy: 0.9291 - val_loss: 0.2798 - val_accuracy: 0.8887\n",
      "Epoch 4/20\n",
      "15000/15000 [==============================] - 2s 117us/sample - loss: 0.1668 - accuracy: 0.9469 - val_loss: 0.2758 - val_accuracy: 0.8902\n",
      "Epoch 5/20\n",
      "15000/15000 [==============================] - 2s 117us/sample - loss: 0.1367 - accuracy: 0.9573 - val_loss: 0.2988 - val_accuracy: 0.8818\n",
      "Epoch 6/20\n",
      "15000/15000 [==============================] - 2s 119us/sample - loss: 0.1151 - accuracy: 0.9649 - val_loss: 0.3061 - val_accuracy: 0.8833\n",
      "Epoch 7/20\n",
      "15000/15000 [==============================] - 2s 124us/sample - loss: 0.0916 - accuracy: 0.9731 - val_loss: 0.3693 - val_accuracy: 0.8705\n",
      "Epoch 8/20\n",
      "15000/15000 [==============================] - 2s 122us/sample - loss: 0.0800 - accuracy: 0.9773 - val_loss: 0.3386 - val_accuracy: 0.8824\n",
      "Epoch 9/20\n",
      "15000/15000 [==============================] - 2s 119us/sample - loss: 0.0621 - accuracy: 0.9841 - val_loss: 0.3632 - val_accuracy: 0.8799\n",
      "Epoch 10/20\n",
      "15000/15000 [==============================] - 2s 123us/sample - loss: 0.0524 - accuracy: 0.9869 - val_loss: 0.3902 - val_accuracy: 0.8779\n",
      "Epoch 11/20\n",
      "15000/15000 [==============================] - 2s 117us/sample - loss: 0.0426 - accuracy: 0.9905 - val_loss: 0.4237 - val_accuracy: 0.8746\n",
      "Epoch 12/20\n",
      "15000/15000 [==============================] - 2s 124us/sample - loss: 0.0365 - accuracy: 0.9922 - val_loss: 0.4518 - val_accuracy: 0.8738\n",
      "Epoch 13/20\n",
      "15000/15000 [==============================] - 2s 125us/sample - loss: 0.0278 - accuracy: 0.9943 - val_loss: 0.5476 - val_accuracy: 0.8644\n",
      "Epoch 14/20\n",
      "15000/15000 [==============================] - 2s 121us/sample - loss: 0.0220 - accuracy: 0.9961 - val_loss: 0.5130 - val_accuracy: 0.8707\n",
      "Epoch 15/20\n",
      "15000/15000 [==============================] - 2s 119us/sample - loss: 0.0209 - accuracy: 0.9953 - val_loss: 0.5486 - val_accuracy: 0.8702\n",
      "Epoch 16/20\n",
      "15000/15000 [==============================] - 2s 117us/sample - loss: 0.0111 - accuracy: 0.9988 - val_loss: 0.5898 - val_accuracy: 0.8677\n",
      "Epoch 17/20\n",
      "15000/15000 [==============================] - 2s 118us/sample - loss: 0.0137 - accuracy: 0.9972 - val_loss: 0.6214 - val_accuracy: 0.8674\n",
      "Epoch 18/20\n",
      "15000/15000 [==============================] - 2s 117us/sample - loss: 0.0115 - accuracy: 0.9974 - val_loss: 0.6564 - val_accuracy: 0.8647\n",
      "Epoch 19/20\n",
      "15000/15000 [==============================] - 2s 117us/sample - loss: 0.0049 - accuracy: 0.9995 - val_loss: 0.6897 - val_accuracy: 0.8642\n",
      "Epoch 20/20\n",
      "15000/15000 [==============================] - 2s 122us/sample - loss: 0.0111 - accuracy: 0.9968 - val_loss: 0.7244 - val_accuracy: 0.8641\n"
     ]
    }
   ],
   "source": [
    "model = keras.Sequential([\n",
    "    layers.Dense(16, activation='relu'),\n",
    "    layers.Dense(16, activation='relu'),\n",
    "    layers.Dense(1, activation='sigmoid')\n",
    "])\n",
    "\n",
    "model.compile(optimizer='rmsprop',\n",
    "              loss='binary_crossentropy',\n",
    "              metrics=['accuracy'])\n",
    "history_original = model.fit(train_data,train_labels, epochs = 20, batch_size=512, validation_split=0.4)"
   ]
  },
  {
   "cell_type": "code",
   "execution_count": 34,
   "id": "13518c19-de57-46f4-9b02-67c0c53e2566",
   "metadata": {},
   "outputs": [
    {
     "name": "stdout",
     "output_type": "stream",
     "text": [
      "Train on 15000 samples, validate on 10000 samples\n",
      "Epoch 1/20\n",
      "15000/15000 [==============================] - 4s 286us/sample - loss: 0.5589 - accuracy: 0.7729 - val_loss: 0.4599 - val_accuracy: 0.8503\n",
      "Epoch 2/20\n",
      "15000/15000 [==============================] - 3s 193us/sample - loss: 0.3940 - accuracy: 0.8829 - val_loss: 0.3726 - val_accuracy: 0.8796\n",
      "Epoch 3/20\n",
      "15000/15000 [==============================] - 3s 191us/sample - loss: 0.3097 - accuracy: 0.9074 - val_loss: 0.3285 - val_accuracy: 0.8801\n",
      "Epoch 4/20\n",
      "15000/15000 [==============================] - 3s 190us/sample - loss: 0.2525 - accuracy: 0.9207 - val_loss: 0.3051 - val_accuracy: 0.8853\n",
      "Epoch 5/20\n",
      "15000/15000 [==============================] - 3s 193us/sample - loss: 0.2098 - accuracy: 0.9351 - val_loss: 0.2811 - val_accuracy: 0.8935\n",
      "Epoch 6/20\n",
      "15000/15000 [==============================] - 3s 192us/sample - loss: 0.1807 - accuracy: 0.9446 - val_loss: 0.2746 - val_accuracy: 0.8952\n",
      "Epoch 7/20\n",
      "15000/15000 [==============================] - 3s 191us/sample - loss: 0.1574 - accuracy: 0.9549 - val_loss: 0.2737 - val_accuracy: 0.8935\n",
      "Epoch 8/20\n",
      "15000/15000 [==============================] - 3s 192us/sample - loss: 0.1400 - accuracy: 0.9602 - val_loss: 0.2761 - val_accuracy: 0.8919\n",
      "Epoch 9/20\n",
      "15000/15000 [==============================] - 3s 191us/sample - loss: 0.1245 - accuracy: 0.9658 - val_loss: 0.2814 - val_accuracy: 0.8907\n",
      "Epoch 10/20\n",
      "15000/15000 [==============================] - 3s 194us/sample - loss: 0.1109 - accuracy: 0.9705 - val_loss: 0.2869 - val_accuracy: 0.8900\n",
      "Epoch 11/20\n",
      "15000/15000 [==============================] - 3s 193us/sample - loss: 0.1010 - accuracy: 0.9741 - val_loss: 0.2976 - val_accuracy: 0.8854\n",
      "Epoch 12/20\n",
      "15000/15000 [==============================] - 3s 194us/sample - loss: 0.0889 - accuracy: 0.9776 - val_loss: 0.3067 - val_accuracy: 0.8841\n",
      "Epoch 13/20\n",
      "15000/15000 [==============================] - 3s 195us/sample - loss: 0.0801 - accuracy: 0.9807 - val_loss: 0.3167 - val_accuracy: 0.8837\n",
      "Epoch 14/20\n",
      "15000/15000 [==============================] - 3s 192us/sample - loss: 0.0715 - accuracy: 0.9829 - val_loss: 0.3274 - val_accuracy: 0.8830\n",
      "Epoch 15/20\n",
      "15000/15000 [==============================] - 3s 192us/sample - loss: 0.0642 - accuracy: 0.9852 - val_loss: 0.3387 - val_accuracy: 0.8813\n",
      "Epoch 16/20\n",
      "15000/15000 [==============================] - 3s 193us/sample - loss: 0.0570 - accuracy: 0.9878 - val_loss: 0.3523 - val_accuracy: 0.8800\n",
      "Epoch 17/20\n",
      "15000/15000 [==============================] - 3s 192us/sample - loss: 0.0503 - accuracy: 0.9897 - val_loss: 0.3670 - val_accuracy: 0.8793\n",
      "Epoch 18/20\n",
      "15000/15000 [==============================] - 3s 195us/sample - loss: 0.0451 - accuracy: 0.9914 - val_loss: 0.3823 - val_accuracy: 0.8785\n",
      "Epoch 19/20\n",
      "15000/15000 [==============================] - 3s 191us/sample - loss: 0.0398 - accuracy: 0.9925 - val_loss: 0.4096 - val_accuracy: 0.8749\n",
      "Epoch 20/20\n",
      "15000/15000 [==============================] - 3s 195us/sample - loss: 0.0348 - accuracy: 0.9939 - val_loss: 0.4222 - val_accuracy: 0.8743\n"
     ]
    }
   ],
   "source": [
    "model = keras.Sequential([\n",
    "    layers.Dense(4, activation='relu'),\n",
    "    layers.Dense(4, activation='relu'),\n",
    "    layers.Dense(1, activation='sigmoid')\n",
    "])\n",
    "\n",
    "model.compile(optimizer='rmsprop',\n",
    "              loss='binary_crossentropy',\n",
    "              metrics=['accuracy'])\n",
    "history_smaller_model = model.fit(train_data,train_labels, epochs = 20, batch_size=512, validation_split=0.4)"
   ]
  },
  {
   "cell_type": "code",
   "execution_count": 37,
   "id": "aa3180d2-e829-4521-b471-9d65dad9221a",
   "metadata": {},
   "outputs": [
    {
     "data": {
      "text/plain": [
       "<matplotlib.legend.Legend at 0x7fdeb1814390>"
      ]
     },
     "execution_count": 37,
     "metadata": {},
     "output_type": "execute_result"
    },
    {
     "data": {
      "image/png": "[encoded data removed]",
      "text/plain": [
       "<Figure size 432x288 with 1 Axes>"
      ]
     },
     "metadata": {
      "needs_background": "light"
     },
     "output_type": "display_data"
    }
   ],
   "source": [
    "plt.plot(range(1,21),history_original.history['val_loss'],'b-',label='original val loss')\n",
    "plt.plot(range(1,21),history_smaller_model.history['val_loss'], 'r--',label='smaller model val loss')\n",
    "plt.legend()"
   ]
  },
  {
   "cell_type": "code",
   "execution_count": 41,
   "id": "2a5996d9-f23e-492b-b4c2-89d148015534",
   "metadata": {},
   "outputs": [
    {
     "data": {
      "text/plain": [
       "4"
      ]
     },
     "execution_count": 41,
     "metadata": {},
     "output_type": "execute_result"
    }
   ],
   "source": [
    "np.argmin(history_original.history['val_loss'])+1"
   ]
  },
  {
   "cell_type": "code",
   "execution_count": 42,
   "id": "8001d51c-55f8-41fa-9216-e0473c73c98a",
   "metadata": {},
   "outputs": [
    {
     "data": {
      "text/plain": [
       "7"
      ]
     },
     "execution_count": 42,
     "metadata": {},
     "output_type": "execute_result"
    }
   ],
   "source": [
    "np.argmin(history_smaller_model.history['val_loss'])+1"
   ]
  },
  {
   "cell_type": "code",
   "execution_count": 43,
   "id": "8880f3bf-0a46-4788-9bdc-a9b3dde82702",
   "metadata": {},
   "outputs": [
    {
     "name": "stdout",
     "output_type": "stream",
     "text": [
      "Train on 15000 samples, validate on 10000 samples\n",
      "Epoch 1/20\n",
      "15000/15000 [==============================] - 13s 860us/sample - loss: 0.5551 - accuracy: 0.7367 - val_loss: 0.3223 - val_accuracy: 0.8815\n",
      "Epoch 2/20\n",
      "15000/15000 [==============================] - 11s 746us/sample - loss: 0.2607 - accuracy: 0.9023 - val_loss: 0.2697 - val_accuracy: 0.8915\n",
      "Epoch 3/20\n",
      "15000/15000 [==============================] - 11s 762us/sample - loss: 0.1342 - accuracy: 0.9508 - val_loss: 0.3267 - val_accuracy: 0.8886\n",
      "Epoch 4/20\n",
      "15000/15000 [==============================] - 12s 790us/sample - loss: 0.0991 - accuracy: 0.9685 - val_loss: 0.3977 - val_accuracy: 0.8708\n",
      "Epoch 5/20\n",
      "15000/15000 [==============================] - 11s 766us/sample - loss: 0.0969 - accuracy: 0.9751 - val_loss: 0.3437 - val_accuracy: 0.8900\n",
      "Epoch 6/20\n",
      "15000/15000 [==============================] - 11s 751us/sample - loss: 0.0051 - accuracy: 0.9995 - val_loss: 0.5061 - val_accuracy: 0.8873\n",
      "Epoch 7/20\n",
      "15000/15000 [==============================] - 12s 785us/sample - loss: 6.2429e-04 - accuracy: 0.9999 - val_loss: 0.7044 - val_accuracy: 0.8805\n",
      "Epoch 8/20\n",
      "15000/15000 [==============================] - 13s 850us/sample - loss: 7.4756e-04 - accuracy: 0.9999 - val_loss: 0.7378 - val_accuracy: 0.8873\n",
      "Epoch 9/20\n",
      "15000/15000 [==============================] - 12s 804us/sample - loss: 1.8605e-05 - accuracy: 1.0000 - val_loss: 0.8488 - val_accuracy: 0.8862\n",
      "Epoch 10/20\n",
      "15000/15000 [==============================] - 11s 733us/sample - loss: 3.4756e-06 - accuracy: 1.0000 - val_loss: 0.9616 - val_accuracy: 0.8863\n",
      "Epoch 11/20\n",
      "15000/15000 [==============================] - 12s 769us/sample - loss: 9.8389e-07 - accuracy: 1.0000 - val_loss: 1.0136 - val_accuracy: 0.8875\n",
      "Epoch 12/20\n",
      "15000/15000 [==============================] - 11s 729us/sample - loss: 2.9827e-07 - accuracy: 1.0000 - val_loss: 1.1059 - val_accuracy: 0.8854\n",
      "Epoch 13/20\n",
      "15000/15000 [==============================] - 11s 730us/sample - loss: 1.0921e-07 - accuracy: 1.0000 - val_loss: 1.1652 - val_accuracy: 0.8863\n",
      "Epoch 14/20\n",
      "15000/15000 [==============================] - 11s 737us/sample - loss: 4.7793e-08 - accuracy: 1.0000 - val_loss: 1.2121 - val_accuracy: 0.8875\n",
      "Epoch 15/20\n",
      "15000/15000 [==============================] - 11s 741us/sample - loss: 2.7502e-08 - accuracy: 1.0000 - val_loss: 1.2427 - val_accuracy: 0.8860\n",
      "Epoch 16/20\n",
      "15000/15000 [==============================] - 12s 786us/sample - loss: 1.8927e-08 - accuracy: 1.0000 - val_loss: 1.2633 - val_accuracy: 0.8868\n",
      "Epoch 17/20\n",
      "15000/15000 [==============================] - 12s 824us/sample - loss: 1.4507e-08 - accuracy: 1.0000 - val_loss: 1.2801 - val_accuracy: 0.8865\n",
      "Epoch 18/20\n",
      "15000/15000 [==============================] - 12s 809us/sample - loss: 1.1802e-08 - accuracy: 1.0000 - val_loss: 1.2923 - val_accuracy: 0.8865\n",
      "Epoch 19/20\n",
      "15000/15000 [==============================] - 11s 751us/sample - loss: 9.9460e-09 - accuracy: 1.0000 - val_loss: 1.3023 - val_accuracy: 0.8869\n",
      "Epoch 20/20\n",
      "15000/15000 [==============================] - 11s 731us/sample - loss: 8.6374e-09 - accuracy: 1.0000 - val_loss: 1.3112 - val_accuracy: 0.8869\n"
     ]
    }
   ],
   "source": [
    "model = keras.Sequential([\n",
    "    layers.Dense(512, activation='relu'),\n",
    "    layers.Dense(512, activation='relu'),\n",
    "    layers.Dense(1, activation='sigmoid')\n",
    "])\n",
    "\n",
    "model.compile(optimizer='rmsprop',\n",
    "              loss='binary_crossentropy',\n",
    "              metrics=['accuracy'])\n",
    "history_larger_model = model.fit(train_data,train_labels, epochs = 20, batch_size=512, validation_split=0.4)"
   ]
  },
  {
   "cell_type": "code",
   "execution_count": 45,
   "id": "ab26b92a-1a34-4ee6-a59c-0c64871a036a",
   "metadata": {},
   "outputs": [
    {
     "data": {
      "image/png": "[encoded data removed]",
      "text/plain": [
       "<Figure size 432x288 with 1 Axes>"
      ]
     },
     "metadata": {
      "needs_background": "light"
     },
     "output_type": "display_data"
    }
   ],
   "source": [
    "plt.plot(range(1,21),history_original.history['val_loss'],'g-',label='original val loss')\n",
    "plt.plot(range(1,21),history_smaller_model.history['val_loss'], 'b--', label='smaller model val loss')\n",
    "plt.plot(range(1,21),history_larger_model.history['val_loss'],'r:',label='larger model val loss')\n",
    "plt.legend()\n",
    "plt.xlabel('Epochs')\n",
    "plt.ylabel('Validation loss')\n",
    "plt.show()"
   ]
  },
  {
   "cell_type": "code",
   "execution_count": 47,
   "id": "ef2080dd-99ee-497a-b77a-a92537237522",
   "metadata": {},
   "outputs": [
    {
     "data": {
      "image/png": "[encoded data removed]",
      "text/plain": [
       "<Figure size 432x288 with 1 Axes>"
      ]
     },
     "metadata": {
      "needs_background": "light"
     },
     "output_type": "display_data"
    }
   ],
   "source": [
    "plt.plot(range(1,21),history_larger_model.history['accuracy'],'g-',label='training accuracy')\n",
    "plt.plot(range(1,21),history_larger_model.history['val_accuracy'],'r-',label='validation accuracy')\n",
    "plt.title('overly complicated neural network')\n",
    "plt.xlabel('Epochs')\n",
    "plt.ylabel('Accuracy')\n",
    "plt.legend()\n",
    "plt.savefig('overly complicated neural network.png')\n",
    "plt.show()"
   ]
  },
  {
   "cell_type": "code",
   "execution_count": 48,
   "id": "09270e4c-1ac4-4862-9222-6708f6f60302",
   "metadata": {},
   "outputs": [],
   "source": [
    "from tensorflow.keras import regularizers"
   ]
  },
  {
   "cell_type": "code",
   "execution_count": 49,
   "id": "d18f0b5f-8698-4f83-b24e-4c6909c190c0",
   "metadata": {},
   "outputs": [
    {
     "name": "stdout",
     "output_type": "stream",
     "text": [
      "Train on 15000 samples, validate on 10000 samples\n",
      "Epoch 1/20\n",
      "15000/15000 [==============================] - 4s 240us/sample - loss: 0.6127 - accuracy: 0.7756 - val_loss: 0.4894 - val_accuracy: 0.8527\n",
      "Epoch 2/20\n",
      "15000/15000 [==============================] - 2s 122us/sample - loss: 0.4147 - accuracy: 0.8909 - val_loss: 0.3967 - val_accuracy: 0.8843\n",
      "Epoch 3/20\n",
      "15000/15000 [==============================] - 2s 136us/sample - loss: 0.3452 - accuracy: 0.9121 - val_loss: 0.3833 - val_accuracy: 0.8771\n",
      "Epoch 4/20\n",
      "15000/15000 [==============================] - 2s 144us/sample - loss: 0.3114 - accuracy: 0.9225 - val_loss: 0.3792 - val_accuracy: 0.8773\n",
      "Epoch 5/20\n",
      "15000/15000 [==============================] - 2s 127us/sample - loss: 0.2910 - accuracy: 0.9283 - val_loss: 0.4118 - val_accuracy: 0.8645\n",
      "Epoch 6/20\n",
      "15000/15000 [==============================] - 2s 126us/sample - loss: 0.2774 - accuracy: 0.9328 - val_loss: 0.3796 - val_accuracy: 0.8789\n",
      "Epoch 7/20\n",
      "15000/15000 [==============================] - 2s 123us/sample - loss: 0.2679 - accuracy: 0.9351 - val_loss: 0.3653 - val_accuracy: 0.8840\n",
      "Epoch 8/20\n",
      "15000/15000 [==============================] - 2s 133us/sample - loss: 0.2578 - accuracy: 0.9414 - val_loss: 0.3696 - val_accuracy: 0.8839\n",
      "Epoch 9/20\n",
      "15000/15000 [==============================] - 2s 144us/sample - loss: 0.2535 - accuracy: 0.9412 - val_loss: 0.3753 - val_accuracy: 0.8800\n",
      "Epoch 10/20\n",
      "15000/15000 [==============================] - 2s 163us/sample - loss: 0.2436 - accuracy: 0.9461 - val_loss: 0.3933 - val_accuracy: 0.8763\n",
      "Epoch 11/20\n",
      "15000/15000 [==============================] - 2s 129us/sample - loss: 0.2441 - accuracy: 0.9449 - val_loss: 0.3977 - val_accuracy: 0.8759\n",
      "Epoch 12/20\n",
      "15000/15000 [==============================] - 2s 124us/sample - loss: 0.2312 - accuracy: 0.9519 - val_loss: 0.4283 - val_accuracy: 0.8683\n",
      "Epoch 13/20\n",
      "15000/15000 [==============================] - 2s 125us/sample - loss: 0.2347 - accuracy: 0.9455 - val_loss: 0.4729 - val_accuracy: 0.8553\n",
      "Epoch 14/20\n",
      "15000/15000 [==============================] - 2s 122us/sample - loss: 0.2315 - accuracy: 0.9488 - val_loss: 0.3929 - val_accuracy: 0.8761\n",
      "Epoch 15/20\n",
      "15000/15000 [==============================] - 2s 122us/sample - loss: 0.2199 - accuracy: 0.9545 - val_loss: 0.4878 - val_accuracy: 0.8494\n",
      "Epoch 16/20\n",
      "15000/15000 [==============================] - 2s 134us/sample - loss: 0.2261 - accuracy: 0.9509 - val_loss: 0.4006 - val_accuracy: 0.8761\n",
      "Epoch 17/20\n",
      "15000/15000 [==============================] - 2s 139us/sample - loss: 0.2186 - accuracy: 0.9554 - val_loss: 0.4041 - val_accuracy: 0.8766\n",
      "Epoch 18/20\n",
      "15000/15000 [==============================] - 2s 133us/sample - loss: 0.2183 - accuracy: 0.9526 - val_loss: 0.4037 - val_accuracy: 0.8752\n",
      "Epoch 19/20\n",
      "15000/15000 [==============================] - 2s 148us/sample - loss: 0.2138 - accuracy: 0.9556 - val_loss: 0.4416 - val_accuracy: 0.8676\n",
      "Epoch 20/20\n",
      "15000/15000 [==============================] - 2s 139us/sample - loss: 0.2171 - accuracy: 0.9539 - val_loss: 0.4662 - val_accuracy: 0.8648\n"
     ]
    }
   ],
   "source": [
    "model = keras.Sequential([\n",
    "    layers.Dense(16, kernel_regularizer=regularizers.l2(0.002),\n",
    "                 activation='relu'),\n",
    "    layers.Dense(16, kernel_regularizer=regularizers.l2(0.002),\n",
    "                 activation='relu'),\n",
    "    layers.Dense(1, activation='sigmoid')\n",
    "])\n",
    "\n",
    "model.compile(optimizer='rmsprop',\n",
    "              loss='binary_crossentropy',\n",
    "              metrics=['accuracy'])\n",
    "history_l2_regularizer = model.fit(train_data,train_labels, epochs = 20, batch_size=512, validation_split=0.4)"
   ]
  },
  {
   "cell_type": "code",
   "execution_count": 52,
   "id": "6d4bf130-ab79-4d0c-afa7-67e9f6f85e14",
   "metadata": {},
   "outputs": [
    {
     "data": {
      "text/plain": [
       "[<matplotlib.lines.Line2D at 0x7fdeae206910>]"
      ]
     },
     "execution_count": 52,
     "metadata": {},
     "output_type": "execute_result"
    },
    {
     "data": {
      "image/png": "[encoded data removed]",
      "text/plain": [
       "<Figure size 432x288 with 1 Axes>"
      ]
     },
     "metadata": {
      "needs_background": "light"
     },
     "output_type": "display_data"
    }
   ],
   "source": [
    "plt.plot(range(1,21),history_original.history['val_loss'],'g-')\n",
    "plt.plot(range(1,21),history_l2_regularizer.history['val_loss'],'r:')"
   ]
  },
  {
   "cell_type": "code",
   "execution_count": 53,
   "id": "cf87df91-8791-479f-99fa-c3427d211faf",
   "metadata": {},
   "outputs": [
    {
     "name": "stdout",
     "output_type": "stream",
     "text": [
      "Train on 15000 samples, validate on 10000 samples\n",
      "Epoch 1/20\n",
      "15000/15000 [==============================] - 4s 296us/sample - loss: 0.6357 - accuracy: 0.6353 - val_loss: 0.5421 - val_accuracy: 0.7596\n",
      "Epoch 2/20\n",
      "15000/15000 [==============================] - 2s 128us/sample - loss: 0.5207 - accuracy: 0.7759 - val_loss: 0.4496 - val_accuracy: 0.8651\n",
      "Epoch 3/20\n",
      "15000/15000 [==============================] - 2s 138us/sample - loss: 0.4466 - accuracy: 0.8392 - val_loss: 0.3944 - val_accuracy: 0.8706\n",
      "Epoch 4/20\n",
      "15000/15000 [==============================] - 2s 146us/sample - loss: 0.3919 - accuracy: 0.8729 - val_loss: 0.3546 - val_accuracy: 0.8816\n",
      "Epoch 5/20\n",
      "15000/15000 [==============================] - 2s 142us/sample - loss: 0.3471 - accuracy: 0.8963 - val_loss: 0.3244 - val_accuracy: 0.8846\n",
      "Epoch 6/20\n",
      "15000/15000 [==============================] - 2s 122us/sample - loss: 0.3009 - accuracy: 0.9118 - val_loss: 0.3166 - val_accuracy: 0.8850\n",
      "Epoch 7/20\n",
      "15000/15000 [==============================] - 2s 128us/sample - loss: 0.2697 - accuracy: 0.9284 - val_loss: 0.3057 - val_accuracy: 0.8861\n",
      "Epoch 8/20\n",
      "15000/15000 [==============================] - 2s 123us/sample - loss: 0.2388 - accuracy: 0.9374 - val_loss: 0.3281 - val_accuracy: 0.8845\n",
      "Epoch 9/20\n",
      "15000/15000 [==============================] - 2s 159us/sample - loss: 0.2094 - accuracy: 0.9453 - val_loss: 0.3479 - val_accuracy: 0.8829\n",
      "Epoch 10/20\n",
      "15000/15000 [==============================] - 2s 142us/sample - loss: 0.1967 - accuracy: 0.9509 - val_loss: 0.3649 - val_accuracy: 0.8815\n",
      "Epoch 11/20\n",
      "15000/15000 [==============================] - 2s 122us/sample - loss: 0.1675 - accuracy: 0.9578 - val_loss: 0.3561 - val_accuracy: 0.8836\n",
      "Epoch 12/20\n",
      "15000/15000 [==============================] - 2s 132us/sample - loss: 0.1512 - accuracy: 0.9621 - val_loss: 0.3804 - val_accuracy: 0.8823\n",
      "Epoch 13/20\n",
      "15000/15000 [==============================] - 2s 140us/sample - loss: 0.1364 - accuracy: 0.9645 - val_loss: 0.4158 - val_accuracy: 0.8802\n",
      "Epoch 14/20\n",
      "15000/15000 [==============================] - 2s 129us/sample - loss: 0.1250 - accuracy: 0.9695 - val_loss: 0.4158 - val_accuracy: 0.8794\n",
      "Epoch 15/20\n",
      "15000/15000 [==============================] - 2s 124us/sample - loss: 0.1129 - accuracy: 0.9725 - val_loss: 0.4511 - val_accuracy: 0.8797\n",
      "Epoch 16/20\n",
      "15000/15000 [==============================] - 2s 134us/sample - loss: 0.1033 - accuracy: 0.9753 - val_loss: 0.5046 - val_accuracy: 0.8785\n",
      "Epoch 17/20\n",
      "15000/15000 [==============================] - 2s 127us/sample - loss: 0.0907 - accuracy: 0.9774 - val_loss: 0.5417 - val_accuracy: 0.8790\n",
      "Epoch 18/20\n",
      "15000/15000 [==============================] - 2s 134us/sample - loss: 0.0906 - accuracy: 0.9771 - val_loss: 0.5471 - val_accuracy: 0.8795\n",
      "Epoch 19/20\n",
      "15000/15000 [==============================] - 2s 131us/sample - loss: 0.0804 - accuracy: 0.9797 - val_loss: 0.7094 - val_accuracy: 0.8732\n",
      "Epoch 20/20\n",
      "15000/15000 [==============================] - 2s 133us/sample - loss: 0.0769 - accuracy: 0.9810 - val_loss: 0.6377 - val_accuracy: 0.8779\n"
     ]
    }
   ],
   "source": [
    "model = keras.Sequential([\n",
    "    layers.Dense(16, activation='relu'),\n",
    "    layers.Dropout(0.5),\n",
    "    layers.Dense(16, activation='relu'),\n",
    "    layers.Dropout(0.5),\n",
    "    layers.Dense(1, activation='sigmoid')\n",
    "])\n",
    "\n",
    "model.compile(optimizer='rmsprop',\n",
    "              loss='binary_crossentropy',\n",
    "              metrics=['accuracy'])\n",
    "history_dropout = model.fit(train_data,train_labels, epochs = 20, batch_size=512, validation_split=0.4)"
   ]
  },
  {
   "cell_type": "code",
   "execution_count": 54,
   "id": "23005ed2-93c1-4762-983e-175284d5f53e",
   "metadata": {},
   "outputs": [
    {
     "data": {
      "text/plain": [
       "[<matplotlib.lines.Line2D at 0x7fdeaf39d090>]"
      ]
     },
     "execution_count": 54,
     "metadata": {},
     "output_type": "execute_result"
    },
    {
     "data": {
      "image/png": "[encoded data removed]",
      "text/plain": [
       "<Figure size 432x288 with 1 Axes>"
      ]
     },
     "metadata": {
      "needs_background": "light"
     },
     "output_type": "display_data"
    }
   ],
   "source": [
    "plt.plot(range(1,21),history_original.history['val_loss'],'g-')\n",
    "plt.plot(range(1,21),history_dropout.history['val_loss'],'r:')"
   ]
  },
  {
   "cell_type": "code",
   "execution_count": null,
   "id": "ba21cb25-09aa-4ed1-92de-0ef9fe27dafe",
   "metadata": {},
   "outputs": [],
   "source": []
  }
 ],
 "metadata": {
  "kernelspec": {
   "display_name": "Python 3 (ipykernel)",
   "language": "python",
   "name": "python3"
  },
  "language_info": {
   "codemirror_mode": {
    "name": "ipython",
    "version": 3
   },
   "file_extension": ".py",
   "mimetype": "text/x-python",
   "name": "python",
   "nbconvert_exporter": "python",
   "pygments_lexer": "ipython3",
   "version": "3.7.11"
  }
 },
 "nbformat": 4,
 "nbformat_minor": 5
}
