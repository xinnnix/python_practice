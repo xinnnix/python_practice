{
  "cells": [
    {
      "cell_type": "code",
      "source": [
        "!nvidia-smi"
      ],
      "metadata": {
        "colab": {
          "base_uri": "https://localhost:8080/"
        },
        "id": "Wi3lvP7h6xSj",
        "outputId": "3431badb-f942-451f-acc3-d44920cea45a"
      },
      "id": "Wi3lvP7h6xSj",
      "execution_count": 1,
      "outputs": [
        {
          "output_type": "stream",
          "name": "stdout",
          "text": [
            "Tue Feb 15 12:31:42 2022       \n",
            "+-----------------------------------------------------------------------------+\n",
            "| NVIDIA-SMI 460.32.03    Driver Version: 460.32.03    CUDA Version: 11.2     |\n",
            "|-------------------------------+----------------------+----------------------+\n",
            "| GPU  Name        Persistence-M| Bus-Id        Disp.A | Volatile Uncorr. ECC |\n",
            "| Fan  Temp  Perf  Pwr:Usage/Cap|         Memory-Usage | GPU-Util  Compute M. |\n",
            "|                               |                      |               MIG M. |\n",
            "|===============================+======================+======================|\n",
            "|   0  Tesla K80           Off  | 00000000:00:04.0 Off |                    0 |\n",
            "| N/A   72C    P8    35W / 149W |      0MiB / 11441MiB |      0%      Default |\n",
            "|                               |                      |                  N/A |\n",
            "+-------------------------------+----------------------+----------------------+\n",
            "                                                                               \n",
            "+-----------------------------------------------------------------------------+\n",
            "| Processes:                                                                  |\n",
            "|  GPU   GI   CI        PID   Type   Process name                  GPU Memory |\n",
            "|        ID   ID                                                   Usage      |\n",
            "|=============================================================================|\n",
            "|  No running processes found                                                 |\n",
            "+-----------------------------------------------------------------------------+\n"
          ]
        }
      ]
    },
    {
      "cell_type": "code",
      "source": [
        "from google.colab import drive\n",
        "drive.mount('/content/drive')"
      ],
      "metadata": {
        "colab": {
          "base_uri": "https://localhost:8080/"
        },
        "id": "L1wr0Hif0IkU",
        "outputId": "126697a4-b0a9-4767-b04d-276365c7a744"
      },
      "id": "L1wr0Hif0IkU",
      "execution_count": 2,
      "outputs": [
        {
          "output_type": "stream",
          "name": "stdout",
          "text": [
            "Mounted at /content/drive\n"
          ]
        }
      ]
    },
    {
      "cell_type": "code",
      "source": [
        "cd /content/drive/MyDrive"
      ],
      "metadata": {
        "colab": {
          "base_uri": "https://localhost:8080/"
        },
        "id": "Q9VLTxh00T8P",
        "outputId": "42c5aeca-c4c2-4337-e1e8-a2126a087117"
      },
      "id": "Q9VLTxh00T8P",
      "execution_count": 3,
      "outputs": [
        {
          "output_type": "stream",
          "name": "stdout",
          "text": [
            "/content/drive/MyDrive\n"
          ]
        }
      ]
    },
    {
      "cell_type": "code",
      "execution_count": 4,
      "id": "2c71db64-db89-4b71-a5ae-74b3f2b9f432",
      "metadata": {
        "id": "2c71db64-db89-4b71-a5ae-74b3f2b9f432"
      },
      "outputs": [],
      "source": [
        "!mkdir data"
      ]
    },
    {
      "cell_type": "code",
      "source": [
        "!unzip -qq data.zip -d data"
      ],
      "metadata": {
        "id": "aY3x0IUQVnDO"
      },
      "id": "aY3x0IUQVnDO",
      "execution_count": 5,
      "outputs": []
    },
    {
      "cell_type": "code",
      "source": [
        "cd /content/drive/MyDrive/data"
      ],
      "metadata": {
        "colab": {
          "base_uri": "https://localhost:8080/"
        },
        "id": "gnTFsCPPX2X_",
        "outputId": "0658d7d0-cc2a-4bc1-e0af-b09aee6fec85"
      },
      "id": "gnTFsCPPX2X_",
      "execution_count": 6,
      "outputs": [
        {
          "output_type": "stream",
          "name": "stdout",
          "text": [
            "/content/drive/MyDrive/data\n"
          ]
        }
      ]
    },
    {
      "cell_type": "code",
      "source": [
        "!rm -rf pokemon_jpg"
      ],
      "metadata": {
        "id": "ty6EGhNtX870"
      },
      "id": "ty6EGhNtX870",
      "execution_count": 7,
      "outputs": []
    },
    {
      "cell_type": "code",
      "execution_count": 8,
      "id": "b97d0cfa-88eb-454d-9aad-ba11dda5ff98",
      "metadata": {
        "id": "b97d0cfa-88eb-454d-9aad-ba11dda5ff98"
      },
      "outputs": [],
      "source": [
        "from tensorflow import keras"
      ]
    },
    {
      "cell_type": "code",
      "execution_count": 9,
      "id": "e721ad34-0439-4d3a-a549-7e41c7a066d4",
      "metadata": {
        "colab": {
          "base_uri": "https://localhost:8080/"
        },
        "id": "e721ad34-0439-4d3a-a549-7e41c7a066d4",
        "outputId": "231be264-3ebb-495c-f344-93c844aa2223"
      },
      "outputs": [
        {
          "output_type": "stream",
          "name": "stdout",
          "text": [
            "Found 819 files belonging to 1 classes.\n"
          ]
        }
      ],
      "source": [
        "dataset = keras.utils.image_dataset_from_directory(\n",
        "    'pokemon',\n",
        "    label_mode=None,\n",
        "    image_size=(64,64),\n",
        "    batch_size=32,\n",
        "    smart_resize=True)"
      ]
    },
    {
      "cell_type": "code",
      "execution_count": 10,
      "id": "63d38cda-0ff1-43c2-a66b-539db0e7f2df",
      "metadata": {
        "id": "63d38cda-0ff1-43c2-a66b-539db0e7f2df"
      },
      "outputs": [],
      "source": [
        "dataset = dataset.map(lambda x: x / 255.)"
      ]
    },
    {
      "cell_type": "code",
      "execution_count": 11,
      "id": "ca4508a2-45eb-4e0a-affa-9a12ea9deb32",
      "metadata": {
        "colab": {
          "base_uri": "https://localhost:8080/",
          "height": 248
        },
        "id": "ca4508a2-45eb-4e0a-affa-9a12ea9deb32",
        "outputId": "dfe6e40a-30a7-45e3-9586-c23f60d42286"
      },
      "outputs": [
        {
          "output_type": "display_data",
          "data": {
            "image/png": "[encoded data removed]",
            "text/plain": [
              "<Figure size 432x288 with 1 Axes>"
            ]
          },
          "metadata": {
            "needs_background": "light"
          }
        }
      ],
      "source": [
        "import matplotlib.pyplot as plt\n",
        "for x in dataset:\n",
        "    plt.axis('off')\n",
        "    plt.imshow((x.numpy() * 255).astype('int32')[0])\n",
        "    break"
      ]
    },
    {
      "cell_type": "code",
      "execution_count": 12,
      "id": "806b7b2a-a920-476f-9ade-00a1751ac841",
      "metadata": {
        "id": "806b7b2a-a920-476f-9ade-00a1751ac841"
      },
      "outputs": [],
      "source": [
        "from tensorflow.keras import layers\n",
        "\n",
        "discriminator = keras.Sequential([\n",
        "    keras.Input(shape=(64,64,3)),\n",
        "    layers.Conv2D(64, kernel_size=4, strides=2, padding='same'),\n",
        "    layers.LeakyReLU(alpha=0.2),\n",
        "    layers.Conv2D(128, kernel_size=4, strides=2, padding='same'),\n",
        "    layers.LeakyReLU(alpha=0.2),\n",
        "    layers.Conv2D(128, kernel_size=4, strides=2, padding='same'),\n",
        "    layers.LeakyReLU(alpha=0.2),\n",
        "    layers.Flatten(),\n",
        "    layers.Dropout(0.2),\n",
        "    layers.Dense(1, activation='sigmoid')],\n",
        "    \n",
        "    name='discriminator')"
      ]
    },
    {
      "cell_type": "code",
      "execution_count": 13,
      "id": "ef43babc-15a3-49a0-aee5-bfbbba3096d5",
      "metadata": {
        "colab": {
          "base_uri": "https://localhost:8080/"
        },
        "id": "ef43babc-15a3-49a0-aee5-bfbbba3096d5",
        "outputId": "0babc6e6-6104-4d80-ec9e-bd44c3ff6fe1"
      },
      "outputs": [
        {
          "output_type": "stream",
          "name": "stdout",
          "text": [
            "Model: \"discriminator\"\n",
            "_________________________________________________________________\n",
            " Layer (type)                Output Shape              Param #   \n",
            "=================================================================\n",
            " conv2d (Conv2D)             (None, 32, 32, 64)        3136      \n",
            "                                                                 \n",
            " leaky_re_lu (LeakyReLU)     (None, 32, 32, 64)        0         \n",
            "                                                                 \n",
            " conv2d_1 (Conv2D)           (None, 16, 16, 128)       131200    \n",
            "                                                                 \n",
            " leaky_re_lu_1 (LeakyReLU)   (None, 16, 16, 128)       0         \n",
            "                                                                 \n",
            " conv2d_2 (Conv2D)           (None, 8, 8, 128)         262272    \n",
            "                                                                 \n",
            " leaky_re_lu_2 (LeakyReLU)   (None, 8, 8, 128)         0         \n",
            "                                                                 \n",
            " flatten (Flatten)           (None, 8192)              0         \n",
            "                                                                 \n",
            " dropout (Dropout)           (None, 8192)              0         \n",
            "                                                                 \n",
            " dense (Dense)               (None, 1)                 8193      \n",
            "                                                                 \n",
            "=================================================================\n",
            "Total params: 404,801\n",
            "Trainable params: 404,801\n",
            "Non-trainable params: 0\n",
            "_________________________________________________________________\n"
          ]
        }
      ],
      "source": [
        "discriminator.summary()"
      ]
    },
    {
      "cell_type": "code",
      "execution_count": 14,
      "id": "08e153fa-14dc-4dec-9abb-d34805924d1d",
      "metadata": {
        "id": "08e153fa-14dc-4dec-9abb-d34805924d1d"
      },
      "outputs": [],
      "source": [
        "latent_dim = 128\n",
        "\n",
        "generator = keras.Sequential([\n",
        "    keras.Input(shape=(latent_dim,)),\n",
        "    layers.Dense(8*8*128),\n",
        "    layers.Reshape((8,8,128)),\n",
        "    layers.Conv2DTranspose(128, kernel_size=4, strides=2, padding='same'),\n",
        "    layers.LeakyReLU(alpha=0.2),\n",
        "    layers.Conv2DTranspose(256, kernel_size=4, strides=2, padding='same'),\n",
        "    layers.LeakyReLU(alpha=0.2),\n",
        "    layers.Conv2DTranspose(512, kernel_size=4, strides=2, padding='same'),\n",
        "    layers.LeakyReLU(alpha=0.2),\n",
        "    layers.Conv2D(3, kernel_size=5, padding='same', activation='sigmoid')],\n",
        "    \n",
        "    name='generator')"
      ]
    },
    {
      "cell_type": "code",
      "execution_count": 15,
      "id": "2a80dcab-5e6a-4432-9e98-7f28a8f1cea9",
      "metadata": {
        "colab": {
          "base_uri": "https://localhost:8080/"
        },
        "id": "2a80dcab-5e6a-4432-9e98-7f28a8f1cea9",
        "outputId": "47390a38-73d3-492a-f15b-f0174e55a8a9"
      },
      "outputs": [
        {
          "output_type": "stream",
          "name": "stdout",
          "text": [
            "Model: \"generator\"\n",
            "_________________________________________________________________\n",
            " Layer (type)                Output Shape              Param #   \n",
            "=================================================================\n",
            " dense_1 (Dense)             (None, 8192)              1056768   \n",
            "                                                                 \n",
            " reshape (Reshape)           (None, 8, 8, 128)         0         \n",
            "                                                                 \n",
            " conv2d_transpose (Conv2DTra  (None, 16, 16, 128)      262272    \n",
            " nspose)                                                         \n",
            "                                                                 \n",
            " leaky_re_lu_3 (LeakyReLU)   (None, 16, 16, 128)       0         \n",
            "                                                                 \n",
            " conv2d_transpose_1 (Conv2DT  (None, 32, 32, 256)      524544    \n",
            " ranspose)                                                       \n",
            "                                                                 \n",
            " leaky_re_lu_4 (LeakyReLU)   (None, 32, 32, 256)       0         \n",
            "                                                                 \n",
            " conv2d_transpose_2 (Conv2DT  (None, 64, 64, 512)      2097664   \n",
            " ranspose)                                                       \n",
            "                                                                 \n",
            " leaky_re_lu_5 (LeakyReLU)   (None, 64, 64, 512)       0         \n",
            "                                                                 \n",
            " conv2d_3 (Conv2D)           (None, 64, 64, 3)         38403     \n",
            "                                                                 \n",
            "=================================================================\n",
            "Total params: 3,979,651\n",
            "Trainable params: 3,979,651\n",
            "Non-trainable params: 0\n",
            "_________________________________________________________________\n"
          ]
        }
      ],
      "source": [
        "generator.summary()"
      ]
    },
    {
      "cell_type": "code",
      "execution_count": 16,
      "id": "3fb8d8b5-1cc8-42e8-b9b6-7c715474a20f",
      "metadata": {
        "id": "3fb8d8b5-1cc8-42e8-b9b6-7c715474a20f"
      },
      "outputs": [],
      "source": [
        "import tensorflow as tf\n",
        "\n",
        "class GAN(keras.Model):\n",
        "    def __init__(self, discriminator, generator, latent_dim):\n",
        "        super().__init__()\n",
        "        self.discriminator = discriminator\n",
        "        self.generator = generator\n",
        "        self.latent_dim = latent_dim\n",
        "        self.d_loss_metric = keras.metrics.Mean(name='d_loss')\n",
        "        self.g_loss_metric = keras.metrics.Mean(name='g_loss')\n",
        "        \n",
        "    def compile(self, d_optimizer, g_optimizer, loss_fn):\n",
        "        super(GAN, self).compile()\n",
        "        self.d_optimizer = d_optimizer\n",
        "        self.g_optimizer = g_optimizer\n",
        "        self.loss_fn = loss_fn\n",
        "        \n",
        "    @property\n",
        "    def metrics(self):\n",
        "        return [self.d_loss_metric, self.g_loss_metric]\n",
        "    \n",
        "    def train_step(self, real_images):\n",
        "        batch_size = tf.shape(real_images)[0]\n",
        "        random_latent_vectors = tf.random.normal(shape = (batch_size, self.latent_dim))\n",
        "        generated_images = self.generator(random_latent_vectors)\n",
        "        combined_images = tf.concat([generated_images, real_images], axis=0)\n",
        "        labels = tf.concat([tf.ones((batch_size,1)), tf.zeros((batch_size,1))], axis=0)\n",
        "        labels += 0.05 * tf.random.uniform(tf.shape(labels))\n",
        "        \n",
        "        with tf.GradientTape() as tape:\n",
        "            predictions = self.discriminator(combined_images)\n",
        "            d_loss = self.loss_fn(labels, predictions)\n",
        "        grads = tape.gradient(d_loss, self.discriminator.trainable_weights)\n",
        "        self.d_optimizer.apply_gradients(zip(grads, self.discriminator.trainable_weights))\n",
        "        \n",
        "        random_latent_vectors = tf.random.normal(shape=(batch_size, self.latent_dim))\n",
        "        misleading_labels = tf.zeros((batch_size, 1))\n",
        "        \n",
        "        with tf.GradientTape() as tape:\n",
        "            predictions = self.discriminator(self.generator(random_latent_vectors))\n",
        "            g_loss = self.loss_fn(misleading_labels, predictions)\n",
        "        grads = tape.gradient(g_loss, self.generator.trainable_weights)\n",
        "        self.g_optimizer.apply_gradients(zip(grads, self.generator.trainable_weights))\n",
        "        \n",
        "        self.d_loss_metric.update_state(d_loss)\n",
        "        self.g_loss_metric.update_state(g_loss)\n",
        "        return {'d_loss': self.d_loss_metric.result(),\n",
        "                'g_loss': self.g_loss_metric.result()}"
      ]
    },
    {
      "cell_type": "code",
      "execution_count": 20,
      "id": "7f02e897-5945-4382-9c58-140b414c7066",
      "metadata": {
        "id": "7f02e897-5945-4382-9c58-140b414c7066"
      },
      "outputs": [],
      "source": [
        "class GANMonitor(keras.callbacks.Callback):\n",
        "    def __init__(self, num_img=3, latent_dim=128):\n",
        "        self.num_img = num_img\n",
        "        self.latent_dim = latent_dim\n",
        "        \n",
        "    def on_epoch_end(self, epoch, logs=None):\n",
        "        random_latent_vectors = tf.random.normal(shape=(self.num_img, self.latent_dim))\n",
        "        generated_images = self.model.generator(random_latent_vectors)\n",
        "        generated_images *= 255\n",
        "        generated_images.numpy()\n",
        "        \n",
        "        for i in range(self.num_img):\n",
        "            img = keras.utils.array_to_img(generated_images[i])\n",
        "            img.save(f'generated_img_2_{epoch:03d}_{i}.png')"
      ]
    },
    {
      "cell_type": "code",
      "execution_count": 18,
      "id": "81a69339-0b39-4195-80b2-50739e1613b7",
      "metadata": {
        "id": "81a69339-0b39-4195-80b2-50739e1613b7"
      },
      "outputs": [],
      "source": [
        "epochs = 100\n",
        "\n",
        "gan = GAN(discriminator=discriminator, generator=generator, latent_dim=latent_dim)\n",
        "\n",
        "gan.compile(d_optimizer=keras.optimizers.Adam(learning_rate=0.0001),\n",
        "            g_optimizer=keras.optimizers.Adam(learning_rate=0.0001),\n",
        "            loss_fn=keras.losses.BinaryCrossentropy())"
      ]
    },
    {
      "cell_type": "code",
      "execution_count": 19,
      "id": "d6a34bab-9cf5-46b3-99da-4ab9d8f17e0e",
      "metadata": {
        "colab": {
          "base_uri": "https://localhost:8080/"
        },
        "id": "d6a34bab-9cf5-46b3-99da-4ab9d8f17e0e",
        "outputId": "32572786-f3dd-44b0-bb62-707269f46e30"
      },
      "outputs": [
        {
          "output_type": "stream",
          "name": "stdout",
          "text": [
            "Epoch 1/100\n",
            "26/26 [==============================] - 35s 800ms/step - d_loss: 0.5615 - g_loss: 1.0809\n",
            "Epoch 2/100\n",
            "26/26 [==============================] - 19s 685ms/step - d_loss: 0.3255 - g_loss: 1.0812\n",
            "Epoch 3/100\n",
            "26/26 [==============================] - 19s 682ms/step - d_loss: 0.3016 - g_loss: 1.0739\n",
            "Epoch 4/100\n",
            "26/26 [==============================] - 19s 684ms/step - d_loss: 0.1242 - g_loss: 2.4640\n",
            "Epoch 5/100\n",
            "26/26 [==============================] - 19s 682ms/step - d_loss: 0.0573 - g_loss: 4.4029\n",
            "Epoch 6/100\n",
            "26/26 [==============================] - 19s 680ms/step - d_loss: 0.0345 - g_loss: 5.7146\n",
            "Epoch 7/100\n",
            "26/26 [==============================] - 18s 680ms/step - d_loss: 0.0182 - g_loss: 7.0561\n",
            "Epoch 8/100\n",
            "26/26 [==============================] - 19s 680ms/step - d_loss: 0.0078 - g_loss: 8.7574\n",
            "Epoch 9/100\n",
            "26/26 [==============================] - 18s 679ms/step - d_loss: -0.0064 - g_loss: 10.8913\n",
            "Epoch 10/100\n",
            "26/26 [==============================] - 18s 680ms/step - d_loss: -0.0245 - g_loss: 14.2196\n",
            "Epoch 11/100\n",
            "26/26 [==============================] - 18s 679ms/step - d_loss: -0.0482 - g_loss: 18.1568\n",
            "Epoch 12/100\n",
            "26/26 [==============================] - 19s 677ms/step - d_loss: 0.3154 - g_loss: 18.5183\n",
            "Epoch 13/100\n",
            "26/26 [==============================] - 18s 679ms/step - d_loss: 0.2734 - g_loss: 8.3711\n",
            "Epoch 14/100\n",
            "26/26 [==============================] - 19s 681ms/step - d_loss: 0.2225 - g_loss: 11.6169\n",
            "Epoch 15/100\n",
            "26/26 [==============================] - 19s 680ms/step - d_loss: 1.5563 - g_loss: 5.0164\n",
            "Epoch 16/100\n",
            "26/26 [==============================] - 18s 681ms/step - d_loss: 0.0981 - g_loss: 4.3891\n",
            "Epoch 17/100\n",
            "26/26 [==============================] - 19s 682ms/step - d_loss: 0.2874 - g_loss: 2.4948\n",
            "Epoch 18/100\n",
            "26/26 [==============================] - 19s 681ms/step - d_loss: 0.2962 - g_loss: 2.5195\n",
            "Epoch 19/100\n",
            "26/26 [==============================] - 19s 682ms/step - d_loss: 0.3347 - g_loss: 2.2983\n",
            "Epoch 20/100\n",
            "26/26 [==============================] - 19s 683ms/step - d_loss: 0.4183 - g_loss: 1.9075\n",
            "Epoch 21/100\n",
            "26/26 [==============================] - 19s 683ms/step - d_loss: 0.5745 - g_loss: 1.4986\n",
            "Epoch 22/100\n",
            "26/26 [==============================] - 18s 681ms/step - d_loss: 0.3889 - g_loss: 2.6138\n",
            "Epoch 23/100\n",
            "26/26 [==============================] - 19s 683ms/step - d_loss: 0.2415 - g_loss: 3.6728\n",
            "Epoch 24/100\n",
            "26/26 [==============================] - 19s 684ms/step - d_loss: 0.0822 - g_loss: 4.8706\n",
            "Epoch 25/100\n",
            "26/26 [==============================] - 19s 682ms/step - d_loss: 0.3630 - g_loss: 2.5090\n",
            "Epoch 26/100\n",
            "26/26 [==============================] - 19s 681ms/step - d_loss: 0.4910 - g_loss: 2.1736\n",
            "Epoch 27/100\n",
            "26/26 [==============================] - 19s 682ms/step - d_loss: 0.0531 - g_loss: 7.2431\n",
            "Epoch 28/100\n",
            "26/26 [==============================] - 19s 685ms/step - d_loss: 0.4434 - g_loss: 1.6905\n",
            "Epoch 29/100\n",
            "26/26 [==============================] - 19s 689ms/step - d_loss: 0.3164 - g_loss: 2.2761\n",
            "Epoch 30/100\n",
            "26/26 [==============================] - 19s 688ms/step - d_loss: 0.3721 - g_loss: 2.1891\n",
            "Epoch 31/100\n",
            "26/26 [==============================] - 19s 688ms/step - d_loss: 0.2564 - g_loss: 1.9998\n",
            "Epoch 32/100\n",
            "26/26 [==============================] - 19s 690ms/step - d_loss: 0.1503 - g_loss: 2.5493\n",
            "Epoch 33/100\n",
            "26/26 [==============================] - 19s 691ms/step - d_loss: 0.1171 - g_loss: 2.8853\n",
            "Epoch 34/100\n",
            "26/26 [==============================] - 19s 688ms/step - d_loss: 0.1531 - g_loss: 2.8022\n",
            "Epoch 35/100\n",
            "26/26 [==============================] - 19s 690ms/step - d_loss: 0.2386 - g_loss: 9.5700\n",
            "Epoch 36/100\n",
            "26/26 [==============================] - 19s 689ms/step - d_loss: 0.1374 - g_loss: 4.5620\n",
            "Epoch 37/100\n",
            "26/26 [==============================] - 19s 687ms/step - d_loss: 0.1762 - g_loss: 3.8870\n",
            "Epoch 38/100\n",
            "26/26 [==============================] - 19s 688ms/step - d_loss: 0.0996 - g_loss: 4.0361\n",
            "Epoch 39/100\n",
            "26/26 [==============================] - 19s 689ms/step - d_loss: 0.0806 - g_loss: 3.8046\n",
            "Epoch 40/100\n",
            "26/26 [==============================] - 19s 689ms/step - d_loss: 0.1191 - g_loss: 3.0843\n",
            "Epoch 41/100\n",
            "26/26 [==============================] - 19s 689ms/step - d_loss: 0.3545 - g_loss: 2.8888\n",
            "Epoch 42/100\n",
            "26/26 [==============================] - 19s 690ms/step - d_loss: 0.1910 - g_loss: 9.5511\n",
            "Epoch 43/100\n",
            "26/26 [==============================] - 19s 691ms/step - d_loss: -0.0365 - g_loss: 13.8593\n",
            "Epoch 44/100\n",
            "26/26 [==============================] - 19s 688ms/step - d_loss: -0.0995 - g_loss: 19.0455\n",
            "Epoch 45/100\n",
            "26/26 [==============================] - 19s 689ms/step - d_loss: 0.0394 - g_loss: 11.7269\n",
            "Epoch 46/100\n",
            "26/26 [==============================] - 19s 688ms/step - d_loss: -0.0442 - g_loss: 17.9833\n",
            "Epoch 47/100\n",
            "26/26 [==============================] - 19s 692ms/step - d_loss: 0.6269 - g_loss: 3.1468\n",
            "Epoch 48/100\n",
            "26/26 [==============================] - 19s 688ms/step - d_loss: 0.0989 - g_loss: 4.2840\n",
            "Epoch 49/100\n",
            "26/26 [==============================] - 19s 691ms/step - d_loss: 0.1331 - g_loss: 4.4874\n",
            "Epoch 50/100\n",
            "26/26 [==============================] - 19s 690ms/step - d_loss: 0.0037 - g_loss: 7.4041\n",
            "Epoch 51/100\n",
            "26/26 [==============================] - 19s 689ms/step - d_loss: 0.2228 - g_loss: 3.5508\n",
            "Epoch 52/100\n",
            "26/26 [==============================] - 19s 689ms/step - d_loss: 0.2559 - g_loss: 2.1995\n",
            "Epoch 53/100\n",
            "26/26 [==============================] - 19s 689ms/step - d_loss: 0.3495 - g_loss: 2.0427\n",
            "Epoch 54/100\n",
            "26/26 [==============================] - 19s 689ms/step - d_loss: 0.3083 - g_loss: 3.8239\n",
            "Epoch 55/100\n",
            "26/26 [==============================] - 19s 690ms/step - d_loss: 0.7931 - g_loss: 6.4792\n",
            "Epoch 56/100\n",
            "26/26 [==============================] - 19s 692ms/step - d_loss: 0.1076 - g_loss: 8.6550\n",
            "Epoch 57/100\n",
            "26/26 [==============================] - 19s 692ms/step - d_loss: 0.7052 - g_loss: 2.1160\n",
            "Epoch 58/100\n",
            "26/26 [==============================] - 19s 689ms/step - d_loss: 0.9356 - g_loss: 4.6672\n",
            "Epoch 59/100\n",
            "26/26 [==============================] - 19s 690ms/step - d_loss: 1.0440 - g_loss: 4.6814\n",
            "Epoch 60/100\n",
            "26/26 [==============================] - 19s 689ms/step - d_loss: 0.9191 - g_loss: 1.9394\n",
            "Epoch 61/100\n",
            "26/26 [==============================] - 19s 689ms/step - d_loss: 0.5348 - g_loss: 1.6565\n",
            "Epoch 62/100\n",
            "26/26 [==============================] - 19s 689ms/step - d_loss: 0.0726 - g_loss: 4.0466\n",
            "Epoch 63/100\n",
            "26/26 [==============================] - 19s 691ms/step - d_loss: 0.0269 - g_loss: 5.8677\n",
            "Epoch 64/100\n",
            "26/26 [==============================] - 19s 687ms/step - d_loss: 0.1810 - g_loss: 2.4509\n",
            "Epoch 65/100\n",
            "26/26 [==============================] - 19s 689ms/step - d_loss: 0.1492 - g_loss: 3.9081\n",
            "Epoch 66/100\n",
            "26/26 [==============================] - 19s 691ms/step - d_loss: 0.3365 - g_loss: 2.8854\n",
            "Epoch 67/100\n",
            "26/26 [==============================] - 19s 690ms/step - d_loss: 0.6728 - g_loss: 1.4898\n",
            "Epoch 68/100\n",
            "26/26 [==============================] - 19s 690ms/step - d_loss: 0.6550 - g_loss: 1.0885\n",
            "Epoch 69/100\n",
            "26/26 [==============================] - 19s 695ms/step - d_loss: 0.5220 - g_loss: 1.5728\n",
            "Epoch 70/100\n",
            "26/26 [==============================] - 19s 689ms/step - d_loss: 0.6228 - g_loss: 1.2947\n",
            "Epoch 71/100\n",
            "26/26 [==============================] - 19s 690ms/step - d_loss: 0.9063 - g_loss: 0.9513\n",
            "Epoch 72/100\n",
            "26/26 [==============================] - 19s 691ms/step - d_loss: 0.5037 - g_loss: 1.4645\n",
            "Epoch 73/100\n",
            "26/26 [==============================] - 19s 689ms/step - d_loss: 0.7805 - g_loss: 1.5476\n",
            "Epoch 74/100\n",
            "26/26 [==============================] - 19s 685ms/step - d_loss: 0.9755 - g_loss: 1.0450\n",
            "Epoch 75/100\n",
            "26/26 [==============================] - 19s 685ms/step - d_loss: 0.5919 - g_loss: 1.3284\n",
            "Epoch 76/100\n",
            "26/26 [==============================] - 19s 683ms/step - d_loss: 0.4517 - g_loss: 1.3927\n",
            "Epoch 77/100\n",
            "26/26 [==============================] - 19s 681ms/step - d_loss: 0.4613 - g_loss: 1.3136\n",
            "Epoch 78/100\n",
            "26/26 [==============================] - 18s 682ms/step - d_loss: 0.4288 - g_loss: 1.3513\n",
            "Epoch 79/100\n",
            "26/26 [==============================] - 19s 683ms/step - d_loss: 0.4583 - g_loss: 1.2034\n",
            "Epoch 80/100\n",
            "26/26 [==============================] - 18s 680ms/step - d_loss: 0.6834 - g_loss: 1.2438\n",
            "Epoch 81/100\n",
            "26/26 [==============================] - 18s 682ms/step - d_loss: 0.6184 - g_loss: 1.4282\n",
            "Epoch 82/100\n",
            "26/26 [==============================] - 19s 683ms/step - d_loss: 0.8612 - g_loss: 1.1049\n",
            "Epoch 83/100\n",
            "26/26 [==============================] - 18s 681ms/step - d_loss: 0.7629 - g_loss: 0.9936\n",
            "Epoch 84/100\n",
            "26/26 [==============================] - 19s 682ms/step - d_loss: 0.3191 - g_loss: 1.5811\n",
            "Epoch 85/100\n",
            "26/26 [==============================] - 19s 684ms/step - d_loss: 0.5246 - g_loss: 1.0368\n",
            "Epoch 86/100\n",
            "26/26 [==============================] - 19s 685ms/step - d_loss: 0.5291 - g_loss: 1.1707\n",
            "Epoch 87/100\n",
            "26/26 [==============================] - 19s 684ms/step - d_loss: 0.5547 - g_loss: 1.4682\n",
            "Epoch 88/100\n",
            "26/26 [==============================] - 19s 683ms/step - d_loss: 0.8014 - g_loss: 1.1132\n",
            "Epoch 89/100\n",
            "26/26 [==============================] - 19s 682ms/step - d_loss: 0.8439 - g_loss: 0.9987\n",
            "Epoch 90/100\n",
            "26/26 [==============================] - 19s 683ms/step - d_loss: 0.3224 - g_loss: 2.1004\n",
            "Epoch 91/100\n",
            "26/26 [==============================] - 19s 683ms/step - d_loss: 0.2782 - g_loss: 2.0713\n",
            "Epoch 92/100\n",
            "26/26 [==============================] - 19s 682ms/step - d_loss: 0.4500 - g_loss: 1.1640\n",
            "Epoch 93/100\n",
            "26/26 [==============================] - 18s 682ms/step - d_loss: 0.4573 - g_loss: 1.2513\n",
            "Epoch 94/100\n",
            "26/26 [==============================] - 19s 683ms/step - d_loss: 0.6283 - g_loss: 1.1237\n",
            "Epoch 95/100\n",
            "26/26 [==============================] - 19s 682ms/step - d_loss: 0.6736 - g_loss: 1.0028\n",
            "Epoch 96/100\n",
            "26/26 [==============================] - 18s 682ms/step - d_loss: 0.7725 - g_loss: 0.8042\n",
            "Epoch 97/100\n",
            "26/26 [==============================] - 18s 682ms/step - d_loss: 0.4222 - g_loss: 1.4102\n",
            "Epoch 98/100\n",
            "26/26 [==============================] - 19s 682ms/step - d_loss: 0.5168 - g_loss: 1.4757\n",
            "Epoch 99/100\n",
            "26/26 [==============================] - 18s 682ms/step - d_loss: 0.5274 - g_loss: 1.3921\n",
            "Epoch 100/100\n",
            "26/26 [==============================] - 19s 684ms/step - d_loss: 0.7361 - g_loss: 1.7368\n"
          ]
        },
        {
          "output_type": "execute_result",
          "data": {
            "text/plain": [
              "<keras.callbacks.History at 0x7f48f01fb550>"
            ]
          },
          "metadata": {},
          "execution_count": 19
        }
      ],
      "source": [
        "gan.fit(dataset, epochs=epochs, callbacks=[GANMonitor(num_img=10, latent_dim=latent_dim)])"
      ]
    },
    {
      "cell_type": "code",
      "execution_count": 21,
      "id": "00cd60d0-2887-4f1a-8df1-27073c0bd854",
      "metadata": {
        "colab": {
          "base_uri": "https://localhost:8080/"
        },
        "id": "00cd60d0-2887-4f1a-8df1-27073c0bd854",
        "outputId": "d36dc4a7-e2a2-433e-d7b6-c347dc8521c7"
      },
      "outputs": [
        {
          "output_type": "stream",
          "name": "stdout",
          "text": [
            "Epoch 1/100\n",
            "26/26 [==============================] - 19s 700ms/step - d_loss: 1.1949 - g_loss: 1.0780\n",
            "Epoch 2/100\n",
            "26/26 [==============================] - 20s 695ms/step - d_loss: 0.2845 - g_loss: 2.0268\n",
            "Epoch 3/100\n",
            "26/26 [==============================] - 19s 694ms/step - d_loss: 0.4462 - g_loss: 2.0961\n",
            "Epoch 4/100\n",
            "26/26 [==============================] - 19s 691ms/step - d_loss: 0.0652 - g_loss: 8.4694\n",
            "Epoch 5/100\n",
            "26/26 [==============================] - 19s 693ms/step - d_loss: 0.2042 - g_loss: 4.0598\n",
            "Epoch 6/100\n",
            "26/26 [==============================] - 19s 688ms/step - d_loss: 0.4757 - g_loss: 2.6175\n",
            "Epoch 7/100\n",
            "26/26 [==============================] - 19s 690ms/step - d_loss: 0.4734 - g_loss: 3.1039\n",
            "Epoch 8/100\n",
            "26/26 [==============================] - 19s 688ms/step - d_loss: 0.8604 - g_loss: 1.0995\n",
            "Epoch 9/100\n",
            "26/26 [==============================] - 19s 689ms/step - d_loss: 0.4712 - g_loss: 1.3554\n",
            "Epoch 10/100\n",
            "26/26 [==============================] - 19s 689ms/step - d_loss: 0.2567 - g_loss: 2.0500\n",
            "Epoch 11/100\n",
            "26/26 [==============================] - 19s 691ms/step - d_loss: 0.1993 - g_loss: 2.6232\n",
            "Epoch 12/100\n",
            "26/26 [==============================] - 19s 690ms/step - d_loss: 0.2399 - g_loss: 2.6054\n",
            "Epoch 13/100\n",
            "26/26 [==============================] - 19s 689ms/step - d_loss: 0.3100 - g_loss: 2.3215\n",
            "Epoch 14/100\n",
            "26/26 [==============================] - 19s 691ms/step - d_loss: 0.0191 - g_loss: 6.3918\n",
            "Epoch 15/100\n",
            "26/26 [==============================] - 19s 691ms/step - d_loss: 0.3342 - g_loss: 2.1407\n",
            "Epoch 16/100\n",
            "26/26 [==============================] - 19s 690ms/step - d_loss: 0.2798 - g_loss: 2.4374\n",
            "Epoch 17/100\n",
            "26/26 [==============================] - 19s 691ms/step - d_loss: 0.3952 - g_loss: 2.6007\n",
            "Epoch 18/100\n",
            "26/26 [==============================] - 19s 688ms/step - d_loss: 0.2577 - g_loss: 4.0834\n",
            "Epoch 19/100\n",
            "26/26 [==============================] - 19s 689ms/step - d_loss: 0.6744 - g_loss: 2.0817\n",
            "Epoch 20/100\n",
            "26/26 [==============================] - 19s 689ms/step - d_loss: 0.6507 - g_loss: 2.1154\n",
            "Epoch 21/100\n",
            "26/26 [==============================] - 19s 689ms/step - d_loss: 0.7320 - g_loss: 1.8408\n",
            "Epoch 22/100\n",
            "26/26 [==============================] - 19s 689ms/step - d_loss: 0.8416 - g_loss: 0.9305\n",
            "Epoch 23/100\n",
            "26/26 [==============================] - 19s 690ms/step - d_loss: 0.5778 - g_loss: 1.7895\n",
            "Epoch 24/100\n",
            "26/26 [==============================] - 19s 690ms/step - d_loss: 0.8869 - g_loss: 1.1104\n",
            "Epoch 25/100\n",
            "26/26 [==============================] - 19s 689ms/step - d_loss: 0.7241 - g_loss: 0.9276\n",
            "Epoch 26/100\n",
            "26/26 [==============================] - 19s 689ms/step - d_loss: 0.2376 - g_loss: 1.9421\n",
            "Epoch 27/100\n",
            "26/26 [==============================] - 19s 691ms/step - d_loss: 0.4922 - g_loss: 1.2137\n",
            "Epoch 28/100\n",
            "26/26 [==============================] - 19s 687ms/step - d_loss: 0.7182 - g_loss: 1.0155\n",
            "Epoch 29/100\n",
            "26/26 [==============================] - 19s 690ms/step - d_loss: 0.5821 - g_loss: 1.3976\n",
            "Epoch 30/100\n",
            "26/26 [==============================] - 19s 689ms/step - d_loss: 0.5643 - g_loss: 1.4494\n",
            "Epoch 31/100\n",
            "26/26 [==============================] - 19s 690ms/step - d_loss: 0.3109 - g_loss: 2.0581\n",
            "Epoch 32/100\n",
            "26/26 [==============================] - 19s 692ms/step - d_loss: 0.3760 - g_loss: 1.8973\n",
            "Epoch 33/100\n",
            "26/26 [==============================] - 19s 688ms/step - d_loss: 0.5004 - g_loss: 1.7683\n",
            "Epoch 34/100\n",
            "26/26 [==============================] - 19s 688ms/step - d_loss: 0.5572 - g_loss: 1.4839\n",
            "Epoch 35/100\n",
            "26/26 [==============================] - 19s 690ms/step - d_loss: 0.3875 - g_loss: 1.7241\n",
            "Epoch 36/100\n",
            "26/26 [==============================] - 19s 689ms/step - d_loss: 0.2824 - g_loss: 1.9691\n",
            "Epoch 37/100\n",
            "26/26 [==============================] - 19s 691ms/step - d_loss: 0.4155 - g_loss: 1.5101\n",
            "Epoch 38/100\n",
            "26/26 [==============================] - 19s 691ms/step - d_loss: 0.4316 - g_loss: 1.7807\n",
            "Epoch 39/100\n",
            "26/26 [==============================] - 19s 692ms/step - d_loss: 0.3557 - g_loss: 1.9411\n",
            "Epoch 40/100\n",
            "26/26 [==============================] - 19s 690ms/step - d_loss: 0.6160 - g_loss: 1.5722\n",
            "Epoch 41/100\n",
            "26/26 [==============================] - 19s 692ms/step - d_loss: 0.6437 - g_loss: 1.3770\n",
            "Epoch 42/100\n",
            "26/26 [==============================] - 19s 692ms/step - d_loss: 0.4827 - g_loss: 1.7398\n",
            "Epoch 43/100\n",
            "26/26 [==============================] - 19s 690ms/step - d_loss: 0.3132 - g_loss: 2.3938\n",
            "Epoch 44/100\n",
            "26/26 [==============================] - 19s 690ms/step - d_loss: 0.3223 - g_loss: 2.0532\n",
            "Epoch 45/100\n",
            "26/26 [==============================] - 19s 691ms/step - d_loss: 0.7889 - g_loss: 1.8352\n",
            "Epoch 46/100\n",
            "26/26 [==============================] - 19s 690ms/step - d_loss: 0.7063 - g_loss: 1.4747\n",
            "Epoch 47/100\n",
            "26/26 [==============================] - 19s 689ms/step - d_loss: 0.4863 - g_loss: 1.7291\n",
            "Epoch 48/100\n",
            "26/26 [==============================] - 19s 690ms/step - d_loss: 0.2404 - g_loss: 2.2636\n",
            "Epoch 49/100\n",
            "26/26 [==============================] - 19s 688ms/step - d_loss: 0.5727 - g_loss: 1.0682\n",
            "Epoch 50/100\n",
            "26/26 [==============================] - 19s 690ms/step - d_loss: 0.5478 - g_loss: 1.3783\n",
            "Epoch 51/100\n",
            "26/26 [==============================] - 19s 691ms/step - d_loss: 0.3991 - g_loss: 1.7830\n",
            "Epoch 52/100\n",
            "26/26 [==============================] - 19s 690ms/step - d_loss: 0.7032 - g_loss: 1.4021\n",
            "Epoch 53/100\n",
            "26/26 [==============================] - 19s 690ms/step - d_loss: 0.5040 - g_loss: 1.5763\n",
            "Epoch 54/100\n",
            "26/26 [==============================] - 19s 692ms/step - d_loss: 0.6497 - g_loss: 1.3387\n",
            "Epoch 55/100\n",
            "26/26 [==============================] - 19s 689ms/step - d_loss: 0.3709 - g_loss: 1.7131\n",
            "Epoch 56/100\n",
            "26/26 [==============================] - 19s 691ms/step - d_loss: 0.5498 - g_loss: 1.3034\n",
            "Epoch 57/100\n",
            "26/26 [==============================] - 19s 690ms/step - d_loss: 0.4464 - g_loss: 1.5356\n",
            "Epoch 58/100\n",
            "26/26 [==============================] - 19s 691ms/step - d_loss: 0.6556 - g_loss: 0.9940\n",
            "Epoch 59/100\n",
            "26/26 [==============================] - 19s 688ms/step - d_loss: 0.3581 - g_loss: 1.7555\n",
            "Epoch 60/100\n",
            "26/26 [==============================] - 19s 691ms/step - d_loss: 0.5018 - g_loss: 1.7945\n",
            "Epoch 61/100\n",
            "26/26 [==============================] - 19s 687ms/step - d_loss: 0.6417 - g_loss: 1.2778\n",
            "Epoch 62/100\n",
            "26/26 [==============================] - 19s 688ms/step - d_loss: 0.4046 - g_loss: 1.4294\n",
            "Epoch 63/100\n",
            "26/26 [==============================] - 19s 691ms/step - d_loss: 0.3792 - g_loss: 1.8229\n",
            "Epoch 64/100\n",
            "26/26 [==============================] - 19s 690ms/step - d_loss: 0.4495 - g_loss: 1.8931\n",
            "Epoch 65/100\n",
            "26/26 [==============================] - 19s 689ms/step - d_loss: 0.6708 - g_loss: 2.0228\n",
            "Epoch 66/100\n",
            "26/26 [==============================] - 19s 688ms/step - d_loss: 0.5413 - g_loss: 1.7448\n",
            "Epoch 67/100\n",
            "26/26 [==============================] - 19s 691ms/step - d_loss: 0.6685 - g_loss: 1.7634\n",
            "Epoch 68/100\n",
            "26/26 [==============================] - 19s 689ms/step - d_loss: 0.8160 - g_loss: 1.8026\n",
            "Epoch 69/100\n",
            "26/26 [==============================] - 19s 688ms/step - d_loss: 0.2682 - g_loss: 3.2962\n",
            "Epoch 70/100\n",
            "26/26 [==============================] - 19s 688ms/step - d_loss: 0.0954 - g_loss: 4.9687\n",
            "Epoch 71/100\n",
            "26/26 [==============================] - 19s 686ms/step - d_loss: 0.6256 - g_loss: 3.3447\n",
            "Epoch 72/100\n",
            "26/26 [==============================] - 19s 689ms/step - d_loss: 0.7051 - g_loss: 2.1530\n",
            "Epoch 73/100\n",
            "26/26 [==============================] - 19s 691ms/step - d_loss: 0.6769 - g_loss: 1.2929\n",
            "Epoch 74/100\n",
            "26/26 [==============================] - 19s 692ms/step - d_loss: 0.5117 - g_loss: 1.3692\n",
            "Epoch 75/100\n",
            "26/26 [==============================] - 19s 691ms/step - d_loss: 0.5531 - g_loss: 1.1917\n",
            "Epoch 76/100\n",
            "26/26 [==============================] - 19s 688ms/step - d_loss: 0.5078 - g_loss: 1.1585\n",
            "Epoch 77/100\n",
            "26/26 [==============================] - 19s 690ms/step - d_loss: 0.4111 - g_loss: 1.3891\n",
            "Epoch 78/100\n",
            "26/26 [==============================] - 19s 688ms/step - d_loss: 0.4113 - g_loss: 1.4523\n",
            "Epoch 79/100\n",
            "26/26 [==============================] - 19s 689ms/step - d_loss: 0.7542 - g_loss: 1.1561\n",
            "Epoch 80/100\n",
            "26/26 [==============================] - 19s 687ms/step - d_loss: 0.4306 - g_loss: 2.0458\n",
            "Epoch 81/100\n",
            "26/26 [==============================] - 19s 689ms/step - d_loss: 0.1948 - g_loss: 3.0680\n",
            "Epoch 82/100\n",
            "26/26 [==============================] - 19s 691ms/step - d_loss: 0.7171 - g_loss: 1.2598\n",
            "Epoch 83/100\n",
            "26/26 [==============================] - 19s 691ms/step - d_loss: 0.7059 - g_loss: 0.9457\n",
            "Epoch 84/100\n",
            "26/26 [==============================] - 19s 689ms/step - d_loss: 0.5083 - g_loss: 1.2284\n",
            "Epoch 85/100\n",
            "26/26 [==============================] - 19s 688ms/step - d_loss: 0.4520 - g_loss: 1.4638\n",
            "Epoch 86/100\n",
            "26/26 [==============================] - 19s 689ms/step - d_loss: 0.5989 - g_loss: 1.4595\n",
            "Epoch 87/100\n",
            "26/26 [==============================] - 19s 689ms/step - d_loss: 0.6679 - g_loss: 1.5618\n",
            "Epoch 88/100\n",
            "26/26 [==============================] - 19s 690ms/step - d_loss: 0.8261 - g_loss: 1.0999\n",
            "Epoch 89/100\n",
            "26/26 [==============================] - 19s 689ms/step - d_loss: 0.7321 - g_loss: 0.9592\n",
            "Epoch 90/100\n",
            "26/26 [==============================] - 19s 688ms/step - d_loss: 0.3741 - g_loss: 1.1805\n",
            "Epoch 91/100\n",
            "26/26 [==============================] - 19s 690ms/step - d_loss: 0.3236 - g_loss: 1.6256\n",
            "Epoch 92/100\n",
            "26/26 [==============================] - 19s 687ms/step - d_loss: 0.7224 - g_loss: 1.1838\n",
            "Epoch 93/100\n",
            "26/26 [==============================] - 19s 689ms/step - d_loss: 0.6831 - g_loss: 1.2019\n",
            "Epoch 94/100\n",
            "26/26 [==============================] - 19s 689ms/step - d_loss: 0.2721 - g_loss: 2.0629\n",
            "Epoch 95/100\n",
            "26/26 [==============================] - 19s 689ms/step - d_loss: 0.6639 - g_loss: 1.5533\n",
            "Epoch 96/100\n",
            "26/26 [==============================] - 19s 689ms/step - d_loss: 0.7122 - g_loss: 1.0537\n",
            "Epoch 97/100\n",
            "26/26 [==============================] - 19s 689ms/step - d_loss: 0.5369 - g_loss: 0.9355\n",
            "Epoch 98/100\n",
            "26/26 [==============================] - 19s 688ms/step - d_loss: 0.5447 - g_loss: 0.9684\n",
            "Epoch 99/100\n",
            "26/26 [==============================] - 19s 690ms/step - d_loss: 0.4882 - g_loss: 1.2435\n",
            "Epoch 100/100\n",
            "26/26 [==============================] - 19s 689ms/step - d_loss: 0.5454 - g_loss: 1.4625\n"
          ]
        },
        {
          "output_type": "execute_result",
          "data": {
            "text/plain": [
              "<keras.callbacks.History at 0x7f4885d66750>"
            ]
          },
          "metadata": {},
          "execution_count": 21
        }
      ],
      "source": [
        "gan.fit(dataset, epochs=epochs, callbacks=[GANMonitor(num_img=10, latent_dim=latent_dim)])"
      ]
    },
    {
      "cell_type": "code",
      "source": [
        ""
      ],
      "metadata": {
        "id": "5RlMYTakq9PZ"
      },
      "id": "5RlMYTakq9PZ",
      "execution_count": null,
      "outputs": []
    }
  ],
  "metadata": {
    "kernelspec": {
      "display_name": "Python 3 (ipykernel)",
      "language": "python",
      "name": "python3"
    },
    "language_info": {
      "codemirror_mode": {
        "name": "ipython",
        "version": 3
      },
      "file_extension": ".py",
      "mimetype": "text/x-python",
      "name": "python",
      "nbconvert_exporter": "python",
      "pygments_lexer": "ipython3",
      "version": "3.9.7"
    },
    "colab": {
      "name": "GAN.ipynb",
      "provenance": []
    },
    "accelerator": "GPU"
  },
  "nbformat": 4,
  "nbformat_minor": 5
}