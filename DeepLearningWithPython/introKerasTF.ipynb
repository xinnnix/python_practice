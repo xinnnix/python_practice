{
 "cells": [
  {
   "cell_type": "code",
   "execution_count": 1,
   "id": "8ac04e9c-e473-4706-8c09-e6bb134a3738",
   "metadata": {},
   "outputs": [],
   "source": [
    "import tensorflow as tf"
   ]
  },
  {
   "cell_type": "code",
   "execution_count": 3,
   "id": "887ae76d-45b3-462c-bfa2-c7482c1cd807",
   "metadata": {},
   "outputs": [],
   "source": [
    "x = tf.ones(shape=(2,1))"
   ]
  },
  {
   "cell_type": "code",
   "execution_count": 4,
   "id": "b0c8abdd-4858-4335-817d-94feb3069fa0",
   "metadata": {},
   "outputs": [
    {
     "name": "stdout",
     "output_type": "stream",
     "text": [
      "tf.Tensor(\n",
      "[[1.]\n",
      " [1.]], shape=(2, 1), dtype=float32)\n"
     ]
    }
   ],
   "source": [
    "print(x)"
   ]
  },
  {
   "cell_type": "code",
   "execution_count": 6,
   "id": "0288a3d7-e3ef-4b81-8d90-55360e3ce47b",
   "metadata": {},
   "outputs": [],
   "source": [
    "x = tf.zeros(shape=(2,1))"
   ]
  },
  {
   "cell_type": "code",
   "execution_count": 7,
   "id": "6cadbadc-53c2-4781-a3ba-5bf4493c0bca",
   "metadata": {},
   "outputs": [
    {
     "data": {
      "text/plain": [
       "<tf.Tensor: id=8, shape=(2, 1), dtype=float32, numpy=\n",
       "array([[0.],\n",
       "       [0.]], dtype=float32)>"
      ]
     },
     "execution_count": 7,
     "metadata": {},
     "output_type": "execute_result"
    }
   ],
   "source": [
    "x"
   ]
  },
  {
   "cell_type": "code",
   "execution_count": 8,
   "id": "b6389c22-a0aa-4651-bd55-29f34093226e",
   "metadata": {},
   "outputs": [
    {
     "data": {
      "text/plain": [
       "<tf.Tensor: id=14, shape=(3, 1), dtype=float32, numpy=\n",
       "array([[ 2.2692645 ],\n",
       "       [-0.26445737],\n",
       "       [-0.78577805]], dtype=float32)>"
      ]
     },
     "execution_count": 8,
     "metadata": {},
     "output_type": "execute_result"
    }
   ],
   "source": [
    "x = tf.random.normal(shape=(3,1), mean=0., stddev=1.)\n",
    "x"
   ]
  },
  {
   "cell_type": "code",
   "execution_count": 9,
   "id": "216ee9b5-b861-492b-94ca-4a09089bcf19",
   "metadata": {},
   "outputs": [],
   "source": [
    "x = tf.random.uniform(shape=(3,1), minval=0.,maxval=1.)"
   ]
  },
  {
   "cell_type": "code",
   "execution_count": 10,
   "id": "e0c5f45c-b8dd-4390-9dec-7c46fd0e0a29",
   "metadata": {},
   "outputs": [
    {
     "data": {
      "text/plain": [
       "<tf.Tensor: id=21, shape=(3, 1), dtype=float32, numpy=\n",
       "array([[0.2269572 ],\n",
       "       [0.69531107],\n",
       "       [0.76719403]], dtype=float32)>"
      ]
     },
     "execution_count": 10,
     "metadata": {},
     "output_type": "execute_result"
    }
   ],
   "source": [
    "x"
   ]
  },
  {
   "cell_type": "code",
   "execution_count": 16,
   "id": "b3959e79-b523-4304-a048-4139328cf5d9",
   "metadata": {},
   "outputs": [
    {
     "data": {
      "text/plain": [
       "array([[1.],\n",
       "       [1.]])"
      ]
     },
     "execution_count": 16,
     "metadata": {},
     "output_type": "execute_result"
    }
   ],
   "source": [
    "import numpy as np\n",
    "x = np.ones(shape=(2,1))\n",
    "x"
   ]
  },
  {
   "cell_type": "code",
   "execution_count": 17,
   "id": "428442ac-e5c0-49a4-acf0-b2418afe62e2",
   "metadata": {},
   "outputs": [],
   "source": [
    "x[0,0] =5"
   ]
  },
  {
   "cell_type": "code",
   "execution_count": 18,
   "id": "e5480fbd-afab-4ae8-aaad-5a14d45902ef",
   "metadata": {},
   "outputs": [
    {
     "data": {
      "text/plain": [
       "array([[5.],\n",
       "       [1.]])"
      ]
     },
     "execution_count": 18,
     "metadata": {},
     "output_type": "execute_result"
    }
   ],
   "source": [
    "x"
   ]
  },
  {
   "cell_type": "code",
   "execution_count": 19,
   "id": "cafb657b-a901-44fa-a76c-48eb5c29191a",
   "metadata": {},
   "outputs": [],
   "source": [
    "v = tf.Variable(initial_value=tf.random.normal(shape=(3,1)))"
   ]
  },
  {
   "cell_type": "code",
   "execution_count": 20,
   "id": "cca154eb-7025-4a11-b71c-618aa0b66dd0",
   "metadata": {},
   "outputs": [
    {
     "name": "stdout",
     "output_type": "stream",
     "text": [
      "<tf.Variable 'Variable:0' shape=(3, 1) dtype=float32, numpy=\n",
      "array([[0.8202579 ],\n",
      "       [0.06981014],\n",
      "       [0.17267211]], dtype=float32)>\n"
     ]
    }
   ],
   "source": [
    "print(v)"
   ]
  },
  {
   "cell_type": "code",
   "execution_count": 22,
   "id": "4a3dec33-49c8-4d3f-a33f-ea3f6189ba7d",
   "metadata": {},
   "outputs": [
    {
     "data": {
      "text/plain": [
       "<tf.Variable 'UnreadVariable' shape=(3, 1) dtype=float32, numpy=\n",
       "array([[1.],\n",
       "       [1.],\n",
       "       [1.]], dtype=float32)>"
      ]
     },
     "execution_count": 22,
     "metadata": {},
     "output_type": "execute_result"
    }
   ],
   "source": [
    "v.assign(tf.ones((3,1)))"
   ]
  },
  {
   "cell_type": "code",
   "execution_count": 23,
   "id": "eec884f1-c92f-4d8a-b597-711067fe4bcf",
   "metadata": {},
   "outputs": [
    {
     "data": {
      "text/plain": [
       "<tf.Variable 'Variable:0' shape=(3, 1) dtype=float32, numpy=\n",
       "array([[1.],\n",
       "       [1.],\n",
       "       [1.]], dtype=float32)>"
      ]
     },
     "execution_count": 23,
     "metadata": {},
     "output_type": "execute_result"
    }
   ],
   "source": [
    "v"
   ]
  },
  {
   "cell_type": "code",
   "execution_count": 24,
   "id": "05d6d5de-592d-4793-917f-90240822e244",
   "metadata": {},
   "outputs": [
    {
     "data": {
      "text/plain": [
       "<tf.Variable 'UnreadVariable' shape=(3, 1) dtype=float32, numpy=\n",
       "array([[3.],\n",
       "       [1.],\n",
       "       [1.]], dtype=float32)>"
      ]
     },
     "execution_count": 24,
     "metadata": {},
     "output_type": "execute_result"
    }
   ],
   "source": [
    "v[0,0].assign(3.)"
   ]
  },
  {
   "cell_type": "code",
   "execution_count": 25,
   "id": "8a4e52f9-eec0-420b-a53e-44d1116c0768",
   "metadata": {},
   "outputs": [
    {
     "data": {
      "text/plain": [
       "<tf.Variable 'UnreadVariable' shape=(3, 1) dtype=float32, numpy=\n",
       "array([[4.],\n",
       "       [2.],\n",
       "       [2.]], dtype=float32)>"
      ]
     },
     "execution_count": 25,
     "metadata": {},
     "output_type": "execute_result"
    }
   ],
   "source": [
    "v.assign_add(tf.ones((3,1)))"
   ]
  },
  {
   "cell_type": "code",
   "execution_count": 26,
   "id": "f7bf8c0c-c0e1-4a06-a6ce-21aaefd20979",
   "metadata": {},
   "outputs": [
    {
     "data": {
      "text/plain": [
       "<tf.Tensor: id=58, shape=(2, 2), dtype=float32, numpy=\n",
       "array([[1., 1.],\n",
       "       [1., 1.]], dtype=float32)>"
      ]
     },
     "execution_count": 26,
     "metadata": {},
     "output_type": "execute_result"
    }
   ],
   "source": [
    "a = tf.ones((2,2))\n",
    "a"
   ]
  },
  {
   "cell_type": "code",
   "execution_count": 28,
   "id": "d70fd190-40e4-43d2-9bef-8c22fc868b35",
   "metadata": {},
   "outputs": [],
   "source": [
    "b = a + a"
   ]
  },
  {
   "cell_type": "code",
   "execution_count": 29,
   "id": "6fce7fdf-b994-4397-93f6-a4f71bcd941c",
   "metadata": {},
   "outputs": [
    {
     "data": {
      "text/plain": [
       "<tf.Tensor: id=59, shape=(2, 2), dtype=float32, numpy=\n",
       "array([[2., 2.],\n",
       "       [2., 2.]], dtype=float32)>"
      ]
     },
     "execution_count": 29,
     "metadata": {},
     "output_type": "execute_result"
    }
   ],
   "source": [
    "b"
   ]
  },
  {
   "cell_type": "code",
   "execution_count": 30,
   "id": "8065acb9-f51c-4ed4-a68a-7176ab8f9556",
   "metadata": {},
   "outputs": [],
   "source": [
    "b = tf.square(b)"
   ]
  },
  {
   "cell_type": "code",
   "execution_count": 31,
   "id": "12b6f51c-1152-4973-87f4-3cd3971ac3c9",
   "metadata": {},
   "outputs": [
    {
     "data": {
      "text/plain": [
       "<tf.Tensor: id=60, shape=(2, 2), dtype=float32, numpy=\n",
       "array([[4., 4.],\n",
       "       [4., 4.]], dtype=float32)>"
      ]
     },
     "execution_count": 31,
     "metadata": {},
     "output_type": "execute_result"
    }
   ],
   "source": [
    "b"
   ]
  },
  {
   "cell_type": "code",
   "execution_count": 32,
   "id": "7aa3ad27-cdea-4532-9fae-b2f7337d8132",
   "metadata": {},
   "outputs": [],
   "source": [
    "c = tf.sqrt(b)"
   ]
  },
  {
   "cell_type": "code",
   "execution_count": 33,
   "id": "a0562553-c375-43df-b593-577f923e27dc",
   "metadata": {},
   "outputs": [
    {
     "data": {
      "text/plain": [
       "<tf.Tensor: id=61, shape=(2, 2), dtype=float32, numpy=\n",
       "array([[1.9999999, 1.9999999],\n",
       "       [1.9999999, 1.9999999]], dtype=float32)>"
      ]
     },
     "execution_count": 33,
     "metadata": {},
     "output_type": "execute_result"
    }
   ],
   "source": [
    "c"
   ]
  },
  {
   "cell_type": "code",
   "execution_count": 34,
   "id": "3392164f-773e-4d74-b9f2-7822727c7713",
   "metadata": {},
   "outputs": [],
   "source": [
    "d = c + b"
   ]
  },
  {
   "cell_type": "code",
   "execution_count": 35,
   "id": "78373c44-5203-460f-860c-aaaa9a516985",
   "metadata": {},
   "outputs": [
    {
     "data": {
      "text/plain": [
       "<tf.Tensor: id=62, shape=(2, 2), dtype=float32, numpy=\n",
       "array([[6., 6.],\n",
       "       [6., 6.]], dtype=float32)>"
      ]
     },
     "execution_count": 35,
     "metadata": {},
     "output_type": "execute_result"
    }
   ],
   "source": [
    "d"
   ]
  },
  {
   "cell_type": "code",
   "execution_count": 36,
   "id": "61457c47-5844-40a1-b1fc-1265a53cdded",
   "metadata": {},
   "outputs": [
    {
     "data": {
      "text/plain": [
       "<tf.Tensor: id=63, shape=(2, 2), dtype=float32, numpy=\n",
       "array([[48., 48.],\n",
       "       [48., 48.]], dtype=float32)>"
      ]
     },
     "execution_count": 36,
     "metadata": {},
     "output_type": "execute_result"
    }
   ],
   "source": [
    "e = tf.matmul(b,d)\n",
    "e"
   ]
  },
  {
   "cell_type": "code",
   "execution_count": 37,
   "id": "edcbd660-c6d9-4590-9c0f-0ded4a7b3b0f",
   "metadata": {},
   "outputs": [],
   "source": [
    "e *= d"
   ]
  },
  {
   "cell_type": "code",
   "execution_count": 38,
   "id": "2d26d5a2-0b28-4f73-9a04-927d12a78ba9",
   "metadata": {},
   "outputs": [
    {
     "data": {
      "text/plain": [
       "<tf.Tensor: id=64, shape=(2, 2), dtype=float32, numpy=\n",
       "array([[288., 288.],\n",
       "       [288., 288.]], dtype=float32)>"
      ]
     },
     "execution_count": 38,
     "metadata": {},
     "output_type": "execute_result"
    }
   ],
   "source": [
    "e"
   ]
  },
  {
   "cell_type": "code",
   "execution_count": 40,
   "id": "1f4f4ca2-950c-4e78-a75a-936884d9c748",
   "metadata": {},
   "outputs": [],
   "source": [
    "input_var = tf.Variable(initial_value=3.)\n",
    "with tf.GradientTape() as tape:\n",
    "    result = tf.square(input_var)\n",
    "gradient = tape.gradient(result, input_var)"
   ]
  },
  {
   "cell_type": "code",
   "execution_count": 41,
   "id": "cdcc8b87-2a1b-428f-8d02-1c3fe67eee16",
   "metadata": {},
   "outputs": [
    {
     "data": {
      "text/plain": [
       "<tf.Tensor: id=77, shape=(), dtype=float32, numpy=6.0>"
      ]
     },
     "execution_count": 41,
     "metadata": {},
     "output_type": "execute_result"
    }
   ],
   "source": [
    "gradient"
   ]
  },
  {
   "cell_type": "code",
   "execution_count": 48,
   "id": "eeb723eb-b5b3-4375-b23a-bd06fe4a5a49",
   "metadata": {},
   "outputs": [],
   "source": [
    "input_const = tf.constant(3.)\n",
    "with tf.GradientTape() as tape:\n",
    "    tape.watch(input_const)\n",
    "    result = tf.square(input_const)\n",
    "gradient = tape.gradient(result, input_const)"
   ]
  },
  {
   "cell_type": "code",
   "execution_count": 49,
   "id": "344c78cd-f8d4-46a2-ac4d-72ab3a433789",
   "metadata": {},
   "outputs": [
    {
     "name": "stdout",
     "output_type": "stream",
     "text": [
      "tf.Tensor(6.0, shape=(), dtype=float32)\n"
     ]
    }
   ],
   "source": [
    "print(gradient)"
   ]
  },
  {
   "cell_type": "code",
   "execution_count": 50,
   "id": "03c74575-8740-48d9-915a-fb0d5877b280",
   "metadata": {},
   "outputs": [],
   "source": [
    "time=tf.Variable(0.)\n",
    "with tf.GradientTape() as outer_tape:\n",
    "    with tf.GradientTape() as inner_tape:\n",
    "        position = 4.9 * time **2\n",
    "    speed = inner_tape.gradient(position, time)\n",
    "acceleration = outer_tape.gradient(speed, time)"
   ]
  },
  {
   "cell_type": "code",
   "execution_count": 51,
   "id": "bac7624d-6dad-4b22-95e6-0ad87ffa25c9",
   "metadata": {},
   "outputs": [
    {
     "data": {
      "text/plain": [
       "<tf.Tensor: id=103, shape=(), dtype=float32, numpy=0.0>"
      ]
     },
     "execution_count": 51,
     "metadata": {},
     "output_type": "execute_result"
    }
   ],
   "source": [
    "position"
   ]
  },
  {
   "cell_type": "code",
   "execution_count": 52,
   "id": "24aa98d1-cd48-446d-b3ae-59d2a4640e80",
   "metadata": {},
   "outputs": [
    {
     "data": {
      "text/plain": [
       "<tf.Tensor: id=111, shape=(), dtype=float32, numpy=0.0>"
      ]
     },
     "execution_count": 52,
     "metadata": {},
     "output_type": "execute_result"
    }
   ],
   "source": [
    "speed"
   ]
  },
  {
   "cell_type": "code",
   "execution_count": 53,
   "id": "6c19fd67-7b67-4c1b-b708-e96b6ce836b5",
   "metadata": {},
   "outputs": [
    {
     "data": {
      "text/plain": [
       "<tf.Tensor: id=119, shape=(), dtype=float32, numpy=9.8>"
      ]
     },
     "execution_count": 53,
     "metadata": {},
     "output_type": "execute_result"
    }
   ],
   "source": [
    "acceleration"
   ]
  },
  {
   "cell_type": "code",
   "execution_count": 55,
   "id": "655eaf08-118f-4ace-b872-93f4b021488f",
   "metadata": {},
   "outputs": [],
   "source": [
    "num_samples_per_class = 1000\n",
    "negative_samples = np.random.multivariate_normal(\n",
    "    mean = [0,3],\n",
    "    cov = [[1,0.5],[0.5,1]],\n",
    "    size = num_samples_per_class)\n",
    "positive_samples = np.random.multivariate_normal(\n",
    "    mean = [3,0],\n",
    "    cov = [[1,0.5],[0.5,1]],\n",
    "    size = num_samples_per_class)"
   ]
  },
  {
   "cell_type": "code",
   "execution_count": 64,
   "id": "511cee09-1f05-4ed8-a4e3-d30df535019d",
   "metadata": {},
   "outputs": [
    {
     "data": {
      "text/plain": [
       "array([[ 0.23902142,  2.1901972 ],\n",
       "       [-0.116266  ,  1.2868012 ],\n",
       "       [-0.7658589 ,  3.3556542 ],\n",
       "       ...,\n",
       "       [ 1.189697  , -2.2629483 ],\n",
       "       [ 1.5958916 ,  0.08601047],\n",
       "       [ 2.155887  , -1.2289231 ]], dtype=float32)"
      ]
     },
     "execution_count": 64,
     "metadata": {},
     "output_type": "execute_result"
    }
   ],
   "source": [
    "inputs = np.vstack((negative_samples, positive_samples)).astype(np.float32)\n",
    "inputs"
   ]
  },
  {
   "cell_type": "code",
   "execution_count": 65,
   "id": "47da106a-cb67-4088-8423-2e53fc0c8f35",
   "metadata": {},
   "outputs": [
    {
     "data": {
      "text/plain": [
       "array([[0.],\n",
       "       [0.],\n",
       "       [0.],\n",
       "       ...,\n",
       "       [1.],\n",
       "       [1.],\n",
       "       [1.]], dtype=float32)"
      ]
     },
     "execution_count": 65,
     "metadata": {},
     "output_type": "execute_result"
    }
   ],
   "source": [
    "targets = np.vstack((np.zeros((num_samples_per_class,1),dtype='float32'),\n",
    "                     np.ones((num_samples_per_class,1),dtype='float32')))"
   ]
  },
  {
   "cell_type": "code",
   "execution_count": 61,
   "id": "30d0e5ff-53f4-49a9-b263-7c1eaff35d47",
   "metadata": {},
   "outputs": [
    {
     "data": {
      "image/png": "[encoded data removed]",
      "text/plain": [
       "<Figure size 432x288 with 1 Axes>"
      ]
     },
     "metadata": {
      "needs_background": "light"
     },
     "output_type": "display_data"
    }
   ],
   "source": [
    "import matplotlib.pyplot as plt\n",
    "plt.scatter(inputs[:,0],inputs[:,1],c=targets[:,0])\n",
    "plt.show()"
   ]
  },
  {
   "cell_type": "code",
   "execution_count": 66,
   "id": "422a7e7a-404c-41d1-8d0f-50967e288d07",
   "metadata": {},
   "outputs": [],
   "source": [
    "input_dim = 2\n",
    "output_dim = 1\n",
    "W = tf.Variable(initial_value=tf.random.uniform(shape=(input_dim,output_dim)))\n",
    "b = tf.Variable(initial_value=tf.zeros(shape=(output_dim,)))"
   ]
  },
  {
   "cell_type": "code",
   "execution_count": 67,
   "id": "22b641a9-32f1-4b3f-a714-a7990fcdbee6",
   "metadata": {},
   "outputs": [],
   "source": [
    "def model(inputs):\n",
    "    return tf.matmul(inputs, W) + b"
   ]
  },
  {
   "cell_type": "code",
   "execution_count": 68,
   "id": "5fa3d923-b799-4fcd-b707-93641ccbe7b3",
   "metadata": {},
   "outputs": [],
   "source": [
    "def square_loss(targets, predictions):\n",
    "    per_sample_losses = tf.square(targets - predictions)\n",
    "    return tf.reduce_mean(per_sample_losses)"
   ]
  },
  {
   "cell_type": "code",
   "execution_count": 70,
   "id": "d124e36a-070b-448c-8f69-9a3996be88cd",
   "metadata": {},
   "outputs": [],
   "source": [
    "learning_rate = 0.1\n",
    "\n",
    "def training_step(inputs, targets):\n",
    "    with tf.GradientTape() as tape:\n",
    "        predictions = model(inputs)\n",
    "        loss = square_loss(predictions, targets)\n",
    "    grad_loss_wrt_W, grad_loss_wrt_b = tape.gradient(loss, [W, b])\n",
    "    W.assign_sub(grad_loss_wrt_W * learning_rate)\n",
    "    b.assign_sub(grad_loss_wrt_b * learning_rate)\n",
    "    return loss"
   ]
  },
  {
   "cell_type": "code",
   "execution_count": 71,
   "id": "2311e47b-7395-4a8c-bbf2-6f0b272c4a16",
   "metadata": {
    "scrolled": true,
    "tags": []
   },
   "outputs": [
    {
     "name": "stdout",
     "output_type": "stream",
     "text": [
      "Loss at step 0: 3.8562\n",
      "Loss at step 1: 0.5663\n",
      "Loss at step 2: 0.1931\n",
      "Loss at step 3: 0.1380\n",
      "Loss at step 4: 0.1233\n",
      "Loss at step 5: 0.1143\n",
      "Loss at step 6: 0.1067\n",
      "Loss at step 7: 0.0998\n",
      "Loss at step 8: 0.0934\n",
      "Loss at step 9: 0.0876\n",
      "Loss at step 10: 0.0823\n",
      "Loss at step 11: 0.0775\n",
      "Loss at step 12: 0.0730\n",
      "Loss at step 13: 0.0689\n",
      "Loss at step 14: 0.0652\n",
      "Loss at step 15: 0.0618\n",
      "Loss at step 16: 0.0587\n",
      "Loss at step 17: 0.0558\n",
      "Loss at step 18: 0.0532\n",
      "Loss at step 19: 0.0508\n",
      "Loss at step 20: 0.0486\n",
      "Loss at step 21: 0.0466\n",
      "Loss at step 22: 0.0448\n",
      "Loss at step 23: 0.0431\n",
      "Loss at step 24: 0.0416\n",
      "Loss at step 25: 0.0402\n",
      "Loss at step 26: 0.0389\n",
      "Loss at step 27: 0.0377\n",
      "Loss at step 28: 0.0366\n",
      "Loss at step 29: 0.0356\n",
      "Loss at step 30: 0.0347\n",
      "Loss at step 31: 0.0339\n",
      "Loss at step 32: 0.0331\n",
      "Loss at step 33: 0.0324\n",
      "Loss at step 34: 0.0318\n",
      "Loss at step 35: 0.0312\n",
      "Loss at step 36: 0.0307\n",
      "Loss at step 37: 0.0302\n",
      "Loss at step 38: 0.0298\n",
      "Loss at step 39: 0.0294\n"
     ]
    }
   ],
   "source": [
    "for step in range(40):\n",
    "    loss = training_step(inputs, targets)\n",
    "    print(f'Loss at step {step}: {loss:.4f}')"
   ]
  },
  {
   "cell_type": "code",
   "execution_count": 72,
   "id": "394a7a39-918a-427a-a721-97da43a5a277",
   "metadata": {},
   "outputs": [
    {
     "data": {
      "image/png": "[encoded data removed]",
      "text/plain": [
       "<Figure size 432x288 with 1 Axes>"
      ]
     },
     "metadata": {
      "needs_background": "light"
     },
     "output_type": "display_data"
    }
   ],
   "source": [
    "predictions = model(inputs)\n",
    "plt.scatter(inputs[:,0], inputs[:,1], c=predictions[:,0] > 0.5)\n",
    "plt.show()"
   ]
  },
  {
   "cell_type": "code",
   "execution_count": 74,
   "id": "db758fb1-f00e-4009-a0d6-a56a33517674",
   "metadata": {},
   "outputs": [
    {
     "data": {
      "image/png": "[encoded data removed]",
      "text/plain": [
       "<Figure size 432x288 with 1 Axes>"
      ]
     },
     "metadata": {
      "needs_background": "light"
     },
     "output_type": "display_data"
    }
   ],
   "source": [
    "x = np.linspace(-1, 4, 100)\n",
    "y = -W[0]/W[1] * x + (0.5 -b)/W[1]\n",
    "plt.plot(x,y,'-r')\n",
    "plt.scatter(inputs[:,0], inputs[:,1], c=predictions[:,0] > 0.5)\n",
    "plt.show()"
   ]
  },
  {
   "cell_type": "code",
   "execution_count": 75,
   "id": "346474e3-8cf2-4936-b603-374482ed6ce5",
   "metadata": {},
   "outputs": [],
   "source": [
    "from tensorflow import keras"
   ]
  },
  {
   "cell_type": "code",
   "execution_count": 76,
   "id": "93b9f348-9eb4-42e5-a200-c916d11e0ecc",
   "metadata": {},
   "outputs": [],
   "source": [
    "class SimpleDense(keras.layers.Layer):\n",
    "    def __init__(self, units, activation=None):\n",
    "        super().__init__()\n",
    "        self.units = units\n",
    "        self.activation = activation\n",
    "        \n",
    "    def build(self, input_shape):\n",
    "        input_dim = input_shape[-1]\n",
    "        self.W = self.add_weight(shape=(input_dim, self.units),\n",
    "                                 initializer='random_normal')\n",
    "        self.b = self.add_weight(shape=(self.units,),\n",
    "                                 initializer='zeros')\n",
    "        \n",
    "    def call(self, inputs):\n",
    "        y = tf.matmul(inputs, self.W) + self.b\n",
    "        if self.activation is not None:\n",
    "            y = self.activation(y)\n",
    "        return y"
   ]
  },
  {
   "cell_type": "code",
   "execution_count": 77,
   "id": "60ccb158-76d3-4cb1-833b-5cddc2c72aeb",
   "metadata": {},
   "outputs": [
    {
     "name": "stdout",
     "output_type": "stream",
     "text": [
      "(2, 32)\n"
     ]
    }
   ],
   "source": [
    "my_dense = SimpleDense(units=32, activation=tf.nn.relu)\n",
    "input_tensor = tf.ones(shape=(2,784))\n",
    "output_tensor = my_dense(input_tensor)\n",
    "print(output_tensor.shape)"
   ]
  },
  {
   "cell_type": "code",
   "execution_count": 78,
   "id": "9c98b13e-99e0-4d63-b83f-cd5eeb02f601",
   "metadata": {},
   "outputs": [],
   "source": [
    "from tensorflow.keras import layers\n",
    "layer = layers.Dense(32, activation='relu')"
   ]
  },
  {
   "cell_type": "code",
   "execution_count": 80,
   "id": "62c07259-b065-45f2-9555-76d4c46dba3a",
   "metadata": {},
   "outputs": [],
   "source": [
    "from tensorflow.keras import models\n",
    "from tensorflow.keras import layers\n",
    "\n",
    "model = models.Sequential([\n",
    "    layers.Dense(32, activation='relu'),\n",
    "    layers.Dense(32)\n",
    "])"
   ]
  },
  {
   "cell_type": "code",
   "execution_count": 81,
   "id": "e14ae00b-105f-4173-a7f7-951e47c4973b",
   "metadata": {},
   "outputs": [
    {
     "name": "stdout",
     "output_type": "stream",
     "text": [
      "Train on 1400 samples, validate on 600 samples\n",
      "Epoch 1/5\n",
      "1400/1400 [==============================] - 1s 934us/sample - loss: 0.3457 - binary_accuracy: 0.9271 - val_loss: 0.0358 - val_binary_accuracy: 0.9967\n",
      "Epoch 2/5\n",
      "1400/1400 [==============================] - 0s 238us/sample - loss: 0.0708 - binary_accuracy: 0.9614 - val_loss: 0.1100 - val_binary_accuracy: 0.9650\n",
      "Epoch 3/5\n",
      "1400/1400 [==============================] - 0s 245us/sample - loss: 0.0756 - binary_accuracy: 0.9500 - val_loss: 0.0511 - val_binary_accuracy: 0.9817\n",
      "Epoch 4/5\n",
      "1400/1400 [==============================] - 0s 247us/sample - loss: 0.0705 - binary_accuracy: 0.9593 - val_loss: 0.0340 - val_binary_accuracy: 0.9933\n",
      "Epoch 5/5\n",
      "1400/1400 [==============================] - 0s 249us/sample - loss: 0.0668 - binary_accuracy: 0.9636 - val_loss: 0.4249 - val_binary_accuracy: 0.7883\n"
     ]
    },
    {
     "data": {
      "text/plain": [
       "<tensorflow.python.keras.callbacks.History at 0x7ff1227afbd0>"
      ]
     },
     "execution_count": 81,
     "metadata": {},
     "output_type": "execute_result"
    }
   ],
   "source": [
    "model = keras.Sequential([keras.layers.Dense(1)])\n",
    "model.compile(optimizer=keras.optimizers.RMSprop(learning_rate=0.1),\n",
    "              loss=keras.losses.MeanSquaredError(),\n",
    "              metrics=[keras.metrics.BinaryAccuracy()])\n",
    "\n",
    "indices_permutation = np.random.permutation(len(inputs))\n",
    "shuffled_inputs = inputs[indices_permutation]\n",
    "shuffled_targets = targets[indices_permutation]\n",
    "\n",
    "num_validation_samples = int(0.3*len(inputs))\n",
    "val_inputs = shuffled_inputs[:num_validation_samples]\n",
    "val_targets = shuffled_targets[:num_validation_samples]\n",
    "training_inputs = shuffled_inputs[num_validation_samples:]\n",
    "training_targets = shuffled_targets[num_validation_samples:]\n",
    "\n",
    "model.fit(training_inputs,training_targets,epochs=5,batch_size=16,validation_data=(val_inputs,val_targets))"
   ]
  },
  {
   "cell_type": "code",
   "execution_count": 82,
   "id": "73ac1147-05d3-469b-a85c-f10df35b11e7",
   "metadata": {
    "scrolled": true,
    "tags": []
   },
   "outputs": [
    {
     "name": "stdout",
     "output_type": "stream",
     "text": [
      "600/1 [================================================================================================================================================================================================================================================================================================================================================================================================================================================================================================================================================================================================================================================================================================================================================================================================================================================================================================================================================================================================================================================================================================================================================================================================================================================================================================================================================================================================================================================================================================================================================================================================================================================================================================================================================================================================================================================================================================================================================================================================================================================================================================================================================================================================================================================================================================================================================================================================================================================================================================================================================================================================================================================================================================================================================================================================================================================================================================================================================================================================================================================================================================================================================================================================================================================================================================================================================================================================================================================================================================================================================================================================================================================================================================================================================================================================================================================================================================================================================================================================================================================================================================================================================================================================================================================================================================================================================================================================================================================================================================================================================================================================================================================================================================================================================================================================================================================================================================================================================================================================================================================================================================================================================================================================================================================================================================================================================================================================================================================================================================================================================================================================================================================================================================================================================================================================================================================================================================================================================================================================================================================================================================================================================================================================================================================================================================================================================================================================================================================================================================================================================================================================================================================================================================================================================================================================================================================================================================================================================================================================================================================================================================================================================================================================================================================================================================================================================================================================================================================================================================================================================================================================================================================================================================================================================================================================================================================================================================================================================================================================================================================================================================================================================================================================================================================================================================================================================================================================================================================================================================================================================================================================================================================================================================================================================================================================================================================================================================================================================================================================================================================================================================================================================================================================================================================================================================================================================================================================================================================================================================================================================================================================================================================================================================================================================================================================================================================================================================================================================================================================================================================================================================================================================================================================================================================================================================================================================================================================================================================================================================================================================================================================================================================================================================================================================================================================================================================================================================================================================================================================================================================================================================================================================================================================================================================================================================================================================================================================================================================================================================================================================================================================================================================================================================================================================================================================================================================================================================================================================================================================================================================================================================================================================================================================================================================================================================================================================================================================================================================================================================================================================================================================================================================================================================================================================================================================================================================================================================================================================================================================================================================================================================================================================================================================================================================================================================================================================================================================================================================================================================================================================================================================================================================================================================================================================================================================================================================================================================================================================================================================================================================================================================================================================================================================================================================================================================================================================================================================================================================================================================================================================================================================================================================================================================================================================================================================================================================================================================================================================================================================================================================================================================================================================================================================================================================================================================================================================================================================================================================================================================================================================================================================================================================================================================================================================================================================================================================================================================================================================================================================================================================================================================================================================================================================================================================================================================================================================================================================================================================================================================================================================================================================================================================================================================================================================================================================================================================================================================================================================================================================================================================================================================================================================================================================================================================================================================================================================================================================================================================================================================================================================================================================================================================================================================================================================================================================================================================================================================================================================================================================================================================================================================================================================================================================================================================================================================================================================================================================================================================================================================================================================================================================================================================================================================================================================] - 0s 15us/sample - loss: 0.4189 - binary_accuracy: 0.7883\n"
     ]
    }
   ],
   "source": [
    "loss_and_metrics = model.evaluate(val_inputs, val_targets, batch_size=128)"
   ]
  },
  {
   "cell_type": "code",
   "execution_count": 83,
   "id": "d26e704b-46d0-44bc-92ff-3708f29009b9",
   "metadata": {},
   "outputs": [],
   "source": [
    "predictions = model.predict(val_inputs, batch_size=128)"
   ]
  },
  {
   "cell_type": "code",
   "execution_count": 87,
   "id": "56e3b133-8e8d-4a49-85c4-692b0f9fe27d",
   "metadata": {
    "tags": []
   },
   "outputs": [
    {
     "name": "stdout",
     "output_type": "stream",
     "text": [
      "[[ 0.22219327]\n",
      " [ 0.72640055]\n",
      " [ 2.0359788 ]\n",
      " [ 0.45979562]\n",
      " [-0.31200987]\n",
      " [ 1.5718913 ]\n",
      " [ 0.27509427]\n",
      " [ 1.0318935 ]\n",
      " [ 0.2724698 ]\n",
      " [ 0.77207035]]\n"
     ]
    }
   ],
   "source": [
    "print(predictions[:10])"
   ]
  }
 ],
 "metadata": {
  "kernelspec": {
   "display_name": "Python 3 (ipykernel)",
   "language": "python",
   "name": "python3"
  },
  "language_info": {
   "codemirror_mode": {
    "name": "ipython",
    "version": 3
   },
   "file_extension": ".py",
   "mimetype": "text/x-python",
   "name": "python",
   "nbconvert_exporter": "python",
   "pygments_lexer": "ipython3",
   "version": "3.7.11"
  }
 },
 "nbformat": 4,
 "nbformat_minor": 5
}
