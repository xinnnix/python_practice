{
 "cells": [
  {
   "cell_type": "code",
   "execution_count": 1,
   "id": "d6d91f47-1615-4492-8e34-480f23d5b19d",
   "metadata": {},
   "outputs": [],
   "source": [
    "from tensorflow import keras\n",
    "from tensorflow.keras import layers"
   ]
  },
  {
   "cell_type": "code",
   "execution_count": 3,
   "id": "472ddfc2-4836-420a-b78c-b9c96349cbc1",
   "metadata": {},
   "outputs": [],
   "source": [
    "def build_model(hp):\n",
    "    units = hp.Int(name='units', min_value=16, max_value=64, step=16)\n",
    "    model = keras.Sequential([\n",
    "        layers.Dense(units, activation='relu'),\n",
    "        layers.Dense(10, activation='softmax'),\n",
    "    ])\n",
    "    optimizer = hp.Choice(name='optimizer', values=['rmsprop', 'adam'])\n",
    "    model.compile(optimizer=optimizer,\n",
    "                  loss='sparse_categorical_crossentropy',\n",
    "                  metrics=['accuracy'])\n",
    "    return model"
   ]
  },
  {
   "cell_type": "code",
   "execution_count": 5,
   "id": "a6add24e-1ddf-4693-a49b-4ebce34ad6ac",
   "metadata": {},
   "outputs": [
    {
     "name": "stdout",
     "output_type": "stream",
     "text": [
      "Looking in indexes: https://pypi.tuna.tsinghua.edu.cn/simple\n",
      "Collecting keras-tuner\n",
      "  Downloading https://pypi.tuna.tsinghua.edu.cn/packages/11/fc/375d547ef98adb11712e7cfffff95fdd344cfbf3dd78f53aa437d5dc525b/keras_tuner-1.1.0-py3-none-any.whl (98 kB)\n",
      "\u001b[2K     \u001b[90m━━━━━━━━━━━━━━━━━━━━━━━━━━━━━━━━━━━━━━━\u001b[0m \u001b[32m98.0/98.0 KB\u001b[0m \u001b[31m837.2 kB/s\u001b[0m eta \u001b[36m0:00:00\u001b[0ma \u001b[36m0:00:01\u001b[0m\n",
      "\u001b[?25hRequirement already satisfied: requests in /Users/xin/opt/anaconda3/envs/tf2/lib/python3.9/site-packages (from keras-tuner) (2.27.1)\n",
      "Requirement already satisfied: packaging in /Users/xin/opt/anaconda3/envs/tf2/lib/python3.9/site-packages (from keras-tuner) (21.3)\n",
      "Requirement already satisfied: numpy in /Users/xin/opt/anaconda3/envs/tf2/lib/python3.9/site-packages (from keras-tuner) (1.22.2)\n",
      "Requirement already satisfied: ipython in /Users/xin/opt/anaconda3/envs/tf2/lib/python3.9/site-packages (from keras-tuner) (8.0.1)\n",
      "Collecting kt-legacy\n",
      "  Downloading https://pypi.tuna.tsinghua.edu.cn/packages/09/83/7c3001c7826cd7194f36dc971c57a25c7a55373e7087c62a6d1d1193c022/kt_legacy-1.0.4-py3-none-any.whl (9.6 kB)\n",
      "Collecting scipy\n",
      "  Downloading https://pypi.tuna.tsinghua.edu.cn/packages/39/02/e7596622d5d659f0b4601e59a8f482dc09d009be9091b8de221651fd6e9f/scipy-1.8.0-cp39-cp39-macosx_12_0_universal2.macosx_10_9_x86_64.whl (55.6 MB)\n",
      "\u001b[2K     \u001b[90m━━━━━━━━━━━━━━━━━━━━━━━━━━━━━━━━━━━━━━━━\u001b[0m \u001b[32m55.6/55.6 MB\u001b[0m \u001b[31m3.9 MB/s\u001b[0m eta \u001b[36m0:00:00\u001b[0m00:01\u001b[0m00:01\u001b[0m\n",
      "\u001b[?25hRequirement already satisfied: tensorboard in /Users/xin/opt/anaconda3/envs/tf2/lib/python3.9/site-packages (from keras-tuner) (2.8.0)\n",
      "Requirement already satisfied: backcall in /Users/xin/opt/anaconda3/envs/tf2/lib/python3.9/site-packages (from ipython->keras-tuner) (0.2.0)\n",
      "Requirement already satisfied: stack-data in /Users/xin/opt/anaconda3/envs/tf2/lib/python3.9/site-packages (from ipython->keras-tuner) (0.1.4)\n",
      "Requirement already satisfied: pickleshare in /Users/xin/opt/anaconda3/envs/tf2/lib/python3.9/site-packages (from ipython->keras-tuner) (0.7.5)\n",
      "Requirement already satisfied: pygments in /Users/xin/opt/anaconda3/envs/tf2/lib/python3.9/site-packages (from ipython->keras-tuner) (2.11.2)\n",
      "Requirement already satisfied: matplotlib-inline in /Users/xin/opt/anaconda3/envs/tf2/lib/python3.9/site-packages (from ipython->keras-tuner) (0.1.3)\n",
      "Requirement already satisfied: jedi>=0.16 in /Users/xin/opt/anaconda3/envs/tf2/lib/python3.9/site-packages (from ipython->keras-tuner) (0.18.1)\n",
      "Requirement already satisfied: setuptools>=18.5 in /Users/xin/opt/anaconda3/envs/tf2/lib/python3.9/site-packages (from ipython->keras-tuner) (58.0.4)\n",
      "Requirement already satisfied: appnope in /Users/xin/opt/anaconda3/envs/tf2/lib/python3.9/site-packages (from ipython->keras-tuner) (0.1.2)\n",
      "Requirement already satisfied: decorator in /Users/xin/opt/anaconda3/envs/tf2/lib/python3.9/site-packages (from ipython->keras-tuner) (5.1.1)\n",
      "Requirement already satisfied: black in /Users/xin/opt/anaconda3/envs/tf2/lib/python3.9/site-packages (from ipython->keras-tuner) (22.1.0)\n",
      "Requirement already satisfied: prompt-toolkit!=3.0.0,!=3.0.1,<3.1.0,>=2.0.0 in /Users/xin/opt/anaconda3/envs/tf2/lib/python3.9/site-packages (from ipython->keras-tuner) (3.0.27)\n",
      "Requirement already satisfied: traitlets>=5 in /Users/xin/opt/anaconda3/envs/tf2/lib/python3.9/site-packages (from ipython->keras-tuner) (5.1.1)\n",
      "Requirement already satisfied: pexpect>4.3 in /Users/xin/opt/anaconda3/envs/tf2/lib/python3.9/site-packages (from ipython->keras-tuner) (4.8.0)\n",
      "Requirement already satisfied: pyparsing!=3.0.5,>=2.0.2 in /Users/xin/opt/anaconda3/envs/tf2/lib/python3.9/site-packages (from packaging->keras-tuner) (3.0.7)\n",
      "Requirement already satisfied: certifi>=2017.4.17 in /Users/xin/opt/anaconda3/envs/tf2/lib/python3.9/site-packages (from requests->keras-tuner) (2021.10.8)\n",
      "Requirement already satisfied: charset-normalizer~=2.0.0 in /Users/xin/opt/anaconda3/envs/tf2/lib/python3.9/site-packages (from requests->keras-tuner) (2.0.11)\n",
      "Requirement already satisfied: urllib3<1.27,>=1.21.1 in /Users/xin/opt/anaconda3/envs/tf2/lib/python3.9/site-packages (from requests->keras-tuner) (1.26.8)\n",
      "Requirement already satisfied: idna<4,>=2.5 in /Users/xin/opt/anaconda3/envs/tf2/lib/python3.9/site-packages (from requests->keras-tuner) (3.3)\n",
      "Requirement already satisfied: werkzeug>=0.11.15 in /Users/xin/opt/anaconda3/envs/tf2/lib/python3.9/site-packages (from tensorboard->keras-tuner) (2.0.3)\n",
      "Requirement already satisfied: grpcio>=1.24.3 in /Users/xin/opt/anaconda3/envs/tf2/lib/python3.9/site-packages (from tensorboard->keras-tuner) (1.43.0)\n",
      "Requirement already satisfied: markdown>=2.6.8 in /Users/xin/opt/anaconda3/envs/tf2/lib/python3.9/site-packages (from tensorboard->keras-tuner) (3.3.6)\n",
      "Requirement already satisfied: wheel>=0.26 in /Users/xin/opt/anaconda3/envs/tf2/lib/python3.9/site-packages (from tensorboard->keras-tuner) (0.37.1)\n",
      "Requirement already satisfied: tensorboard-data-server<0.7.0,>=0.6.0 in /Users/xin/opt/anaconda3/envs/tf2/lib/python3.9/site-packages (from tensorboard->keras-tuner) (0.6.1)\n",
      "Requirement already satisfied: tensorboard-plugin-wit>=1.6.0 in /Users/xin/opt/anaconda3/envs/tf2/lib/python3.9/site-packages (from tensorboard->keras-tuner) (1.8.1)\n",
      "Requirement already satisfied: absl-py>=0.4 in /Users/xin/opt/anaconda3/envs/tf2/lib/python3.9/site-packages (from tensorboard->keras-tuner) (1.0.0)\n",
      "Requirement already satisfied: google-auth<3,>=1.6.3 in /Users/xin/opt/anaconda3/envs/tf2/lib/python3.9/site-packages (from tensorboard->keras-tuner) (2.6.0)\n",
      "Requirement already satisfied: protobuf>=3.6.0 in /Users/xin/opt/anaconda3/envs/tf2/lib/python3.9/site-packages (from tensorboard->keras-tuner) (3.19.4)\n",
      "Requirement already satisfied: google-auth-oauthlib<0.5,>=0.4.1 in /Users/xin/opt/anaconda3/envs/tf2/lib/python3.9/site-packages (from tensorboard->keras-tuner) (0.4.6)\n",
      "Requirement already satisfied: six in /Users/xin/opt/anaconda3/envs/tf2/lib/python3.9/site-packages (from absl-py>=0.4->tensorboard->keras-tuner) (1.16.0)\n",
      "Requirement already satisfied: cachetools<6.0,>=2.0.0 in /Users/xin/opt/anaconda3/envs/tf2/lib/python3.9/site-packages (from google-auth<3,>=1.6.3->tensorboard->keras-tuner) (5.0.0)\n",
      "Requirement already satisfied: pyasn1-modules>=0.2.1 in /Users/xin/opt/anaconda3/envs/tf2/lib/python3.9/site-packages (from google-auth<3,>=1.6.3->tensorboard->keras-tuner) (0.2.8)\n",
      "Requirement already satisfied: rsa<5,>=3.1.4 in /Users/xin/opt/anaconda3/envs/tf2/lib/python3.9/site-packages (from google-auth<3,>=1.6.3->tensorboard->keras-tuner) (4.8)\n",
      "Requirement already satisfied: requests-oauthlib>=0.7.0 in /Users/xin/opt/anaconda3/envs/tf2/lib/python3.9/site-packages (from google-auth-oauthlib<0.5,>=0.4.1->tensorboard->keras-tuner) (1.3.1)\n",
      "Requirement already satisfied: parso<0.9.0,>=0.8.0 in /Users/xin/opt/anaconda3/envs/tf2/lib/python3.9/site-packages (from jedi>=0.16->ipython->keras-tuner) (0.8.3)\n",
      "Requirement already satisfied: importlib-metadata>=4.4 in /Users/xin/opt/anaconda3/envs/tf2/lib/python3.9/site-packages (from markdown>=2.6.8->tensorboard->keras-tuner) (4.10.1)\n",
      "Requirement already satisfied: ptyprocess>=0.5 in /Users/xin/opt/anaconda3/envs/tf2/lib/python3.9/site-packages (from pexpect>4.3->ipython->keras-tuner) (0.7.0)\n",
      "Requirement already satisfied: wcwidth in /Users/xin/opt/anaconda3/envs/tf2/lib/python3.9/site-packages (from prompt-toolkit!=3.0.0,!=3.0.1,<3.1.0,>=2.0.0->ipython->keras-tuner) (0.2.5)\n",
      "Requirement already satisfied: platformdirs>=2 in /Users/xin/opt/anaconda3/envs/tf2/lib/python3.9/site-packages (from black->ipython->keras-tuner) (2.5.0)\n",
      "Requirement already satisfied: typing-extensions>=3.10.0.0 in /Users/xin/opt/anaconda3/envs/tf2/lib/python3.9/site-packages (from black->ipython->keras-tuner) (4.0.1)\n",
      "Requirement already satisfied: mypy-extensions>=0.4.3 in /Users/xin/opt/anaconda3/envs/tf2/lib/python3.9/site-packages (from black->ipython->keras-tuner) (0.4.3)\n",
      "Requirement already satisfied: click>=8.0.0 in /Users/xin/opt/anaconda3/envs/tf2/lib/python3.9/site-packages (from black->ipython->keras-tuner) (8.0.3)\n",
      "Requirement already satisfied: tomli>=1.1.0 in /Users/xin/opt/anaconda3/envs/tf2/lib/python3.9/site-packages (from black->ipython->keras-tuner) (2.0.1)\n",
      "Requirement already satisfied: pathspec>=0.9.0 in /Users/xin/opt/anaconda3/envs/tf2/lib/python3.9/site-packages (from black->ipython->keras-tuner) (0.9.0)\n",
      "Requirement already satisfied: asttokens in /Users/xin/opt/anaconda3/envs/tf2/lib/python3.9/site-packages (from stack-data->ipython->keras-tuner) (2.0.5)\n",
      "Requirement already satisfied: executing in /Users/xin/opt/anaconda3/envs/tf2/lib/python3.9/site-packages (from stack-data->ipython->keras-tuner) (0.8.2)\n",
      "Requirement already satisfied: pure-eval in /Users/xin/opt/anaconda3/envs/tf2/lib/python3.9/site-packages (from stack-data->ipython->keras-tuner) (0.2.2)\n",
      "Requirement already satisfied: zipp>=0.5 in /Users/xin/opt/anaconda3/envs/tf2/lib/python3.9/site-packages (from importlib-metadata>=4.4->markdown>=2.6.8->tensorboard->keras-tuner) (3.7.0)\n",
      "Requirement already satisfied: pyasn1<0.5.0,>=0.4.6 in /Users/xin/opt/anaconda3/envs/tf2/lib/python3.9/site-packages (from pyasn1-modules>=0.2.1->google-auth<3,>=1.6.3->tensorboard->keras-tuner) (0.4.8)\n",
      "Requirement already satisfied: oauthlib>=3.0.0 in /Users/xin/opt/anaconda3/envs/tf2/lib/python3.9/site-packages (from requests-oauthlib>=0.7.0->google-auth-oauthlib<0.5,>=0.4.1->tensorboard->keras-tuner) (3.2.0)\n",
      "Installing collected packages: kt-legacy, scipy, keras-tuner\n",
      "Successfully installed keras-tuner-1.1.0 kt-legacy-1.0.4 scipy-1.8.0\n"
     ]
    }
   ],
   "source": [
    "!pip install keras-tuner -i https://pypi.tuna.tsinghua.edu.cn/simple"
   ]
  },
  {
   "cell_type": "code",
   "execution_count": 6,
   "id": "48a18f74-0677-460a-8ecb-60553eb8ab92",
   "metadata": {},
   "outputs": [
    {
     "name": "stderr",
     "output_type": "stream",
     "text": [
      "/var/folders/_f/s_khv65n16s45b6z9py_kgw00000gn/T/ipykernel_32854/1654478174.py:1: DeprecationWarning: `import kerastuner` is deprecated, please use `import keras_tuner`.\n",
      "  import kerastuner as kt\n"
     ]
    }
   ],
   "source": [
    "import kerastuner as kt"
   ]
  },
  {
   "cell_type": "code",
   "execution_count": 7,
   "id": "23e43379-41b5-4f49-aac4-6cb5b27d9701",
   "metadata": {},
   "outputs": [],
   "source": [
    "class SimpleMLP(kt.HyperModel):\n",
    "    def __init__(self, num_classes):\n",
    "        self.num_classes = num_classes\n",
    "    \n",
    "    def build(self, hp):\n",
    "        units = hp.Int(name='units', min_value=16, max_value=64, step=16)\n",
    "        model = keras.Sequential([\n",
    "            layers.Dense(units, activation='relu'),\n",
    "            layers.Dense(self.num_classes, activation='softmax')\n",
    "        ])\n",
    "        optimizer = hp.Choice(name='optimizer', values=['rmsprop', 'adam'])\n",
    "        model.compile(optimizer=optimizer,\n",
    "                      loss='sparse_categorical_crossentropy',\n",
    "                      metrics=['accuracy'])\n",
    "        return model\n",
    "    \n",
    "hypermodel = SimpleMLP(num_classes=10)"
   ]
  },
  {
   "cell_type": "code",
   "execution_count": 14,
   "id": "57d413d6-ed1b-495a-9c72-f5708eb7b6c5",
   "metadata": {},
   "outputs": [],
   "source": [
    "tuner = kt.BayesianOptimization(\n",
    "    build_model,\n",
    "    objective='val_accuracy',\n",
    "    max_trials=100,\n",
    "    executions_per_trial = 2,\n",
    "    directory='mnist_kt_test',\n",
    "    overwrite=True)"
   ]
  },
  {
   "cell_type": "code",
   "execution_count": 9,
   "id": "d4056656-052b-4843-b825-28f88559e3d4",
   "metadata": {},
   "outputs": [
    {
     "name": "stdout",
     "output_type": "stream",
     "text": [
      "Search space summary\n",
      "Default search space size: 2\n",
      "units (Int)\n",
      "{'default': None, 'conditions': [], 'min_value': 16, 'max_value': 64, 'step': 16, 'sampling': None}\n",
      "optimizer (Choice)\n",
      "{'default': 'rmsprop', 'conditions': [], 'values': ['rmsprop', 'adam'], 'ordered': False}\n"
     ]
    }
   ],
   "source": [
    "tuner.search_space_summary()"
   ]
  },
  {
   "cell_type": "code",
   "execution_count": 10,
   "id": "ff34817c-9027-4ba7-8a1e-ea9145d86e72",
   "metadata": {},
   "outputs": [],
   "source": [
    "(x_train, y_train),(x_test, y_test) = keras.datasets.mnist.load_data()"
   ]
  },
  {
   "cell_type": "code",
   "execution_count": null,
   "id": "d7189cc2-1437-4e3f-93b5-3121009f1ff9",
   "metadata": {},
   "outputs": [],
   "source": [
    "x_train = x_train.reshape((-1,28*28)).astype('float32')/255\n",
    "x_test = x_test.reshape((-1,28*28)).astype('float32')/255\n",
    "x_train_full = x_train[:]\n",
    "Y_train_full = y_train[:]\n",
    "num_val_samples = 10000\n",
    "x_train, x_val = x_train[:-num_val_samples], x_train[-num_val_samples:]\n",
    "y_train, y_val = y_train[:-num_val_samples], y_train[-num_val_samples:]\n",
    "callbacks = [\n",
    "    keras.callbacks.EarlyStopping(monitor='val_loss', patience=5)\n",
    "]\n",
    "tuner.search(\n",
    "    x_train, y_train,\n",
    "    batch_size = 128,\n",
    "    epochs = 100,\n",
    "    validation_data = (x_val, y_val),\n",
    "    callbacks = callbacks,\n",
    "    verbose=2)"
   ]
  },
  {
   "cell_type": "code",
   "execution_count": 15,
   "id": "7b0a193d-2d9f-441e-b0f6-34cbfa28d5f5",
   "metadata": {},
   "outputs": [],
   "source": [
    "top_n = 4\n",
    "best_hps = tuner.get_best_hyperparameters(top_n)"
   ]
  },
  {
   "cell_type": "code",
   "execution_count": null,
   "id": "7a0ca51c-3b57-4991-ba3c-3185a2d4f3bc",
   "metadata": {},
   "outputs": [],
   "source": [
    "def get_best_epoch(hp):\n",
    "    model = build_model(hp)\n",
    "    callbacks = [\n",
    "        keras.callbacks.EarlyStopping(\n",
    "            monitor='val_loss', mode='min', patience=10)\n",
    "    ]\n",
    "    history = model.fit(\n",
    "        x_train, y_train,\n",
    "        validation_data = (x_val, y_val),\n",
    "        epochs = 100,\n",
    "        batch_size = 128,\n",
    "        callbacks = callbacks)\n",
    "    val_loss_per_epoch = history.history['val_loss']\n",
    "    best_epoch = val_loss_per_epoch.index(min(val_loss_per_epoch))+1\n",
    "    print(f'Best epoch: {best_epoch}')\n",
    "    return best_epoch"
   ]
  },
  {
   "cell_type": "code",
   "execution_count": null,
   "id": "735c49e0-2f5d-41de-bc91-b26b4d211786",
   "metadata": {},
   "outputs": [],
   "source": [
    "def get_best_trained_model(hp):\n",
    "    best_epoch = get_best_epoch(hp)\n",
    "    model.fit(x_train_full, y_train_fll, batch_size = 128, epochs = int(best_epoch * 1.2))\n",
    "    return model\n",
    "\n",
    "best_model = []\n",
    "for hp in best_hps:\n",
    "    model = get_best_trained_model(hp)\n",
    "    model.evaluate(x_test, y_test)\n",
    "    best_model.append(model)"
   ]
  },
  {
   "cell_type": "code",
   "execution_count": null,
   "id": "679bb040-f1c7-4f14-a026-4556bdb601d6",
   "metadata": {},
   "outputs": [],
   "source": []
  }
 ],
 "metadata": {
  "kernelspec": {
   "display_name": "Python 3 (ipykernel)",
   "language": "python",
   "name": "python3"
  },
  "language_info": {
   "codemirror_mode": {
    "name": "ipython",
    "version": 3
   },
   "file_extension": ".py",
   "mimetype": "text/x-python",
   "name": "python",
   "nbconvert_exporter": "python",
   "pygments_lexer": "ipython3",
   "version": "3.9.7"
  }
 },
 "nbformat": 4,
 "nbformat_minor": 5
}
