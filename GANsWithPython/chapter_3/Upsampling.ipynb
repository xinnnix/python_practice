{
 "cells": [
  {
   "cell_type": "code",
   "execution_count": 12,
   "id": "23d6479c-45d7-4343-86c5-04f16acb28ef",
   "metadata": {},
   "outputs": [],
   "source": [
    "# example of using the upsampling layer\n",
    "\n",
    "from numpy import asarray\n",
    "from tensorflow.keras.models import Sequential, Model\n",
    "from tensorflow.keras.layers import UpSampling2D, Input"
   ]
  },
  {
   "cell_type": "code",
   "execution_count": 2,
   "id": "313cd4b4-ae28-4038-8caf-0366e4508541",
   "metadata": {},
   "outputs": [
    {
     "data": {
      "text/plain": [
       "array([[1, 2],\n",
       "       [3, 4]])"
      ]
     },
     "execution_count": 2,
     "metadata": {},
     "output_type": "execute_result"
    }
   ],
   "source": [
    "# define input data\n",
    "X = asarray([[1,2],\n",
    "             [3,4]])\n",
    "\n",
    "# show input data for context\n",
    "#print(X)\n",
    "X"
   ]
  },
  {
   "cell_type": "code",
   "execution_count": 3,
   "id": "d402b1b8-5a02-40e8-b428-a06047141bfa",
   "metadata": {},
   "outputs": [
    {
     "data": {
      "text/plain": [
       "array([[[[1],\n",
       "         [2]],\n",
       "\n",
       "        [[3],\n",
       "         [4]]]])"
      ]
     },
     "execution_count": 3,
     "metadata": {},
     "output_type": "execute_result"
    }
   ],
   "source": [
    "# reshape input data into a sample with one channel\n",
    "X = X.reshape((1,2,2,1))\n",
    "#print(X)\n",
    "X"
   ]
  },
  {
   "cell_type": "code",
   "execution_count": 4,
   "id": "9d0efea5-725d-4120-8190-4e332d0fd197",
   "metadata": {},
   "outputs": [],
   "source": [
    "# define model\n",
    "model = Sequential()\n",
    "model.add(UpSampling2D(input_shape=(2,2,1)))"
   ]
  },
  {
   "cell_type": "code",
   "execution_count": 5,
   "id": "fec87798-13d5-415d-8c38-f5ab15c5b4f9",
   "metadata": {},
   "outputs": [
    {
     "name": "stdout",
     "output_type": "stream",
     "text": [
      "Model: \"sequential\"\n",
      "_________________________________________________________________\n",
      " Layer (type)                Output Shape              Param #   \n",
      "=================================================================\n",
      " up_sampling2d (UpSampling2D  (None, 4, 4, 1)          0         \n",
      " )                                                               \n",
      "                                                                 \n",
      "=================================================================\n",
      "Total params: 0\n",
      "Trainable params: 0\n",
      "Non-trainable params: 0\n",
      "_________________________________________________________________\n"
     ]
    }
   ],
   "source": [
    "# summarize model\n",
    "model.summary()"
   ]
  },
  {
   "cell_type": "code",
   "execution_count": 6,
   "id": "97f13766-45e3-4647-a5cd-65a565d46c02",
   "metadata": {},
   "outputs": [
    {
     "data": {
      "text/plain": [
       "array([[[[1.],\n",
       "         [1.],\n",
       "         [2.],\n",
       "         [2.]],\n",
       "\n",
       "        [[1.],\n",
       "         [1.],\n",
       "         [2.],\n",
       "         [2.]],\n",
       "\n",
       "        [[3.],\n",
       "         [3.],\n",
       "         [4.],\n",
       "         [4.]],\n",
       "\n",
       "        [[3.],\n",
       "         [3.],\n",
       "         [4.],\n",
       "         [4.]]]], dtype=float32)"
      ]
     },
     "execution_count": 6,
     "metadata": {},
     "output_type": "execute_result"
    }
   ],
   "source": [
    "# make a prediction with the model\n",
    "yhat = model.predict(X)\n",
    "#print(yhat)\n",
    "yhat"
   ]
  },
  {
   "cell_type": "code",
   "execution_count": 7,
   "id": "afcf7519-aded-4a19-90a2-8d1a3398936e",
   "metadata": {},
   "outputs": [],
   "source": [
    "# reshape output to remove channel to make printing easier\n",
    "yhat = yhat.reshape((4,4))"
   ]
  },
  {
   "cell_type": "code",
   "execution_count": 8,
   "id": "7e65dae5-6f63-4034-a282-bb1f582b48c0",
   "metadata": {},
   "outputs": [
    {
     "data": {
      "text/plain": [
       "array([[1., 1., 2., 2.],\n",
       "       [1., 1., 2., 2.],\n",
       "       [3., 3., 4., 4.],\n",
       "       [3., 3., 4., 4.]], dtype=float32)"
      ]
     },
     "execution_count": 8,
     "metadata": {},
     "output_type": "execute_result"
    }
   ],
   "source": [
    "# summarize output\n",
    "#print(yhat)\n",
    "yhat"
   ]
  },
  {
   "cell_type": "code",
   "execution_count": 9,
   "id": "6670bf28-f08e-4ffa-85f1-5c7fa1fb7b65",
   "metadata": {},
   "outputs": [
    {
     "name": "stdout",
     "output_type": "stream",
     "text": [
      "Model: \"sequential_1\"\n",
      "_________________________________________________________________\n",
      " Layer (type)                Output Shape              Param #   \n",
      "=================================================================\n",
      " up_sampling2d_1 (UpSampling  (None, 6, 6, 1)          0         \n",
      " 2D)                                                             \n",
      "                                                                 \n",
      "=================================================================\n",
      "Total params: 0\n",
      "Trainable params: 0\n",
      "Non-trainable params: 0\n",
      "_________________________________________________________________\n"
     ]
    }
   ],
   "source": [
    "model2 = Sequential()\n",
    "model2.add(UpSampling2D(input_shape=(2,2,1), size=(3,3)))\n",
    "model2.summary()"
   ]
  },
  {
   "cell_type": "code",
   "execution_count": 10,
   "id": "037e976f-0091-4ecd-b48a-73d1d09cd796",
   "metadata": {},
   "outputs": [
    {
     "name": "stdout",
     "output_type": "stream",
     "text": [
      "[[1. 1. 1. 2. 2. 2.]\n",
      " [1. 1. 1. 2. 2. 2.]\n",
      " [1. 1. 1. 2. 2. 2.]\n",
      " [3. 3. 3. 4. 4. 4.]\n",
      " [3. 3. 3. 4. 4. 4.]\n",
      " [3. 3. 3. 4. 4. 4.]]\n"
     ]
    }
   ],
   "source": [
    "yhat = model2.predict(X)\n",
    "yhat = yhat.reshape((6,6))\n",
    "print(yhat)"
   ]
  },
  {
   "cell_type": "code",
   "execution_count": 13,
   "id": "79357f90-d4d4-442a-a32e-d61a9f4fecaf",
   "metadata": {},
   "outputs": [
    {
     "name": "stdout",
     "output_type": "stream",
     "text": [
      "Model: \"model\"\n",
      "_________________________________________________________________\n",
      " Layer (type)                Output Shape              Param #   \n",
      "=================================================================\n",
      " input_1 (InputLayer)        [(None, 2, 2, 1)]         0         \n",
      "                                                                 \n",
      " up_sampling2d_2 (UpSampling  (None, 8, 8, 1)          0         \n",
      " 2D)                                                             \n",
      "                                                                 \n",
      "=================================================================\n",
      "Total params: 0\n",
      "Trainable params: 0\n",
      "Non-trainable params: 0\n",
      "_________________________________________________________________\n"
     ]
    }
   ],
   "source": [
    "visible = Input(shape=(2,2,1))\n",
    "outputs = UpSampling2D(input_shape=(2,2,1),\n",
    "                       size=(4,4),\n",
    "                       interpolation='bilinear')(visible)\n",
    "model3 = Model(inputs=visible, outputs=outputs)\n",
    "model3.summary()"
   ]
  },
  {
   "cell_type": "code",
   "execution_count": 14,
   "id": "63e922d5-6d04-4c1b-9fd5-0a976ea08150",
   "metadata": {},
   "outputs": [
    {
     "name": "stdout",
     "output_type": "stream",
     "text": [
      "[[1.    1.    1.125 1.375 1.625 1.875 2.    2.   ]\n",
      " [1.    1.    1.125 1.375 1.625 1.875 2.    2.   ]\n",
      " [1.25  1.25  1.375 1.625 1.875 2.125 2.25  2.25 ]\n",
      " [1.75  1.75  1.875 2.125 2.375 2.625 2.75  2.75 ]\n",
      " [2.25  2.25  2.375 2.625 2.875 3.125 3.25  3.25 ]\n",
      " [2.75  2.75  2.875 3.125 3.375 3.625 3.75  3.75 ]\n",
      " [3.    3.    3.125 3.375 3.625 3.875 4.    4.   ]\n",
      " [3.    3.    3.125 3.375 3.625 3.875 4.    4.   ]]\n"
     ]
    }
   ],
   "source": [
    "yhat = model3.predict(X)\n",
    "yhat = yhat.reshape((8,8))\n",
    "print(yhat)"
   ]
  },
  {
   "cell_type": "markdown",
   "id": "763ebdb7-1bee-4f5f-95f4-86a172b4e6df",
   "metadata": {},
   "source": [
    "---\n",
    "Generative model\n",
    "---"
   ]
  },
  {
   "cell_type": "code",
   "execution_count": 15,
   "id": "0ef69176-170d-4775-ae89-ae466bb23456",
   "metadata": {},
   "outputs": [],
   "source": [
    "# example of using upsampling in a simple generator model\n",
    "\n",
    "from tensorflow.keras.models import Sequential\n",
    "from tensorflow.keras.layers import Dense, Conv2D, Reshape, UpSampling2D"
   ]
  },
  {
   "cell_type": "code",
   "execution_count": 16,
   "id": "70f25555-671c-4844-9b05-2804a043270a",
   "metadata": {},
   "outputs": [
    {
     "name": "stdout",
     "output_type": "stream",
     "text": [
      "Model: \"sequential_2\"\n",
      "_________________________________________________________________\n",
      " Layer (type)                Output Shape              Param #   \n",
      "=================================================================\n",
      " dense (Dense)               (None, 3200)              323200    \n",
      "                                                                 \n",
      " reshape (Reshape)           (None, 5, 5, 128)         0         \n",
      "                                                                 \n",
      " up_sampling2d_3 (UpSampling  (None, 10, 10, 128)      0         \n",
      " 2D)                                                             \n",
      "                                                                 \n",
      " conv2d (Conv2D)             (None, 10, 10, 1)         1153      \n",
      "                                                                 \n",
      "=================================================================\n",
      "Total params: 324,353\n",
      "Trainable params: 324,353\n",
      "Non-trainable params: 0\n",
      "_________________________________________________________________\n"
     ]
    }
   ],
   "source": [
    "# define the model\n",
    "model = Sequential()\n",
    "\n",
    "model.add(Dense(128*5*5, input_dim=100))\n",
    "model.add(Reshape((5,5,128)))\n",
    "model.add(UpSampling2D())\n",
    "model.add(Conv2D(1, (3,3), padding='same'))\n",
    "\n",
    "model.summary()"
   ]
  },
  {
   "cell_type": "code",
   "execution_count": null,
   "id": "bfdf8274-ee68-4c52-a3f1-59b8a92328e1",
   "metadata": {},
   "outputs": [],
   "source": []
  }
 ],
 "metadata": {
  "kernelspec": {
   "display_name": "Python 3 (ipykernel)",
   "language": "python",
   "name": "python3"
  },
  "language_info": {
   "codemirror_mode": {
    "name": "ipython",
    "version": 3
   },
   "file_extension": ".py",
   "mimetype": "text/x-python",
   "name": "python",
   "nbconvert_exporter": "python",
   "pygments_lexer": "ipython3",
   "version": "3.9.7"
  }
 },
 "nbformat": 4,
 "nbformat_minor": 5
}
