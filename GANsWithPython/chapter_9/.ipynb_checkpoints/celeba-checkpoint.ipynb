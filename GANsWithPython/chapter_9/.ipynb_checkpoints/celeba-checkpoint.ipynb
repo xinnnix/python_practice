{
 "cells": [
  {
   "cell_type": "code",
   "execution_count": null,
   "id": "a6415231-b74f-4d7f-9fa6-c9541ec08925",
   "metadata": {},
   "outputs": [],
   "source": []
  }
 ],
 "metadata": {
  "kernelspec": {
   "display_name": "Python 3 (ipykernel)",
   "language": "python",
   "name": "python3"
  },
  "language_info": {
   "name": ""
  }
 },
 "nbformat": 4,
 "nbformat_minor": 5
}
