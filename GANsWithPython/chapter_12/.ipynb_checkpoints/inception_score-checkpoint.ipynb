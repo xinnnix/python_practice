{
 "cells": [
  {
   "cell_type": "code",
   "execution_count": 3,
   "id": "67ce73b9-87c4-408f-91f9-ce000b5674b1",
   "metadata": {},
   "outputs": [],
   "source": [
    "# calculate inception score in numpy\n",
    "from numpy import asarray, expand_dims, log, mean, exp"
   ]
  },
  {
   "cell_type": "code",
   "execution_count": 4,
   "id": "773d781d-5df8-4b10-bf30-37f8f7037991",
   "metadata": {},
   "outputs": [],
   "source": [
    "# calculate the inception score for p(y|x)\n",
    "def calculate_inception_score(p_yx, eps=1E-16):\n",
    "    # calculate p(y)\n",
    "    p_y = expand_dims(p_yx.mean(axis=0), 0)\n",
    "    # kl divergence for each image\n",
    "    kl_d = p_yx * (log(p_yx + eps) - log(p_y + eps))\n",
    "    # sum over all classes\n",
    "    sum_kl_d = kl_d.sum(axis=1)\n",
    "    # average over images\n",
    "    avg_kl_d = mean(sum_kl_d)\n",
    "    # undo the log\n",
    "    is_score = exp(avg_kl_d)\n",
    "    return is_score"
   ]
  },
  {
   "cell_type": "code",
   "execution_count": 5,
   "id": "35c82942-890e-4886-b4ca-0fc4757f0d69",
   "metadata": {},
   "outputs": [],
   "source": [
    "# conditional probabilities for high quality images\n",
    "p_yx = asarray([[1.0, 0.0, 0.0], [0.0, 1.0, 0.0], [0.0, 0.0, 1.0]])"
   ]
  },
  {
   "cell_type": "code",
   "execution_count": 6,
   "id": "5701eebd-f599-44ff-ae27-98f2670814b4",
   "metadata": {},
   "outputs": [],
   "source": [
    "score = calculate_inception_score(p_yx)"
   ]
  },
  {
   "cell_type": "code",
   "execution_count": 7,
   "id": "91c6fe27-3ac1-439e-80f5-401f4b8cafad",
   "metadata": {},
   "outputs": [
    {
     "name": "stdout",
     "output_type": "stream",
     "text": [
      "2.999999999999999\n"
     ]
    }
   ],
   "source": [
    "print(score)"
   ]
  },
  {
   "cell_type": "code",
   "execution_count": 8,
   "id": "5bc0a91b-cafd-4d25-8cac-1b83aad856ba",
   "metadata": {},
   "outputs": [],
   "source": [
    "# conditional probabilities for low quality images\n",
    "p_yx = asarray([[0.33, 0.33, 0.33], [0.33, 0.33, 0.33], [0.33, 0.33, 0.33]])"
   ]
  },
  {
   "cell_type": "code",
   "execution_count": 9,
   "id": "8e3c4957-8e79-4d4c-b6a6-d86f6a7fcb02",
   "metadata": {},
   "outputs": [
    {
     "name": "stdout",
     "output_type": "stream",
     "text": [
      "1.0\n"
     ]
    }
   ],
   "source": [
    "score = calculate_inception_score(p_yx)\n",
    "print(score)"
   ]
  },
  {
   "cell_type": "code",
   "execution_count": 10,
   "id": "caa94b72-068f-4c1e-a5ce-545a1bdf4f10",
   "metadata": {},
   "outputs": [],
   "source": [
    "# calculate inception score with keras\n",
    "from math import floor\n",
    "from numpy import ones, expand_dims, log, mean, std, exp\n",
    "from tensorflow.keras.applications.inception_v3 import InceptionV3, preprocess_input"
   ]
  },
  {
   "cell_type": "code",
   "execution_count": 12,
   "id": "9e32a59c-d135-4ac7-a20f-af18fbbe0bd4",
   "metadata": {},
   "outputs": [],
   "source": [
    "# assumes images have the shape 299x299x3, pixels in [0,255]\n",
    "def calculate_inception_score(images, n_split=10, eps=1e-16):\n",
    "    # load inception v3 model\n",
    "    model = InceptionV3()\n",
    "    # convert from uint8 to float32\n",
    "    processed = images.astype('float32')\n",
    "    # pre-prcoess raw images for inception v3 model\n",
    "    processed = preprocess_input(processed)\n",
    "    # predict class probabilities for images\n",
    "    yhat = model.predict(processed)\n",
    "    # enumerate splits for images/predictions\n",
    "    scores = list()\n",
    "    n_part = floor(images.shape[0] / n_split)\n",
    "    for i in range(n_split):\n",
    "        # retrieve p(y|x)\n",
    "        ix_start, ix_end = i * n_part, (i+1) * n_part\n",
    "        p_yx = yhat[ix_start:ix_end]\n",
    "        # calculate p(y)\n",
    "        p_y = expand_dims(p_yx.mean(axis=0), 0)\n",
    "        # calculate KL divergence using log probabilities\n",
    "        kl_d = p_yx * (log(p_yx + eps) - log(p_y + eps))\n",
    "        # sum over classes\n",
    "        sum_kl_d = kl_d.sum(axis=1)\n",
    "        # average over images\n",
    "        avg_kl_d = mean(sum_kl_d)\n",
    "        # undo the log\n",
    "        is_score = exp(avg_kl_d)\n",
    "        # store\n",
    "        scores.append(is_score)\n",
    "        # average across images\n",
    "        is_avg, is_std = mean(scores), std(scores)\n",
    "        return is_avg, is_std"
   ]
  },
  {
   "cell_type": "code",
   "execution_count": 13,
   "id": "1afd0ff9-1cc9-4732-8f06-9521481f8ab8",
   "metadata": {},
   "outputs": [
    {
     "name": "stdout",
     "output_type": "stream",
     "text": [
      "loaded:  (50, 299, 299, 3)\n",
      "Downloading data from https://storage.googleapis.com/tensorflow/keras-applications/inception_v3/inception_v3_weights_tf_dim_ordering_tf_kernels.h5\n",
      "96116736/96112376 [==============================] - 4264s 44us/step\n",
      "96124928/96112376 [==============================] - 4264s 44us/step\n",
      "score 1.0 0.0\n"
     ]
    }
   ],
   "source": [
    "# pretend to load images\n",
    "images = ones((50, 299, 299, 3))\n",
    "print('loaded: ', images.shape)\n",
    "# calculate inception score\n",
    "is_avg, is_std = calculate_inception_score(images)\n",
    "print('score', is_avg, is_std)"
   ]
  },
  {
   "cell_type": "code",
   "execution_count": 14,
   "id": "8797d553-7d60-4eb6-81c6-62f3f7da332e",
   "metadata": {},
   "outputs": [],
   "source": [
    "# calculate inception score for cifar-10 in Keras\n",
    "from math import floor\n",
    "from numpy import expand_dims, log, mean, exp, std, asarray\n",
    "from numpy.random import shuffle\n",
    "from tensorflow.keras.applications.inception_v3 import InceptionV3, preprocess_input\n",
    "from tensorflow.keras.datasets import cifar10\n",
    "from skimage.transform import resize"
   ]
  },
  {
   "cell_type": "code",
   "execution_count": 15,
   "id": "7a7f9c11-d146-42e3-be54-20343c9ac1f1",
   "metadata": {},
   "outputs": [],
   "source": [
    "# scale an array of images to a new size\n",
    "def scale_images(images, new_shape):\n",
    "    images_list = list()\n",
    "    for image in images:\n",
    "        # resize with nearest neighbor interpolation\n",
    "        new_image = resize(image, new_shape, 0)\n",
    "        # store\n",
    "        images_list.append(new_image)\n",
    "    return asarray(images_list)"
   ]
  },
  {
   "cell_type": "code",
   "execution_count": 16,
   "id": "cdb11b0e-603f-4c53-a25e-df1cf1c0df30",
   "metadata": {},
   "outputs": [],
   "source": [
    "# assumes images have any shape and pixels in [0,255]\n",
    "def calculate_inception_score(images, n_split=10, eps=1e-16):\n",
    "    # load inception v3 model\n",
    "    model = InceptionV3()\n",
    "    # enumerate splits of images/predictions\n",
    "    scores = list()\n",
    "    n_part = floor(images.shape[0]/n_split)\n",
    "    for i in range(n_split):\n",
    "        # retrieve images\n",
    "        ix_start, ix_end = i * n_part, (i+1) * n_part\n",
    "        subset = images[ix_start:ix_end]\n",
    "        # convert from uint8 to float32\n",
    "        subset = subset.astype('float32')\n",
    "        # scale images to the required size\n",
    "        subset = scale_images(subset, (299,299,3))\n",
    "        # pre-process images, scale to [-1,1]\n",
    "        subset = preprocess_input(subset)\n",
    "        # predict p(y|x)\n",
    "        p_yx = model.predict(subset)\n",
    "        # calculate p(y)\n",
    "        p_y = expand_dims(p_yx.mean(axis=0), 0)\n",
    "        # calculate KL divergence using log probabilities\n",
    "        kl_d = p_yx * (log(p_yx + eps) - log(p_y + eps))\n",
    "        # sum over classes\n",
    "        sum_kl_d = kl_d.sum(axis=1)\n",
    "        # average over images\n",
    "        avg_kl_d = mean(sum_kl_d)\n",
    "        # undo the log\n",
    "        is_score = exp(avg_kl_d)\n",
    "        # store\n",
    "        scores.append(is_score)\n",
    "    # average across images\n",
    "    is_avg, is_std = mean(scores), std(scores)\n",
    "    return is_avg, is_std"
   ]
  },
  {
   "cell_type": "code",
   "execution_count": null,
   "id": "24bbf231-f0ee-4485-9558-2569e05b47be",
   "metadata": {},
   "outputs": [],
   "source": [
    "# load cifar10 images\n",
    "(images, _), (_,_) = cifar10.load_data()\n",
    "# shuffule images\n",
    "shuffle(images)\n",
    "print('loaded: ', images.shape)\n",
    "# calculate inception score\n",
    "is_avg, is_std = calculate_inception_score(images)\n",
    "print('score: ', is_avg, is_std)"
   ]
  },
  {
   "cell_type": "code",
   "execution_count": null,
   "id": "0b0ee6c8-14e7-4b2b-a249-d2f58bd07904",
   "metadata": {},
   "outputs": [],
   "source": []
  }
 ],
 "metadata": {
  "kernelspec": {
   "display_name": "Python 3 (ipykernel)",
   "language": "python",
   "name": "python3"
  },
  "language_info": {
   "codemirror_mode": {
    "name": "ipython",
    "version": 3
   },
   "file_extension": ".py",
   "mimetype": "text/x-python",
   "name": "python",
   "nbconvert_exporter": "python",
   "pygments_lexer": "ipython3",
   "version": "3.9.7"
  }
 },
 "nbformat": 4,
 "nbformat_minor": 5
}
