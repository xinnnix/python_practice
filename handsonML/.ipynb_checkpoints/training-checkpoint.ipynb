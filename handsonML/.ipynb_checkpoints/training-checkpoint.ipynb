{
 "cells": [
  {
   "cell_type": "code",
   "execution_count": 1,
   "id": "fb116646-d72e-4069-b14e-59adcead7c44",
   "metadata": {},
   "outputs": [],
   "source": [
    "import numpy as np"
   ]
  },
  {
   "cell_type": "code",
   "execution_count": 2,
   "id": "47d0de23-304a-4a4c-a8cd-f59ed97d759b",
   "metadata": {},
   "outputs": [],
   "source": [
    "X = np.random.rand(100,1)\n",
    "y = 4 + 3 * X + np.random.randn(100,1)"
   ]
  },
  {
   "cell_type": "code",
   "execution_count": 3,
   "id": "affe05cb-1cdd-4f5d-ade3-089cf27eb29f",
   "metadata": {},
   "outputs": [
    {
     "data": {
      "text/plain": [
       "array([[0.39542676],\n",
       "       [0.84241271],\n",
       "       [0.88842636],\n",
       "       [0.61070366],\n",
       "       [0.45706522],\n",
       "       [0.01360066],\n",
       "       [0.37128099],\n",
       "       [0.04291168],\n",
       "       [0.44769241],\n",
       "       [0.37844536],\n",
       "       [0.89028503],\n",
       "       [0.6029437 ],\n",
       "       [0.72827556],\n",
       "       [0.20042775],\n",
       "       [0.96852587],\n",
       "       [0.4354264 ],\n",
       "       [0.3933158 ],\n",
       "       [0.59053456],\n",
       "       [0.87647192],\n",
       "       [0.43337597],\n",
       "       [0.75205514],\n",
       "       [0.10873794],\n",
       "       [0.99692397],\n",
       "       [0.40414103],\n",
       "       [0.25882953],\n",
       "       [0.27849239],\n",
       "       [0.67606122],\n",
       "       [0.69856909],\n",
       "       [0.191068  ],\n",
       "       [0.87929632],\n",
       "       [0.05439517],\n",
       "       [0.78143181],\n",
       "       [0.30121965],\n",
       "       [0.97366626],\n",
       "       [0.54703473],\n",
       "       [0.25113351],\n",
       "       [0.20604487],\n",
       "       [0.42365576],\n",
       "       [0.38377816],\n",
       "       [0.53653735],\n",
       "       [0.6792554 ],\n",
       "       [0.47043601],\n",
       "       [0.26204027],\n",
       "       [0.59549037],\n",
       "       [0.13542114],\n",
       "       [0.08178113],\n",
       "       [0.58462021],\n",
       "       [0.62969971],\n",
       "       [0.35091072],\n",
       "       [0.69571645],\n",
       "       [0.93662102],\n",
       "       [0.80285755],\n",
       "       [0.8850783 ],\n",
       "       [0.28913104],\n",
       "       [0.17342859],\n",
       "       [0.51947954],\n",
       "       [0.01957626],\n",
       "       [0.22605815],\n",
       "       [0.64414434],\n",
       "       [0.22781694],\n",
       "       [0.46224387],\n",
       "       [0.2039231 ],\n",
       "       [0.15295349],\n",
       "       [0.94769485],\n",
       "       [0.74518471],\n",
       "       [0.01951546],\n",
       "       [0.00220924],\n",
       "       [0.48121081],\n",
       "       [0.93321157],\n",
       "       [0.67271007],\n",
       "       [0.44945749],\n",
       "       [0.43463981],\n",
       "       [0.40418199],\n",
       "       [0.22823699],\n",
       "       [0.47957808],\n",
       "       [0.04208117],\n",
       "       [0.68821244],\n",
       "       [0.8325914 ],\n",
       "       [0.84045756],\n",
       "       [0.53074908],\n",
       "       [0.74998791],\n",
       "       [0.70141847],\n",
       "       [0.73418868],\n",
       "       [0.11875975],\n",
       "       [0.14599751],\n",
       "       [0.57070652],\n",
       "       [0.33896435],\n",
       "       [0.02615981],\n",
       "       [0.59928208],\n",
       "       [0.83358589],\n",
       "       [0.14616204],\n",
       "       [0.25773404],\n",
       "       [0.30085174],\n",
       "       [0.58601304],\n",
       "       [0.05260631],\n",
       "       [0.14693301],\n",
       "       [0.72370732],\n",
       "       [0.69733542],\n",
       "       [0.85459956],\n",
       "       [0.60723062]])"
      ]
     },
     "execution_count": 3,
     "metadata": {},
     "output_type": "execute_result"
    }
   ],
   "source": [
    "X"
   ]
  },
  {
   "cell_type": "code",
   "execution_count": 4,
   "id": "d9e89cd4-2cc9-4093-b3a0-267a37be64f8",
   "metadata": {},
   "outputs": [
    {
     "data": {
      "text/plain": [
       "array([[4.61131223],\n",
       "       [6.55541914],\n",
       "       [4.33091939],\n",
       "       [5.49378486],\n",
       "       [5.10288032],\n",
       "       [2.65517227],\n",
       "       [6.73723768],\n",
       "       [3.49584766],\n",
       "       [5.13271744],\n",
       "       [6.10601133],\n",
       "       [5.11092746],\n",
       "       [6.11018269],\n",
       "       [5.028333  ],\n",
       "       [3.83236992],\n",
       "       [8.76570975],\n",
       "       [4.18535735],\n",
       "       [5.99822459],\n",
       "       [7.56245751],\n",
       "       [5.3163513 ],\n",
       "       [6.22390194],\n",
       "       [5.6433847 ],\n",
       "       [4.97532181],\n",
       "       [8.41584684],\n",
       "       [5.65720498],\n",
       "       [5.70463908],\n",
       "       [3.79876622],\n",
       "       [5.44741252],\n",
       "       [4.92892882],\n",
       "       [4.13367284],\n",
       "       [5.5451867 ],\n",
       "       [3.4074968 ],\n",
       "       [7.03171498],\n",
       "       [5.09384789],\n",
       "       [7.49725879],\n",
       "       [4.79614278],\n",
       "       [4.23509328],\n",
       "       [3.81296938],\n",
       "       [6.56795951],\n",
       "       [5.4053334 ],\n",
       "       [6.91227172],\n",
       "       [3.91650409],\n",
       "       [5.95373946],\n",
       "       [4.21475822],\n",
       "       [7.09666847],\n",
       "       [4.5731709 ],\n",
       "       [4.41279219],\n",
       "       [5.60883403],\n",
       "       [5.86881731],\n",
       "       [3.29940968],\n",
       "       [6.13887282],\n",
       "       [6.13304814],\n",
       "       [6.16298048],\n",
       "       [6.73599702],\n",
       "       [6.16766143],\n",
       "       [4.36691341],\n",
       "       [5.62622799],\n",
       "       [3.9119351 ],\n",
       "       [3.79344969],\n",
       "       [5.42322509],\n",
       "       [3.47187552],\n",
       "       [4.84989841],\n",
       "       [4.48238333],\n",
       "       [4.54760568],\n",
       "       [7.52565581],\n",
       "       [6.71761549],\n",
       "       [4.27965857],\n",
       "       [5.11314406],\n",
       "       [6.05113885],\n",
       "       [7.8392037 ],\n",
       "       [4.95489584],\n",
       "       [4.28778395],\n",
       "       [5.12919529],\n",
       "       [4.60820093],\n",
       "       [5.83567061],\n",
       "       [4.90652497],\n",
       "       [2.89116097],\n",
       "       [5.65765936],\n",
       "       [6.02744842],\n",
       "       [6.40556421],\n",
       "       [6.25194006],\n",
       "       [6.35828366],\n",
       "       [5.42104433],\n",
       "       [6.07653195],\n",
       "       [3.84949445],\n",
       "       [4.6932978 ],\n",
       "       [5.95750128],\n",
       "       [6.11943895],\n",
       "       [3.96002945],\n",
       "       [4.06223456],\n",
       "       [6.67865741],\n",
       "       [5.24256383],\n",
       "       [6.01375982],\n",
       "       [4.87364928],\n",
       "       [5.77282216],\n",
       "       [3.2877332 ],\n",
       "       [3.49394339],\n",
       "       [5.46628215],\n",
       "       [6.61426604],\n",
       "       [7.50209749],\n",
       "       [6.01160424]])"
      ]
     },
     "execution_count": 4,
     "metadata": {},
     "output_type": "execute_result"
    }
   ],
   "source": [
    "y"
   ]
  },
  {
   "cell_type": "code",
   "execution_count": 5,
   "id": "9e3673f4-22ca-4aa4-becd-c54dae5ba3ef",
   "metadata": {},
   "outputs": [
    {
     "data": {
      "image/png": "[encoded data removed]",
      "text/plain": [
       "<Figure size 432x288 with 1 Axes>"
      ]
     },
     "metadata": {
      "needs_background": "light"
     },
     "output_type": "display_data"
    }
   ],
   "source": [
    "import matplotlib.pyplot as plt\n",
    "plt.plot(X,y,'b.')\n",
    "plt.show()"
   ]
  },
  {
   "cell_type": "code",
   "execution_count": 6,
   "id": "bed32fc0-836d-4a81-b902-c3e52d31a3ef",
   "metadata": {},
   "outputs": [
    {
     "data": {
      "text/plain": [
       "array([[1.        , 0.39542676],\n",
       "       [1.        , 0.84241271],\n",
       "       [1.        , 0.88842636],\n",
       "       [1.        , 0.61070366],\n",
       "       [1.        , 0.45706522],\n",
       "       [1.        , 0.01360066],\n",
       "       [1.        , 0.37128099],\n",
       "       [1.        , 0.04291168],\n",
       "       [1.        , 0.44769241],\n",
       "       [1.        , 0.37844536],\n",
       "       [1.        , 0.89028503],\n",
       "       [1.        , 0.6029437 ],\n",
       "       [1.        , 0.72827556],\n",
       "       [1.        , 0.20042775],\n",
       "       [1.        , 0.96852587],\n",
       "       [1.        , 0.4354264 ],\n",
       "       [1.        , 0.3933158 ],\n",
       "       [1.        , 0.59053456],\n",
       "       [1.        , 0.87647192],\n",
       "       [1.        , 0.43337597],\n",
       "       [1.        , 0.75205514],\n",
       "       [1.        , 0.10873794],\n",
       "       [1.        , 0.99692397],\n",
       "       [1.        , 0.40414103],\n",
       "       [1.        , 0.25882953],\n",
       "       [1.        , 0.27849239],\n",
       "       [1.        , 0.67606122],\n",
       "       [1.        , 0.69856909],\n",
       "       [1.        , 0.191068  ],\n",
       "       [1.        , 0.87929632],\n",
       "       [1.        , 0.05439517],\n",
       "       [1.        , 0.78143181],\n",
       "       [1.        , 0.30121965],\n",
       "       [1.        , 0.97366626],\n",
       "       [1.        , 0.54703473],\n",
       "       [1.        , 0.25113351],\n",
       "       [1.        , 0.20604487],\n",
       "       [1.        , 0.42365576],\n",
       "       [1.        , 0.38377816],\n",
       "       [1.        , 0.53653735],\n",
       "       [1.        , 0.6792554 ],\n",
       "       [1.        , 0.47043601],\n",
       "       [1.        , 0.26204027],\n",
       "       [1.        , 0.59549037],\n",
       "       [1.        , 0.13542114],\n",
       "       [1.        , 0.08178113],\n",
       "       [1.        , 0.58462021],\n",
       "       [1.        , 0.62969971],\n",
       "       [1.        , 0.35091072],\n",
       "       [1.        , 0.69571645],\n",
       "       [1.        , 0.93662102],\n",
       "       [1.        , 0.80285755],\n",
       "       [1.        , 0.8850783 ],\n",
       "       [1.        , 0.28913104],\n",
       "       [1.        , 0.17342859],\n",
       "       [1.        , 0.51947954],\n",
       "       [1.        , 0.01957626],\n",
       "       [1.        , 0.22605815],\n",
       "       [1.        , 0.64414434],\n",
       "       [1.        , 0.22781694],\n",
       "       [1.        , 0.46224387],\n",
       "       [1.        , 0.2039231 ],\n",
       "       [1.        , 0.15295349],\n",
       "       [1.        , 0.94769485],\n",
       "       [1.        , 0.74518471],\n",
       "       [1.        , 0.01951546],\n",
       "       [1.        , 0.00220924],\n",
       "       [1.        , 0.48121081],\n",
       "       [1.        , 0.93321157],\n",
       "       [1.        , 0.67271007],\n",
       "       [1.        , 0.44945749],\n",
       "       [1.        , 0.43463981],\n",
       "       [1.        , 0.40418199],\n",
       "       [1.        , 0.22823699],\n",
       "       [1.        , 0.47957808],\n",
       "       [1.        , 0.04208117],\n",
       "       [1.        , 0.68821244],\n",
       "       [1.        , 0.8325914 ],\n",
       "       [1.        , 0.84045756],\n",
       "       [1.        , 0.53074908],\n",
       "       [1.        , 0.74998791],\n",
       "       [1.        , 0.70141847],\n",
       "       [1.        , 0.73418868],\n",
       "       [1.        , 0.11875975],\n",
       "       [1.        , 0.14599751],\n",
       "       [1.        , 0.57070652],\n",
       "       [1.        , 0.33896435],\n",
       "       [1.        , 0.02615981],\n",
       "       [1.        , 0.59928208],\n",
       "       [1.        , 0.83358589],\n",
       "       [1.        , 0.14616204],\n",
       "       [1.        , 0.25773404],\n",
       "       [1.        , 0.30085174],\n",
       "       [1.        , 0.58601304],\n",
       "       [1.        , 0.05260631],\n",
       "       [1.        , 0.14693301],\n",
       "       [1.        , 0.72370732],\n",
       "       [1.        , 0.69733542],\n",
       "       [1.        , 0.85459956],\n",
       "       [1.        , 0.60723062]])"
      ]
     },
     "execution_count": 6,
     "metadata": {},
     "output_type": "execute_result"
    }
   ],
   "source": [
    "X_b = np.c_[np.ones((100,1)),X]\n",
    "X_b"
   ]
  },
  {
   "cell_type": "code",
   "execution_count": 7,
   "id": "173e191f-eb4e-40c3-b363-d1b1ea9e035e",
   "metadata": {},
   "outputs": [],
   "source": [
    "theta_best = np.linalg.inv(X_b.T.dot(X_b)).dot(X_b.T).dot(y)"
   ]
  },
  {
   "cell_type": "code",
   "execution_count": 8,
   "id": "692e8fc3-4b26-4809-bfea-fc04c5e2bf94",
   "metadata": {},
   "outputs": [
    {
     "data": {
      "text/plain": [
       "array([[3.88213181],\n",
       "       [3.06587049]])"
      ]
     },
     "execution_count": 8,
     "metadata": {},
     "output_type": "execute_result"
    }
   ],
   "source": [
    "theta_best"
   ]
  },
  {
   "cell_type": "code",
   "execution_count": 9,
   "id": "fe69aede-c3b6-4037-b481-ced1ccfb6eac",
   "metadata": {},
   "outputs": [
    {
     "data": {
      "text/plain": [
       "array([[ 3.88213181],\n",
       "       [10.0138728 ]])"
      ]
     },
     "execution_count": 9,
     "metadata": {},
     "output_type": "execute_result"
    }
   ],
   "source": [
    "X_new = np.array([[0],[2]])\n",
    "X_new_b = np.c_[np.ones((2,1)),X_new]\n",
    "y_predict = X_new_b.dot(theta_best)\n",
    "y_predict"
   ]
  },
  {
   "cell_type": "code",
   "execution_count": 10,
   "id": "0f628c55-6f71-4acd-b89f-1782f9558d98",
   "metadata": {},
   "outputs": [
    {
     "data": {
      "image/png": "[encoded data removed]",
      "text/plain": [
       "<Figure size 432x288 with 1 Axes>"
      ]
     },
     "metadata": {
      "needs_background": "light"
     },
     "output_type": "display_data"
    }
   ],
   "source": [
    "plt.plot(X_new, y_predict, 'r-')\n",
    "plt.plot(X, y ,'b.')\n",
    "plt.axis([0,2,0,15])\n",
    "plt.show()"
   ]
  },
  {
   "cell_type": "code",
   "execution_count": 11,
   "id": "c15d0691-7ce0-4eed-942d-ea421ec822fd",
   "metadata": {},
   "outputs": [
    {
     "data": {
      "text/plain": [
       "(array([3.88213181]), array([[3.06587049]]))"
      ]
     },
     "execution_count": 11,
     "metadata": {},
     "output_type": "execute_result"
    }
   ],
   "source": [
    "from sklearn.linear_model import LinearRegression\n",
    "lin_reg = LinearRegression()\n",
    "lin_reg.fit(X, y)\n",
    "lin_reg.intercept_, lin_reg.coef_"
   ]
  },
  {
   "cell_type": "code",
   "execution_count": 12,
   "id": "a99f7c61-7ac1-4835-ad00-9f69cd690ea0",
   "metadata": {},
   "outputs": [
    {
     "data": {
      "text/plain": [
       "array([[ 3.88213181],\n",
       "       [10.0138728 ]])"
      ]
     },
     "execution_count": 12,
     "metadata": {},
     "output_type": "execute_result"
    }
   ],
   "source": [
    "lin_reg.predict(X_new)"
   ]
  },
  {
   "cell_type": "code",
   "execution_count": 13,
   "id": "b525ce2b-da7e-4cd7-bc61-076395f40412",
   "metadata": {},
   "outputs": [
    {
     "data": {
      "text/plain": [
       "array([[3.88213181],\n",
       "       [3.06587049]])"
      ]
     },
     "execution_count": 13,
     "metadata": {},
     "output_type": "execute_result"
    }
   ],
   "source": [
    "theta_best_svd, residuals, rank, s = np.linalg.lstsq(X_b, y, rcond=1e-6)\n",
    "theta_best_svd"
   ]
  },
  {
   "cell_type": "code",
   "execution_count": 14,
   "id": "25bdbe55-d523-4c18-8f8c-f21d42aec3fb",
   "metadata": {},
   "outputs": [
    {
     "data": {
      "text/plain": [
       "array([[3.88213181],\n",
       "       [3.06587049]])"
      ]
     },
     "execution_count": 14,
     "metadata": {},
     "output_type": "execute_result"
    }
   ],
   "source": [
    "np.linalg.pinv(X_b).dot(y)"
   ]
  },
  {
   "cell_type": "code",
   "execution_count": 15,
   "id": "786493df-8df2-4e0d-981d-24489aee97c6",
   "metadata": {},
   "outputs": [],
   "source": [
    "eta = 0.1\n",
    "n_iterations = 1000\n",
    "m = 100\n",
    "\n",
    "theta = np.random.randn(2,1)\n",
    "\n",
    "for iterations in range(n_iterations):\n",
    "    gradients = 2/m * X_b.T.dot(X_b.dot(theta) - y)\n",
    "    theta = theta - eta * gradients"
   ]
  },
  {
   "cell_type": "code",
   "execution_count": 16,
   "id": "860a073a-2dc1-4927-81d6-c5ce4eada522",
   "metadata": {},
   "outputs": [
    {
     "data": {
      "text/plain": [
       "array([[3.88213039],\n",
       "       [3.06587326]])"
      ]
     },
     "execution_count": 16,
     "metadata": {},
     "output_type": "execute_result"
    }
   ],
   "source": [
    "theta"
   ]
  },
  {
   "cell_type": "code",
   "execution_count": 19,
   "id": "a5fc7885-08a3-4dd5-9295-39338da7282b",
   "metadata": {},
   "outputs": [],
   "source": [
    "theta_path_sgd = []\n",
    "m = len(X_b)\n",
    "np.random.seed(42)\n",
    "\n",
    "n_epochs = 50\n",
    "t0, t1 = 5, 50\n",
    "\n",
    "def learning_schedule(t):\n",
    "    return t0 / ( t + t1 ) \n",
    "    \n",
    "theta = np.random.randn(2,1)\n",
    "\n",
    "for epoch in range(n_epochs):\n",
    "    for i in range(m):\n",
    "        random_index = np.random.randint(m)\n",
    "        xi = X_b[random_index:random_index+1]\n",
    "        yi = y[random_index:random_index+1]\n",
    "        gradients = 2 * xi.T.dot(xi.dot(theta) - yi)\n",
    "        eta = learning_schedule(epoch * m +i)\n",
    "        theta = theta - eta * gradients"
   ]
  },
  {
   "cell_type": "code",
   "execution_count": 20,
   "id": "e2aba2de-6ec0-4e9b-a6b8-1d9283c48dbe",
   "metadata": {},
   "outputs": [
    {
     "data": {
      "text/plain": [
       "array([[3.91314546],\n",
       "       [2.99713957]])"
      ]
     },
     "execution_count": 20,
     "metadata": {},
     "output_type": "execute_result"
    }
   ],
   "source": [
    "theta"
   ]
  },
  {
   "cell_type": "code",
   "execution_count": 21,
   "id": "335dbc23-6bb1-41fb-b13e-7744cb18aa0b",
   "metadata": {},
   "outputs": [
    {
     "data": {
      "text/plain": [
       "SGDRegressor(eta0=0.1, penalty=None)"
      ]
     },
     "execution_count": 21,
     "metadata": {},
     "output_type": "execute_result"
    }
   ],
   "source": [
    "from sklearn.linear_model import SGDRegressor\n",
    "sgd_reg = SGDRegressor(max_iter=1000, tol=1e-3, penalty=None, eta0=0.1)\n",
    "sgd_reg.fit(X,y.ravel())"
   ]
  },
  {
   "cell_type": "code",
   "execution_count": 23,
   "id": "0e1c6a49-13a3-4e16-bcb8-091a4c531c61",
   "metadata": {},
   "outputs": [
    {
     "data": {
      "text/plain": [
       "(array([3.92401897]), array([2.94993681]))"
      ]
     },
     "execution_count": 23,
     "metadata": {},
     "output_type": "execute_result"
    }
   ],
   "source": [
    "sgd_reg.intercept_, sgd_reg.coef_"
   ]
  },
  {
   "cell_type": "code",
   "execution_count": 26,
   "id": "42ff39f7-bfa2-44c2-ad45-54296d47a956",
   "metadata": {},
   "outputs": [
    {
     "data": {
      "image/png": "[encoded data removed]",
      "text/plain": [
       "<Figure size 432x288 with 1 Axes>"
      ]
     },
     "metadata": {
      "needs_background": "light"
     },
     "output_type": "display_data"
    }
   ],
   "source": [
    "m = 100\n",
    "X = 6*np.random.rand(m,1)-3\n",
    "y = 0.5 * X**2 + X +2 +np.random.randn(m,1)\n",
    "\n",
    "plt.plot(X,y,'b.')\n",
    "plt.show()"
   ]
  },
  {
   "cell_type": "code",
   "execution_count": 28,
   "id": "5d93a105-b036-4cc3-8c70-cb8b808702af",
   "metadata": {},
   "outputs": [
    {
     "data": {
      "text/plain": [
       "array([1.64131645])"
      ]
     },
     "execution_count": 28,
     "metadata": {},
     "output_type": "execute_result"
    }
   ],
   "source": [
    "from sklearn.preprocessing import PolynomialFeatures\n",
    "poly_features = PolynomialFeatures(degree=2, include_bias=False)\n",
    "X_poly = poly_features.fit_transform(X)\n",
    "X[0]"
   ]
  },
  {
   "cell_type": "code",
   "execution_count": 29,
   "id": "56bcbd58-f10f-4891-adeb-8f62f0043db2",
   "metadata": {},
   "outputs": [
    {
     "data": {
      "text/plain": [
       "array([1.64131645, 2.69391969])"
      ]
     },
     "execution_count": 29,
     "metadata": {},
     "output_type": "execute_result"
    }
   ],
   "source": [
    "X_poly[0]"
   ]
  },
  {
   "cell_type": "code",
   "execution_count": 31,
   "id": "0b4fa8e5-d979-48a8-9f67-0ad5227e78f3",
   "metadata": {},
   "outputs": [
    {
     "data": {
      "text/plain": [
       "LinearRegression()"
      ]
     },
     "execution_count": 31,
     "metadata": {},
     "output_type": "execute_result"
    }
   ],
   "source": [
    "lin_reg = LinearRegression()\n",
    "lin_reg.fit(X_poly, y)"
   ]
  },
  {
   "cell_type": "code",
   "execution_count": 32,
   "id": "09533175-301c-46d2-817b-7149c97113dd",
   "metadata": {},
   "outputs": [
    {
     "data": {
      "text/plain": [
       "(array([1.91783054]), array([[1.06038097, 0.53336421]]))"
      ]
     },
     "execution_count": 32,
     "metadata": {},
     "output_type": "execute_result"
    }
   ],
   "source": [
    "lin_reg.intercept_, lin_reg.coef_"
   ]
  },
  {
   "cell_type": "code",
   "execution_count": 34,
   "id": "ab8bd3d7-b59a-4141-8ac5-46e43ac01d1d",
   "metadata": {},
   "outputs": [],
   "source": [
    "from sklearn.metrics import mean_squared_error\n",
    "from sklearn.model_selection import train_test_split\n",
    "\n",
    "def plot_learning_curve(model, X, y):\n",
    "    X_train, X_val, y_train, y_val = train_test_split(X, y, test_size=0.2)\n",
    "    train_errors, val_errors = [], []\n",
    "    for m in range(1, len(X_train)):\n",
    "        model.fit(X_train[:m], y_train[:m])\n",
    "        y_train_predict = model.predict(X_train[:m])\n",
    "        y_val_predict = model.predict(X_val)\n",
    "        train_errors.append(mean_squared_error(y_train[:m], y_train_predict))\n",
    "        val_errors.append(mean_squared_error(y_val, y_val_predict))\n",
    "        plt.plot(np.sqrt(train_errors),'r-+', linewidth=2, label='train')\n",
    "        plt.plot(np.sqrt(val_errors),'b-', linewidth=3, label='val')"
   ]
  },
  {
   "cell_type": "code",
   "execution_count": 35,
   "id": "0ec82956-b437-4323-b0d0-e6df1cb96331",
   "metadata": {},
   "outputs": [
    {
     "data": {
      "image/png": "[encoded data removed]",
      "text/plain": [
       "<Figure size 432x288 with 1 Axes>"
      ]
     },
     "metadata": {
      "needs_background": "light"
     },
     "output_type": "display_data"
    }
   ],
   "source": [
    "lin_reg = LinearRegression()\n",
    "plot_learning_curve(lin_reg, X, y)"
   ]
  },
  {
   "cell_type": "code",
   "execution_count": 37,
   "id": "51bc764b-cbc8-4b49-a6e6-a3eb8be6d613",
   "metadata": {},
   "outputs": [
    {
     "data": {
      "image/png": "[encoded data removed]",
      "text/plain": [
       "<Figure size 432x288 with 1 Axes>"
      ]
     },
     "metadata": {
      "needs_background": "light"
     },
     "output_type": "display_data"
    }
   ],
   "source": [
    "from sklearn.pipeline import Pipeline\n",
    "\n",
    "polynomial_regression = Pipeline([('poly_features', PolynomialFeatures(degree=10,include_bias=False)),\n",
    "                                  ('lin_reg', LinearRegression())])\n",
    "plot_learning_curve(polynomial_regression,X,y)"
   ]
  },
  {
   "cell_type": "code",
   "execution_count": 39,
   "id": "72b45657-6205-430e-bbed-3bce6c0ebda8",
   "metadata": {},
   "outputs": [
    {
     "data": {
      "text/plain": [
       "array([[5.2683177]])"
      ]
     },
     "execution_count": 39,
     "metadata": {},
     "output_type": "execute_result"
    }
   ],
   "source": [
    "from sklearn.linear_model import Ridge\n",
    "ridge_reg = Ridge(alpha=1, solver='cholesky')\n",
    "ridge_reg.fit(X,y)\n",
    "ridge_reg.predict([[1.5]])"
   ]
  },
  {
   "cell_type": "code",
   "execution_count": 44,
   "id": "07065e5c-ded0-4a31-ab6b-fef325a0b10f",
   "metadata": {},
   "outputs": [
    {
     "data": {
      "text/plain": [
       "array([5.26540855])"
      ]
     },
     "execution_count": 44,
     "metadata": {},
     "output_type": "execute_result"
    }
   ],
   "source": [
    "sgd_reg = SGDRegressor(penalty='l2')\n",
    "sgd_reg.fit(X,y.ravel())\n",
    "sgd_reg.predict([[1.5]])"
   ]
  },
  {
   "cell_type": "code",
   "execution_count": 45,
   "id": "5d0d3369-eff3-4b39-a83f-b3a0590b097a",
   "metadata": {},
   "outputs": [
    {
     "data": {
      "text/plain": [
       "array([5.224968])"
      ]
     },
     "execution_count": 45,
     "metadata": {},
     "output_type": "execute_result"
    }
   ],
   "source": [
    "from sklearn.linear_model import Lasso\n",
    "lasso_reg = Lasso(alpha=0.1)\n",
    "lasso_reg.fit(X,y)\n",
    "lasso_reg.predict([[1.5]])"
   ]
  },
  {
   "cell_type": "code",
   "execution_count": 46,
   "id": "90e1ab10-07e4-4d55-b40b-e335bca719d0",
   "metadata": {},
   "outputs": [
    {
     "data": {
      "text/plain": [
       "array([5.22047924])"
      ]
     },
     "execution_count": 46,
     "metadata": {},
     "output_type": "execute_result"
    }
   ],
   "source": [
    "from sklearn.linear_model import ElasticNet\n",
    "elastic_net = ElasticNet(alpha=0.1, l1_ratio=0.5)\n",
    "elastic_net.fit(X,y)\n",
    "elastic_net.predict([[1.5]])"
   ]
  },
  {
   "cell_type": "code",
   "execution_count": 50,
   "id": "c5a96f9e-1d29-4363-8d16-de061fa22996",
   "metadata": {},
   "outputs": [],
   "source": [
    "np.random.seed(42)\n",
    "m = 100\n",
    "X = 6 * np.random.rand(m, 1) - 3\n",
    "y = 2 + X + 0.5 * X**2 + np.random.randn(m, 1)\n",
    "\n",
    "X_train, X_val, y_train, y_val = train_test_split(X[:50], y[:50].ravel(), test_size=0.5, random_state=10)\n",
    "\n",
    "\n",
    "from sklearn.base import clone\n",
    "from sklearn.preprocessing import StandardScaler\n",
    "\n",
    "poly_scaler = Pipeline([('poly_features',PolynomialFeatures(degree=90,include_bias=False)),\n",
    "                        ('std_scaler', StandardScaler())])\n",
    "X_train_poly_scaled = poly_scaler.fit_transform(X_train)\n",
    "X_val_poly_scaled = poly_scaler.transform(X_val)\n",
    "\n",
    "sgd_reg = SGDRegressor(max_iter=1,tol=-np.infty,warm_start=True,penalty=None,learning_rate='constant',eta0=0.0005)\n",
    "\n",
    "minimum_val_error = float('inf')\n",
    "best_epoch = None\n",
    "best_model = None\n",
    "for epoch in range(1000):\n",
    "    sgd_reg.fit(X_train_poly_scaled, y_train)\n",
    "    y_val_predict = sgd_reg.predict(X_val_poly_scaled)\n",
    "    val_error = mean_squared_error(y_val, y_val_predict)\n",
    "    if val_error < minimum_val_error:\n",
    "        minimun_val_error = val_error\n",
    "        best_epoch = epoch\n",
    "        best_model = clone(sgd_reg)"
   ]
  },
  {
   "cell_type": "code",
   "execution_count": 51,
   "id": "fe7c0af7-f1b8-4ad7-897e-f3a8f03ff51b",
   "metadata": {},
   "outputs": [
    {
     "data": {
      "text/plain": [
       "['data',\n",
       " 'target',\n",
       " 'frame',\n",
       " 'target_names',\n",
       " 'DESCR',\n",
       " 'feature_names',\n",
       " 'filename',\n",
       " 'data_module']"
      ]
     },
     "execution_count": 51,
     "metadata": {},
     "output_type": "execute_result"
    }
   ],
   "source": [
    "from sklearn import datasets\n",
    "iris = datasets.load_iris()\n",
    "list(iris.keys())\n"
   ]
  },
  {
   "cell_type": "code",
   "execution_count": 53,
   "id": "55408415-3d24-458d-8d21-4fb3e48660ed",
   "metadata": {},
   "outputs": [
    {
     "name": "stderr",
     "output_type": "stream",
     "text": [
      "/var/folders/_f/s_khv65n16s45b6z9py_kgw00000gn/T/ipykernel_17367/1079978386.py:2: DeprecationWarning: `np.int` is a deprecated alias for the builtin `int`. To silence this warning, use `int` by itself. Doing this will not modify any behavior and is safe. When replacing `np.int`, you may wish to use e.g. `np.int64` or `np.int32` to specify the precision. If you wish to review your current use, check the release note link for additional information.\n",
      "Deprecated in NumPy 1.20; for more details and guidance: https://numpy.org/devdocs/release/1.20.0-notes.html#deprecations\n",
      "  y= (iris['target']==2).astype(np.int)\n"
     ]
    }
   ],
   "source": [
    "X = iris['data'][:,3:]\n",
    "y= (iris['target']==2).astype(np.int)"
   ]
  },
  {
   "cell_type": "code",
   "execution_count": 54,
   "id": "b33dfc15-c817-4c0f-aced-987b45206470",
   "metadata": {},
   "outputs": [
    {
     "data": {
      "text/plain": [
       "LogisticRegression()"
      ]
     },
     "execution_count": 54,
     "metadata": {},
     "output_type": "execute_result"
    }
   ],
   "source": [
    "from sklearn.linear_model import LogisticRegression\n",
    "\n",
    "log_reg = LogisticRegression()\n",
    "log_reg.fit(X,y)"
   ]
  },
  {
   "cell_type": "code",
   "execution_count": 56,
   "id": "be1c2d6f-4a1d-41bd-9693-2eca26533c67",
   "metadata": {},
   "outputs": [
    {
     "data": {
      "text/plain": [
       "[<matplotlib.lines.Line2D at 0x7fdbaad41b50>]"
      ]
     },
     "execution_count": 56,
     "metadata": {},
     "output_type": "execute_result"
    },
    {
     "data": {
      "image/png": "[encoded data removed]",
      "text/plain": [
       "<Figure size 432x288 with 1 Axes>"
      ]
     },
     "metadata": {
      "needs_background": "light"
     },
     "output_type": "display_data"
    }
   ],
   "source": [
    "X_new = np.linspace(0,3,1000).reshape(-1,1)\n",
    "y_proba = log_reg.predict_proba(X_new)\n",
    "plt.plot(X_new, y_proba[:,1],'g-',label='Iris virginica')\n",
    "plt.plot(X_new, y_proba[:,0],'b--',label='Not Iris virginica')"
   ]
  },
  {
   "cell_type": "code",
   "execution_count": 57,
   "id": "04f2b1cb-e67e-44c0-a9d5-00a51b42f5ec",
   "metadata": {},
   "outputs": [
    {
     "data": {
      "text/plain": [
       "array([1, 0])"
      ]
     },
     "execution_count": 57,
     "metadata": {},
     "output_type": "execute_result"
    }
   ],
   "source": [
    "log_reg.predict([[1.7],[1.5]])"
   ]
  },
  {
   "cell_type": "code",
   "execution_count": 59,
   "id": "519056bf-eb0e-4701-96d4-e59e5bf9ffa9",
   "metadata": {},
   "outputs": [
    {
     "data": {
      "text/plain": [
       "LogisticRegression(C=10, multi_class='multinomial')"
      ]
     },
     "execution_count": 59,
     "metadata": {},
     "output_type": "execute_result"
    }
   ],
   "source": [
    "X = iris['data'][:,(2,3)]\n",
    "y = iris['target']\n",
    "\n",
    "softmax_reg = LogisticRegression(multi_class='multinomial',solver='lbfgs',C=10)\n",
    "softmax_reg.fit(X,y)"
   ]
  },
  {
   "cell_type": "code",
   "execution_count": 60,
   "id": "3286b2a0-d768-45d7-b625-2e1763a94162",
   "metadata": {},
   "outputs": [
    {
     "data": {
      "text/plain": [
       "array([2])"
      ]
     },
     "execution_count": 60,
     "metadata": {},
     "output_type": "execute_result"
    }
   ],
   "source": [
    "softmax_reg.predict([[5,2]])"
   ]
  },
  {
   "cell_type": "code",
   "execution_count": 62,
   "id": "2a776560-ec4d-4339-aa1e-0f833cbe2208",
   "metadata": {},
   "outputs": [
    {
     "data": {
      "text/plain": [
       "array([[6.38014896e-07, 5.74929995e-02, 9.42506362e-01]])"
      ]
     },
     "execution_count": 62,
     "metadata": {},
     "output_type": "execute_result"
    }
   ],
   "source": [
    "softmax_reg.predict_proba([[5,2]])"
   ]
  },
  {
   "cell_type": "code",
   "execution_count": null,
   "id": "cd5fd5cc-8f22-4860-9192-c3a713baee41",
   "metadata": {},
   "outputs": [],
   "source": []
  }
 ],
 "metadata": {
  "kernelspec": {
   "display_name": "Python 3 (ipykernel)",
   "language": "python",
   "name": "python3"
  },
  "language_info": {
   "codemirror_mode": {
    "name": "ipython",
    "version": 3
   },
   "file_extension": ".py",
   "mimetype": "text/x-python",
   "name": "python",
   "nbconvert_exporter": "python",
   "pygments_lexer": "ipython3",
   "version": "3.9.7"
  }
 },
 "nbformat": 4,
 "nbformat_minor": 5
}
