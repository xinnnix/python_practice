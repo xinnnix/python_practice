{
 "cells": [
  {
   "cell_type": "code",
   "execution_count": 2,
   "id": "9b54715f-cee6-4a1d-a569-59b4e21e0a37",
   "metadata": {},
   "outputs": [],
   "source": [
    "import tensorflow as tf"
   ]
  },
  {
   "cell_type": "code",
   "execution_count": 3,
   "id": "bf396bcb-16e9-421c-a249-c36057e2ecec",
   "metadata": {},
   "outputs": [],
   "source": [
    "from tensorflow import keras"
   ]
  },
  {
   "cell_type": "code",
   "execution_count": 5,
   "id": "934696e5-59a7-41eb-88f9-950ac4e5d745",
   "metadata": {},
   "outputs": [
    {
     "name": "stderr",
     "output_type": "stream",
     "text": [
      "2022-01-27 21:53:43.751768: I tensorflow/core/platform/cpu_feature_guard.cc:145] This TensorFlow binary is optimized with Intel(R) MKL-DNN to use the following CPU instructions in performance critical operations:  SSE4.1 SSE4.2 AVX\n",
      "To enable them in non-MKL-DNN operations, rebuild TensorFlow with the appropriate compiler flags.\n",
      "2022-01-27 21:53:43.752336: I tensorflow/core/common_runtime/process_util.cc:115] Creating new thread pool with default inter op setting: 4. Tune using inter_op_parallelism_threads for best performance.\n"
     ]
    },
    {
     "data": {
      "text/plain": [
       "<tf.Tensor: id=0, shape=(2, 3), dtype=float32, numpy=\n",
       "array([[1., 2., 3.],\n",
       "       [4., 5., 6.]], dtype=float32)>"
      ]
     },
     "execution_count": 5,
     "metadata": {},
     "output_type": "execute_result"
    }
   ],
   "source": [
    "tf.constant([[1.,2.,3.],[4.,5.,6.]])"
   ]
  },
  {
   "cell_type": "code",
   "execution_count": 6,
   "id": "d3d4b1ee-fad9-4efc-b597-7be047aa748c",
   "metadata": {},
   "outputs": [
    {
     "data": {
      "text/plain": [
       "<tf.Tensor: id=1, shape=(), dtype=int32, numpy=42>"
      ]
     },
     "execution_count": 6,
     "metadata": {},
     "output_type": "execute_result"
    }
   ],
   "source": [
    "tf.constant(42)"
   ]
  },
  {
   "cell_type": "code",
   "execution_count": 7,
   "id": "d8c0bc38-cf3a-4885-95a3-19764e5d60a9",
   "metadata": {},
   "outputs": [
    {
     "data": {
      "text/plain": [
       "TensorShape([2, 3])"
      ]
     },
     "execution_count": 7,
     "metadata": {},
     "output_type": "execute_result"
    }
   ],
   "source": [
    "t = tf.constant([[1.,2.,3.],[4.,5.,6.]])\n",
    "t.shape"
   ]
  },
  {
   "cell_type": "code",
   "execution_count": 8,
   "id": "baeafd59-a255-4c79-b065-edc16afcec74",
   "metadata": {},
   "outputs": [
    {
     "data": {
      "text/plain": [
       "tf.float32"
      ]
     },
     "execution_count": 8,
     "metadata": {},
     "output_type": "execute_result"
    }
   ],
   "source": [
    "t.dtype"
   ]
  },
  {
   "cell_type": "code",
   "execution_count": 9,
   "id": "f8b069fe-a73a-435f-a915-692dcf011fde",
   "metadata": {},
   "outputs": [
    {
     "data": {
      "text/plain": [
       "<tf.Tensor: id=6, shape=(2, 2), dtype=float32, numpy=\n",
       "array([[2., 3.],\n",
       "       [5., 6.]], dtype=float32)>"
      ]
     },
     "execution_count": 9,
     "metadata": {},
     "output_type": "execute_result"
    }
   ],
   "source": [
    "t[:, 1:]"
   ]
  },
  {
   "cell_type": "code",
   "execution_count": 10,
   "id": "2b91c293-8ad2-4bfb-b491-876546faccdb",
   "metadata": {},
   "outputs": [
    {
     "data": {
      "text/plain": [
       "<tf.Tensor: id=10, shape=(2, 1), dtype=float32, numpy=\n",
       "array([[2.],\n",
       "       [5.]], dtype=float32)>"
      ]
     },
     "execution_count": 10,
     "metadata": {},
     "output_type": "execute_result"
    }
   ],
   "source": [
    "t[...,1,tf.newaxis]"
   ]
  },
  {
   "cell_type": "code",
   "execution_count": 11,
   "id": "94d94184-761c-496c-87ab-1a66434d47f1",
   "metadata": {},
   "outputs": [
    {
     "data": {
      "text/plain": [
       "<tf.Tensor: id=2, shape=(2, 3), dtype=float32, numpy=\n",
       "array([[1., 2., 3.],\n",
       "       [4., 5., 6.]], dtype=float32)>"
      ]
     },
     "execution_count": 11,
     "metadata": {},
     "output_type": "execute_result"
    }
   ],
   "source": [
    "t"
   ]
  },
  {
   "cell_type": "code",
   "execution_count": 12,
   "id": "a21164f1-5abe-4b3b-a6a0-cc804401ad62",
   "metadata": {},
   "outputs": [
    {
     "data": {
      "text/plain": [
       "<tf.Tensor: id=12, shape=(2, 3), dtype=float32, numpy=\n",
       "array([[11., 12., 13.],\n",
       "       [14., 15., 16.]], dtype=float32)>"
      ]
     },
     "execution_count": 12,
     "metadata": {},
     "output_type": "execute_result"
    }
   ],
   "source": [
    "t + 10"
   ]
  },
  {
   "cell_type": "code",
   "execution_count": 13,
   "id": "5c14ba34-432b-4fdc-a620-42c43dcd96f7",
   "metadata": {},
   "outputs": [
    {
     "data": {
      "text/plain": [
       "<tf.Tensor: id=13, shape=(2, 3), dtype=float32, numpy=\n",
       "array([[ 1.,  4.,  9.],\n",
       "       [16., 25., 36.]], dtype=float32)>"
      ]
     },
     "execution_count": 13,
     "metadata": {},
     "output_type": "execute_result"
    }
   ],
   "source": [
    "tf.square(t)"
   ]
  },
  {
   "cell_type": "code",
   "execution_count": 14,
   "id": "c689f6a1-b49c-4cb5-b925-c8d082394561",
   "metadata": {},
   "outputs": [
    {
     "data": {
      "text/plain": [
       "<tf.Tensor: id=16, shape=(2, 2), dtype=float32, numpy=\n",
       "array([[14., 32.],\n",
       "       [32., 77.]], dtype=float32)>"
      ]
     },
     "execution_count": 14,
     "metadata": {},
     "output_type": "execute_result"
    }
   ],
   "source": [
    "t @ tf.transpose(t)"
   ]
  },
  {
   "cell_type": "code",
   "execution_count": 15,
   "id": "0195979f-cba8-4aa5-a3e1-7a7f220d616c",
   "metadata": {},
   "outputs": [],
   "source": [
    "t1 = tf.constant([1,2])"
   ]
  },
  {
   "cell_type": "code",
   "execution_count": 16,
   "id": "6595a26a-544f-4b4f-91d3-d67860b2219c",
   "metadata": {},
   "outputs": [],
   "source": [
    "t2 = tf.constant([[1],[2]])"
   ]
  },
  {
   "cell_type": "code",
   "execution_count": 17,
   "id": "340ae191-43f7-41bc-915d-2f1c83583da1",
   "metadata": {},
   "outputs": [
    {
     "data": {
      "text/plain": [
       "(<tf.Tensor: id=17, shape=(2,), dtype=int32, numpy=array([1, 2], dtype=int32)>,\n",
       " <tf.Tensor: id=18, shape=(2, 1), dtype=int32, numpy=\n",
       " array([[1],\n",
       "        [2]], dtype=int32)>)"
      ]
     },
     "execution_count": 17,
     "metadata": {},
     "output_type": "execute_result"
    }
   ],
   "source": [
    "t1, t2"
   ]
  },
  {
   "cell_type": "code",
   "execution_count": 19,
   "id": "71662ad4-2ec3-4548-a487-2e9f28d3078c",
   "metadata": {},
   "outputs": [],
   "source": [
    "t3 = tf.transpose(t1)"
   ]
  },
  {
   "cell_type": "code",
   "execution_count": 20,
   "id": "723d5c58-193f-49cb-a2d2-eadb87cb9865",
   "metadata": {},
   "outputs": [
    {
     "data": {
      "text/plain": [
       "(<tf.Tensor: id=17, shape=(2,), dtype=int32, numpy=array([1, 2], dtype=int32)>,\n",
       " <tf.Tensor: id=20, shape=(2,), dtype=int32, numpy=array([1, 2], dtype=int32)>)"
      ]
     },
     "execution_count": 20,
     "metadata": {},
     "output_type": "execute_result"
    }
   ],
   "source": [
    "t1, t3"
   ]
  },
  {
   "cell_type": "code",
   "execution_count": 21,
   "id": "13e9a874-36c8-4cd0-9ff7-232f799c502e",
   "metadata": {},
   "outputs": [
    {
     "data": {
      "text/plain": [
       "<tf.Tensor: id=2, shape=(2, 3), dtype=float32, numpy=\n",
       "array([[1., 2., 3.],\n",
       "       [4., 5., 6.]], dtype=float32)>"
      ]
     },
     "execution_count": 21,
     "metadata": {},
     "output_type": "execute_result"
    }
   ],
   "source": [
    "t"
   ]
  },
  {
   "cell_type": "code",
   "execution_count": 22,
   "id": "1f44fd3f-42e0-4773-987c-38c33f6ffb90",
   "metadata": {},
   "outputs": [
    {
     "data": {
      "text/plain": [
       "<tf.Tensor: id=22, shape=(3, 2), dtype=float32, numpy=\n",
       "array([[1., 4.],\n",
       "       [2., 5.],\n",
       "       [3., 6.]], dtype=float32)>"
      ]
     },
     "execution_count": 22,
     "metadata": {},
     "output_type": "execute_result"
    }
   ],
   "source": [
    "tf.transpose(t)"
   ]
  },
  {
   "cell_type": "code",
   "execution_count": 23,
   "id": "6123b300-a00d-4834-9da0-d5ade9e19727",
   "metadata": {},
   "outputs": [],
   "source": [
    "t4 = tf.constant([[1,2,3,4]])"
   ]
  },
  {
   "cell_type": "code",
   "execution_count": 24,
   "id": "b50706e8-daf7-48fd-ae51-b4467b50ba23",
   "metadata": {},
   "outputs": [
    {
     "data": {
      "text/plain": [
       "<tf.Tensor: id=23, shape=(1, 4), dtype=int32, numpy=array([[1, 2, 3, 4]], dtype=int32)>"
      ]
     },
     "execution_count": 24,
     "metadata": {},
     "output_type": "execute_result"
    }
   ],
   "source": [
    "t4"
   ]
  },
  {
   "cell_type": "code",
   "execution_count": 25,
   "id": "ef1bef3e-d5cc-4f3b-9a27-eb9c7cf7c52c",
   "metadata": {},
   "outputs": [
    {
     "data": {
      "text/plain": [
       "<tf.Tensor: id=25, shape=(4, 1), dtype=int32, numpy=\n",
       "array([[1],\n",
       "       [2],\n",
       "       [3],\n",
       "       [4]], dtype=int32)>"
      ]
     },
     "execution_count": 25,
     "metadata": {},
     "output_type": "execute_result"
    }
   ],
   "source": [
    "tf.transpose(t4)"
   ]
  },
  {
   "cell_type": "code",
   "execution_count": 26,
   "id": "13e0abcf-08bd-4cb5-b0d0-437f43d02895",
   "metadata": {},
   "outputs": [
    {
     "data": {
      "text/plain": [
       "<tf.Tensor: id=28, shape=(1, 1), dtype=int32, numpy=array([[30]], dtype=int32)>"
      ]
     },
     "execution_count": 26,
     "metadata": {},
     "output_type": "execute_result"
    }
   ],
   "source": [
    "t4@tf.transpose(t4)"
   ]
  },
  {
   "cell_type": "code",
   "execution_count": 27,
   "id": "21a87940-142e-4420-b0fb-e453339032d6",
   "metadata": {},
   "outputs": [
    {
     "data": {
      "text/plain": [
       "<tf.Tensor: id=29, shape=(1, 4), dtype=int32, numpy=array([[ 1,  4,  9, 16]], dtype=int32)>"
      ]
     },
     "execution_count": 27,
     "metadata": {},
     "output_type": "execute_result"
    }
   ],
   "source": [
    "tf.square(t4)"
   ]
  },
  {
   "cell_type": "code",
   "execution_count": 28,
   "id": "a5ced8f8-61bf-4548-8c5c-af79ad2a9d0b",
   "metadata": {},
   "outputs": [],
   "source": [
    "K = keras.backend"
   ]
  },
  {
   "cell_type": "code",
   "execution_count": 29,
   "id": "7919061b-742f-4a5b-9d1b-19599bb84c2c",
   "metadata": {},
   "outputs": [
    {
     "data": {
      "text/plain": [
       "<tf.Tensor: id=34, shape=(4, 1), dtype=int32, numpy=\n",
       "array([[11],\n",
       "       [14],\n",
       "       [19],\n",
       "       [26]], dtype=int32)>"
      ]
     },
     "execution_count": 29,
     "metadata": {},
     "output_type": "execute_result"
    }
   ],
   "source": [
    "K.square(K.transpose(t4)) + 10"
   ]
  },
  {
   "cell_type": "code",
   "execution_count": 30,
   "id": "cc194c1c-7932-43cb-85c7-394fa49bb8f5",
   "metadata": {},
   "outputs": [],
   "source": [
    "import numpy as np"
   ]
  },
  {
   "cell_type": "code",
   "execution_count": 31,
   "id": "2ea0b5f3-7807-45c8-ae65-f41ed26de97d",
   "metadata": {},
   "outputs": [],
   "source": [
    "a = np.array([2.,4.,5.])"
   ]
  },
  {
   "cell_type": "code",
   "execution_count": 32,
   "id": "0d26fc1b-0f7f-4b7f-98af-80e3fe2bb247",
   "metadata": {},
   "outputs": [
    {
     "data": {
      "text/plain": [
       "<tf.Tensor: id=35, shape=(3,), dtype=float64, numpy=array([2., 4., 5.])>"
      ]
     },
     "execution_count": 32,
     "metadata": {},
     "output_type": "execute_result"
    }
   ],
   "source": [
    "tf.constant(a)"
   ]
  },
  {
   "cell_type": "code",
   "execution_count": 33,
   "id": "8f1e8aca-90e9-4caa-9e13-6b4c00e0d562",
   "metadata": {},
   "outputs": [
    {
     "data": {
      "text/plain": [
       "array([[1., 2., 3.],\n",
       "       [4., 5., 6.]], dtype=float32)"
      ]
     },
     "execution_count": 33,
     "metadata": {},
     "output_type": "execute_result"
    }
   ],
   "source": [
    "t.numpy()"
   ]
  },
  {
   "cell_type": "code",
   "execution_count": 34,
   "id": "4a778355-677b-4546-bab2-8a9eb25a5dc2",
   "metadata": {},
   "outputs": [
    {
     "data": {
      "text/plain": [
       "array([[1, 2, 3, 4]], dtype=int32)"
      ]
     },
     "execution_count": 34,
     "metadata": {},
     "output_type": "execute_result"
    }
   ],
   "source": [
    "np.array(t4)"
   ]
  },
  {
   "cell_type": "code",
   "execution_count": 35,
   "id": "8967fae4-2617-499b-8698-a96fcb8e7688",
   "metadata": {},
   "outputs": [
    {
     "data": {
      "text/plain": [
       "<tf.Tensor: id=37, shape=(3,), dtype=float64, numpy=array([ 4., 16., 25.])>"
      ]
     },
     "execution_count": 35,
     "metadata": {},
     "output_type": "execute_result"
    }
   ],
   "source": [
    "tf.square(a)"
   ]
  },
  {
   "cell_type": "code",
   "execution_count": 37,
   "id": "8e60afd9-ced4-41a7-a3cf-e056f1601fa8",
   "metadata": {},
   "outputs": [
    {
     "data": {
      "text/plain": [
       "array([[ 1,  4,  9, 16]], dtype=int32)"
      ]
     },
     "execution_count": 37,
     "metadata": {},
     "output_type": "execute_result"
    }
   ],
   "source": [
    "np.square(t4)"
   ]
  },
  {
   "cell_type": "code",
   "execution_count": 39,
   "id": "a33349e5-396a-4bcc-92cf-feded940b34e",
   "metadata": {},
   "outputs": [],
   "source": [
    "t5 = tf.constant(40., dtype=tf.float64)"
   ]
  },
  {
   "cell_type": "code",
   "execution_count": 40,
   "id": "5f927651-ccf5-4bfa-8c0f-ecd6d51cbf57",
   "metadata": {},
   "outputs": [
    {
     "data": {
      "text/plain": [
       "<tf.Tensor: id=43, shape=(), dtype=float32, numpy=42.0>"
      ]
     },
     "execution_count": 40,
     "metadata": {},
     "output_type": "execute_result"
    }
   ],
   "source": [
    "tf.constant(2.0) + tf.cast(t5, tf.float32)"
   ]
  },
  {
   "cell_type": "code",
   "execution_count": 41,
   "id": "55f63630-fb33-47b0-bea3-724ec23248c1",
   "metadata": {},
   "outputs": [],
   "source": [
    "v = tf.Variable([[1.,2.,3.],[4.,5.,6.]])"
   ]
  },
  {
   "cell_type": "code",
   "execution_count": 42,
   "id": "e60fc717-a87a-4595-8155-0fdb183e48fa",
   "metadata": {},
   "outputs": [
    {
     "data": {
      "text/plain": [
       "<tf.Variable 'Variable:0' shape=(2, 3) dtype=float32, numpy=\n",
       "array([[1., 2., 3.],\n",
       "       [4., 5., 6.]], dtype=float32)>"
      ]
     },
     "execution_count": 42,
     "metadata": {},
     "output_type": "execute_result"
    }
   ],
   "source": [
    "v"
   ]
  },
  {
   "cell_type": "code",
   "execution_count": 43,
   "id": "f8e257e5-327c-407c-83f5-a95018ac13af",
   "metadata": {},
   "outputs": [
    {
     "data": {
      "text/plain": [
       "<tf.Variable 'UnreadVariable' shape=(2, 3) dtype=float32, numpy=\n",
       "array([[ 2.,  4.,  6.],\n",
       "       [ 8., 10., 12.]], dtype=float32)>"
      ]
     },
     "execution_count": 43,
     "metadata": {},
     "output_type": "execute_result"
    }
   ],
   "source": [
    "v.assign(2 * v)"
   ]
  },
  {
   "cell_type": "code",
   "execution_count": 44,
   "id": "efd9037e-0438-4d78-94a0-911aa59f6d55",
   "metadata": {},
   "outputs": [
    {
     "data": {
      "text/plain": [
       "<tf.Variable 'Variable:0' shape=(2, 3) dtype=float32, numpy=\n",
       "array([[ 2.,  4.,  6.],\n",
       "       [ 8., 10., 12.]], dtype=float32)>"
      ]
     },
     "execution_count": 44,
     "metadata": {},
     "output_type": "execute_result"
    }
   ],
   "source": [
    "v"
   ]
  },
  {
   "cell_type": "code",
   "execution_count": 45,
   "id": "a99a58ff-71f2-4ac3-9c52-abdc471db0e5",
   "metadata": {},
   "outputs": [
    {
     "data": {
      "text/plain": [
       "<tf.Tensor: id=62, shape=(), dtype=float32, numpy=4.0>"
      ]
     },
     "execution_count": 45,
     "metadata": {},
     "output_type": "execute_result"
    }
   ],
   "source": [
    "v[0,1]"
   ]
  },
  {
   "cell_type": "code",
   "execution_count": 46,
   "id": "2e65d143-360c-426b-abf7-66b2871bba6a",
   "metadata": {},
   "outputs": [
    {
     "data": {
      "text/plain": [
       "<tf.Variable 'UnreadVariable' shape=(2, 3) dtype=float32, numpy=\n",
       "array([[ 2., 43.,  6.],\n",
       "       [ 8., 10., 12.]], dtype=float32)>"
      ]
     },
     "execution_count": 46,
     "metadata": {},
     "output_type": "execute_result"
    }
   ],
   "source": [
    "v[0,1].assign(43)"
   ]
  },
  {
   "cell_type": "code",
   "execution_count": 47,
   "id": "30c630a7-d61f-4f8a-91a9-19a8c61854b6",
   "metadata": {},
   "outputs": [
    {
     "data": {
      "text/plain": [
       "<tf.Variable 'UnreadVariable' shape=(2, 3) dtype=float32, numpy=\n",
       "array([[ 2., 43.,  0.],\n",
       "       [ 8., 10.,  1.]], dtype=float32)>"
      ]
     },
     "execution_count": 47,
     "metadata": {},
     "output_type": "execute_result"
    }
   ],
   "source": [
    "v[:,2].assign([0.,1.])"
   ]
  },
  {
   "cell_type": "code",
   "execution_count": 50,
   "id": "77731ac2-2058-48ab-8051-dd56a8fdaf4b",
   "metadata": {},
   "outputs": [
    {
     "data": {
      "text/plain": [
       "<tf.Variable 'UnreadVariable' shape=(2, 3) dtype=float32, numpy=\n",
       "array([[ 2., 43.,  9.],\n",
       "       [ 8., 10.,  9.]], dtype=float32)>"
      ]
     },
     "execution_count": 50,
     "metadata": {},
     "output_type": "execute_result"
    }
   ],
   "source": [
    "v[:,2].assign([9,9])"
   ]
  },
  {
   "cell_type": "code",
   "execution_count": 51,
   "id": "9348dd4c-6915-4ca2-9834-accd0c72745c",
   "metadata": {},
   "outputs": [
    {
     "data": {
      "text/plain": [
       "<tf.Variable 'UnreadVariable' shape=(2, 3) dtype=float32, numpy=\n",
       "array([[100.,  43.,   9.],\n",
       "       [  8.,  10., 200.]], dtype=float32)>"
      ]
     },
     "execution_count": 51,
     "metadata": {},
     "output_type": "execute_result"
    }
   ],
   "source": [
    "v.scatter_nd_update(indices=[[0,0],[1,2]],updates=[100.,200.])"
   ]
  },
  {
   "cell_type": "code",
   "execution_count": 53,
   "id": "e94e9874-6d2d-4ee8-b36f-3a8fcb8ba750",
   "metadata": {},
   "outputs": [
    {
     "name": "stdout",
     "output_type": "stream",
     "text": [
      "0\n",
      "1\n",
      "3\n",
      "6\n"
     ]
    }
   ],
   "source": [
    "a = 0\n",
    "for _ in range(1+3):\n",
    "    a+=_\n",
    "    print(a)"
   ]
  },
  {
   "cell_type": "code",
   "execution_count": 54,
   "id": "fe64e785-6d77-4a68-848d-5006dd3cd1fc",
   "metadata": {},
   "outputs": [],
   "source": [
    "def f(w1,w2):\n",
    "    return 3 * w1 ** 2 + 2 * w1 * w2"
   ]
  },
  {
   "cell_type": "code",
   "execution_count": 55,
   "id": "557c0d4f-04fd-4f1b-ac27-cf3add182411",
   "metadata": {},
   "outputs": [],
   "source": [
    "w1, w2 = 5, 3"
   ]
  },
  {
   "cell_type": "code",
   "execution_count": 56,
   "id": "8d219ad4-72c1-47b0-bf45-263c67afa890",
   "metadata": {},
   "outputs": [],
   "source": [
    "eps = 1e-6"
   ]
  },
  {
   "cell_type": "code",
   "execution_count": 58,
   "id": "b812cfd8-7e20-4296-9ca4-3080932bf3a2",
   "metadata": {},
   "outputs": [
    {
     "data": {
      "text/plain": [
       "36.000003007075065"
      ]
     },
     "execution_count": 58,
     "metadata": {},
     "output_type": "execute_result"
    }
   ],
   "source": [
    "(f(w1 + eps, w2) - f(w1,w2))/eps"
   ]
  },
  {
   "cell_type": "code",
   "execution_count": 59,
   "id": "fda1a426-73f4-4b9e-ad5d-8400fc179f42",
   "metadata": {},
   "outputs": [
    {
     "data": {
      "text/plain": [
       "10.000000003174137"
      ]
     },
     "execution_count": 59,
     "metadata": {},
     "output_type": "execute_result"
    }
   ],
   "source": [
    "(f(w1, w2+eps) - f(w1,w2))/eps"
   ]
  },
  {
   "cell_type": "code",
   "execution_count": 65,
   "id": "323aa9fa-bddf-41cc-8fd3-6d3f197e844b",
   "metadata": {},
   "outputs": [],
   "source": [
    "w1, w2 = tf.Variable(5.), tf.Variable(3.)\n",
    "with tf.GradientTape() as tape:\n",
    "    z = f(w1,w2)\n",
    "    \n",
    "gradients = tape.gradient(z, [w1,w2])"
   ]
  },
  {
   "cell_type": "code",
   "execution_count": 66,
   "id": "3e3bfae4-3265-44fe-9ff4-60872363ea3f",
   "metadata": {},
   "outputs": [
    {
     "data": {
      "text/plain": [
       "[<tf.Tensor: id=136, shape=(), dtype=float32, numpy=36.0>,\n",
       " <tf.Tensor: id=128, shape=(), dtype=float32, numpy=10.0>]"
      ]
     },
     "execution_count": 66,
     "metadata": {},
     "output_type": "execute_result"
    }
   ],
   "source": [
    "gradients"
   ]
  },
  {
   "cell_type": "code",
   "execution_count": 69,
   "id": "850eeed6-3863-4567-b506-08347447a42d",
   "metadata": {},
   "outputs": [
    {
     "data": {
      "text/plain": [
       "<tf.Tensor: id=208, shape=(), dtype=float32, numpy=36.0>"
      ]
     },
     "execution_count": 69,
     "metadata": {},
     "output_type": "execute_result"
    }
   ],
   "source": [
    "with tf.GradientTape() as tape:\n",
    "    z = f(w1,w2)\n",
    "    \n",
    "dz_w1 = tape.gradient(z, w1)\n",
    "dz_w1"
   ]
  },
  {
   "cell_type": "code",
   "execution_count": 70,
   "id": "501a07f4-82f1-4f10-bb13-317c3f062ced",
   "metadata": {},
   "outputs": [],
   "source": [
    "with tf.GradientTape(persistent=True) as tape:\n",
    "    z = f(w1,w2)\n",
    "    \n",
    "dz_w1 = tape.gradient(z, w1)\n",
    "dz_w2 = tape.gradient(z, w2)\n",
    "del tape"
   ]
  },
  {
   "cell_type": "code",
   "execution_count": 71,
   "id": "8b93242d-5b94-41bb-b47c-9caf6fcf5f6b",
   "metadata": {},
   "outputs": [
    {
     "data": {
      "text/plain": [
       "(<tf.Tensor: id=232, shape=(), dtype=float32, numpy=36.0>,\n",
       " <tf.Tensor: id=237, shape=(), dtype=float32, numpy=10.0>)"
      ]
     },
     "execution_count": 71,
     "metadata": {},
     "output_type": "execute_result"
    }
   ],
   "source": [
    "dz_w1, dz_w2"
   ]
  },
  {
   "cell_type": "code",
   "execution_count": 72,
   "id": "046bad46-b449-48af-b3ae-992d35592e06",
   "metadata": {},
   "outputs": [
    {
     "data": {
      "text/plain": [
       "[None, None]"
      ]
     },
     "execution_count": 72,
     "metadata": {},
     "output_type": "execute_result"
    }
   ],
   "source": [
    "c1, c2 = tf.constant(5.), tf.constant(3.)\n",
    "with tf.GradientTape() as tape:\n",
    "    z = f(c1,c2)\n",
    "    \n",
    "gradients = tape.gradient(z, [c1,c2])\n",
    "gradients"
   ]
  },
  {
   "cell_type": "code",
   "execution_count": 74,
   "id": "e9379593-b046-4cd5-b2b2-7e674acc8221",
   "metadata": {},
   "outputs": [
    {
     "data": {
      "text/plain": [
       "[<tf.Tensor: id=296, shape=(), dtype=float32, numpy=36.0>,\n",
       " <tf.Tensor: id=288, shape=(), dtype=float32, numpy=10.0>]"
      ]
     },
     "execution_count": 74,
     "metadata": {},
     "output_type": "execute_result"
    }
   ],
   "source": [
    "with tf.GradientTape() as tape:\n",
    "    tape.watch(c1)\n",
    "    tape.watch(c2)\n",
    "    z = f(c1,c2)\n",
    "    \n",
    "gradients = tape.gradient(z, [c1,c2])\n",
    "gradients"
   ]
  },
  {
   "cell_type": "code",
   "execution_count": 77,
   "id": "956db6f0-0e7e-48cd-beec-ebdfabba90fa",
   "metadata": {},
   "outputs": [
    {
     "data": {
      "text/plain": [
       "[<tf.Tensor: id=336, shape=(), dtype=float32, numpy=30.0>, None]"
      ]
     },
     "execution_count": 77,
     "metadata": {},
     "output_type": "execute_result"
    }
   ],
   "source": [
    "def f(w1,w2):\n",
    "    return 3*w1**2 + tf.stop_gradient(2*w1*w2)\n",
    "\n",
    "with tf.GradientTape() as tape:\n",
    "    z = f(w1,w2)\n",
    "    \n",
    "gradients = tape.gradient(z, [w1,w2])\n",
    "gradients"
   ]
  },
  {
   "cell_type": "code",
   "execution_count": 80,
   "id": "73081590-4ee7-4b89-bfbc-f0a4c6b8c4cf",
   "metadata": {},
   "outputs": [],
   "source": [
    "l2_reg = keras.regularizers.l2(0.05)\n",
    "model = keras.models.Sequential([keras.layers.Dense(30, activation='elu', \n",
    "                                                    kernel_initializer='he_normal',\n",
    "                                                    kernel_regularizer=l2_reg),\n",
    "                                 keras.layers.Dense(1, kernel_regularizer=l2_reg)])"
   ]
  },
  {
   "cell_type": "code",
   "execution_count": 81,
   "id": "0ababbb9-fa0f-4a0b-b7dd-c4bc33fad39f",
   "metadata": {},
   "outputs": [],
   "source": [
    "def random_batch(X,y,batch_size=32):\n",
    "    idx = np.random.randint(len(X),size=batch_size)\n",
    "    return X[idx], y[idx]"
   ]
  },
  {
   "cell_type": "code",
   "execution_count": 82,
   "id": "d3ddb419-8ebe-4de3-8ad4-7d799f5cec43",
   "metadata": {},
   "outputs": [],
   "source": [
    "def print_status_bar(iteration, total, loss, metrics=True):\n",
    "    metrics = ' - '.join(['{}: {:.4f}'.format(m.name, m.result())\n",
    "                          for m in [loss] + (metrics or [])])\n",
    "    end = '' if iteration < total else '\\n'\n",
    "    print('\\r{}/{} - '.format(iteration, total) + metrics, end=end)"
   ]
  },
  {
   "cell_type": "code",
   "execution_count": 83,
   "id": "9a670cad-05cd-45df-9feb-5fd4b21485a1",
   "metadata": {},
   "outputs": [],
   "source": [
    "def cube(x):\n",
    "    return x**3"
   ]
  },
  {
   "cell_type": "code",
   "execution_count": 84,
   "id": "93b13f35-d31c-4b2b-9417-81b1523db258",
   "metadata": {},
   "outputs": [
    {
     "data": {
      "text/plain": [
       "8"
      ]
     },
     "execution_count": 84,
     "metadata": {},
     "output_type": "execute_result"
    }
   ],
   "source": [
    "cube(2)"
   ]
  },
  {
   "cell_type": "code",
   "execution_count": 85,
   "id": "ca9e05db-8109-457d-8e2d-bdd7bafe3990",
   "metadata": {},
   "outputs": [
    {
     "data": {
      "text/plain": [
       "<tf.Tensor: id=346, shape=(), dtype=float32, numpy=8.0>"
      ]
     },
     "execution_count": 85,
     "metadata": {},
     "output_type": "execute_result"
    }
   ],
   "source": [
    "cube(tf.constant(2.0))"
   ]
  },
  {
   "cell_type": "code",
   "execution_count": 86,
   "id": "660a4832-17a4-4580-989e-519f54c1e880",
   "metadata": {},
   "outputs": [
    {
     "data": {
      "text/plain": [
       "<tensorflow.python.eager.def_function.Function at 0x7f9bdb6a5650>"
      ]
     },
     "execution_count": 86,
     "metadata": {},
     "output_type": "execute_result"
    }
   ],
   "source": [
    "tf_cube = tf.function(cube)\n",
    "tf_cube"
   ]
  },
  {
   "cell_type": "code",
   "execution_count": 87,
   "id": "dc6bfead-b875-4ff1-831e-49d9d462c32d",
   "metadata": {},
   "outputs": [
    {
     "data": {
      "text/plain": [
       "<tf.Tensor: id=352, shape=(), dtype=int32, numpy=8>"
      ]
     },
     "execution_count": 87,
     "metadata": {},
     "output_type": "execute_result"
    }
   ],
   "source": [
    "tf_cube(2)"
   ]
  },
  {
   "cell_type": "code",
   "execution_count": 88,
   "id": "288db4aa-e4ce-4b44-a753-36ae556a4393",
   "metadata": {},
   "outputs": [
    {
     "data": {
      "text/plain": [
       "<tf.Tensor: id=360, shape=(), dtype=float32, numpy=8.0>"
      ]
     },
     "execution_count": 88,
     "metadata": {},
     "output_type": "execute_result"
    }
   ],
   "source": [
    "tf_cube(tf.constant(2.0))"
   ]
  },
  {
   "cell_type": "code",
   "execution_count": 89,
   "id": "0545a56e-51fd-4d53-9d5d-8eb9acf23b73",
   "metadata": {},
   "outputs": [],
   "source": [
    "@tf.function\n",
    "def tf_cube(x):\n",
    "    return x**4"
   ]
  },
  {
   "cell_type": "code",
   "execution_count": 90,
   "id": "ce7ccda7-db75-4cd6-9146-47c813c5cf67",
   "metadata": {},
   "outputs": [
    {
     "data": {
      "text/plain": [
       "256"
      ]
     },
     "execution_count": 90,
     "metadata": {},
     "output_type": "execute_result"
    }
   ],
   "source": [
    "tf_cube.python_function(4)"
   ]
  },
  {
   "cell_type": "code",
   "execution_count": 91,
   "id": "235f3d27-c09e-4351-a8cf-f6032dc3e2d4",
   "metadata": {},
   "outputs": [
    {
     "data": {
      "text/plain": [
       "<tf.Tensor: id=366, shape=(), dtype=int32, numpy=16>"
      ]
     },
     "execution_count": 91,
     "metadata": {},
     "output_type": "execute_result"
    }
   ],
   "source": [
    "tf_cube(2)"
   ]
  },
  {
   "cell_type": "code",
   "execution_count": 92,
   "id": "e9849753-3e14-4c24-b172-bb8a122a48cb",
   "metadata": {},
   "outputs": [
    {
     "data": {
      "text/plain": [
       "<tf.Tensor: id=374, shape=(), dtype=float32, numpy=16.0>"
      ]
     },
     "execution_count": 92,
     "metadata": {},
     "output_type": "execute_result"
    }
   ],
   "source": [
    "tf_cube(tf.constant(2.0))"
   ]
  },
  {
   "cell_type": "code",
   "execution_count": 93,
   "id": "cf913bd5-9949-4a11-9927-302793cb0ab3",
   "metadata": {},
   "outputs": [
    {
     "data": {
      "text/plain": [
       "<tf.Tensor: id=375, shape=(), dtype=int32, numpy=16>"
      ]
     },
     "execution_count": 93,
     "metadata": {},
     "output_type": "execute_result"
    }
   ],
   "source": [
    "tf_cube(2.0)"
   ]
  }
 ],
 "metadata": {
  "kernelspec": {
   "display_name": "Python 3 (ipykernel)",
   "language": "python",
   "name": "python3"
  },
  "language_info": {
   "codemirror_mode": {
    "name": "ipython",
    "version": 3
   },
   "file_extension": ".py",
   "mimetype": "text/x-python",
   "name": "python",
   "nbconvert_exporter": "python",
   "pygments_lexer": "ipython3",
   "version": "3.7.11"
  }
 },
 "nbformat": 4,
 "nbformat_minor": 5
}
