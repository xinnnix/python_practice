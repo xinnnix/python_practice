{
 "cells": [
  {
   "cell_type": "code",
   "execution_count": 1,
   "id": "fb116646-d72e-4069-b14e-59adcead7c44",
   "metadata": {},
   "outputs": [],
   "source": [
    "import numpy as np"
   ]
  },
  {
   "cell_type": "code",
   "execution_count": 6,
   "id": "47d0de23-304a-4a4c-a8cd-f59ed97d759b",
   "metadata": {},
   "outputs": [],
   "source": [
    "X = np.random.rand(100,1)\n",
    "y = 4 + 3 * X + np.random.randn(100,1)"
   ]
  },
  {
   "cell_type": "code",
   "execution_count": 7,
   "id": "affe05cb-1cdd-4f5d-ade3-089cf27eb29f",
   "metadata": {},
   "outputs": [
    {
     "data": {
      "text/plain": [
       "array([[0.75222445],\n",
       "       [0.95412082],\n",
       "       [0.32253405],\n",
       "       [0.16878145],\n",
       "       [0.19403489],\n",
       "       [0.62024354],\n",
       "       [0.58299477],\n",
       "       [0.97912408],\n",
       "       [0.16047779],\n",
       "       [0.1272986 ],\n",
       "       [0.13614566],\n",
       "       [0.97199339],\n",
       "       [0.85220763],\n",
       "       [0.74381649],\n",
       "       [0.64313295],\n",
       "       [0.84404142],\n",
       "       [0.75563729],\n",
       "       [0.21982799],\n",
       "       [0.79783039],\n",
       "       [0.04667146],\n",
       "       [0.16046295],\n",
       "       [0.87720491],\n",
       "       [0.64159968],\n",
       "       [0.61309891],\n",
       "       [0.25944504],\n",
       "       [0.96089736],\n",
       "       [0.52822978],\n",
       "       [0.70228487],\n",
       "       [0.38577521],\n",
       "       [0.29409702],\n",
       "       [0.55319273],\n",
       "       [0.92882243],\n",
       "       [0.49755487],\n",
       "       [0.97789839],\n",
       "       [0.43863584],\n",
       "       [0.66091394],\n",
       "       [0.97451845],\n",
       "       [0.09247292],\n",
       "       [0.54019237],\n",
       "       [0.51667405],\n",
       "       [0.18664028],\n",
       "       [0.64482318],\n",
       "       [0.88215478],\n",
       "       [0.82739186],\n",
       "       [0.16363996],\n",
       "       [0.46538282],\n",
       "       [0.15268005],\n",
       "       [0.12205874],\n",
       "       [0.06772107],\n",
       "       [0.02239874],\n",
       "       [0.21603167],\n",
       "       [0.17853267],\n",
       "       [0.23023841],\n",
       "       [0.82167301],\n",
       "       [0.87468876],\n",
       "       [0.21097717],\n",
       "       [0.69768813],\n",
       "       [0.80505699],\n",
       "       [0.94781537],\n",
       "       [0.40079567],\n",
       "       [0.98178507],\n",
       "       [0.3929944 ],\n",
       "       [0.99288441],\n",
       "       [0.85718991],\n",
       "       [0.45789682],\n",
       "       [0.646508  ],\n",
       "       [0.83216894],\n",
       "       [0.48941845],\n",
       "       [0.13329768],\n",
       "       [0.84923732],\n",
       "       [0.09784164],\n",
       "       [0.50249786],\n",
       "       [0.81212751],\n",
       "       [0.57005104],\n",
       "       [0.71055715],\n",
       "       [0.5845668 ],\n",
       "       [0.21016184],\n",
       "       [0.47515609],\n",
       "       [0.95448133],\n",
       "       [0.24569134],\n",
       "       [0.385027  ],\n",
       "       [0.75571137],\n",
       "       [0.89867486],\n",
       "       [0.3154381 ],\n",
       "       [0.97620414],\n",
       "       [0.29816861],\n",
       "       [0.95755727],\n",
       "       [0.63697737],\n",
       "       [0.39393485],\n",
       "       [0.49134186],\n",
       "       [0.25385196],\n",
       "       [0.71768251],\n",
       "       [0.60332434],\n",
       "       [0.10732889],\n",
       "       [0.26354128],\n",
       "       [0.94552049],\n",
       "       [0.12091483],\n",
       "       [0.94490597],\n",
       "       [0.38588532],\n",
       "       [0.22067101]])"
      ]
     },
     "execution_count": 7,
     "metadata": {},
     "output_type": "execute_result"
    }
   ],
   "source": [
    "X"
   ]
  },
  {
   "cell_type": "code",
   "execution_count": 8,
   "id": "d9e89cd4-2cc9-4093-b3a0-267a37be64f8",
   "metadata": {},
   "outputs": [
    {
     "data": {
      "text/plain": [
       "array([[5.50165978],\n",
       "       [6.59288649],\n",
       "       [4.95954785],\n",
       "       [3.21612591],\n",
       "       [3.06740697],\n",
       "       [6.38679964],\n",
       "       [5.56343139],\n",
       "       [7.39993232],\n",
       "       [3.6005107 ],\n",
       "       [2.83155056],\n",
       "       [6.32157656],\n",
       "       [7.1547862 ],\n",
       "       [6.80302209],\n",
       "       [5.50818418],\n",
       "       [3.07797074],\n",
       "       [6.66584203],\n",
       "       [8.40465014],\n",
       "       [4.24845799],\n",
       "       [5.64764457],\n",
       "       [2.89340757],\n",
       "       [4.36824249],\n",
       "       [7.24645178],\n",
       "       [5.90485035],\n",
       "       [5.85525985],\n",
       "       [4.30947948],\n",
       "       [8.02095479],\n",
       "       [5.66823834],\n",
       "       [5.9911734 ],\n",
       "       [6.15772701],\n",
       "       [3.68729953],\n",
       "       [6.68036511],\n",
       "       [7.89866742],\n",
       "       [5.59227568],\n",
       "       [5.93847094],\n",
       "       [4.99352165],\n",
       "       [5.55915083],\n",
       "       [7.11922252],\n",
       "       [5.06132995],\n",
       "       [5.5388732 ],\n",
       "       [4.27464267],\n",
       "       [4.02803598],\n",
       "       [5.93862115],\n",
       "       [4.92809636],\n",
       "       [6.85447424],\n",
       "       [4.6625323 ],\n",
       "       [6.48422147],\n",
       "       [5.39758182],\n",
       "       [3.52977652],\n",
       "       [6.00847078],\n",
       "       [3.94916437],\n",
       "       [5.10467993],\n",
       "       [4.25084315],\n",
       "       [4.91495096],\n",
       "       [5.99673043],\n",
       "       [7.6123809 ],\n",
       "       [5.48994604],\n",
       "       [5.20709217],\n",
       "       [7.83241217],\n",
       "       [8.49513218],\n",
       "       [4.96953787],\n",
       "       [9.00079346],\n",
       "       [5.56710534],\n",
       "       [8.08227515],\n",
       "       [8.11035876],\n",
       "       [5.67607541],\n",
       "       [7.16110233],\n",
       "       [6.379021  ],\n",
       "       [5.1815512 ],\n",
       "       [4.33195181],\n",
       "       [7.27332938],\n",
       "       [4.02674235],\n",
       "       [5.8801265 ],\n",
       "       [6.44823045],\n",
       "       [6.07171984],\n",
       "       [4.87092843],\n",
       "       [6.04872321],\n",
       "       [4.67376635],\n",
       "       [7.01463998],\n",
       "       [6.48533579],\n",
       "       [4.29459178],\n",
       "       [4.68424014],\n",
       "       [6.4786606 ],\n",
       "       [6.81353126],\n",
       "       [5.62711053],\n",
       "       [7.66442228],\n",
       "       [5.13646892],\n",
       "       [6.48993716],\n",
       "       [7.03716368],\n",
       "       [5.24762383],\n",
       "       [6.82069138],\n",
       "       [4.0616425 ],\n",
       "       [5.35827214],\n",
       "       [5.47533039],\n",
       "       [4.0890097 ],\n",
       "       [5.63488564],\n",
       "       [7.37949847],\n",
       "       [5.87361241],\n",
       "       [8.12225472],\n",
       "       [4.74159228],\n",
       "       [3.27723647]])"
      ]
     },
     "execution_count": 8,
     "metadata": {},
     "output_type": "execute_result"
    }
   ],
   "source": [
    "y"
   ]
  },
  {
   "cell_type": "code",
   "execution_count": 9,
   "id": "9e3673f4-22ca-4aa4-becd-c54dae5ba3ef",
   "metadata": {},
   "outputs": [
    {
     "data": {
      "image/png": "[encoded data removed]",
      "text/plain": [
       "<Figure size 432x288 with 1 Axes>"
      ]
     },
     "metadata": {
      "needs_background": "light"
     },
     "output_type": "display_data"
    }
   ],
   "source": [
    "import matplotlib.pyplot as plt\n",
    "plt.plot(X,y,'b.')\n",
    "plt.show()"
   ]
  },
  {
   "cell_type": "code",
   "execution_count": 10,
   "id": "bed32fc0-836d-4a81-b902-c3e52d31a3ef",
   "metadata": {},
   "outputs": [
    {
     "data": {
      "text/plain": [
       "array([[1.        , 0.75222445],\n",
       "       [1.        , 0.95412082],\n",
       "       [1.        , 0.32253405],\n",
       "       [1.        , 0.16878145],\n",
       "       [1.        , 0.19403489],\n",
       "       [1.        , 0.62024354],\n",
       "       [1.        , 0.58299477],\n",
       "       [1.        , 0.97912408],\n",
       "       [1.        , 0.16047779],\n",
       "       [1.        , 0.1272986 ],\n",
       "       [1.        , 0.13614566],\n",
       "       [1.        , 0.97199339],\n",
       "       [1.        , 0.85220763],\n",
       "       [1.        , 0.74381649],\n",
       "       [1.        , 0.64313295],\n",
       "       [1.        , 0.84404142],\n",
       "       [1.        , 0.75563729],\n",
       "       [1.        , 0.21982799],\n",
       "       [1.        , 0.79783039],\n",
       "       [1.        , 0.04667146],\n",
       "       [1.        , 0.16046295],\n",
       "       [1.        , 0.87720491],\n",
       "       [1.        , 0.64159968],\n",
       "       [1.        , 0.61309891],\n",
       "       [1.        , 0.25944504],\n",
       "       [1.        , 0.96089736],\n",
       "       [1.        , 0.52822978],\n",
       "       [1.        , 0.70228487],\n",
       "       [1.        , 0.38577521],\n",
       "       [1.        , 0.29409702],\n",
       "       [1.        , 0.55319273],\n",
       "       [1.        , 0.92882243],\n",
       "       [1.        , 0.49755487],\n",
       "       [1.        , 0.97789839],\n",
       "       [1.        , 0.43863584],\n",
       "       [1.        , 0.66091394],\n",
       "       [1.        , 0.97451845],\n",
       "       [1.        , 0.09247292],\n",
       "       [1.        , 0.54019237],\n",
       "       [1.        , 0.51667405],\n",
       "       [1.        , 0.18664028],\n",
       "       [1.        , 0.64482318],\n",
       "       [1.        , 0.88215478],\n",
       "       [1.        , 0.82739186],\n",
       "       [1.        , 0.16363996],\n",
       "       [1.        , 0.46538282],\n",
       "       [1.        , 0.15268005],\n",
       "       [1.        , 0.12205874],\n",
       "       [1.        , 0.06772107],\n",
       "       [1.        , 0.02239874],\n",
       "       [1.        , 0.21603167],\n",
       "       [1.        , 0.17853267],\n",
       "       [1.        , 0.23023841],\n",
       "       [1.        , 0.82167301],\n",
       "       [1.        , 0.87468876],\n",
       "       [1.        , 0.21097717],\n",
       "       [1.        , 0.69768813],\n",
       "       [1.        , 0.80505699],\n",
       "       [1.        , 0.94781537],\n",
       "       [1.        , 0.40079567],\n",
       "       [1.        , 0.98178507],\n",
       "       [1.        , 0.3929944 ],\n",
       "       [1.        , 0.99288441],\n",
       "       [1.        , 0.85718991],\n",
       "       [1.        , 0.45789682],\n",
       "       [1.        , 0.646508  ],\n",
       "       [1.        , 0.83216894],\n",
       "       [1.        , 0.48941845],\n",
       "       [1.        , 0.13329768],\n",
       "       [1.        , 0.84923732],\n",
       "       [1.        , 0.09784164],\n",
       "       [1.        , 0.50249786],\n",
       "       [1.        , 0.81212751],\n",
       "       [1.        , 0.57005104],\n",
       "       [1.        , 0.71055715],\n",
       "       [1.        , 0.5845668 ],\n",
       "       [1.        , 0.21016184],\n",
       "       [1.        , 0.47515609],\n",
       "       [1.        , 0.95448133],\n",
       "       [1.        , 0.24569134],\n",
       "       [1.        , 0.385027  ],\n",
       "       [1.        , 0.75571137],\n",
       "       [1.        , 0.89867486],\n",
       "       [1.        , 0.3154381 ],\n",
       "       [1.        , 0.97620414],\n",
       "       [1.        , 0.29816861],\n",
       "       [1.        , 0.95755727],\n",
       "       [1.        , 0.63697737],\n",
       "       [1.        , 0.39393485],\n",
       "       [1.        , 0.49134186],\n",
       "       [1.        , 0.25385196],\n",
       "       [1.        , 0.71768251],\n",
       "       [1.        , 0.60332434],\n",
       "       [1.        , 0.10732889],\n",
       "       [1.        , 0.26354128],\n",
       "       [1.        , 0.94552049],\n",
       "       [1.        , 0.12091483],\n",
       "       [1.        , 0.94490597],\n",
       "       [1.        , 0.38588532],\n",
       "       [1.        , 0.22067101]])"
      ]
     },
     "execution_count": 10,
     "metadata": {},
     "output_type": "execute_result"
    }
   ],
   "source": [
    "X_b = np.c_[np.ones((100,1)),X]\n",
    "X_b"
   ]
  },
  {
   "cell_type": "code",
   "execution_count": 11,
   "id": "173e191f-eb4e-40c3-b363-d1b1ea9e035e",
   "metadata": {},
   "outputs": [],
   "source": [
    "theta_best = np.linalg.inv(X_b.T.dot(X_b)).dot(X_b.T).dot(y)"
   ]
  },
  {
   "cell_type": "code",
   "execution_count": 12,
   "id": "692e8fc3-4b26-4809-bfea-fc04c5e2bf94",
   "metadata": {},
   "outputs": [
    {
     "data": {
      "text/plain": [
       "array([[3.81415199],\n",
       "       [3.53743195]])"
      ]
     },
     "execution_count": 12,
     "metadata": {},
     "output_type": "execute_result"
    }
   ],
   "source": [
    "theta_best"
   ]
  },
  {
   "cell_type": "code",
   "execution_count": 13,
   "id": "fe69aede-c3b6-4037-b481-ced1ccfb6eac",
   "metadata": {},
   "outputs": [
    {
     "data": {
      "text/plain": [
       "array([[ 3.81415199],\n",
       "       [10.8890159 ]])"
      ]
     },
     "execution_count": 13,
     "metadata": {},
     "output_type": "execute_result"
    }
   ],
   "source": [
    "X_new = np.array([[0],[2]])\n",
    "X_new_b = np.c_[np.ones((2,1)),X_new]\n",
    "y_predict = X_new_b.dot(theta_best)\n",
    "y_predict"
   ]
  },
  {
   "cell_type": "code",
   "execution_count": 15,
   "id": "0f628c55-6f71-4acd-b89f-1782f9558d98",
   "metadata": {},
   "outputs": [
    {
     "data": {
      "image/png": "[encoded data removed]",
      "text/plain": [
       "<Figure size 432x288 with 1 Axes>"
      ]
     },
     "metadata": {
      "needs_background": "light"
     },
     "output_type": "display_data"
    }
   ],
   "source": [
    "plt.plot(X_new, y_predict, 'r-')\n",
    "plt.plot(X, y ,'b.')\n",
    "plt.axis([0,2,0,15])\n",
    "plt.show()"
   ]
  },
  {
   "cell_type": "code",
   "execution_count": 16,
   "id": "c15d0691-7ce0-4eed-942d-ea421ec822fd",
   "metadata": {},
   "outputs": [
    {
     "data": {
      "text/plain": [
       "(array([3.81415199]), array([[3.53743195]]))"
      ]
     },
     "execution_count": 16,
     "metadata": {},
     "output_type": "execute_result"
    }
   ],
   "source": [
    "from sklearn.linear_model import LinearRegression\n",
    "lin_reg = LinearRegression()\n",
    "lin_reg.fit(X, y)\n",
    "lin_reg.intercept_, lin_reg.coef_"
   ]
  },
  {
   "cell_type": "code",
   "execution_count": 17,
   "id": "a99f7c61-7ac1-4835-ad00-9f69cd690ea0",
   "metadata": {},
   "outputs": [
    {
     "data": {
      "text/plain": [
       "array([[ 3.81415199],\n",
       "       [10.8890159 ]])"
      ]
     },
     "execution_count": 17,
     "metadata": {},
     "output_type": "execute_result"
    }
   ],
   "source": [
    "lin_reg.predict(X_new)"
   ]
  },
  {
   "cell_type": "code",
   "execution_count": 18,
   "id": "b525ce2b-da7e-4cd7-bc61-076395f40412",
   "metadata": {},
   "outputs": [
    {
     "data": {
      "text/plain": [
       "array([[3.81415199],\n",
       "       [3.53743195]])"
      ]
     },
     "execution_count": 18,
     "metadata": {},
     "output_type": "execute_result"
    }
   ],
   "source": [
    "theta_best_svd, residuals, rank, s = np.linalg.lstsq(X_b, y, rcond=1e-6)\n",
    "theta_best_svd"
   ]
  },
  {
   "cell_type": "code",
   "execution_count": 19,
   "id": "25bdbe55-d523-4c18-8f8c-f21d42aec3fb",
   "metadata": {},
   "outputs": [
    {
     "data": {
      "text/plain": [
       "array([[3.81415199],\n",
       "       [3.53743195]])"
      ]
     },
     "execution_count": 19,
     "metadata": {},
     "output_type": "execute_result"
    }
   ],
   "source": [
    "np.linalg.pinv(X_b).dot(y)"
   ]
  },
  {
   "cell_type": "code",
   "execution_count": 20,
   "id": "786493df-8df2-4e0d-981d-24489aee97c6",
   "metadata": {},
   "outputs": [],
   "source": [
    "eta = 0.1\n",
    "n_iterations = 1000\n",
    "m = 100\n",
    "\n",
    "theta = np.random.randn(2,1)\n",
    "\n",
    "for iterations in range(n_iterations):\n",
    "    gradients = 2/m * X_b.T.dot(X_b.dot(theta) - y)\n",
    "    theta = theta - eta * gradients"
   ]
  },
  {
   "cell_type": "code",
   "execution_count": 21,
   "id": "860a073a-2dc1-4927-81d6-c5ce4eada522",
   "metadata": {},
   "outputs": [
    {
     "data": {
      "text/plain": [
       "array([[3.81415272],\n",
       "       [3.53743069]])"
      ]
     },
     "execution_count": 21,
     "metadata": {},
     "output_type": "execute_result"
    }
   ],
   "source": [
    "theta"
   ]
  },
  {
   "cell_type": "code",
   "execution_count": null,
   "id": "a5fc7885-08a3-4dd5-9295-39338da7282b",
   "metadata": {},
   "outputs": [],
   "source": []
  }
 ],
 "metadata": {
  "kernelspec": {
   "display_name": "Python 3 (ipykernel)",
   "language": "python",
   "name": "python3"
  },
  "language_info": {
   "codemirror_mode": {
    "name": "ipython",
    "version": 3
   },
   "file_extension": ".py",
   "mimetype": "text/x-python",
   "name": "python",
   "nbconvert_exporter": "python",
   "pygments_lexer": "ipython3",
   "version": "3.9.7"
  }
 },
 "nbformat": 4,
 "nbformat_minor": 5
}
